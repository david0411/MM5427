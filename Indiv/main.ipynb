{
 "cells": [
  {
   "cell_type": "code",
   "id": "68b1891d-e12f-4cfb-afd4-71a880210c51",
   "metadata": {
    "ExecuteTime": {
     "end_time": "2024-04-14T18:06:13.217804Z",
     "start_time": "2024-04-14T18:06:11.763533Z"
    }
   },
   "source": [
    "!pip install nltk"
   ],
   "outputs": [
    {
     "name": "stdout",
     "output_type": "stream",
     "text": [
      "Requirement already satisfied: nltk in c:\\users\\ca.ca-pc\\ideaprojects\\japjc_export\\mm5427\\lib\\site-packages (3.8.1)\n",
      "Requirement already satisfied: click in c:\\users\\ca.ca-pc\\ideaprojects\\japjc_export\\mm5427\\lib\\site-packages (from nltk) (8.1.7)\n",
      "Requirement already satisfied: joblib in c:\\users\\ca.ca-pc\\ideaprojects\\japjc_export\\mm5427\\lib\\site-packages (from nltk) (1.3.2)\n",
      "Requirement already satisfied: regex>=2021.8.3 in c:\\users\\ca.ca-pc\\ideaprojects\\japjc_export\\mm5427\\lib\\site-packages (from nltk) (2023.12.25)\n",
      "Requirement already satisfied: tqdm in c:\\users\\ca.ca-pc\\ideaprojects\\japjc_export\\mm5427\\lib\\site-packages (from nltk) (4.66.2)\n",
      "Requirement already satisfied: colorama in c:\\users\\ca.ca-pc\\ideaprojects\\japjc_export\\mm5427\\lib\\site-packages (from click->nltk) (0.4.6)\n"
     ]
    }
   ],
   "execution_count": 179
  },
  {
   "cell_type": "code",
   "id": "75bddccb-a807-4107-8173-f68be6bcafa5",
   "metadata": {
    "ExecuteTime": {
     "end_time": "2024-04-14T18:06:13.233804Z",
     "start_time": "2024-04-14T18:06:13.221804Z"
    }
   },
   "source": [
    "import re\n",
    "import unicodedata\n",
    "import string\n",
    "import pandas as pd\n",
    "import nltk\n",
    "from collections import Counter\n",
    "from nltk import word_tokenize\n",
    "from nltk.corpus import stopwords\n",
    "from nltk.stem import PorterStemmer"
   ],
   "outputs": [],
   "execution_count": 180
  },
  {
   "cell_type": "markdown",
   "id": "d95cb7d608483103",
   "metadata": {},
   "source": "Load data file with header"
  },
  {
   "cell_type": "code",
   "id": "536c9850-70eb-45db-8824-54f73d150532",
   "metadata": {
    "ExecuteTime": {
     "end_time": "2024-04-14T18:06:13.498229Z",
     "start_time": "2024-04-14T18:06:13.234805Z"
    }
   },
   "source": [
    "dataset = pd.read_csv('MM5427_COVID-19_Tweets_2.csv', encoding='latin-1', header=0)\n",
    "dataset.text = [row.encode('latin-1').decode('utf-8', 'ignore') for row in dataset.text]"
   ],
   "outputs": [],
   "execution_count": 181
  },
  {
   "cell_type": "markdown",
   "id": "1a77c0947878639b",
   "metadata": {},
   "source": [
    "# 1.I"
   ]
  },
  {
   "cell_type": "markdown",
   "id": "9461aaa2a3afda10",
   "metadata": {},
   "source": "Construct a list acc_tag that contain all account tags for each tweet"
  },
  {
   "cell_type": "code",
   "id": "c05ca9c7-b46d-49c3-8cd2-4dbf51abbfe2",
   "metadata": {
    "ExecuteTime": {
     "end_time": "2024-04-14T18:06:13.963554Z",
     "start_time": "2024-04-14T18:06:13.499230Z"
    }
   },
   "source": [
    "acc_tag = []\n",
    "for text in dataset['text']:\n",
    "    # split the text by whitespace\n",
    "    text_content = re.split(r'\\s|[(),.;!?/\\'\"]', text)\n",
    "    # filter the list of items that starts with \"@\" and append to the acc_tag list\n",
    "    acc_tag.append(list(filter(lambda x: x.startswith('@') and len(x) > 1, text_content)))\n",
    "# add the acc_tag as the new column\n",
    "dataset['acc_tag'] = acc_tag"
   ],
   "outputs": [],
   "execution_count": 182
  },
  {
   "cell_type": "markdown",
   "id": "e96da6df1400df35",
   "metadata": {},
   "source": "Do the same for hashtag and URL"
  },
  {
   "cell_type": "code",
   "id": "ae5619b2-75c5-462e-975c-02102013d223",
   "metadata": {
    "ExecuteTime": {
     "end_time": "2024-04-14T18:06:14.416375Z",
     "start_time": "2024-04-14T18:06:13.964554Z"
    }
   },
   "source": [
    "hashtag = []\n",
    "for text in dataset['text']:\n",
    "    text_content = re.split(r'\\s|[(),.;!?/\\'\"]', text)\n",
    "    hashtag.append(list(filter(lambda x: x.startswith('#') and len(x) > 1, text_content)))\n",
    "dataset['hashtag'] = hashtag"
   ],
   "outputs": [],
   "execution_count": 183
  },
  {
   "cell_type": "code",
   "id": "338be5c6-24d1-4bf4-b3a0-ee3129c6d6fb",
   "metadata": {
    "ExecuteTime": {
     "end_time": "2024-04-14T18:06:14.806959Z",
     "start_time": "2024-04-14T18:06:14.417335Z"
    }
   },
   "source": [
    "URL = []\n",
    "for text in dataset['text']:\n",
    "    text_content = re.split(r'\\s', text)\n",
    "    URL.append(list(filter(lambda x: x.startswith('http'), text_content)))\n",
    "dataset['URL'] = URL"
   ],
   "outputs": [],
   "execution_count": 184
  },
  {
   "cell_type": "code",
   "id": "b3d7568f-6cb3-4481-8f5f-45d000672a8b",
   "metadata": {
    "ExecuteTime": {
     "end_time": "2024-04-14T18:06:14.846032Z",
     "start_time": "2024-04-14T18:06:14.807959Z"
    }
   },
   "source": [
    "dataset.head()"
   ],
   "outputs": [
    {
     "data": {
      "text/plain": [
       "       date      time       user_id  user_follower_count  user_like_count  \\\n",
       "0  1/1/2020  10:05:36  1.201200e+18                  524              889   \n",
       "1  1/1/2020   2:02:52  1.380602e+09                  102              495   \n",
       "2  1/1/2020   2:13:03  8.246220e+17                 3269             2131   \n",
       "3  1/1/2020  16:11:05  2.749415e+09                  767             3079   \n",
       "4  1/1/2020  19:01:09  4.330358e+08                 7645             9290   \n",
       "\n",
       "   user_friend_count  user_media_count  user_post_count  user_list_count  \\\n",
       "0                425               441             1644                0   \n",
       "1                864                10              136                0   \n",
       "2               5001               130             1933               20   \n",
       "3                 83               156            11499               13   \n",
       "4                984               950            37606               21   \n",
       "\n",
       "   user_verified  ...  user_account_type  user_account_age  reply_count  \\\n",
       "0              0  ...                  1               736            1   \n",
       "1              0  ...                  0             58587            0   \n",
       "2              0  ...                  1             25668            0   \n",
       "3              0  ...                  1             47040            0   \n",
       "4              0  ...                  1             70673            0   \n",
       "\n",
       "   like_count  retweet_count  quote_count  \\\n",
       "0           6              8            3   \n",
       "1           0              0            0   \n",
       "2           1              0            0   \n",
       "3           0              1            0   \n",
       "4           2              0            0   \n",
       "\n",
       "                                                text  \\\n",
       "0  @AlwayACritic @DariusVolket @ZubSpike @AusMaze...   \n",
       "1  Can’t drink can’t smoke wonderful way to start...   \n",
       "2  Great use of medical #science in the drama nar...   \n",
       "3  SARS is back! In one of the most heavily traff...   \n",
       "4  Tim and I spent #NYE playing #Pandemic togethe...   \n",
       "\n",
       "                                             acc_tag  \\\n",
       "0  [@AlwayACritic, @DariusVolket, @ZubSpike, @Aus...   \n",
       "1                                                 []   \n",
       "2                                       [@bbcradio4]   \n",
       "3                                                 []   \n",
       "4                                                 []   \n",
       "\n",
       "                              hashtag                        URL  \n",
       "0      [#China, #SARS, #chinesevirus]                         []  \n",
       "1                              [#flu]                         []  \n",
       "2                    [#science, #Flu]  [https://t.co/AXHQi7wwgi]  \n",
       "3  [#Wuhan, #China, #SARS, #HongKong]  [https://t.co/iF4sS1WxMf]  \n",
       "4                   [#NYE, #Pandemic]  [https://t.co/mNHuuvXA9Q]  \n",
       "\n",
       "[5 rows x 21 columns]"
      ],
      "text/html": [
       "<div>\n",
       "<style scoped>\n",
       "    .dataframe tbody tr th:only-of-type {\n",
       "        vertical-align: middle;\n",
       "    }\n",
       "\n",
       "    .dataframe tbody tr th {\n",
       "        vertical-align: top;\n",
       "    }\n",
       "\n",
       "    .dataframe thead th {\n",
       "        text-align: right;\n",
       "    }\n",
       "</style>\n",
       "<table border=\"1\" class=\"dataframe\">\n",
       "  <thead>\n",
       "    <tr style=\"text-align: right;\">\n",
       "      <th></th>\n",
       "      <th>date</th>\n",
       "      <th>time</th>\n",
       "      <th>user_id</th>\n",
       "      <th>user_follower_count</th>\n",
       "      <th>user_like_count</th>\n",
       "      <th>user_friend_count</th>\n",
       "      <th>user_media_count</th>\n",
       "      <th>user_post_count</th>\n",
       "      <th>user_list_count</th>\n",
       "      <th>user_verified</th>\n",
       "      <th>...</th>\n",
       "      <th>user_account_type</th>\n",
       "      <th>user_account_age</th>\n",
       "      <th>reply_count</th>\n",
       "      <th>like_count</th>\n",
       "      <th>retweet_count</th>\n",
       "      <th>quote_count</th>\n",
       "      <th>text</th>\n",
       "      <th>acc_tag</th>\n",
       "      <th>hashtag</th>\n",
       "      <th>URL</th>\n",
       "    </tr>\n",
       "  </thead>\n",
       "  <tbody>\n",
       "    <tr>\n",
       "      <th>0</th>\n",
       "      <td>1/1/2020</td>\n",
       "      <td>10:05:36</td>\n",
       "      <td>1.201200e+18</td>\n",
       "      <td>524</td>\n",
       "      <td>889</td>\n",
       "      <td>425</td>\n",
       "      <td>441</td>\n",
       "      <td>1644</td>\n",
       "      <td>0</td>\n",
       "      <td>0</td>\n",
       "      <td>...</td>\n",
       "      <td>1</td>\n",
       "      <td>736</td>\n",
       "      <td>1</td>\n",
       "      <td>6</td>\n",
       "      <td>8</td>\n",
       "      <td>3</td>\n",
       "      <td>@AlwayACritic @DariusVolket @ZubSpike @AusMaze...</td>\n",
       "      <td>[@AlwayACritic, @DariusVolket, @ZubSpike, @Aus...</td>\n",
       "      <td>[#China, #SARS, #chinesevirus]</td>\n",
       "      <td>[]</td>\n",
       "    </tr>\n",
       "    <tr>\n",
       "      <th>1</th>\n",
       "      <td>1/1/2020</td>\n",
       "      <td>2:02:52</td>\n",
       "      <td>1.380602e+09</td>\n",
       "      <td>102</td>\n",
       "      <td>495</td>\n",
       "      <td>864</td>\n",
       "      <td>10</td>\n",
       "      <td>136</td>\n",
       "      <td>0</td>\n",
       "      <td>0</td>\n",
       "      <td>...</td>\n",
       "      <td>0</td>\n",
       "      <td>58587</td>\n",
       "      <td>0</td>\n",
       "      <td>0</td>\n",
       "      <td>0</td>\n",
       "      <td>0</td>\n",
       "      <td>Can’t drink can’t smoke wonderful way to start...</td>\n",
       "      <td>[]</td>\n",
       "      <td>[#flu]</td>\n",
       "      <td>[]</td>\n",
       "    </tr>\n",
       "    <tr>\n",
       "      <th>2</th>\n",
       "      <td>1/1/2020</td>\n",
       "      <td>2:13:03</td>\n",
       "      <td>8.246220e+17</td>\n",
       "      <td>3269</td>\n",
       "      <td>2131</td>\n",
       "      <td>5001</td>\n",
       "      <td>130</td>\n",
       "      <td>1933</td>\n",
       "      <td>20</td>\n",
       "      <td>0</td>\n",
       "      <td>...</td>\n",
       "      <td>1</td>\n",
       "      <td>25668</td>\n",
       "      <td>0</td>\n",
       "      <td>1</td>\n",
       "      <td>0</td>\n",
       "      <td>0</td>\n",
       "      <td>Great use of medical #science in the drama nar...</td>\n",
       "      <td>[@bbcradio4]</td>\n",
       "      <td>[#science, #Flu]</td>\n",
       "      <td>[https://t.co/AXHQi7wwgi]</td>\n",
       "    </tr>\n",
       "    <tr>\n",
       "      <th>3</th>\n",
       "      <td>1/1/2020</td>\n",
       "      <td>16:11:05</td>\n",
       "      <td>2.749415e+09</td>\n",
       "      <td>767</td>\n",
       "      <td>3079</td>\n",
       "      <td>83</td>\n",
       "      <td>156</td>\n",
       "      <td>11499</td>\n",
       "      <td>13</td>\n",
       "      <td>0</td>\n",
       "      <td>...</td>\n",
       "      <td>1</td>\n",
       "      <td>47040</td>\n",
       "      <td>0</td>\n",
       "      <td>0</td>\n",
       "      <td>1</td>\n",
       "      <td>0</td>\n",
       "      <td>SARS is back! In one of the most heavily traff...</td>\n",
       "      <td>[]</td>\n",
       "      <td>[#Wuhan, #China, #SARS, #HongKong]</td>\n",
       "      <td>[https://t.co/iF4sS1WxMf]</td>\n",
       "    </tr>\n",
       "    <tr>\n",
       "      <th>4</th>\n",
       "      <td>1/1/2020</td>\n",
       "      <td>19:01:09</td>\n",
       "      <td>4.330358e+08</td>\n",
       "      <td>7645</td>\n",
       "      <td>9290</td>\n",
       "      <td>984</td>\n",
       "      <td>950</td>\n",
       "      <td>37606</td>\n",
       "      <td>21</td>\n",
       "      <td>0</td>\n",
       "      <td>...</td>\n",
       "      <td>1</td>\n",
       "      <td>70673</td>\n",
       "      <td>0</td>\n",
       "      <td>2</td>\n",
       "      <td>0</td>\n",
       "      <td>0</td>\n",
       "      <td>Tim and I spent #NYE playing #Pandemic togethe...</td>\n",
       "      <td>[]</td>\n",
       "      <td>[#NYE, #Pandemic]</td>\n",
       "      <td>[https://t.co/mNHuuvXA9Q]</td>\n",
       "    </tr>\n",
       "  </tbody>\n",
       "</table>\n",
       "<p>5 rows × 21 columns</p>\n",
       "</div>"
      ]
     },
     "execution_count": 185,
     "metadata": {},
     "output_type": "execute_result"
    }
   ],
   "execution_count": 185
  },
  {
   "cell_type": "markdown",
   "id": "7297ea80f37f2d5b",
   "metadata": {},
   "source": [
    "# 1.II"
   ]
  },
  {
   "cell_type": "code",
   "id": "6365a240-41e0-4455-b303-f7f3dd4902f8",
   "metadata": {
    "ExecuteTime": {
     "end_time": "2024-04-14T18:06:14.869970Z",
     "start_time": "2024-04-14T18:06:14.849033Z"
    }
   },
   "source": [
    "# put the acc_tag sublist into one single list\n",
    "acc_tag_single_list = [item for sublist in acc_tag for item in sublist]\n",
    "# count the number of each acc in the list\n",
    "acc_counter = Counter(acc_tag_single_list)\n",
    "# get the top 10 countered acc\n",
    "top_10_acc = acc_counter.most_common(10)\n",
    "print(top_10_acc)"
   ],
   "outputs": [
    {
     "name": "stdout",
     "output_type": "stream",
     "text": [
      "[('@realDonaldTrump', 812), ('@WHO', 747), ('@CDCgov', 321), ('@narendramodi', 269), ('@DrTedros', 153), ('@BorisJohnson', 144), ('@POTUS', 143), ('@PMOIndia', 140), ('@MoHFW_INDIA', 114), ('@CNN', 97)]\n"
     ]
    }
   ],
   "execution_count": 186
  },
  {
   "cell_type": "markdown",
   "id": "5309a302d0d60b56",
   "metadata": {},
   "source": [
    "The result shows that country leaders and international health organizations are the most tagged.\n",
    "This may reflect people seeking information, express opinion or emotion towards authority"
   ]
  },
  {
   "cell_type": "code",
   "id": "6a36dddd-31d1-4c98-8d3b-9fba8166ed60",
   "metadata": {
    "ExecuteTime": {
     "end_time": "2024-04-14T18:06:14.916804Z",
     "start_time": "2024-04-14T18:06:14.870972Z"
    }
   },
   "source": [
    "# Do the same for hashtag and URL\n",
    "hashtag_single_list = [item for sublist in hashtag for item in sublist]\n",
    "hash_counter = Counter(hashtag_single_list)\n",
    "top_10_hash = hash_counter.most_common(10)\n",
    "print(top_10_hash)"
   ],
   "outputs": [
    {
     "name": "stdout",
     "output_type": "stream",
     "text": [
      "[('#coronavirus', 16760), ('#COVID19', 14314), ('#Coronavirus', 3922), ('#CoronavirusOutbreak', 3359), ('#COVID2019', 2938), ('#CoronavirusPandemic', 2108), ('#covid19', 1594), ('#CoronaVirus', 1490), ('#CoronaVirusUpdate', 1477), ('#Corona', 1337)]\n"
     ]
    }
   ],
   "execution_count": 187
  },
  {
   "cell_type": "markdown",
   "id": "2142ff25ce549793",
   "metadata": {},
   "source": "All 10 hashtags are related to COVID"
  },
  {
   "cell_type": "code",
   "id": "a51381aa-69cf-47ba-aafa-85feb3d2cfb2",
   "metadata": {
    "ExecuteTime": {
     "end_time": "2024-04-14T18:06:14.931804Z",
     "start_time": "2024-04-14T18:06:14.918805Z"
    }
   },
   "source": [
    "URL_single_list = [item for sublist in URL for item in sublist]\n",
    "URL_counter = Counter(URL_single_list)\n",
    "top_10_URL = URL_counter.most_common(10)\n",
    "print(top_10_URL)"
   ],
   "outputs": [
    {
     "name": "stdout",
     "output_type": "stream",
     "text": [
      "[('https://t.co/Fbzw6mR9Q5', 12), ('http', 12), ('https://t.co/nFY1lZJJ2I', 12), ('https:/', 11), ('https://t.c', 11), ('https://t.co/vY4fVgAjuk', 10), ('https://t.', 9), ('https://t.co/huLTzc781F', 7), ('https://t.co/', 7), ('https://t.co', 6)]\n"
     ]
    }
   ],
   "execution_count": 188
  },
  {
   "cell_type": "markdown",
   "id": "e74939b3f76b89ca",
   "metadata": {},
   "source": "Those URL are mainly news related. Showing people wants to spread the information in the social media"
  },
  {
   "cell_type": "code",
   "id": "af327d8a-a992-4714-947b-ec17c740b416",
   "metadata": {
    "ExecuteTime": {
     "end_time": "2024-04-14T18:06:14.947726Z",
     "start_time": "2024-04-14T18:06:14.932804Z"
    }
   },
   "source": [
    "# Define a function for removing punctuation\n",
    "def remove_punctuation(input_string):\n",
    "    # Create a translation table mapping punctuation characters to empty string\n",
    "    translator = str.maketrans('', '', string.punctuation + '‘’“”–•・❝❞')\n",
    "    # Transform the full-width characters to half-with characters\n",
    "    normalized_text = unicodedata.normalize('NFKC', input_string)\n",
    "    # Remove punctuation using the translation table\n",
    "    no_punct = normalized_text.translate(translator)\n",
    "    return no_punct"
   ],
   "outputs": [],
   "execution_count": 189
  },
  {
   "cell_type": "code",
   "id": "f349e81f-ae8b-41fc-a8cf-1924230f342a",
   "metadata": {
    "ExecuteTime": {
     "end_time": "2024-04-14T18:06:20.801556Z",
     "start_time": "2024-04-14T18:06:14.948727Z"
    }
   },
   "source": [
    "# Use the result in 1.I to do the removal\n",
    "processed_text = []\n",
    "delimiter = ' '\n",
    "stop_words = set(stopwords.words('english'))\n",
    "nltk.download('punkt')\n",
    "for i in range(dataset.shape[0]):\n",
    "    # get the data of the row\n",
    "    text = dataset['text'][i]\n",
    "    acc_tag = dataset['acc_tag'][i]\n",
    "    hashtag = dataset['hashtag'][i]\n",
    "    URL = dataset['URL'][i]\n",
    "    # remove account tags\n",
    "    for tag1 in acc_tag:\n",
    "        text = text.replace(tag1, '')\n",
    "    # remove hashtag\n",
    "    for tag2 in hashtag:\n",
    "        text = text.replace(tag2, '')\n",
    "    # remove URL\n",
    "    for tag3 in URL:\n",
    "        text = text.replace(tag3, '')\n",
    "    # remove punctuations by above function\n",
    "    text = remove_punctuation(text)\n",
    "    # tokenize the text, remove the stop words and join the tokens to sentence again\n",
    "    tokens = word_tokenize(text)\n",
    "    processed_text.append(delimiter.join([w for w in tokens if not w in stop_words]))\n",
    "dataset['processed_text'] = processed_text"
   ],
   "outputs": [
    {
     "name": "stderr",
     "output_type": "stream",
     "text": [
      "[nltk_data] Downloading package punkt to C:\\Users\\CA.CA-\n",
      "[nltk_data]     PC\\AppData\\Roaming\\nltk_data...\n",
      "[nltk_data]   Package punkt is already up-to-date!\n"
     ]
    }
   ],
   "execution_count": 190
  },
  {
   "cell_type": "code",
   "id": "c9b1fae5-f3a9-447b-bc25-c17d6b407556",
   "metadata": {
    "ExecuteTime": {
     "end_time": "2024-04-14T18:06:20.817105Z",
     "start_time": "2024-04-14T18:06:20.802556Z"
    }
   },
   "source": [
    "dataset.head()"
   ],
   "outputs": [
    {
     "data": {
      "text/plain": [
       "       date      time       user_id  user_follower_count  user_like_count  \\\n",
       "0  1/1/2020  10:05:36  1.201200e+18                  524              889   \n",
       "1  1/1/2020   2:02:52  1.380602e+09                  102              495   \n",
       "2  1/1/2020   2:13:03  8.246220e+17                 3269             2131   \n",
       "3  1/1/2020  16:11:05  2.749415e+09                  767             3079   \n",
       "4  1/1/2020  19:01:09  4.330358e+08                 7645             9290   \n",
       "\n",
       "   user_friend_count  user_media_count  user_post_count  user_list_count  \\\n",
       "0                425               441             1644                0   \n",
       "1                864                10              136                0   \n",
       "2               5001               130             1933               20   \n",
       "3                 83               156            11499               13   \n",
       "4                984               950            37606               21   \n",
       "\n",
       "   user_verified  ...  user_account_age  reply_count  like_count  \\\n",
       "0              0  ...               736            1           6   \n",
       "1              0  ...             58587            0           0   \n",
       "2              0  ...             25668            0           1   \n",
       "3              0  ...             47040            0           0   \n",
       "4              0  ...             70673            0           2   \n",
       "\n",
       "   retweet_count  quote_count  \\\n",
       "0              8            3   \n",
       "1              0            0   \n",
       "2              0            0   \n",
       "3              1            0   \n",
       "4              0            0   \n",
       "\n",
       "                                                text  \\\n",
       "0  @AlwayACritic @DariusVolket @ZubSpike @AusMaze...   \n",
       "1  Can’t drink can’t smoke wonderful way to start...   \n",
       "2  Great use of medical #science in the drama nar...   \n",
       "3  SARS is back! In one of the most heavily traff...   \n",
       "4  Tim and I spent #NYE playing #Pandemic togethe...   \n",
       "\n",
       "                                             acc_tag  \\\n",
       "0  [@AlwayACritic, @DariusVolket, @ZubSpike, @Aus...   \n",
       "1                                                 []   \n",
       "2                                       [@bbcradio4]   \n",
       "3                                                 []   \n",
       "4                                                 []   \n",
       "\n",
       "                              hashtag                        URL  \\\n",
       "0      [#China, #SARS, #chinesevirus]                         []   \n",
       "1                              [#flu]                         []   \n",
       "2                    [#science, #Flu]  [https://t.co/AXHQi7wwgi]   \n",
       "3  [#Wuhan, #China, #SARS, #HongKong]  [https://t.co/iF4sS1WxMf]   \n",
       "4                   [#NYE, #Pandemic]  [https://t.co/mNHuuvXA9Q]   \n",
       "\n",
       "                                      processed_text  \n",
       "0  Lets welcome new year decade exciting Im tryin...  \n",
       "1     Cant drink cant smoke wonderful way start 2020  \n",
       "2  Great use medical drama narrative 15 Minute Dr...  \n",
       "3  SARS back In one heavily trafficked airports w...  \n",
       "4  Tim I spent playing together FaceTime We one t...  \n",
       "\n",
       "[5 rows x 22 columns]"
      ],
      "text/html": [
       "<div>\n",
       "<style scoped>\n",
       "    .dataframe tbody tr th:only-of-type {\n",
       "        vertical-align: middle;\n",
       "    }\n",
       "\n",
       "    .dataframe tbody tr th {\n",
       "        vertical-align: top;\n",
       "    }\n",
       "\n",
       "    .dataframe thead th {\n",
       "        text-align: right;\n",
       "    }\n",
       "</style>\n",
       "<table border=\"1\" class=\"dataframe\">\n",
       "  <thead>\n",
       "    <tr style=\"text-align: right;\">\n",
       "      <th></th>\n",
       "      <th>date</th>\n",
       "      <th>time</th>\n",
       "      <th>user_id</th>\n",
       "      <th>user_follower_count</th>\n",
       "      <th>user_like_count</th>\n",
       "      <th>user_friend_count</th>\n",
       "      <th>user_media_count</th>\n",
       "      <th>user_post_count</th>\n",
       "      <th>user_list_count</th>\n",
       "      <th>user_verified</th>\n",
       "      <th>...</th>\n",
       "      <th>user_account_age</th>\n",
       "      <th>reply_count</th>\n",
       "      <th>like_count</th>\n",
       "      <th>retweet_count</th>\n",
       "      <th>quote_count</th>\n",
       "      <th>text</th>\n",
       "      <th>acc_tag</th>\n",
       "      <th>hashtag</th>\n",
       "      <th>URL</th>\n",
       "      <th>processed_text</th>\n",
       "    </tr>\n",
       "  </thead>\n",
       "  <tbody>\n",
       "    <tr>\n",
       "      <th>0</th>\n",
       "      <td>1/1/2020</td>\n",
       "      <td>10:05:36</td>\n",
       "      <td>1.201200e+18</td>\n",
       "      <td>524</td>\n",
       "      <td>889</td>\n",
       "      <td>425</td>\n",
       "      <td>441</td>\n",
       "      <td>1644</td>\n",
       "      <td>0</td>\n",
       "      <td>0</td>\n",
       "      <td>...</td>\n",
       "      <td>736</td>\n",
       "      <td>1</td>\n",
       "      <td>6</td>\n",
       "      <td>8</td>\n",
       "      <td>3</td>\n",
       "      <td>@AlwayACritic @DariusVolket @ZubSpike @AusMaze...</td>\n",
       "      <td>[@AlwayACritic, @DariusVolket, @ZubSpike, @Aus...</td>\n",
       "      <td>[#China, #SARS, #chinesevirus]</td>\n",
       "      <td>[]</td>\n",
       "      <td>Lets welcome new year decade exciting Im tryin...</td>\n",
       "    </tr>\n",
       "    <tr>\n",
       "      <th>1</th>\n",
       "      <td>1/1/2020</td>\n",
       "      <td>2:02:52</td>\n",
       "      <td>1.380602e+09</td>\n",
       "      <td>102</td>\n",
       "      <td>495</td>\n",
       "      <td>864</td>\n",
       "      <td>10</td>\n",
       "      <td>136</td>\n",
       "      <td>0</td>\n",
       "      <td>0</td>\n",
       "      <td>...</td>\n",
       "      <td>58587</td>\n",
       "      <td>0</td>\n",
       "      <td>0</td>\n",
       "      <td>0</td>\n",
       "      <td>0</td>\n",
       "      <td>Can’t drink can’t smoke wonderful way to start...</td>\n",
       "      <td>[]</td>\n",
       "      <td>[#flu]</td>\n",
       "      <td>[]</td>\n",
       "      <td>Cant drink cant smoke wonderful way start 2020</td>\n",
       "    </tr>\n",
       "    <tr>\n",
       "      <th>2</th>\n",
       "      <td>1/1/2020</td>\n",
       "      <td>2:13:03</td>\n",
       "      <td>8.246220e+17</td>\n",
       "      <td>3269</td>\n",
       "      <td>2131</td>\n",
       "      <td>5001</td>\n",
       "      <td>130</td>\n",
       "      <td>1933</td>\n",
       "      <td>20</td>\n",
       "      <td>0</td>\n",
       "      <td>...</td>\n",
       "      <td>25668</td>\n",
       "      <td>0</td>\n",
       "      <td>1</td>\n",
       "      <td>0</td>\n",
       "      <td>0</td>\n",
       "      <td>Great use of medical #science in the drama nar...</td>\n",
       "      <td>[@bbcradio4]</td>\n",
       "      <td>[#science, #Flu]</td>\n",
       "      <td>[https://t.co/AXHQi7wwgi]</td>\n",
       "      <td>Great use medical drama narrative 15 Minute Dr...</td>\n",
       "    </tr>\n",
       "    <tr>\n",
       "      <th>3</th>\n",
       "      <td>1/1/2020</td>\n",
       "      <td>16:11:05</td>\n",
       "      <td>2.749415e+09</td>\n",
       "      <td>767</td>\n",
       "      <td>3079</td>\n",
       "      <td>83</td>\n",
       "      <td>156</td>\n",
       "      <td>11499</td>\n",
       "      <td>13</td>\n",
       "      <td>0</td>\n",
       "      <td>...</td>\n",
       "      <td>47040</td>\n",
       "      <td>0</td>\n",
       "      <td>0</td>\n",
       "      <td>1</td>\n",
       "      <td>0</td>\n",
       "      <td>SARS is back! In one of the most heavily traff...</td>\n",
       "      <td>[]</td>\n",
       "      <td>[#Wuhan, #China, #SARS, #HongKong]</td>\n",
       "      <td>[https://t.co/iF4sS1WxMf]</td>\n",
       "      <td>SARS back In one heavily trafficked airports w...</td>\n",
       "    </tr>\n",
       "    <tr>\n",
       "      <th>4</th>\n",
       "      <td>1/1/2020</td>\n",
       "      <td>19:01:09</td>\n",
       "      <td>4.330358e+08</td>\n",
       "      <td>7645</td>\n",
       "      <td>9290</td>\n",
       "      <td>984</td>\n",
       "      <td>950</td>\n",
       "      <td>37606</td>\n",
       "      <td>21</td>\n",
       "      <td>0</td>\n",
       "      <td>...</td>\n",
       "      <td>70673</td>\n",
       "      <td>0</td>\n",
       "      <td>2</td>\n",
       "      <td>0</td>\n",
       "      <td>0</td>\n",
       "      <td>Tim and I spent #NYE playing #Pandemic togethe...</td>\n",
       "      <td>[]</td>\n",
       "      <td>[#NYE, #Pandemic]</td>\n",
       "      <td>[https://t.co/mNHuuvXA9Q]</td>\n",
       "      <td>Tim I spent playing together FaceTime We one t...</td>\n",
       "    </tr>\n",
       "  </tbody>\n",
       "</table>\n",
       "<p>5 rows × 22 columns</p>\n",
       "</div>"
      ]
     },
     "execution_count": 191,
     "metadata": {},
     "output_type": "execute_result"
    }
   ],
   "execution_count": 191
  },
  {
   "cell_type": "markdown",
   "id": "fcef0cce6a8a1666",
   "metadata": {},
   "source": [
    "# 1.IV"
   ]
  },
  {
   "cell_type": "code",
   "id": "92acc148-10a2-4db6-aae0-155a9cba62b1",
   "metadata": {
    "ExecuteTime": {
     "end_time": "2024-04-14T18:06:20.973608Z",
     "start_time": "2024-04-14T18:06:20.818107Z"
    }
   },
   "source": [
    "lower_text = []\n",
    "for i in range(dataset.shape[0]):\n",
    "    # apply lowercase for each row\n",
    "    lower_text.append(dataset['processed_text'][i].lower())\n",
    "dataset['processed_text'] = lower_text"
   ],
   "outputs": [],
   "execution_count": 192
  },
  {
   "cell_type": "markdown",
   "id": "f27b1a87e2be9ddb",
   "metadata": {},
   "source": [
    "# 1.V"
   ]
  },
  {
   "cell_type": "code",
   "id": "978523fc-b402-4d9a-9ef4-a02d05820c2c",
   "metadata": {
    "ExecuteTime": {
     "end_time": "2024-04-14T18:06:32.524698Z",
     "start_time": "2024-04-14T18:06:20.974610Z"
    }
   },
   "source": [
    "stem_text = []\n",
    "delimiter = ' '\n",
    "stemmer = PorterStemmer()\n",
    "for i in range(dataset.shape[0]):\n",
    "    stem_token = []\n",
    "    # tokenize the text and apply stemming for each token\n",
    "    for tokens in word_tokenize(dataset['processed_text'][i]):\n",
    "        stem_token.append(stemmer.stem(tokens))\n",
    "    stem_text.append(delimiter.join(stem_token))\n",
    "dataset['stemmed_text'] = stem_text"
   ],
   "outputs": [],
   "execution_count": 193
  },
  {
   "cell_type": "code",
   "id": "5de0a926-6e2e-443e-8248-8aa3fe495800",
   "metadata": {
    "ExecuteTime": {
     "end_time": "2024-04-14T18:06:32.539736Z",
     "start_time": "2024-04-14T18:06:32.525710Z"
    }
   },
   "source": [
    "dataset.head()"
   ],
   "outputs": [
    {
     "data": {
      "text/plain": [
       "       date      time       user_id  user_follower_count  user_like_count  \\\n",
       "0  1/1/2020  10:05:36  1.201200e+18                  524              889   \n",
       "1  1/1/2020   2:02:52  1.380602e+09                  102              495   \n",
       "2  1/1/2020   2:13:03  8.246220e+17                 3269             2131   \n",
       "3  1/1/2020  16:11:05  2.749415e+09                  767             3079   \n",
       "4  1/1/2020  19:01:09  4.330358e+08                 7645             9290   \n",
       "\n",
       "   user_friend_count  user_media_count  user_post_count  user_list_count  \\\n",
       "0                425               441             1644                0   \n",
       "1                864                10              136                0   \n",
       "2               5001               130             1933               20   \n",
       "3                 83               156            11499               13   \n",
       "4                984               950            37606               21   \n",
       "\n",
       "   user_verified  ...  reply_count  like_count  retweet_count  quote_count  \\\n",
       "0              0  ...            1           6              8            3   \n",
       "1              0  ...            0           0              0            0   \n",
       "2              0  ...            0           1              0            0   \n",
       "3              0  ...            0           0              1            0   \n",
       "4              0  ...            0           2              0            0   \n",
       "\n",
       "                                                text  \\\n",
       "0  @AlwayACritic @DariusVolket @ZubSpike @AusMaze...   \n",
       "1  Can’t drink can’t smoke wonderful way to start...   \n",
       "2  Great use of medical #science in the drama nar...   \n",
       "3  SARS is back! In one of the most heavily traff...   \n",
       "4  Tim and I spent #NYE playing #Pandemic togethe...   \n",
       "\n",
       "                                             acc_tag  \\\n",
       "0  [@AlwayACritic, @DariusVolket, @ZubSpike, @Aus...   \n",
       "1                                                 []   \n",
       "2                                       [@bbcradio4]   \n",
       "3                                                 []   \n",
       "4                                                 []   \n",
       "\n",
       "                              hashtag                        URL  \\\n",
       "0      [#China, #SARS, #chinesevirus]                         []   \n",
       "1                              [#flu]                         []   \n",
       "2                    [#science, #Flu]  [https://t.co/AXHQi7wwgi]   \n",
       "3  [#Wuhan, #China, #SARS, #HongKong]  [https://t.co/iF4sS1WxMf]   \n",
       "4                   [#NYE, #Pandemic]  [https://t.co/mNHuuvXA9Q]   \n",
       "\n",
       "                                      processed_text  \\\n",
       "0  lets welcome new year decade exciting im tryin...   \n",
       "1     cant drink cant smoke wonderful way start 2020   \n",
       "2  great use medical drama narrative 15 minute dr...   \n",
       "3  sars back in one heavily trafficked airports w...   \n",
       "4  tim i spent playing together facetime we one t...   \n",
       "\n",
       "                                        stemmed_text  \n",
       "0  let welcom new year decad excit im tri upbeat ...  \n",
       "1        cant drink cant smoke wonder way start 2020  \n",
       "2  great use medic drama narr 15 minut drama my l...  \n",
       "3  sar back in one heavili traffick airport world...  \n",
       "4  tim i spent play togeth facetim we one turn sp...  \n",
       "\n",
       "[5 rows x 23 columns]"
      ],
      "text/html": [
       "<div>\n",
       "<style scoped>\n",
       "    .dataframe tbody tr th:only-of-type {\n",
       "        vertical-align: middle;\n",
       "    }\n",
       "\n",
       "    .dataframe tbody tr th {\n",
       "        vertical-align: top;\n",
       "    }\n",
       "\n",
       "    .dataframe thead th {\n",
       "        text-align: right;\n",
       "    }\n",
       "</style>\n",
       "<table border=\"1\" class=\"dataframe\">\n",
       "  <thead>\n",
       "    <tr style=\"text-align: right;\">\n",
       "      <th></th>\n",
       "      <th>date</th>\n",
       "      <th>time</th>\n",
       "      <th>user_id</th>\n",
       "      <th>user_follower_count</th>\n",
       "      <th>user_like_count</th>\n",
       "      <th>user_friend_count</th>\n",
       "      <th>user_media_count</th>\n",
       "      <th>user_post_count</th>\n",
       "      <th>user_list_count</th>\n",
       "      <th>user_verified</th>\n",
       "      <th>...</th>\n",
       "      <th>reply_count</th>\n",
       "      <th>like_count</th>\n",
       "      <th>retweet_count</th>\n",
       "      <th>quote_count</th>\n",
       "      <th>text</th>\n",
       "      <th>acc_tag</th>\n",
       "      <th>hashtag</th>\n",
       "      <th>URL</th>\n",
       "      <th>processed_text</th>\n",
       "      <th>stemmed_text</th>\n",
       "    </tr>\n",
       "  </thead>\n",
       "  <tbody>\n",
       "    <tr>\n",
       "      <th>0</th>\n",
       "      <td>1/1/2020</td>\n",
       "      <td>10:05:36</td>\n",
       "      <td>1.201200e+18</td>\n",
       "      <td>524</td>\n",
       "      <td>889</td>\n",
       "      <td>425</td>\n",
       "      <td>441</td>\n",
       "      <td>1644</td>\n",
       "      <td>0</td>\n",
       "      <td>0</td>\n",
       "      <td>...</td>\n",
       "      <td>1</td>\n",
       "      <td>6</td>\n",
       "      <td>8</td>\n",
       "      <td>3</td>\n",
       "      <td>@AlwayACritic @DariusVolket @ZubSpike @AusMaze...</td>\n",
       "      <td>[@AlwayACritic, @DariusVolket, @ZubSpike, @Aus...</td>\n",
       "      <td>[#China, #SARS, #chinesevirus]</td>\n",
       "      <td>[]</td>\n",
       "      <td>lets welcome new year decade exciting im tryin...</td>\n",
       "      <td>let welcom new year decad excit im tri upbeat ...</td>\n",
       "    </tr>\n",
       "    <tr>\n",
       "      <th>1</th>\n",
       "      <td>1/1/2020</td>\n",
       "      <td>2:02:52</td>\n",
       "      <td>1.380602e+09</td>\n",
       "      <td>102</td>\n",
       "      <td>495</td>\n",
       "      <td>864</td>\n",
       "      <td>10</td>\n",
       "      <td>136</td>\n",
       "      <td>0</td>\n",
       "      <td>0</td>\n",
       "      <td>...</td>\n",
       "      <td>0</td>\n",
       "      <td>0</td>\n",
       "      <td>0</td>\n",
       "      <td>0</td>\n",
       "      <td>Can’t drink can’t smoke wonderful way to start...</td>\n",
       "      <td>[]</td>\n",
       "      <td>[#flu]</td>\n",
       "      <td>[]</td>\n",
       "      <td>cant drink cant smoke wonderful way start 2020</td>\n",
       "      <td>cant drink cant smoke wonder way start 2020</td>\n",
       "    </tr>\n",
       "    <tr>\n",
       "      <th>2</th>\n",
       "      <td>1/1/2020</td>\n",
       "      <td>2:13:03</td>\n",
       "      <td>8.246220e+17</td>\n",
       "      <td>3269</td>\n",
       "      <td>2131</td>\n",
       "      <td>5001</td>\n",
       "      <td>130</td>\n",
       "      <td>1933</td>\n",
       "      <td>20</td>\n",
       "      <td>0</td>\n",
       "      <td>...</td>\n",
       "      <td>0</td>\n",
       "      <td>1</td>\n",
       "      <td>0</td>\n",
       "      <td>0</td>\n",
       "      <td>Great use of medical #science in the drama nar...</td>\n",
       "      <td>[@bbcradio4]</td>\n",
       "      <td>[#science, #Flu]</td>\n",
       "      <td>[https://t.co/AXHQi7wwgi]</td>\n",
       "      <td>great use medical drama narrative 15 minute dr...</td>\n",
       "      <td>great use medic drama narr 15 minut drama my l...</td>\n",
       "    </tr>\n",
       "    <tr>\n",
       "      <th>3</th>\n",
       "      <td>1/1/2020</td>\n",
       "      <td>16:11:05</td>\n",
       "      <td>2.749415e+09</td>\n",
       "      <td>767</td>\n",
       "      <td>3079</td>\n",
       "      <td>83</td>\n",
       "      <td>156</td>\n",
       "      <td>11499</td>\n",
       "      <td>13</td>\n",
       "      <td>0</td>\n",
       "      <td>...</td>\n",
       "      <td>0</td>\n",
       "      <td>0</td>\n",
       "      <td>1</td>\n",
       "      <td>0</td>\n",
       "      <td>SARS is back! In one of the most heavily traff...</td>\n",
       "      <td>[]</td>\n",
       "      <td>[#Wuhan, #China, #SARS, #HongKong]</td>\n",
       "      <td>[https://t.co/iF4sS1WxMf]</td>\n",
       "      <td>sars back in one heavily trafficked airports w...</td>\n",
       "      <td>sar back in one heavili traffick airport world...</td>\n",
       "    </tr>\n",
       "    <tr>\n",
       "      <th>4</th>\n",
       "      <td>1/1/2020</td>\n",
       "      <td>19:01:09</td>\n",
       "      <td>4.330358e+08</td>\n",
       "      <td>7645</td>\n",
       "      <td>9290</td>\n",
       "      <td>984</td>\n",
       "      <td>950</td>\n",
       "      <td>37606</td>\n",
       "      <td>21</td>\n",
       "      <td>0</td>\n",
       "      <td>...</td>\n",
       "      <td>0</td>\n",
       "      <td>2</td>\n",
       "      <td>0</td>\n",
       "      <td>0</td>\n",
       "      <td>Tim and I spent #NYE playing #Pandemic togethe...</td>\n",
       "      <td>[]</td>\n",
       "      <td>[#NYE, #Pandemic]</td>\n",
       "      <td>[https://t.co/mNHuuvXA9Q]</td>\n",
       "      <td>tim i spent playing together facetime we one t...</td>\n",
       "      <td>tim i spent play togeth facetim we one turn sp...</td>\n",
       "    </tr>\n",
       "  </tbody>\n",
       "</table>\n",
       "<p>5 rows × 23 columns</p>\n",
       "</div>"
      ]
     },
     "execution_count": 194,
     "metadata": {},
     "output_type": "execute_result"
    }
   ],
   "execution_count": 194
  },
  {
   "cell_type": "markdown",
   "id": "dda2efb1712f0aba",
   "metadata": {},
   "source": [
    "# 1.VI"
   ]
  },
  {
   "cell_type": "markdown",
   "id": "5b977d4de1bd9a4f",
   "metadata": {},
   "source": [
    "Finding the emoji. I notice there are some emoji stuck together. \n",
    "\n",
    "I tried both considering it to be one emoji and multiple emoji"
   ]
  },
  {
   "cell_type": "code",
   "id": "44f78e8f-e373-4a4e-9255-aa833df67890",
   "metadata": {
    "ExecuteTime": {
     "end_time": "2024-04-14T18:06:33.131275Z",
     "start_time": "2024-04-14T18:06:32.540703Z"
    }
   },
   "source": [
    "emoticons1 = []\n",
    "emoticons2 = []\n",
    "for i in range(dataset.shape[0]):\n",
    "    text = dataset['stemmed_text'][i]\n",
    "    # Consider consecutive emoji as one emoji\n",
    "    emoticons1.append(re.findall('[\\U0001F600-\\U0001F64F]+', text))\n",
    "    # Consider consecutive emoji as multiple emoji\n",
    "    emoticons_multi = re.finditer('[\\U0001F600-\\U0001F64F]', text)\n",
    "    for emoji in emoticons_multi:\n",
    "        emoticons2.append(emoji.group())\n",
    "# create single list of emoji for counting        \n",
    "emoticons_single_list1 = [item for sublist in emoticons1 for item in sublist]\n",
    "emoticons_counter1 = Counter(emoticons_single_list1)\n",
    "top_3_emoticons1 = emoticons_counter1.most_common(3)\n",
    "print(top_3_emoticons1)\n",
    "\n",
    "emoticons_counter2 = Counter(emoticons2)\n",
    "top_3_emoticons2 = emoticons_counter2.most_common(3)\n",
    "print(top_3_emoticons2)"
   ],
   "outputs": [
    {
     "name": "stdout",
     "output_type": "stream",
     "text": [
      "[('🙏', 560), ('😷', 346), ('😂', 242)]\n",
      "[('🙏', 757), ('😂', 602), ('😷', 462)]\n"
     ]
    }
   ],
   "execution_count": 195
  },
  {
   "cell_type": "markdown",
   "id": "cc5014556320f1e5",
   "metadata": {},
   "source": [
    "The top 3 results are the same but in different order.\n",
    "\n",
    "It shows people are likely to use multiple 😂 to express themselves"
   ]
  },
  {
   "cell_type": "markdown",
   "id": "2a3d482524b52e5",
   "metadata": {},
   "source": [
    "# 2.I"
   ]
  },
  {
   "cell_type": "markdown",
   "source": "Two models for Count vectorizer",
   "metadata": {
    "collapsed": false
   },
   "id": "361eb15802a8579a"
  },
  {
   "cell_type": "code",
   "id": "9a8de9ba7fe14935",
   "metadata": {
    "collapsed": false,
    "ExecuteTime": {
     "end_time": "2024-04-14T18:06:33.146609Z",
     "start_time": "2024-04-14T18:06:33.132276Z"
    }
   },
   "source": [
    "from sklearn.feature_extraction.text import CountVectorizer\n",
    "vectorizer_count_reply = CountVectorizer(max_df=0.5, min_df=0.02)\n",
    "vectorizer_count_like = CountVectorizer(max_df=0.5, min_df=0.02)"
   ],
   "outputs": [],
   "execution_count": 196
  },
  {
   "cell_type": "markdown",
   "id": "cfb140e76e0e4061",
   "metadata": {},
   "source": [
    "# 2.IIa"
   ]
  },
  {
   "cell_type": "code",
   "id": "3cd5a05cfe78fc14",
   "metadata": {
    "collapsed": false,
    "ExecuteTime": {
     "end_time": "2024-04-14T18:06:33.161743Z",
     "start_time": "2024-04-14T18:06:33.147743Z"
    }
   },
   "source": [
    "from sklearn.model_selection import train_test_split\n",
    "from sklearn.linear_model import LinearRegression\n",
    "from sklearn.model_selection import cross_val_score\n",
    "from sklearn.metrics import mean_squared_error"
   ],
   "outputs": [],
   "execution_count": 197
  },
  {
   "cell_type": "code",
   "id": "ebf9894a918aeebe",
   "metadata": {
    "collapsed": false,
    "ExecuteTime": {
     "end_time": "2024-04-14T18:06:33.177742Z",
     "start_time": "2024-04-14T18:06:33.162744Z"
    }
   },
   "source": [
    "dataset['reply_count'].describe()"
   ],
   "outputs": [
    {
     "data": {
      "text/plain": [
       "count    51221.000000\n",
       "mean         8.971984\n",
       "std        103.724886\n",
       "min          0.000000\n",
       "25%          0.000000\n",
       "50%          1.000000\n",
       "75%          4.000000\n",
       "max       8221.000000\n",
       "Name: reply_count, dtype: float64"
      ]
     },
     "execution_count": 198,
     "metadata": {},
     "output_type": "execute_result"
    }
   ],
   "execution_count": 198
  },
  {
   "cell_type": "code",
   "id": "1e5d219436d9db03",
   "metadata": {
    "collapsed": false,
    "ExecuteTime": {
     "end_time": "2024-04-14T18:06:33.193742Z",
     "start_time": "2024-04-14T18:06:33.178743Z"
    }
   },
   "source": [
    "dataset.groupby('reply_count').size()"
   ],
   "outputs": [
    {
     "data": {
      "text/plain": [
       "reply_count\n",
       "0       20276\n",
       "1        9713\n",
       "2        5263\n",
       "3        3112\n",
       "4        2138\n",
       "        ...  \n",
       "5550        1\n",
       "6935        1\n",
       "7141        1\n",
       "7649        1\n",
       "8221        1\n",
       "Length: 405, dtype: int64"
      ]
     },
     "execution_count": 199,
     "metadata": {},
     "output_type": "execute_result"
    }
   ],
   "execution_count": 199
  },
  {
   "metadata": {},
   "cell_type": "markdown",
   "source": "As the data have long tail, I try to keep 99% of the data and exclude the remaining",
   "id": "a490f3c26cbb02b5"
  },
  {
   "cell_type": "code",
   "id": "bab17b378d54d786",
   "metadata": {
    "collapsed": false,
    "ExecuteTime": {
     "end_time": "2024-04-14T18:06:45.535954Z",
     "start_time": "2024-04-14T18:06:33.194743Z"
    }
   },
   "source": [
    "dataset2 = dataset[dataset['reply_count'] <= dataset['reply_count'].quantile(0.99)]\n",
    "content = dataset2['stemmed_text'].values\n",
    "y = dataset2['reply_count'].values\n",
    "\n",
    "content_train, content_test, y_train, y_test = train_test_split(content, y, test_size=0.2, random_state=99)\n",
    "\n",
    "vectorizer_count_reply.fit(content)\n",
    "\n",
    "X = vectorizer_count_reply.transform(content).toarray()\n",
    "X_train = vectorizer_count_reply.transform(content_train).toarray()\n",
    "X_test = vectorizer_count_reply.transform(content_test).toarray()\n",
    "\n",
    "linear_reg = LinearRegression()\n",
    "linear_reg.fit(X_train, y_train)\n",
    "\n",
    "mse_cv = -cross_val_score(linear_reg, X_train, y_train, cv=10, scoring='neg_mean_squared_error')\n",
    "score_cv = cross_val_score(linear_reg, X_train, y_train, cv=10)\n",
    "\n",
    "print(\"Training MSE: %.2f\" % mse_cv.mean())\n",
    "print(\"Training R square: %.6f\" % score_cv.mean())\n",
    "print(\"Testing MSE: %.2f\" % mean_squared_error(y_test, linear_reg.predict(X_test)))\n",
    "print(\"Testing R square: %.6f\" % linear_reg.score(X_test, y_test, sample_weight=None))"
   ],
   "outputs": [
    {
     "name": "stdout",
     "output_type": "stream",
     "text": [
      "Training MSE: 108.31\n",
      "Training R square: 0.010701\n",
      "Testing MSE: 110.75\n",
      "Testing R square: 0.012406\n"
     ]
    }
   ],
   "execution_count": 200
  },
  {
   "cell_type": "markdown",
   "id": "f41bb990bf8b9704",
   "metadata": {},
   "source": [
    "# 2.IIb"
   ]
  },
  {
   "cell_type": "code",
   "id": "7449896e69cb71cd",
   "metadata": {
    "collapsed": false,
    "ExecuteTime": {
     "end_time": "2024-04-14T18:06:45.550845Z",
     "start_time": "2024-04-14T18:06:45.536955Z"
    }
   },
   "source": [
    "dataset['like_count'].describe()"
   ],
   "outputs": [
    {
     "data": {
      "text/plain": [
       "count     51221.000000\n",
       "mean        147.968099\n",
       "std        4008.755911\n",
       "min           0.000000\n",
       "25%           5.000000\n",
       "50%          16.000000\n",
       "75%          45.000000\n",
       "max      717503.000000\n",
       "Name: like_count, dtype: float64"
      ]
     },
     "execution_count": 201,
     "metadata": {},
     "output_type": "execute_result"
    }
   ],
   "execution_count": 201
  },
  {
   "cell_type": "code",
   "id": "961550aff6639719",
   "metadata": {
    "collapsed": false,
    "ExecuteTime": {
     "end_time": "2024-04-14T18:06:45.565845Z",
     "start_time": "2024-04-14T18:06:45.551846Z"
    }
   },
   "source": [
    "dataset.groupby('like_count').size()"
   ],
   "outputs": [
    {
     "data": {
      "text/plain": [
       "like_count\n",
       "0         3856\n",
       "1         2806\n",
       "2         2193\n",
       "3         1608\n",
       "4         1554\n",
       "          ... \n",
       "81190        1\n",
       "152986       1\n",
       "196017       1\n",
       "428200       1\n",
       "717503       1\n",
       "Length: 1596, dtype: int64"
      ]
     },
     "execution_count": 202,
     "metadata": {},
     "output_type": "execute_result"
    }
   ],
   "execution_count": 202
  },
  {
   "cell_type": "markdown",
   "id": "3a610c969e8caa02",
   "metadata": {},
   "source": "As the data have long tail, I try to keep 99% of the data and exclude the remaining"
  },
  {
   "cell_type": "code",
   "id": "7611a0816c08008e",
   "metadata": {
    "collapsed": false,
    "ExecuteTime": {
     "end_time": "2024-04-14T18:06:53.238309Z",
     "start_time": "2024-04-14T18:06:45.566846Z"
    }
   },
   "source": [
    "dataset3 = dataset[dataset['like_count'] <= dataset['like_count'].quantile(0.99)]\n",
    "content = dataset3['stemmed_text'].values\n",
    "y = dataset3['like_count'].values\n",
    "\n",
    "content_train, content_test, y_train, y_test = train_test_split(content, y, test_size=0.2, random_state=99)\n",
    "\n",
    "vectorizer_count_reply.fit(content)\n",
    "\n",
    "X = vectorizer_count_reply.transform(content).toarray()\n",
    "X_train = vectorizer_count_reply.transform(content_train).toarray()\n",
    "X_test = vectorizer_count_reply.transform(content_test).toarray()\n",
    "\n",
    "linear_reg = LinearRegression()\n",
    "linear_reg.fit(X_train, y_train)\n",
    "\n",
    "mse_cv = -cross_val_score(linear_reg, X_train, y_train, cv=10, scoring='neg_mean_squared_error')\n",
    "score_cv = cross_val_score(linear_reg, X_train, y_train, cv=10)\n",
    "\n",
    "print(\"Training MSE: %.2f\" % mse_cv.mean())\n",
    "print(\"Training R square: %.6f\" % score_cv.mean())\n",
    "print(\"Testing MSE: %.2f\" % mean_squared_error(y_test, linear_reg.predict(X_test)))\n",
    "print(\"Testing R square: %.6f\" % linear_reg.score(X_test, y_test, sample_weight=None))"
   ],
   "outputs": [
    {
     "name": "stdout",
     "output_type": "stream",
     "text": [
      "Training MSE: 20440.03\n",
      "Training R square: 0.008071\n",
      "Testing MSE: 20454.69\n",
      "Testing R square: 0.009841\n"
     ]
    }
   ],
   "execution_count": 203
  },
  {
   "cell_type": "markdown",
   "id": "bc6c94afc5c7eae2",
   "metadata": {},
   "source": [
    "# 2.III"
   ]
  },
  {
   "cell_type": "markdown",
   "id": "683618f69ca928c4",
   "metadata": {},
   "source": "The Mean squared error of reply prediction is significantly lower than the mean squared error of like prediction. Meaning the people are more predictable to reply the tweet with specific words. While people may randomly give like regardless of the content"
  },
  {
   "cell_type": "markdown",
   "id": "5b451098450d6ec8",
   "metadata": {},
   "source": [
    "# 2.IV"
   ]
  },
  {
   "cell_type": "code",
   "id": "19eec1d6e94579d",
   "metadata": {
    "collapsed": false,
    "ExecuteTime": {
     "end_time": "2024-04-14T18:06:53.254309Z",
     "start_time": "2024-04-14T18:06:53.239310Z"
    }
   },
   "source": [
    "# Two models for Tf-IDf vectorizer\n",
    "from sklearn.feature_extraction.text import TfidfVectorizer\n",
    "\n",
    "vectorizer_tfidf_reply = TfidfVectorizer(max_df = 0.5, min_df = 0.02)\n",
    "vectorizer_tfidf_like = TfidfVectorizer(max_df = 0.5, min_df = 0.02)"
   ],
   "outputs": [],
   "execution_count": 204
  },
  {
   "cell_type": "markdown",
   "id": "7bcc92a9f91bc5e5",
   "metadata": {},
   "source": [
    "# 2.Va"
   ]
  },
  {
   "cell_type": "code",
   "id": "f87ee8b641ca7b6a",
   "metadata": {
    "collapsed": false,
    "ExecuteTime": {
     "end_time": "2024-04-14T18:07:01.645908Z",
     "start_time": "2024-04-14T18:06:53.255866Z"
    }
   },
   "source": [
    "content = dataset2['stemmed_text'].values\n",
    "y = dataset2['reply_count'].values\n",
    "\n",
    "vectorizer_tfidf_reply.fit(content)\n",
    "\n",
    "content_train, content_test, y_train, y_test = train_test_split(content, y, test_size=0.2, random_state=99)\n",
    "X = vectorizer_tfidf_reply.transform(content).toarray()\n",
    "X_train = vectorizer_tfidf_reply.transform(content_train).toarray()\n",
    "X_test = vectorizer_tfidf_reply.transform(content_test).toarray()\n",
    "\n",
    "linear_reg = LinearRegression()\n",
    "linear_reg.fit(X_train, y_train)\n",
    "\n",
    "mse_cv = -cross_val_score(linear_reg, X_train, y_train, cv=10, scoring='neg_mean_squared_error')\n",
    "score_cv = cross_val_score(linear_reg, X_train, y_train, cv=10)\n",
    "\n",
    "print(\"Training MSE: %.2f\" % mse_cv.mean())\n",
    "print(\"Training R square: %.6f\" % score_cv.mean())\n",
    "print(\"Testing MSE: %.2f\" % mean_squared_error(y_test, linear_reg.predict(X_test)))\n",
    "print(\"Testing R square: %.6f\" % linear_reg.score(X_test, y_test, sample_weight=None))"
   ],
   "outputs": [
    {
     "name": "stdout",
     "output_type": "stream",
     "text": [
      "Training MSE: 108.53\n",
      "Training R square: 0.008544\n",
      "Testing MSE: 110.95\n",
      "Testing R square: 0.010605\n"
     ]
    }
   ],
   "execution_count": 205
  },
  {
   "cell_type": "markdown",
   "id": "96bebeb651caafd6",
   "metadata": {},
   "source": [
    "# 2.Vb"
   ]
  },
  {
   "cell_type": "code",
   "id": "eff8a3eac475f361",
   "metadata": {
    "collapsed": false,
    "ExecuteTime": {
     "end_time": "2024-04-14T18:07:10.638969Z",
     "start_time": "2024-04-14T18:07:01.647908Z"
    }
   },
   "source": [
    "content = dataset3['stemmed_text'].values\n",
    "y = dataset3['like_count'].values\n",
    "\n",
    "vectorizer_tfidf_like.fit(content)\n",
    "\n",
    "content_train, content_test, y_train, y_test = train_test_split(content, y, test_size=0.2, random_state=99)\n",
    "X = vectorizer_tfidf_like.transform(content).toarray()\n",
    "X_train = vectorizer_tfidf_like.transform(content_train).toarray()\n",
    "X_test = vectorizer_tfidf_like.transform(content_test).toarray()\n",
    "\n",
    "linear_reg = LinearRegression()\n",
    "linear_reg.fit(X_train, y_train)\n",
    "\n",
    "mse_cv = -cross_val_score(linear_reg, X_train, y_train, cv=10, scoring='neg_mean_squared_error')\n",
    "score_cv = cross_val_score(linear_reg, X_train, y_train, cv=10)\n",
    "\n",
    "print(\"Training MSE: %.2f\" % mse_cv.mean())\n",
    "print(\"Training R square: %.6f\" % score_cv.mean())\n",
    "print(\"Testing MSE: %.2f\" % mean_squared_error(y_test, linear_reg.predict(X_test)))\n",
    "print(\"Testing R square: %.6f\" % linear_reg.score(X_test, y_test, sample_weight=None))"
   ],
   "outputs": [
    {
     "name": "stdout",
     "output_type": "stream",
     "text": [
      "Training MSE: 20474.87\n",
      "Training R square: 0.006368\n",
      "Testing MSE: 20501.33\n",
      "Testing R square: 0.007583\n"
     ]
    }
   ],
   "execution_count": 206
  },
  {
   "cell_type": "code",
   "source": "",
   "metadata": {
    "collapsed": false,
    "ExecuteTime": {
     "end_time": "2024-04-14T18:07:10.653970Z",
     "start_time": "2024-04-14T18:07:10.639970Z"
    }
   },
   "id": "557510a8ab84684d",
   "outputs": [],
   "execution_count": 206
  },
  {
   "cell_type": "markdown",
   "id": "01a43dc0-f4af-4adc-9da2-f0887a9746c5",
   "metadata": {},
   "source": [
    "The MSE of reply is again significantly lower than MSE of like prediction. \n",
    "\n",
    "The result of Count and TF-IDF vectorizer are very similar."
   ]
  },
  {
   "cell_type": "markdown",
   "id": "36f61fa8-af33-45b5-9cee-bdd4767e8d97",
   "metadata": {},
   "source": [
    "# 3.I"
   ]
  },
  {
   "metadata": {
    "ExecuteTime": {
     "end_time": "2024-04-14T18:07:10.701137Z",
     "start_time": "2024-04-14T18:07:10.654970Z"
    }
   },
   "cell_type": "code",
   "source": [
    "# load NRC-Emotion-lexicon\n",
    "lexicon = pd.read_csv('NRC-Emotion-Lexicon.txt', sep = '\\t', names = ['term', 'category', 'associated'])"
   ],
   "id": "db3ddbb386baa274",
   "outputs": [],
   "execution_count": 207
  },
  {
   "metadata": {},
   "cell_type": "markdown",
   "source": "# 3.II",
   "id": "e045cafdab0ce169"
  },
  {
   "metadata": {
    "ExecuteTime": {
     "end_time": "2024-04-14T18:07:10.731808Z",
     "start_time": "2024-04-14T18:07:10.702138Z"
    }
   },
   "cell_type": "code",
   "source": [
    "# positive and negative sentiment word list\n",
    "pos_list = list(lexicon[(lexicon['category'] == 'positive') & (lexicon['associated'] == 1)].term)\n",
    "neg_list = list(lexicon[(lexicon['category'] == 'negative') & (lexicon['associated'] == 1)].term)"
   ],
   "id": "490490921a68524d",
   "outputs": [],
   "execution_count": 208
  },
  {
   "metadata": {
    "ExecuteTime": {
     "end_time": "2024-04-14T18:07:10.746808Z",
     "start_time": "2024-04-14T18:07:10.732808Z"
    }
   },
   "cell_type": "code",
   "source": [
    "def sentiment_score(text_list, sen_list):\n",
    "    temp_list = []\n",
    "    check_list = []\n",
    "    for t in text_list:\n",
    "        if len(t) > 0:\n",
    "            tokenized_text = word_tokenize(t)\n",
    "            temp = 0\n",
    "            word1 = []\n",
    "            for w in sen_list:\n",
    "                if tokenized_text.count(w) > 0:\n",
    "                    word1.append(w)\n",
    "                temp += tokenized_text.count(w)\n",
    "            temp_list.append(temp/len(tokenized_text))\n",
    "            check_list.append(word1)\n",
    "        else:\n",
    "            temp_list.append(0)\n",
    "            check_list.append([])\n",
    "    return temp_list, check_list"
   ],
   "id": "d16797c01798fdf6",
   "outputs": [],
   "execution_count": 209
  },
  {
   "metadata": {
    "ExecuteTime": {
     "end_time": "2024-04-14T18:07:15.779398Z",
     "start_time": "2024-04-14T18:07:10.747808Z"
    }
   },
   "cell_type": "code",
   "source": [
    "from nltk.stem import WordNetLemmatizer\n",
    "\n",
    "# Lemmatize text before applying lexicon\n",
    "lemmatized_text = []\n",
    "delimiter = ' '\n",
    "lemmatizer = WordNetLemmatizer()\n",
    "for text in dataset['processed_text']:\n",
    "    token = []\n",
    "    # tokenize the text and apply lemmatization for each token\n",
    "    for tokens in word_tokenize(text):\n",
    "        token.append(lemmatizer.lemmatize(tokens))\n",
    "    lemmatized_text.append(delimiter.join(token))\n",
    "# replace the text\n",
    "dataset['lemmatized_text'] = lemmatized_text"
   ],
   "id": "910891be7a090f9c",
   "outputs": [],
   "execution_count": 210
  },
  {
   "metadata": {
    "ExecuteTime": {
     "end_time": "2024-04-14T18:08:32.486328Z",
     "start_time": "2024-04-14T18:07:15.780398Z"
    }
   },
   "cell_type": "code",
   "source": [
    "dataset['pos_score'] ,dataset['pos_word_list'] = sentiment_score(dataset['lemmatized_text'], pos_list)\n",
    "dataset['neg_score'] ,dataset['neg_word_list'] = sentiment_score(dataset['lemmatized_text'], neg_list)\n",
    "\n",
    "dataset.head()"
   ],
   "id": "b8b0c6f52baef289",
   "outputs": [
    {
     "data": {
      "text/plain": [
       "       date      time       user_id  user_follower_count  user_like_count  \\\n",
       "0  1/1/2020  10:05:36  1.201200e+18                  524              889   \n",
       "1  1/1/2020   2:02:52  1.380602e+09                  102              495   \n",
       "2  1/1/2020   2:13:03  8.246220e+17                 3269             2131   \n",
       "3  1/1/2020  16:11:05  2.749415e+09                  767             3079   \n",
       "4  1/1/2020  19:01:09  4.330358e+08                 7645             9290   \n",
       "\n",
       "   user_friend_count  user_media_count  user_post_count  user_list_count  \\\n",
       "0                425               441             1644                0   \n",
       "1                864                10              136                0   \n",
       "2               5001               130             1933               20   \n",
       "3                 83               156            11499               13   \n",
       "4                984               950            37606               21   \n",
       "\n",
       "   user_verified  ...                                            acc_tag  \\\n",
       "0              0  ...  [@AlwayACritic, @DariusVolket, @ZubSpike, @Aus...   \n",
       "1              0  ...                                                 []   \n",
       "2              0  ...                                       [@bbcradio4]   \n",
       "3              0  ...                                                 []   \n",
       "4              0  ...                                                 []   \n",
       "\n",
       "                              hashtag                        URL  \\\n",
       "0      [#China, #SARS, #chinesevirus]                         []   \n",
       "1                              [#flu]                         []   \n",
       "2                    [#science, #Flu]  [https://t.co/AXHQi7wwgi]   \n",
       "3  [#Wuhan, #China, #SARS, #HongKong]  [https://t.co/iF4sS1WxMf]   \n",
       "4                   [#NYE, #Pandemic]  [https://t.co/mNHuuvXA9Q]   \n",
       "\n",
       "                                      processed_text  \\\n",
       "0  lets welcome new year decade exciting im tryin...   \n",
       "1     cant drink cant smoke wonderful way start 2020   \n",
       "2  great use medical drama narrative 15 minute dr...   \n",
       "3  sars back in one heavily trafficked airports w...   \n",
       "4  tim i spent playing together facetime we one t...   \n",
       "\n",
       "                                        stemmed_text  \\\n",
       "0  let welcom new year decad excit im tri upbeat ...   \n",
       "1        cant drink cant smoke wonder way start 2020   \n",
       "2  great use medic drama narr 15 minut drama my l...   \n",
       "3  sar back in one heavili traffick airport world...   \n",
       "4  tim i spent play togeth facetim we one turn sp...   \n",
       "\n",
       "                                     lemmatized_text  pos_score  \\\n",
       "0  let welcome new year decade exciting im trying...   0.100000   \n",
       "1     cant drink cant smoke wonderful way start 2020   0.125000   \n",
       "2  great use medical drama narrative 15 minute dr...   0.083333   \n",
       "3  sars back in one heavily trafficked airport wo...   0.000000   \n",
       "4  tim i spent playing together facetime we one t...   0.076923   \n",
       "\n",
       "        pos_word_list neg_score       neg_word_list  \n",
       "0  [exciting, launch]  0.100000  [pneumonia, rumor]  \n",
       "1         [wonderful]  0.000000                  []  \n",
       "2           [medical]  0.000000                  []  \n",
       "3                  []  0.055556           [heavily]  \n",
       "4              [love]  0.076923             [spent]  \n",
       "\n",
       "[5 rows x 28 columns]"
      ],
      "text/html": [
       "<div>\n",
       "<style scoped>\n",
       "    .dataframe tbody tr th:only-of-type {\n",
       "        vertical-align: middle;\n",
       "    }\n",
       "\n",
       "    .dataframe tbody tr th {\n",
       "        vertical-align: top;\n",
       "    }\n",
       "\n",
       "    .dataframe thead th {\n",
       "        text-align: right;\n",
       "    }\n",
       "</style>\n",
       "<table border=\"1\" class=\"dataframe\">\n",
       "  <thead>\n",
       "    <tr style=\"text-align: right;\">\n",
       "      <th></th>\n",
       "      <th>date</th>\n",
       "      <th>time</th>\n",
       "      <th>user_id</th>\n",
       "      <th>user_follower_count</th>\n",
       "      <th>user_like_count</th>\n",
       "      <th>user_friend_count</th>\n",
       "      <th>user_media_count</th>\n",
       "      <th>user_post_count</th>\n",
       "      <th>user_list_count</th>\n",
       "      <th>user_verified</th>\n",
       "      <th>...</th>\n",
       "      <th>acc_tag</th>\n",
       "      <th>hashtag</th>\n",
       "      <th>URL</th>\n",
       "      <th>processed_text</th>\n",
       "      <th>stemmed_text</th>\n",
       "      <th>lemmatized_text</th>\n",
       "      <th>pos_score</th>\n",
       "      <th>pos_word_list</th>\n",
       "      <th>neg_score</th>\n",
       "      <th>neg_word_list</th>\n",
       "    </tr>\n",
       "  </thead>\n",
       "  <tbody>\n",
       "    <tr>\n",
       "      <th>0</th>\n",
       "      <td>1/1/2020</td>\n",
       "      <td>10:05:36</td>\n",
       "      <td>1.201200e+18</td>\n",
       "      <td>524</td>\n",
       "      <td>889</td>\n",
       "      <td>425</td>\n",
       "      <td>441</td>\n",
       "      <td>1644</td>\n",
       "      <td>0</td>\n",
       "      <td>0</td>\n",
       "      <td>...</td>\n",
       "      <td>[@AlwayACritic, @DariusVolket, @ZubSpike, @Aus...</td>\n",
       "      <td>[#China, #SARS, #chinesevirus]</td>\n",
       "      <td>[]</td>\n",
       "      <td>lets welcome new year decade exciting im tryin...</td>\n",
       "      <td>let welcom new year decad excit im tri upbeat ...</td>\n",
       "      <td>let welcome new year decade exciting im trying...</td>\n",
       "      <td>0.100000</td>\n",
       "      <td>[exciting, launch]</td>\n",
       "      <td>0.100000</td>\n",
       "      <td>[pneumonia, rumor]</td>\n",
       "    </tr>\n",
       "    <tr>\n",
       "      <th>1</th>\n",
       "      <td>1/1/2020</td>\n",
       "      <td>2:02:52</td>\n",
       "      <td>1.380602e+09</td>\n",
       "      <td>102</td>\n",
       "      <td>495</td>\n",
       "      <td>864</td>\n",
       "      <td>10</td>\n",
       "      <td>136</td>\n",
       "      <td>0</td>\n",
       "      <td>0</td>\n",
       "      <td>...</td>\n",
       "      <td>[]</td>\n",
       "      <td>[#flu]</td>\n",
       "      <td>[]</td>\n",
       "      <td>cant drink cant smoke wonderful way start 2020</td>\n",
       "      <td>cant drink cant smoke wonder way start 2020</td>\n",
       "      <td>cant drink cant smoke wonderful way start 2020</td>\n",
       "      <td>0.125000</td>\n",
       "      <td>[wonderful]</td>\n",
       "      <td>0.000000</td>\n",
       "      <td>[]</td>\n",
       "    </tr>\n",
       "    <tr>\n",
       "      <th>2</th>\n",
       "      <td>1/1/2020</td>\n",
       "      <td>2:13:03</td>\n",
       "      <td>8.246220e+17</td>\n",
       "      <td>3269</td>\n",
       "      <td>2131</td>\n",
       "      <td>5001</td>\n",
       "      <td>130</td>\n",
       "      <td>1933</td>\n",
       "      <td>20</td>\n",
       "      <td>0</td>\n",
       "      <td>...</td>\n",
       "      <td>[@bbcradio4]</td>\n",
       "      <td>[#science, #Flu]</td>\n",
       "      <td>[https://t.co/AXHQi7wwgi]</td>\n",
       "      <td>great use medical drama narrative 15 minute dr...</td>\n",
       "      <td>great use medic drama narr 15 minut drama my l...</td>\n",
       "      <td>great use medical drama narrative 15 minute dr...</td>\n",
       "      <td>0.083333</td>\n",
       "      <td>[medical]</td>\n",
       "      <td>0.000000</td>\n",
       "      <td>[]</td>\n",
       "    </tr>\n",
       "    <tr>\n",
       "      <th>3</th>\n",
       "      <td>1/1/2020</td>\n",
       "      <td>16:11:05</td>\n",
       "      <td>2.749415e+09</td>\n",
       "      <td>767</td>\n",
       "      <td>3079</td>\n",
       "      <td>83</td>\n",
       "      <td>156</td>\n",
       "      <td>11499</td>\n",
       "      <td>13</td>\n",
       "      <td>0</td>\n",
       "      <td>...</td>\n",
       "      <td>[]</td>\n",
       "      <td>[#Wuhan, #China, #SARS, #HongKong]</td>\n",
       "      <td>[https://t.co/iF4sS1WxMf]</td>\n",
       "      <td>sars back in one heavily trafficked airports w...</td>\n",
       "      <td>sar back in one heavili traffick airport world...</td>\n",
       "      <td>sars back in one heavily trafficked airport wo...</td>\n",
       "      <td>0.000000</td>\n",
       "      <td>[]</td>\n",
       "      <td>0.055556</td>\n",
       "      <td>[heavily]</td>\n",
       "    </tr>\n",
       "    <tr>\n",
       "      <th>4</th>\n",
       "      <td>1/1/2020</td>\n",
       "      <td>19:01:09</td>\n",
       "      <td>4.330358e+08</td>\n",
       "      <td>7645</td>\n",
       "      <td>9290</td>\n",
       "      <td>984</td>\n",
       "      <td>950</td>\n",
       "      <td>37606</td>\n",
       "      <td>21</td>\n",
       "      <td>0</td>\n",
       "      <td>...</td>\n",
       "      <td>[]</td>\n",
       "      <td>[#NYE, #Pandemic]</td>\n",
       "      <td>[https://t.co/mNHuuvXA9Q]</td>\n",
       "      <td>tim i spent playing together facetime we one t...</td>\n",
       "      <td>tim i spent play togeth facetim we one turn sp...</td>\n",
       "      <td>tim i spent playing together facetime we one t...</td>\n",
       "      <td>0.076923</td>\n",
       "      <td>[love]</td>\n",
       "      <td>0.076923</td>\n",
       "      <td>[spent]</td>\n",
       "    </tr>\n",
       "  </tbody>\n",
       "</table>\n",
       "<p>5 rows × 28 columns</p>\n",
       "</div>"
      ]
     },
     "execution_count": 211,
     "metadata": {},
     "output_type": "execute_result"
    }
   ],
   "execution_count": 211
  },
  {
   "metadata": {},
   "cell_type": "markdown",
   "source": "# 3.III",
   "id": "7be2fccd8430b6cf"
  },
  {
   "metadata": {
    "ExecuteTime": {
     "end_time": "2024-04-14T18:08:32.532394Z",
     "start_time": "2024-04-14T18:08:32.487442Z"
    }
   },
   "cell_type": "code",
   "source": [
    "# 4 emotion word list\n",
    "fear_list = list(lexicon[(lexicon['category'] == 'fear') & (lexicon['associated'] == 1)].term)\n",
    "anger_list = list(lexicon[(lexicon['category'] == 'anger') & (lexicon['associated'] == 1)].term)\n",
    "sadness_list = list(lexicon[(lexicon['category'] == 'sadness') & (lexicon['associated'] == 1)].term)\n",
    "joy_list = list(lexicon[(lexicon['category'] == 'joy') & (lexicon['associated'] == 1)].term)"
   ],
   "id": "f44ddce547194cb2",
   "outputs": [],
   "execution_count": 212
  },
  {
   "metadata": {
    "ExecuteTime": {
     "end_time": "2024-04-14T18:09:46.166804Z",
     "start_time": "2024-04-14T18:08:32.533394Z"
    }
   },
   "cell_type": "code",
   "source": [
    "dataset['fear_score'] ,dataset['fear_word_list'] = sentiment_score(dataset['lemmatized_text'], fear_list)\n",
    "dataset['anger_score'] ,dataset['anger_word_list'] = sentiment_score(dataset['lemmatized_text'], anger_list)\n",
    "dataset['sadness_score'] ,dataset['sadness_word_list'] = sentiment_score(dataset['lemmatized_text'], sadness_list)\n",
    "dataset['joy_score'] ,dataset['joy_word_list'] = sentiment_score(dataset['lemmatized_text'], joy_list)"
   ],
   "id": "a4aad1fe26de7f9b",
   "outputs": [],
   "execution_count": 213
  },
  {
   "metadata": {
    "ExecuteTime": {
     "end_time": "2024-04-14T18:09:46.181804Z",
     "start_time": "2024-04-14T18:09:46.167805Z"
    }
   },
   "cell_type": "code",
   "source": "dataset.head()",
   "id": "441af66ded498b7a",
   "outputs": [
    {
     "data": {
      "text/plain": [
       "       date      time       user_id  user_follower_count  user_like_count  \\\n",
       "0  1/1/2020  10:05:36  1.201200e+18                  524              889   \n",
       "1  1/1/2020   2:02:52  1.380602e+09                  102              495   \n",
       "2  1/1/2020   2:13:03  8.246220e+17                 3269             2131   \n",
       "3  1/1/2020  16:11:05  2.749415e+09                  767             3079   \n",
       "4  1/1/2020  19:01:09  4.330358e+08                 7645             9290   \n",
       "\n",
       "   user_friend_count  user_media_count  user_post_count  user_list_count  \\\n",
       "0                425               441             1644                0   \n",
       "1                864                10              136                0   \n",
       "2               5001               130             1933               20   \n",
       "3                 83               156            11499               13   \n",
       "4                984               950            37606               21   \n",
       "\n",
       "   user_verified  ...  neg_score       neg_word_list  fear_score  \\\n",
       "0              0  ...   0.100000  [pneumonia, rumor]    0.100000   \n",
       "1              0  ...   0.000000                  []    0.000000   \n",
       "2              0  ...   0.000000                  []    0.083333   \n",
       "3              0  ...   0.055556           [heavily]    0.000000   \n",
       "4              0  ...   0.076923             [spent]    0.000000   \n",
       "\n",
       "            fear_word_list  anger_score  anger_word_list  sadness_score  \\\n",
       "0  [mysterious, pneumonia]          0.0               []           0.05   \n",
       "1                       []          0.0               []           0.00   \n",
       "2                [medical]          0.0               []           0.00   \n",
       "3                       []          0.0               []           0.00   \n",
       "4                       []          0.0               []           0.00   \n",
       "\n",
       "  sadness_word_list joy_score joy_word_list  \n",
       "0           [rumor]  0.050000    [exciting]  \n",
       "1                []  0.125000   [wonderful]  \n",
       "2                []  0.000000            []  \n",
       "3                []  0.000000            []  \n",
       "4                []  0.076923        [love]  \n",
       "\n",
       "[5 rows x 36 columns]"
      ],
      "text/html": [
       "<div>\n",
       "<style scoped>\n",
       "    .dataframe tbody tr th:only-of-type {\n",
       "        vertical-align: middle;\n",
       "    }\n",
       "\n",
       "    .dataframe tbody tr th {\n",
       "        vertical-align: top;\n",
       "    }\n",
       "\n",
       "    .dataframe thead th {\n",
       "        text-align: right;\n",
       "    }\n",
       "</style>\n",
       "<table border=\"1\" class=\"dataframe\">\n",
       "  <thead>\n",
       "    <tr style=\"text-align: right;\">\n",
       "      <th></th>\n",
       "      <th>date</th>\n",
       "      <th>time</th>\n",
       "      <th>user_id</th>\n",
       "      <th>user_follower_count</th>\n",
       "      <th>user_like_count</th>\n",
       "      <th>user_friend_count</th>\n",
       "      <th>user_media_count</th>\n",
       "      <th>user_post_count</th>\n",
       "      <th>user_list_count</th>\n",
       "      <th>user_verified</th>\n",
       "      <th>...</th>\n",
       "      <th>neg_score</th>\n",
       "      <th>neg_word_list</th>\n",
       "      <th>fear_score</th>\n",
       "      <th>fear_word_list</th>\n",
       "      <th>anger_score</th>\n",
       "      <th>anger_word_list</th>\n",
       "      <th>sadness_score</th>\n",
       "      <th>sadness_word_list</th>\n",
       "      <th>joy_score</th>\n",
       "      <th>joy_word_list</th>\n",
       "    </tr>\n",
       "  </thead>\n",
       "  <tbody>\n",
       "    <tr>\n",
       "      <th>0</th>\n",
       "      <td>1/1/2020</td>\n",
       "      <td>10:05:36</td>\n",
       "      <td>1.201200e+18</td>\n",
       "      <td>524</td>\n",
       "      <td>889</td>\n",
       "      <td>425</td>\n",
       "      <td>441</td>\n",
       "      <td>1644</td>\n",
       "      <td>0</td>\n",
       "      <td>0</td>\n",
       "      <td>...</td>\n",
       "      <td>0.100000</td>\n",
       "      <td>[pneumonia, rumor]</td>\n",
       "      <td>0.100000</td>\n",
       "      <td>[mysterious, pneumonia]</td>\n",
       "      <td>0.0</td>\n",
       "      <td>[]</td>\n",
       "      <td>0.05</td>\n",
       "      <td>[rumor]</td>\n",
       "      <td>0.050000</td>\n",
       "      <td>[exciting]</td>\n",
       "    </tr>\n",
       "    <tr>\n",
       "      <th>1</th>\n",
       "      <td>1/1/2020</td>\n",
       "      <td>2:02:52</td>\n",
       "      <td>1.380602e+09</td>\n",
       "      <td>102</td>\n",
       "      <td>495</td>\n",
       "      <td>864</td>\n",
       "      <td>10</td>\n",
       "      <td>136</td>\n",
       "      <td>0</td>\n",
       "      <td>0</td>\n",
       "      <td>...</td>\n",
       "      <td>0.000000</td>\n",
       "      <td>[]</td>\n",
       "      <td>0.000000</td>\n",
       "      <td>[]</td>\n",
       "      <td>0.0</td>\n",
       "      <td>[]</td>\n",
       "      <td>0.00</td>\n",
       "      <td>[]</td>\n",
       "      <td>0.125000</td>\n",
       "      <td>[wonderful]</td>\n",
       "    </tr>\n",
       "    <tr>\n",
       "      <th>2</th>\n",
       "      <td>1/1/2020</td>\n",
       "      <td>2:13:03</td>\n",
       "      <td>8.246220e+17</td>\n",
       "      <td>3269</td>\n",
       "      <td>2131</td>\n",
       "      <td>5001</td>\n",
       "      <td>130</td>\n",
       "      <td>1933</td>\n",
       "      <td>20</td>\n",
       "      <td>0</td>\n",
       "      <td>...</td>\n",
       "      <td>0.000000</td>\n",
       "      <td>[]</td>\n",
       "      <td>0.083333</td>\n",
       "      <td>[medical]</td>\n",
       "      <td>0.0</td>\n",
       "      <td>[]</td>\n",
       "      <td>0.00</td>\n",
       "      <td>[]</td>\n",
       "      <td>0.000000</td>\n",
       "      <td>[]</td>\n",
       "    </tr>\n",
       "    <tr>\n",
       "      <th>3</th>\n",
       "      <td>1/1/2020</td>\n",
       "      <td>16:11:05</td>\n",
       "      <td>2.749415e+09</td>\n",
       "      <td>767</td>\n",
       "      <td>3079</td>\n",
       "      <td>83</td>\n",
       "      <td>156</td>\n",
       "      <td>11499</td>\n",
       "      <td>13</td>\n",
       "      <td>0</td>\n",
       "      <td>...</td>\n",
       "      <td>0.055556</td>\n",
       "      <td>[heavily]</td>\n",
       "      <td>0.000000</td>\n",
       "      <td>[]</td>\n",
       "      <td>0.0</td>\n",
       "      <td>[]</td>\n",
       "      <td>0.00</td>\n",
       "      <td>[]</td>\n",
       "      <td>0.000000</td>\n",
       "      <td>[]</td>\n",
       "    </tr>\n",
       "    <tr>\n",
       "      <th>4</th>\n",
       "      <td>1/1/2020</td>\n",
       "      <td>19:01:09</td>\n",
       "      <td>4.330358e+08</td>\n",
       "      <td>7645</td>\n",
       "      <td>9290</td>\n",
       "      <td>984</td>\n",
       "      <td>950</td>\n",
       "      <td>37606</td>\n",
       "      <td>21</td>\n",
       "      <td>0</td>\n",
       "      <td>...</td>\n",
       "      <td>0.076923</td>\n",
       "      <td>[spent]</td>\n",
       "      <td>0.000000</td>\n",
       "      <td>[]</td>\n",
       "      <td>0.0</td>\n",
       "      <td>[]</td>\n",
       "      <td>0.00</td>\n",
       "      <td>[]</td>\n",
       "      <td>0.076923</td>\n",
       "      <td>[love]</td>\n",
       "    </tr>\n",
       "  </tbody>\n",
       "</table>\n",
       "<p>5 rows × 36 columns</p>\n",
       "</div>"
      ]
     },
     "execution_count": 214,
     "metadata": {},
     "output_type": "execute_result"
    }
   ],
   "execution_count": 214
  },
  {
   "metadata": {},
   "cell_type": "markdown",
   "source": "# 3.IVa",
   "id": "f602f25f0ec65835"
  },
  {
   "metadata": {
    "ExecuteTime": {
     "end_time": "2024-04-14T18:09:46.847958Z",
     "start_time": "2024-04-14T18:09:46.182805Z"
    }
   },
   "cell_type": "code",
   "source": [
    "X = dataset2[['pos_score', 'neg_score', 'fear_score', 'anger_score', 'fear_score', 'sadness_score']]\n",
    "y = dataset2['reply_count'].values\n",
    "\n",
    "X_train, X_test, y_train, y_test = train_test_split(X, y, test_size=0.2, random_state=99)\n",
    "\n",
    "linear_reg = LinearRegression()\n",
    "linear_reg.fit(X_train, y_train)\n",
    "\n",
    "mse_cv = -cross_val_score(linear_reg, X_train, y_train, cv=10, scoring='neg_mean_squared_error')\n",
    "score_cv = cross_val_score(linear_reg, X_train, y_train, cv=10)\n",
    "\n",
    "print(\"Training MSE: %.2f\" % mse_cv.mean())\n",
    "print(\"Training R square: %.6f\" % score_cv.mean())\n",
    "print(\"Testing MSE: %.2f\" % mean_squared_error(y_test, linear_reg.predict(X_test)))\n",
    "print(\"Testing R square: %.6f\" % linear_reg.score(X_test, y_test, sample_weight=None))"
   ],
   "id": "de52388f1e34f9cf",
   "outputs": [
    {
     "ename": "KeyError",
     "evalue": "\"None of [Index(['pos_score', 'neg_score', 'fear_score', 'anger_score', 'fear_score',\\n       'sadness_score'],\\n      dtype='object')] are in the [columns]\"",
     "output_type": "error",
     "traceback": [
      "\u001B[1;31m---------------------------------------------------------------------------\u001B[0m",
      "\u001B[1;31mKeyError\u001B[0m                                  Traceback (most recent call last)",
      "Cell \u001B[1;32mIn[215], line 1\u001B[0m\n\u001B[1;32m----> 1\u001B[0m X \u001B[38;5;241m=\u001B[39m \u001B[43mdataset2\u001B[49m\u001B[43m[\u001B[49m\u001B[43m[\u001B[49m\u001B[38;5;124;43m'\u001B[39;49m\u001B[38;5;124;43mpos_score\u001B[39;49m\u001B[38;5;124;43m'\u001B[39;49m\u001B[43m,\u001B[49m\u001B[43m \u001B[49m\u001B[38;5;124;43m'\u001B[39;49m\u001B[38;5;124;43mneg_score\u001B[39;49m\u001B[38;5;124;43m'\u001B[39;49m\u001B[43m,\u001B[49m\u001B[43m \u001B[49m\u001B[38;5;124;43m'\u001B[39;49m\u001B[38;5;124;43mfear_score\u001B[39;49m\u001B[38;5;124;43m'\u001B[39;49m\u001B[43m,\u001B[49m\u001B[43m \u001B[49m\u001B[38;5;124;43m'\u001B[39;49m\u001B[38;5;124;43manger_score\u001B[39;49m\u001B[38;5;124;43m'\u001B[39;49m\u001B[43m,\u001B[49m\u001B[43m \u001B[49m\u001B[38;5;124;43m'\u001B[39;49m\u001B[38;5;124;43mfear_score\u001B[39;49m\u001B[38;5;124;43m'\u001B[39;49m\u001B[43m,\u001B[49m\u001B[43m \u001B[49m\u001B[38;5;124;43m'\u001B[39;49m\u001B[38;5;124;43msadness_score\u001B[39;49m\u001B[38;5;124;43m'\u001B[39;49m\u001B[43m]\u001B[49m\u001B[43m]\u001B[49m\n\u001B[0;32m      2\u001B[0m y \u001B[38;5;241m=\u001B[39m dataset2[\u001B[38;5;124m'\u001B[39m\u001B[38;5;124mreply_count\u001B[39m\u001B[38;5;124m'\u001B[39m]\u001B[38;5;241m.\u001B[39mvalues\n\u001B[0;32m      4\u001B[0m X_train, X_test, y_train, y_test \u001B[38;5;241m=\u001B[39m train_test_split(X, y, test_size\u001B[38;5;241m=\u001B[39m\u001B[38;5;241m0.2\u001B[39m, random_state\u001B[38;5;241m=\u001B[39m\u001B[38;5;241m99\u001B[39m)\n",
      "File \u001B[1;32m~\\IdeaProjects\\JAPJC_Export\\MM5427\\lib\\site-packages\\pandas\\core\\frame.py:3511\u001B[0m, in \u001B[0;36mDataFrame.__getitem__\u001B[1;34m(self, key)\u001B[0m\n\u001B[0;32m   3509\u001B[0m     \u001B[38;5;28;01mif\u001B[39;00m is_iterator(key):\n\u001B[0;32m   3510\u001B[0m         key \u001B[38;5;241m=\u001B[39m \u001B[38;5;28mlist\u001B[39m(key)\n\u001B[1;32m-> 3511\u001B[0m     indexer \u001B[38;5;241m=\u001B[39m \u001B[38;5;28;43mself\u001B[39;49m\u001B[38;5;241;43m.\u001B[39;49m\u001B[43mcolumns\u001B[49m\u001B[38;5;241;43m.\u001B[39;49m\u001B[43m_get_indexer_strict\u001B[49m\u001B[43m(\u001B[49m\u001B[43mkey\u001B[49m\u001B[43m,\u001B[49m\u001B[43m \u001B[49m\u001B[38;5;124;43m\"\u001B[39;49m\u001B[38;5;124;43mcolumns\u001B[39;49m\u001B[38;5;124;43m\"\u001B[39;49m\u001B[43m)\u001B[49m[\u001B[38;5;241m1\u001B[39m]\n\u001B[0;32m   3513\u001B[0m \u001B[38;5;66;03m# take() does not accept boolean indexers\u001B[39;00m\n\u001B[0;32m   3514\u001B[0m \u001B[38;5;28;01mif\u001B[39;00m \u001B[38;5;28mgetattr\u001B[39m(indexer, \u001B[38;5;124m\"\u001B[39m\u001B[38;5;124mdtype\u001B[39m\u001B[38;5;124m\"\u001B[39m, \u001B[38;5;28;01mNone\u001B[39;00m) \u001B[38;5;241m==\u001B[39m \u001B[38;5;28mbool\u001B[39m:\n",
      "File \u001B[1;32m~\\IdeaProjects\\JAPJC_Export\\MM5427\\lib\\site-packages\\pandas\\core\\indexes\\base.py:5782\u001B[0m, in \u001B[0;36mIndex._get_indexer_strict\u001B[1;34m(self, key, axis_name)\u001B[0m\n\u001B[0;32m   5779\u001B[0m \u001B[38;5;28;01melse\u001B[39;00m:\n\u001B[0;32m   5780\u001B[0m     keyarr, indexer, new_indexer \u001B[38;5;241m=\u001B[39m \u001B[38;5;28mself\u001B[39m\u001B[38;5;241m.\u001B[39m_reindex_non_unique(keyarr)\n\u001B[1;32m-> 5782\u001B[0m \u001B[38;5;28;43mself\u001B[39;49m\u001B[38;5;241;43m.\u001B[39;49m\u001B[43m_raise_if_missing\u001B[49m\u001B[43m(\u001B[49m\u001B[43mkeyarr\u001B[49m\u001B[43m,\u001B[49m\u001B[43m \u001B[49m\u001B[43mindexer\u001B[49m\u001B[43m,\u001B[49m\u001B[43m \u001B[49m\u001B[43maxis_name\u001B[49m\u001B[43m)\u001B[49m\n\u001B[0;32m   5784\u001B[0m keyarr \u001B[38;5;241m=\u001B[39m \u001B[38;5;28mself\u001B[39m\u001B[38;5;241m.\u001B[39mtake(indexer)\n\u001B[0;32m   5785\u001B[0m \u001B[38;5;28;01mif\u001B[39;00m \u001B[38;5;28misinstance\u001B[39m(key, Index):\n\u001B[0;32m   5786\u001B[0m     \u001B[38;5;66;03m# GH 42790 - Preserve name from an Index\u001B[39;00m\n",
      "File \u001B[1;32m~\\IdeaProjects\\JAPJC_Export\\MM5427\\lib\\site-packages\\pandas\\core\\indexes\\base.py:5842\u001B[0m, in \u001B[0;36mIndex._raise_if_missing\u001B[1;34m(self, key, indexer, axis_name)\u001B[0m\n\u001B[0;32m   5840\u001B[0m     \u001B[38;5;28;01mif\u001B[39;00m use_interval_msg:\n\u001B[0;32m   5841\u001B[0m         key \u001B[38;5;241m=\u001B[39m \u001B[38;5;28mlist\u001B[39m(key)\n\u001B[1;32m-> 5842\u001B[0m     \u001B[38;5;28;01mraise\u001B[39;00m \u001B[38;5;167;01mKeyError\u001B[39;00m(\u001B[38;5;124mf\u001B[39m\u001B[38;5;124m\"\u001B[39m\u001B[38;5;124mNone of [\u001B[39m\u001B[38;5;132;01m{\u001B[39;00mkey\u001B[38;5;132;01m}\u001B[39;00m\u001B[38;5;124m] are in the [\u001B[39m\u001B[38;5;132;01m{\u001B[39;00maxis_name\u001B[38;5;132;01m}\u001B[39;00m\u001B[38;5;124m]\u001B[39m\u001B[38;5;124m\"\u001B[39m)\n\u001B[0;32m   5844\u001B[0m not_found \u001B[38;5;241m=\u001B[39m \u001B[38;5;28mlist\u001B[39m(ensure_index(key)[missing_mask\u001B[38;5;241m.\u001B[39mnonzero()[\u001B[38;5;241m0\u001B[39m]]\u001B[38;5;241m.\u001B[39munique())\n\u001B[0;32m   5845\u001B[0m \u001B[38;5;28;01mraise\u001B[39;00m \u001B[38;5;167;01mKeyError\u001B[39;00m(\u001B[38;5;124mf\u001B[39m\u001B[38;5;124m\"\u001B[39m\u001B[38;5;132;01m{\u001B[39;00mnot_found\u001B[38;5;132;01m}\u001B[39;00m\u001B[38;5;124m not in index\u001B[39m\u001B[38;5;124m\"\u001B[39m)\n",
      "\u001B[1;31mKeyError\u001B[0m: \"None of [Index(['pos_score', 'neg_score', 'fear_score', 'anger_score', 'fear_score',\\n       'sadness_score'],\\n      dtype='object')] are in the [columns]\""
     ]
    }
   ],
   "execution_count": 215
  },
  {
   "metadata": {},
   "cell_type": "markdown",
   "source": "# 3.IVb",
   "id": "5cddd17e8c55e74d"
  },
  {
   "metadata": {},
   "cell_type": "code",
   "source": [
    "X = dataset3[['pos_score', 'neg_score', 'fear_score', 'anger_score', 'fear_score', 'sadness_score']]\n",
    "y = dataset3['like_count'].values\n",
    "\n",
    "X_train, X_test, y_train, y_test = train_test_split(X, y, test_size=0.2, random_state=99)\n",
    "\n",
    "linear_reg = LinearRegression()\n",
    "linear_reg.fit(X_train, y_train)\n",
    "\n",
    "mse_cv = -cross_val_score(linear_reg, X_train, y_train, cv=10, scoring='neg_mean_squared_error')\n",
    "score_cv = cross_val_score(linear_reg, X_train, y_train, cv=10)\n",
    "\n",
    "print(\"Training MSE: %.2f\" % mse_cv.mean())\n",
    "print(\"Training R square: %.6f\" % score_cv.mean())\n",
    "print(\"Testing MSE: %.2f\" % mean_squared_error(y_test, linear_reg.predict(X_test)))\n",
    "print(\"Testing R square: %.6f\" % linear_reg.score(X_test, y_test, sample_weight=None))"
   ],
   "id": "2129b22d513fdeb1",
   "outputs": [],
   "execution_count": null
  },
  {
   "metadata": {},
   "cell_type": "markdown",
   "source": "# 3.V",
   "id": "a7dfc9de642034eb"
  },
  {
   "metadata": {},
   "cell_type": "markdown",
   "source": [
    "Interpret and compare the prediction performance (e.g., mean square error) between the tweet \n",
    "engagement variables (8 points). "
   ],
   "id": "fe8f488a24343d83"
  },
  {
   "metadata": {},
   "cell_type": "markdown",
   "source": "# 3.VI",
   "id": "50eabc54fd072621"
  },
  {
   "metadata": {},
   "cell_type": "code",
   "source": [
    "X = dataset2[['pos_score', 'neg_score', 'fear_score', 'anger_score', 'fear_score', 'sadness_score',\n",
    "              'user_follower_count','user_like_count', 'user_friend_count', 'user_media_count',\n",
    "              'user_post_count', 'user_list_count' , 'user_verified', 'user_default_profile', \n",
    "              'user_account_type', 'user_account_age']]\n",
    "y = dataset2['reply_count'].values\n",
    "\n",
    "X_train, X_test, y_train, y_test = train_test_split(X, y, test_size=0.2, random_state=99)\n",
    "\n",
    "linear_reg = LinearRegression()\n",
    "linear_reg.fit(X_train, y_train)\n",
    "\n",
    "mse_cv = -cross_val_score(linear_reg, X_train, y_train, cv=10, scoring='neg_mean_squared_error')\n",
    "score_cv = cross_val_score(linear_reg, X_train, y_train, cv=10)\n",
    "\n",
    "print(\"Training MSE: %.2f\" % mse_cv.mean())\n",
    "print(\"Training R square: %.6f\" % score_cv.mean())\n",
    "print(\"Testing MSE: %.2f\" % mean_squared_error(y_test, linear_reg.predict(X_test)))\n",
    "print(\"Testing R square: %.6f\" % linear_reg.score(X_test, y_test, sample_weight=None))"
   ],
   "id": "e86d857f3040f007",
   "outputs": [],
   "execution_count": null
  },
  {
   "metadata": {},
   "cell_type": "code",
   "source": [
    "X = dataset3[['pos_score', 'neg_score', 'fear_score', 'anger_score', 'fear_score', 'sadness_score',\n",
    "              'user_follower_count','user_like_count', 'user_friend_count', 'user_media_count',\n",
    "              'user_post_count', 'user_list_count' , 'user_verified', 'user_default_profile',\n",
    "              'user_account_type', 'user_account_age']]\n",
    "y = dataset3['like_count'].values\n",
    "\n",
    "X_train, X_test, y_train, y_test = train_test_split(X, y, test_size=0.2, random_state=99)\n",
    "\n",
    "linear_reg = LinearRegression()\n",
    "linear_reg.fit(X_train, y_train)\n",
    "\n",
    "mse_cv = -cross_val_score(linear_reg, X_train, y_train, cv=10, scoring='neg_mean_squared_error')\n",
    "score_cv = cross_val_score(linear_reg, X_train, y_train, cv=10)\n",
    "\n",
    "print(\"Training MSE: %.2f\" % mse_cv.mean())\n",
    "print(\"Training R square: %.6f\" % score_cv.mean())\n",
    "print(\"Testing MSE: %.2f\" % mean_squared_error(y_test, linear_reg.predict(X_test)))\n",
    "print(\"Testing R square: %.6f\" % linear_reg.score(X_test, y_test, sample_weight=None))"
   ],
   "id": "5490634bb04ef201",
   "outputs": [],
   "execution_count": null
  },
  {
   "metadata": {},
   "cell_type": "markdown",
   "source": "# 3.VII",
   "id": "8b61fe337f66a087"
  },
  {
   "metadata": {},
   "cell_type": "markdown",
   "source": [
    "Interpret and compare the prediction performance (e.g., mean square error) between the tweet \n",
    "engagement variables (6 points). Do you think sentiments and emotions have value in predicting \n",
    "users’ engagement with tweets (1 point)? "
   ],
   "id": "bf72e2a575e708e1"
  },
  {
   "metadata": {},
   "cell_type": "code",
   "source": "",
   "id": "27356c8a006c6b46",
   "outputs": [],
   "execution_count": null
  }
 ],
 "metadata": {
  "kernelspec": {
   "display_name": "Python 3 (ipykernel)",
   "language": "python",
   "name": "python3"
  },
  "language_info": {
   "codemirror_mode": {
    "name": "ipython",
    "version": 3
   },
   "file_extension": ".py",
   "mimetype": "text/x-python",
   "name": "python",
   "nbconvert_exporter": "python",
   "pygments_lexer": "ipython3",
   "version": "3.9.10"
  }
 },
 "nbformat": 4,
 "nbformat_minor": 5
}
