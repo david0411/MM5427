{
 "cells": [
  {
   "cell_type": "markdown",
   "id": "dc2edc95",
   "metadata": {},
   "source": [
    "# Model Evaluation and Overfitting "
   ]
  },
  {
   "cell_type": "code",
   "execution_count": 1,
   "id": "2b1ea26f",
   "metadata": {},
   "outputs": [],
   "source": [
    "# import libraries\n",
    "import numpy as np\n",
    "import pandas as pd"
   ]
  },
  {
   "cell_type": "markdown",
   "id": "8f11d54d",
   "metadata": {},
   "source": [
    "## Review: Decision Tree Classification"
   ]
  },
  {
   "cell_type": "code",
   "execution_count": 2,
   "id": "3411fef4",
   "metadata": {},
   "outputs": [],
   "source": [
    "# load training dataset (the supermarket dataset after data processing)\n",
    "df = pd.read_csv('supermarket_new.csv')"
   ]
  },
  {
   "cell_type": "code",
   "execution_count": 3,
   "id": "215eaa03",
   "metadata": {},
   "outputs": [
    {
     "data": {
      "text/plain": [
       "(1000, 22)"
      ]
     },
     "execution_count": 3,
     "metadata": {},
     "output_type": "execute_result"
    }
   ],
   "source": [
    "df.shape"
   ]
  },
  {
   "cell_type": "code",
   "execution_count": 5,
   "id": "e5b13930",
   "metadata": {},
   "outputs": [
    {
     "data": {
      "text/html": [
       "<div>\n",
       "<style scoped>\n",
       "    .dataframe tbody tr th:only-of-type {\n",
       "        vertical-align: middle;\n",
       "    }\n",
       "\n",
       "    .dataframe tbody tr th {\n",
       "        vertical-align: top;\n",
       "    }\n",
       "\n",
       "    .dataframe thead th {\n",
       "        text-align: right;\n",
       "    }\n",
       "</style>\n",
       "<table border=\"1\" class=\"dataframe\">\n",
       "  <thead>\n",
       "    <tr style=\"text-align: right;\">\n",
       "      <th></th>\n",
       "      <th>Invoice ID</th>\n",
       "      <th>Branch</th>\n",
       "      <th>City</th>\n",
       "      <th>Customer type</th>\n",
       "      <th>Gender</th>\n",
       "      <th>Product line</th>\n",
       "      <th>Unit price</th>\n",
       "      <th>Quantity</th>\n",
       "      <th>Tax 5%</th>\n",
       "      <th>Total</th>\n",
       "      <th>...</th>\n",
       "      <th>Payment</th>\n",
       "      <th>cogs</th>\n",
       "      <th>gross margin percentage</th>\n",
       "      <th>gross income</th>\n",
       "      <th>Rating</th>\n",
       "      <th>Female</th>\n",
       "      <th>Male</th>\n",
       "      <th>Cash</th>\n",
       "      <th>Credit card</th>\n",
       "      <th>Ewallet</th>\n",
       "    </tr>\n",
       "  </thead>\n",
       "  <tbody>\n",
       "    <tr>\n",
       "      <th>0</th>\n",
       "      <td>750-67-8428</td>\n",
       "      <td>A</td>\n",
       "      <td>Yangon</td>\n",
       "      <td>Member</td>\n",
       "      <td>Female</td>\n",
       "      <td>Health and beauty</td>\n",
       "      <td>74.69</td>\n",
       "      <td>7</td>\n",
       "      <td>26.1415</td>\n",
       "      <td>548.9715</td>\n",
       "      <td>...</td>\n",
       "      <td>Ewallet</td>\n",
       "      <td>522.83</td>\n",
       "      <td>4.761905</td>\n",
       "      <td>26.1415</td>\n",
       "      <td>9.1</td>\n",
       "      <td>1</td>\n",
       "      <td>0</td>\n",
       "      <td>0</td>\n",
       "      <td>0</td>\n",
       "      <td>1</td>\n",
       "    </tr>\n",
       "    <tr>\n",
       "      <th>1</th>\n",
       "      <td>226-31-3081</td>\n",
       "      <td>C</td>\n",
       "      <td>Naypyitaw</td>\n",
       "      <td>Normal</td>\n",
       "      <td>Female</td>\n",
       "      <td>Electronic accessories</td>\n",
       "      <td>15.28</td>\n",
       "      <td>5</td>\n",
       "      <td>3.8200</td>\n",
       "      <td>80.2200</td>\n",
       "      <td>...</td>\n",
       "      <td>Cash</td>\n",
       "      <td>76.40</td>\n",
       "      <td>4.761905</td>\n",
       "      <td>3.8200</td>\n",
       "      <td>9.6</td>\n",
       "      <td>1</td>\n",
       "      <td>0</td>\n",
       "      <td>1</td>\n",
       "      <td>0</td>\n",
       "      <td>0</td>\n",
       "    </tr>\n",
       "    <tr>\n",
       "      <th>2</th>\n",
       "      <td>631-41-3108</td>\n",
       "      <td>A</td>\n",
       "      <td>Yangon</td>\n",
       "      <td>Normal</td>\n",
       "      <td>Male</td>\n",
       "      <td>Home and lifestyle</td>\n",
       "      <td>46.33</td>\n",
       "      <td>7</td>\n",
       "      <td>16.2155</td>\n",
       "      <td>340.5255</td>\n",
       "      <td>...</td>\n",
       "      <td>Credit card</td>\n",
       "      <td>324.31</td>\n",
       "      <td>4.761905</td>\n",
       "      <td>16.2155</td>\n",
       "      <td>7.4</td>\n",
       "      <td>0</td>\n",
       "      <td>1</td>\n",
       "      <td>0</td>\n",
       "      <td>1</td>\n",
       "      <td>0</td>\n",
       "    </tr>\n",
       "    <tr>\n",
       "      <th>3</th>\n",
       "      <td>123-19-1176</td>\n",
       "      <td>A</td>\n",
       "      <td>Yangon</td>\n",
       "      <td>Member</td>\n",
       "      <td>Male</td>\n",
       "      <td>Health and beauty</td>\n",
       "      <td>58.22</td>\n",
       "      <td>8</td>\n",
       "      <td>23.2880</td>\n",
       "      <td>489.0480</td>\n",
       "      <td>...</td>\n",
       "      <td>Ewallet</td>\n",
       "      <td>465.76</td>\n",
       "      <td>4.761905</td>\n",
       "      <td>23.2880</td>\n",
       "      <td>8.4</td>\n",
       "      <td>0</td>\n",
       "      <td>1</td>\n",
       "      <td>0</td>\n",
       "      <td>0</td>\n",
       "      <td>1</td>\n",
       "    </tr>\n",
       "    <tr>\n",
       "      <th>4</th>\n",
       "      <td>373-73-7910</td>\n",
       "      <td>A</td>\n",
       "      <td>Yangon</td>\n",
       "      <td>Normal</td>\n",
       "      <td>Male</td>\n",
       "      <td>Sports and travel</td>\n",
       "      <td>86.31</td>\n",
       "      <td>7</td>\n",
       "      <td>30.2085</td>\n",
       "      <td>634.3785</td>\n",
       "      <td>...</td>\n",
       "      <td>Ewallet</td>\n",
       "      <td>604.17</td>\n",
       "      <td>4.761905</td>\n",
       "      <td>30.2085</td>\n",
       "      <td>5.3</td>\n",
       "      <td>0</td>\n",
       "      <td>1</td>\n",
       "      <td>0</td>\n",
       "      <td>0</td>\n",
       "      <td>1</td>\n",
       "    </tr>\n",
       "  </tbody>\n",
       "</table>\n",
       "<p>5 rows × 22 columns</p>\n",
       "</div>"
      ],
      "text/plain": [
       "    Invoice ID Branch       City Customer type  Gender  \\\n",
       "0  750-67-8428      A     Yangon        Member  Female   \n",
       "1  226-31-3081      C  Naypyitaw        Normal  Female   \n",
       "2  631-41-3108      A     Yangon        Normal    Male   \n",
       "3  123-19-1176      A     Yangon        Member    Male   \n",
       "4  373-73-7910      A     Yangon        Normal    Male   \n",
       "\n",
       "             Product line  Unit price  Quantity   Tax 5%     Total  ...  \\\n",
       "0       Health and beauty       74.69         7  26.1415  548.9715  ...   \n",
       "1  Electronic accessories       15.28         5   3.8200   80.2200  ...   \n",
       "2      Home and lifestyle       46.33         7  16.2155  340.5255  ...   \n",
       "3       Health and beauty       58.22         8  23.2880  489.0480  ...   \n",
       "4       Sports and travel       86.31         7  30.2085  634.3785  ...   \n",
       "\n",
       "       Payment    cogs gross margin percentage  gross income  Rating  Female  \\\n",
       "0      Ewallet  522.83                4.761905       26.1415     9.1       1   \n",
       "1         Cash   76.40                4.761905        3.8200     9.6       1   \n",
       "2  Credit card  324.31                4.761905       16.2155     7.4       0   \n",
       "3      Ewallet  465.76                4.761905       23.2880     8.4       0   \n",
       "4      Ewallet  604.17                4.761905       30.2085     5.3       0   \n",
       "\n",
       "   Male  Cash  Credit card  Ewallet  \n",
       "0     0     0            0        1  \n",
       "1     0     1            0        0  \n",
       "2     1     0            1        0  \n",
       "3     1     0            0        1  \n",
       "4     1     0            0        1  \n",
       "\n",
       "[5 rows x 22 columns]"
      ]
     },
     "execution_count": 5,
     "metadata": {},
     "output_type": "execute_result"
    }
   ],
   "source": [
    "df.head()"
   ]
  },
  {
   "cell_type": "code",
   "execution_count": 6,
   "id": "d7ee436c",
   "metadata": {},
   "outputs": [],
   "source": [
    "# define independent variables / attributes / features\n",
    "features = ['Quantity','Female', 'Cash','Credit card'] "
   ]
  },
  {
   "cell_type": "code",
   "execution_count": 7,
   "id": "14fdfcce",
   "metadata": {},
   "outputs": [],
   "source": [
    "# define target variable\n",
    "target = ['Customer type']"
   ]
  },
  {
   "cell_type": "code",
   "execution_count": 8,
   "id": "a5ba6d4e",
   "metadata": {},
   "outputs": [],
   "source": [
    "# get defined dataset\n",
    "X = df [features]\n",
    "y = df [target]"
   ]
  },
  {
   "cell_type": "code",
   "execution_count": 9,
   "id": "11f62d78",
   "metadata": {},
   "outputs": [],
   "source": [
    "# randomly split data into 70% and 30%, put 30% in testing\n",
    "from sklearn.model_selection import train_test_split\n",
    "X_train, X_test, y_train, y_test = train_test_split(X, y, test_size=0.3, random_state = 10)"
   ]
  },
  {
   "cell_type": "code",
   "execution_count": 10,
   "id": "503ab54b",
   "metadata": {},
   "outputs": [],
   "source": [
    "# import DecisionTreeClassifier and define full-grown tree model\n",
    "from sklearn.tree import DecisionTreeClassifier\n",
    "fullmodel = DecisionTreeClassifier(criterion='entropy')"
   ]
  },
  {
   "cell_type": "code",
   "execution_count": 11,
   "id": "b41c8933",
   "metadata": {},
   "outputs": [
    {
     "data": {
      "text/html": [
       "<style>#sk-container-id-1 {color: black;background-color: white;}#sk-container-id-1 pre{padding: 0;}#sk-container-id-1 div.sk-toggleable {background-color: white;}#sk-container-id-1 label.sk-toggleable__label {cursor: pointer;display: block;width: 100%;margin-bottom: 0;padding: 0.3em;box-sizing: border-box;text-align: center;}#sk-container-id-1 label.sk-toggleable__label-arrow:before {content: \"▸\";float: left;margin-right: 0.25em;color: #696969;}#sk-container-id-1 label.sk-toggleable__label-arrow:hover:before {color: black;}#sk-container-id-1 div.sk-estimator:hover label.sk-toggleable__label-arrow:before {color: black;}#sk-container-id-1 div.sk-toggleable__content {max-height: 0;max-width: 0;overflow: hidden;text-align: left;background-color: #f0f8ff;}#sk-container-id-1 div.sk-toggleable__content pre {margin: 0.2em;color: black;border-radius: 0.25em;background-color: #f0f8ff;}#sk-container-id-1 input.sk-toggleable__control:checked~div.sk-toggleable__content {max-height: 200px;max-width: 100%;overflow: auto;}#sk-container-id-1 input.sk-toggleable__control:checked~label.sk-toggleable__label-arrow:before {content: \"▾\";}#sk-container-id-1 div.sk-estimator input.sk-toggleable__control:checked~label.sk-toggleable__label {background-color: #d4ebff;}#sk-container-id-1 div.sk-label input.sk-toggleable__control:checked~label.sk-toggleable__label {background-color: #d4ebff;}#sk-container-id-1 input.sk-hidden--visually {border: 0;clip: rect(1px 1px 1px 1px);clip: rect(1px, 1px, 1px, 1px);height: 1px;margin: -1px;overflow: hidden;padding: 0;position: absolute;width: 1px;}#sk-container-id-1 div.sk-estimator {font-family: monospace;background-color: #f0f8ff;border: 1px dotted black;border-radius: 0.25em;box-sizing: border-box;margin-bottom: 0.5em;}#sk-container-id-1 div.sk-estimator:hover {background-color: #d4ebff;}#sk-container-id-1 div.sk-parallel-item::after {content: \"\";width: 100%;border-bottom: 1px solid gray;flex-grow: 1;}#sk-container-id-1 div.sk-label:hover label.sk-toggleable__label {background-color: #d4ebff;}#sk-container-id-1 div.sk-serial::before {content: \"\";position: absolute;border-left: 1px solid gray;box-sizing: border-box;top: 0;bottom: 0;left: 50%;z-index: 0;}#sk-container-id-1 div.sk-serial {display: flex;flex-direction: column;align-items: center;background-color: white;padding-right: 0.2em;padding-left: 0.2em;position: relative;}#sk-container-id-1 div.sk-item {position: relative;z-index: 1;}#sk-container-id-1 div.sk-parallel {display: flex;align-items: stretch;justify-content: center;background-color: white;position: relative;}#sk-container-id-1 div.sk-item::before, #sk-container-id-1 div.sk-parallel-item::before {content: \"\";position: absolute;border-left: 1px solid gray;box-sizing: border-box;top: 0;bottom: 0;left: 50%;z-index: -1;}#sk-container-id-1 div.sk-parallel-item {display: flex;flex-direction: column;z-index: 1;position: relative;background-color: white;}#sk-container-id-1 div.sk-parallel-item:first-child::after {align-self: flex-end;width: 50%;}#sk-container-id-1 div.sk-parallel-item:last-child::after {align-self: flex-start;width: 50%;}#sk-container-id-1 div.sk-parallel-item:only-child::after {width: 0;}#sk-container-id-1 div.sk-dashed-wrapped {border: 1px dashed gray;margin: 0 0.4em 0.5em 0.4em;box-sizing: border-box;padding-bottom: 0.4em;background-color: white;}#sk-container-id-1 div.sk-label label {font-family: monospace;font-weight: bold;display: inline-block;line-height: 1.2em;}#sk-container-id-1 div.sk-label-container {text-align: center;}#sk-container-id-1 div.sk-container {/* jupyter's `normalize.less` sets `[hidden] { display: none; }` but bootstrap.min.css set `[hidden] { display: none !important; }` so we also need the `!important` here to be able to override the default hidden behavior on the sphinx rendered scikit-learn.org. See: https://github.com/scikit-learn/scikit-learn/issues/21755 */display: inline-block !important;position: relative;}#sk-container-id-1 div.sk-text-repr-fallback {display: none;}</style><div id=\"sk-container-id-1\" class=\"sk-top-container\"><div class=\"sk-text-repr-fallback\"><pre>DecisionTreeClassifier(criterion=&#x27;entropy&#x27;)</pre><b>In a Jupyter environment, please rerun this cell to show the HTML representation or trust the notebook. <br />On GitHub, the HTML representation is unable to render, please try loading this page with nbviewer.org.</b></div><div class=\"sk-container\" hidden><div class=\"sk-item\"><div class=\"sk-estimator sk-toggleable\"><input class=\"sk-toggleable__control sk-hidden--visually\" id=\"sk-estimator-id-1\" type=\"checkbox\" checked><label for=\"sk-estimator-id-1\" class=\"sk-toggleable__label sk-toggleable__label-arrow\">DecisionTreeClassifier</label><div class=\"sk-toggleable__content\"><pre>DecisionTreeClassifier(criterion=&#x27;entropy&#x27;)</pre></div></div></div></div></div>"
      ],
      "text/plain": [
       "DecisionTreeClassifier(criterion='entropy')"
      ]
     },
     "execution_count": 11,
     "metadata": {},
     "output_type": "execute_result"
    }
   ],
   "source": [
    "# fit the model by 70% training data\n",
    "fullmodel.fit(X_train, y_train)"
   ]
  },
  {
   "cell_type": "code",
   "execution_count": 12,
   "id": "ced6343f",
   "metadata": {},
   "outputs": [
    {
     "data": {
      "text/plain": [
       "array(['Normal', 'Normal', 'Normal', 'Normal', 'Member', 'Member',\n",
       "       'Member', 'Normal', 'Member', 'Member', 'Member', 'Member',\n",
       "       'Member', 'Normal', 'Normal', 'Member', 'Normal', 'Normal',\n",
       "       'Member', 'Member', 'Normal', 'Member', 'Member', 'Member',\n",
       "       'Normal', 'Member', 'Member', 'Member', 'Member', 'Member',\n",
       "       'Normal', 'Normal', 'Member', 'Normal', 'Member', 'Member',\n",
       "       'Member', 'Normal', 'Normal', 'Member', 'Member', 'Member',\n",
       "       'Member', 'Normal', 'Normal', 'Normal', 'Member', 'Member',\n",
       "       'Member', 'Member', 'Member', 'Member', 'Normal', 'Member',\n",
       "       'Normal', 'Normal', 'Normal', 'Normal', 'Member', 'Normal',\n",
       "       'Member', 'Normal', 'Normal', 'Normal', 'Member', 'Member',\n",
       "       'Normal', 'Member', 'Member', 'Normal', 'Member', 'Normal',\n",
       "       'Member', 'Member', 'Member', 'Member', 'Normal', 'Member',\n",
       "       'Normal', 'Member', 'Normal', 'Normal', 'Member', 'Member',\n",
       "       'Member', 'Member', 'Member', 'Normal', 'Member', 'Member',\n",
       "       'Normal', 'Normal', 'Member', 'Normal', 'Normal', 'Normal',\n",
       "       'Normal', 'Normal', 'Normal', 'Member', 'Member', 'Member',\n",
       "       'Normal', 'Normal', 'Normal', 'Normal', 'Member', 'Normal',\n",
       "       'Normal', 'Normal', 'Member', 'Normal', 'Member', 'Normal',\n",
       "       'Normal', 'Normal', 'Normal', 'Normal', 'Member', 'Normal',\n",
       "       'Member', 'Normal', 'Normal', 'Member', 'Normal', 'Normal',\n",
       "       'Member', 'Normal', 'Member', 'Normal', 'Member', 'Member',\n",
       "       'Member', 'Member', 'Member', 'Member', 'Member', 'Member',\n",
       "       'Normal', 'Member', 'Normal', 'Member', 'Member', 'Member',\n",
       "       'Member', 'Member', 'Normal', 'Normal', 'Member', 'Member',\n",
       "       'Normal', 'Member', 'Member', 'Normal', 'Normal', 'Member',\n",
       "       'Member', 'Member', 'Normal', 'Member', 'Member', 'Normal',\n",
       "       'Normal', 'Member', 'Member', 'Member', 'Normal', 'Member',\n",
       "       'Member', 'Member', 'Member', 'Member', 'Member', 'Member',\n",
       "       'Member', 'Normal', 'Normal', 'Member', 'Member', 'Normal',\n",
       "       'Member', 'Member', 'Normal', 'Member', 'Normal', 'Normal',\n",
       "       'Normal', 'Normal', 'Normal', 'Member', 'Normal', 'Member',\n",
       "       'Member', 'Member', 'Member', 'Member', 'Normal', 'Member',\n",
       "       'Normal', 'Member', 'Normal', 'Member', 'Member', 'Normal',\n",
       "       'Normal', 'Member', 'Member', 'Normal', 'Normal', 'Normal',\n",
       "       'Member', 'Normal', 'Member', 'Member', 'Member', 'Normal',\n",
       "       'Member', 'Member', 'Member', 'Member', 'Member', 'Member',\n",
       "       'Member', 'Member', 'Member', 'Normal', 'Member', 'Member',\n",
       "       'Member', 'Normal', 'Member', 'Member', 'Member', 'Member',\n",
       "       'Member', 'Member', 'Normal', 'Member', 'Member', 'Normal',\n",
       "       'Member', 'Member', 'Member', 'Normal', 'Member', 'Member',\n",
       "       'Member', 'Member', 'Member', 'Member', 'Normal', 'Normal',\n",
       "       'Normal', 'Normal', 'Normal', 'Member', 'Member', 'Member',\n",
       "       'Member', 'Member', 'Member', 'Member', 'Normal', 'Normal',\n",
       "       'Member', 'Normal', 'Normal', 'Member', 'Member', 'Normal',\n",
       "       'Member', 'Normal', 'Member', 'Normal', 'Normal', 'Member',\n",
       "       'Normal', 'Member', 'Normal', 'Normal', 'Normal', 'Member',\n",
       "       'Member', 'Normal', 'Member', 'Normal', 'Member', 'Normal',\n",
       "       'Member', 'Normal', 'Member', 'Normal', 'Member', 'Normal',\n",
       "       'Member', 'Member', 'Normal', 'Normal', 'Member', 'Normal'],\n",
       "      dtype=object)"
      ]
     },
     "execution_count": 12,
     "metadata": {},
     "output_type": "execute_result"
    }
   ],
   "source": [
    "# test model using testing data\n",
    "y_pred = fullmodel.predict(X_test)\n",
    "y_pred"
   ]
  },
  {
   "cell_type": "markdown",
   "id": "ebeaf575",
   "metadata": {},
   "source": [
    "## Model Evaluation"
   ]
  },
  {
   "cell_type": "code",
   "execution_count": 13,
   "id": "de205802",
   "metadata": {},
   "outputs": [],
   "source": [
    "# import evaluation functions from sklearn\n",
    "from sklearn.metrics import accuracy_score\n",
    "from sklearn.metrics import confusion_matrix\n",
    "from sklearn.metrics import classification_report"
   ]
  },
  {
   "cell_type": "markdown",
   "id": "1603025d",
   "metadata": {},
   "source": [
    "### Accuracy"
   ]
  },
  {
   "cell_type": "code",
   "execution_count": 14,
   "id": "dca71a19",
   "metadata": {},
   "outputs": [
    {
     "name": "stdout",
     "output_type": "stream",
     "text": [
      "Accuracy of testing data: 0.49666666666666665\n"
     ]
    }
   ],
   "source": [
    "# accuracy of testing data\n",
    "# normalize=True (by default) returns the fraction of correctly classified samples\n",
    "# Otherwise, return the numbers\n",
    "\n",
    "print(\"Accuracy of testing data:\",accuracy_score(y_test, y_pred, normalize=True))"
   ]
  },
  {
   "cell_type": "code",
   "execution_count": 15,
   "id": "28afa86e",
   "metadata": {},
   "outputs": [
    {
     "name": "stdout",
     "output_type": "stream",
     "text": [
      "Accuracy of testing data: 149\n"
     ]
    }
   ],
   "source": [
    "print(\"Accuracy of testing data:\",accuracy_score(y_test, y_pred, normalize=False))"
   ]
  },
  {
   "cell_type": "code",
   "execution_count": 68,
   "id": "9cc13820-da32-401c-a0db-309fd263de44",
   "metadata": {},
   "outputs": [
    {
     "data": {
      "text/plain": [
       "0.49666666666666665"
      ]
     },
     "execution_count": 68,
     "metadata": {},
     "output_type": "execute_result"
    }
   ],
   "source": [
    "149/300"
   ]
  },
  {
   "cell_type": "code",
   "execution_count": 18,
   "id": "6628bbd4",
   "metadata": {},
   "outputs": [],
   "source": [
    "# help(accuracy_score)"
   ]
  },
  {
   "cell_type": "markdown",
   "id": "d1ad97af",
   "metadata": {},
   "source": [
    "### Confusion Matrix"
   ]
  },
  {
   "cell_type": "code",
   "execution_count": 19,
   "id": "f674c880",
   "metadata": {},
   "outputs": [
    {
     "name": "stdout",
     "output_type": "stream",
     "text": [
      "[[86 63]\n",
      " [88 63]]\n"
     ]
    }
   ],
   "source": [
    "print(confusion_matrix(y_test, y_pred))"
   ]
  },
  {
   "cell_type": "code",
   "execution_count": 20,
   "id": "fd4c4605",
   "metadata": {},
   "outputs": [
    {
     "data": {
      "text/plain": [
       "300"
      ]
     },
     "execution_count": 20,
     "metadata": {},
     "output_type": "execute_result"
    }
   ],
   "source": [
    "len(y_test)"
   ]
  },
  {
   "cell_type": "code",
   "execution_count": 21,
   "id": "77aa756c",
   "metadata": {},
   "outputs": [
    {
     "data": {
      "text/plain": [
       "300"
      ]
     },
     "execution_count": 21,
     "metadata": {},
     "output_type": "execute_result"
    }
   ],
   "source": [
    "86+63+88+63"
   ]
  },
  {
   "cell_type": "code",
   "execution_count": 23,
   "id": "9c6dc4ea",
   "metadata": {},
   "outputs": [
    {
     "name": "stdout",
     "output_type": "stream",
     "text": [
      "Help on function confusion_matrix in module sklearn.metrics._classification:\n",
      "\n",
      "confusion_matrix(y_true, y_pred, *, labels=None, sample_weight=None, normalize=None)\n",
      "    Compute confusion matrix to evaluate the accuracy of a classification.\n",
      "    \n",
      "    By definition a confusion matrix :math:`C` is such that :math:`C_{i, j}`\n",
      "    is equal to the number of observations known to be in group :math:`i` and\n",
      "    predicted to be in group :math:`j`.\n",
      "    \n",
      "    Thus in binary classification, the count of true negatives is\n",
      "    :math:`C_{0,0}`, false negatives is :math:`C_{1,0}`, true positives is\n",
      "    :math:`C_{1,1}` and false positives is :math:`C_{0,1}`.\n",
      "    \n",
      "    Read more in the :ref:`User Guide <confusion_matrix>`.\n",
      "    \n",
      "    Parameters\n",
      "    ----------\n",
      "    y_true : array-like of shape (n_samples,)\n",
      "        Ground truth (correct) target values.\n",
      "    \n",
      "    y_pred : array-like of shape (n_samples,)\n",
      "        Estimated targets as returned by a classifier.\n",
      "    \n",
      "    labels : array-like of shape (n_classes), default=None\n",
      "        List of labels to index the matrix. This may be used to reorder\n",
      "        or select a subset of labels.\n",
      "        If ``None`` is given, those that appear at least once\n",
      "        in ``y_true`` or ``y_pred`` are used in sorted order.\n",
      "    \n",
      "    sample_weight : array-like of shape (n_samples,), default=None\n",
      "        Sample weights.\n",
      "    \n",
      "        .. versionadded:: 0.18\n",
      "    \n",
      "    normalize : {'true', 'pred', 'all'}, default=None\n",
      "        Normalizes confusion matrix over the true (rows), predicted (columns)\n",
      "        conditions or all the population. If None, confusion matrix will not be\n",
      "        normalized.\n",
      "    \n",
      "    Returns\n",
      "    -------\n",
      "    C : ndarray of shape (n_classes, n_classes)\n",
      "        Confusion matrix whose i-th row and j-th\n",
      "        column entry indicates the number of\n",
      "        samples with true label being i-th class\n",
      "        and predicted label being j-th class.\n",
      "    \n",
      "    See Also\n",
      "    --------\n",
      "    ConfusionMatrixDisplay.from_estimator : Plot the confusion matrix\n",
      "        given an estimator, the data, and the label.\n",
      "    ConfusionMatrixDisplay.from_predictions : Plot the confusion matrix\n",
      "        given the true and predicted labels.\n",
      "    ConfusionMatrixDisplay : Confusion Matrix visualization.\n",
      "    \n",
      "    References\n",
      "    ----------\n",
      "    .. [1] `Wikipedia entry for the Confusion matrix\n",
      "           <https://en.wikipedia.org/wiki/Confusion_matrix>`_\n",
      "           (Wikipedia and other references may use a different\n",
      "           convention for axes).\n",
      "    \n",
      "    Examples\n",
      "    --------\n",
      "    >>> from sklearn.metrics import confusion_matrix\n",
      "    >>> y_true = [2, 0, 2, 2, 0, 1]\n",
      "    >>> y_pred = [0, 0, 2, 2, 0, 2]\n",
      "    >>> confusion_matrix(y_true, y_pred)\n",
      "    array([[2, 0, 0],\n",
      "           [0, 0, 1],\n",
      "           [1, 0, 2]])\n",
      "    \n",
      "    >>> y_true = [\"cat\", \"ant\", \"cat\", \"cat\", \"ant\", \"bird\"]\n",
      "    >>> y_pred = [\"ant\", \"ant\", \"cat\", \"cat\", \"ant\", \"cat\"]\n",
      "    >>> confusion_matrix(y_true, y_pred, labels=[\"ant\", \"bird\", \"cat\"])\n",
      "    array([[2, 0, 0],\n",
      "           [0, 0, 1],\n",
      "           [1, 0, 2]])\n",
      "    \n",
      "    In the binary case, we can extract true positives, etc as follows:\n",
      "    \n",
      "    >>> tn, fp, fn, tp = confusion_matrix([0, 1, 0, 1], [1, 1, 1, 0]).ravel()\n",
      "    >>> (tn, fp, fn, tp)\n",
      "    (0, 2, 1, 1)\n",
      "\n"
     ]
    }
   ],
   "source": [
    "help(confusion_matrix)"
   ]
  },
  {
   "cell_type": "code",
   "execution_count": 24,
   "id": "20d254c7",
   "metadata": {},
   "outputs": [
    {
     "data": {
      "text/plain": [
       "(63, 63, 86, 88)"
      ]
     },
     "execution_count": 24,
     "metadata": {},
     "output_type": "execute_result"
    }
   ],
   "source": [
    "# display confusion matrix in a more readable way\n",
    "\n",
    "conf=confusion_matrix(y_test, y_pred)\n",
    "\n",
    "TP = conf[1,1]\n",
    "FP = conf[0,1]\n",
    "TN = conf[0,0]\n",
    "FN = conf[1,0]\n",
    "\n",
    "(TP,FP,TN,FN)"
   ]
  },
  {
   "cell_type": "markdown",
   "id": "12b79cc4",
   "metadata": {},
   "source": [
    "#### Examples to better understand confusion matrix"
   ]
  },
  {
   "cell_type": "code",
   "execution_count": 25,
   "id": "ec86157f",
   "metadata": {},
   "outputs": [
    {
     "data": {
      "text/html": [
       "<div>\n",
       "<style scoped>\n",
       "    .dataframe tbody tr th:only-of-type {\n",
       "        vertical-align: middle;\n",
       "    }\n",
       "\n",
       "    .dataframe tbody tr th {\n",
       "        vertical-align: top;\n",
       "    }\n",
       "\n",
       "    .dataframe thead th {\n",
       "        text-align: right;\n",
       "    }\n",
       "</style>\n",
       "<table border=\"1\" class=\"dataframe\">\n",
       "  <thead>\n",
       "    <tr style=\"text-align: right;\">\n",
       "      <th></th>\n",
       "      <th>Actual</th>\n",
       "      <th>Predicted</th>\n",
       "    </tr>\n",
       "  </thead>\n",
       "  <tbody>\n",
       "    <tr>\n",
       "      <th>0</th>\n",
       "      <td>0</td>\n",
       "      <td>1</td>\n",
       "    </tr>\n",
       "    <tr>\n",
       "      <th>1</th>\n",
       "      <td>1</td>\n",
       "      <td>1</td>\n",
       "    </tr>\n",
       "    <tr>\n",
       "      <th>2</th>\n",
       "      <td>0</td>\n",
       "      <td>1</td>\n",
       "    </tr>\n",
       "    <tr>\n",
       "      <th>3</th>\n",
       "      <td>1</td>\n",
       "      <td>0</td>\n",
       "    </tr>\n",
       "  </tbody>\n",
       "</table>\n",
       "</div>"
      ],
      "text/plain": [
       "   Actual  Predicted\n",
       "0       0          1\n",
       "1       1          1\n",
       "2       0          1\n",
       "3       1          0"
      ]
     },
     "execution_count": 25,
     "metadata": {},
     "output_type": "execute_result"
    }
   ],
   "source": [
    "d= {'Actual': [0, 1, 0, 1], 'Predicted': [1, 1, 1, 0]}\n",
    "pd.DataFrame(d, columns=['Actual','Predicted'])"
   ]
  },
  {
   "cell_type": "code",
   "execution_count": 26,
   "id": "3dd0d26c",
   "metadata": {},
   "outputs": [
    {
     "data": {
      "text/plain": [
       "array([[0, 2],\n",
       "       [1, 1]])"
      ]
     },
     "execution_count": 26,
     "metadata": {},
     "output_type": "execute_result"
    }
   ],
   "source": [
    "confusion_matrix([0, 1, 0, 1], [1, 1, 1, 0])"
   ]
  },
  {
   "cell_type": "markdown",
   "id": "b98d5151",
   "metadata": {},
   "source": [
    "### Classification Report"
   ]
  },
  {
   "cell_type": "code",
   "execution_count": 27,
   "id": "2c292822",
   "metadata": {},
   "outputs": [
    {
     "name": "stdout",
     "output_type": "stream",
     "text": [
      "              precision    recall  f1-score   support\n",
      "\n",
      "      Member       0.49      0.58      0.53       149\n",
      "      Normal       0.50      0.42      0.45       151\n",
      "\n",
      "    accuracy                           0.50       300\n",
      "   macro avg       0.50      0.50      0.49       300\n",
      "weighted avg       0.50      0.50      0.49       300\n",
      "\n"
     ]
    }
   ],
   "source": [
    "# precision, recall, f1-score\n",
    "print(classification_report(y_test, y_pred))"
   ]
  },
  {
   "cell_type": "code",
   "execution_count": 28,
   "id": "17454078",
   "metadata": {},
   "outputs": [
    {
     "data": {
      "text/plain": [
       "0.5"
      ]
     },
     "execution_count": 28,
     "metadata": {},
     "output_type": "execute_result"
    }
   ],
   "source": [
    "# precision of Normal TP/(TP+FP)\n",
    "63/(63+63)"
   ]
  },
  {
   "cell_type": "code",
   "execution_count": 29,
   "id": "9a88c8e9",
   "metadata": {},
   "outputs": [
    {
     "data": {
      "text/plain": [
       "0.4942528735632184"
      ]
     },
     "execution_count": 29,
     "metadata": {},
     "output_type": "execute_result"
    }
   ],
   "source": [
    "# precision of Member TN/(TN+FN) \n",
    "86/(86+88)"
   ]
  },
  {
   "cell_type": "code",
   "execution_count": 30,
   "id": "dd908ed7",
   "metadata": {},
   "outputs": [],
   "source": [
    "# help(classification_report)"
   ]
  },
  {
   "cell_type": "code",
   "execution_count": 31,
   "id": "7d30d47e",
   "metadata": {},
   "outputs": [
    {
     "data": {
      "text/html": [
       "<div>\n",
       "<style scoped>\n",
       "    .dataframe tbody tr th:only-of-type {\n",
       "        vertical-align: middle;\n",
       "    }\n",
       "\n",
       "    .dataframe tbody tr th {\n",
       "        vertical-align: top;\n",
       "    }\n",
       "\n",
       "    .dataframe thead th {\n",
       "        text-align: right;\n",
       "    }\n",
       "</style>\n",
       "<table border=\"1\" class=\"dataframe\">\n",
       "  <thead>\n",
       "    <tr style=\"text-align: right;\">\n",
       "      <th></th>\n",
       "      <th>Customer type</th>\n",
       "    </tr>\n",
       "  </thead>\n",
       "  <tbody>\n",
       "    <tr>\n",
       "      <th>742</th>\n",
       "      <td>Member</td>\n",
       "    </tr>\n",
       "    <tr>\n",
       "      <th>676</th>\n",
       "      <td>Member</td>\n",
       "    </tr>\n",
       "    <tr>\n",
       "      <th>571</th>\n",
       "      <td>Member</td>\n",
       "    </tr>\n",
       "    <tr>\n",
       "      <th>99</th>\n",
       "      <td>Normal</td>\n",
       "    </tr>\n",
       "    <tr>\n",
       "      <th>78</th>\n",
       "      <td>Member</td>\n",
       "    </tr>\n",
       "  </tbody>\n",
       "</table>\n",
       "</div>"
      ],
      "text/plain": [
       "    Customer type\n",
       "742        Member\n",
       "676        Member\n",
       "571        Member\n",
       "99         Normal\n",
       "78         Member"
      ]
     },
     "execution_count": 31,
     "metadata": {},
     "output_type": "execute_result"
    }
   ],
   "source": [
    "y_train.head()"
   ]
  },
  {
   "cell_type": "code",
   "execution_count": 32,
   "id": "22917e2e",
   "metadata": {},
   "outputs": [
    {
     "data": {
      "text/plain": [
       "['Member', 'Normal']"
      ]
     },
     "execution_count": 32,
     "metadata": {},
     "output_type": "execute_result"
    }
   ],
   "source": [
    "target_names = y_train['Customer type'].unique().tolist()\n",
    "target_names"
   ]
  },
  {
   "cell_type": "code",
   "execution_count": 33,
   "id": "df2523d3",
   "metadata": {},
   "outputs": [
    {
     "data": {
      "text/plain": [
       "Normal    151\n",
       "Member    149\n",
       "Name: Customer type, dtype: int64"
      ]
     },
     "execution_count": 33,
     "metadata": {},
     "output_type": "execute_result"
    }
   ],
   "source": [
    "# y_test.value_counts()\n",
    "y_test['Customer type'].value_counts()"
   ]
  },
  {
   "cell_type": "markdown",
   "id": "3a342d3c",
   "metadata": {},
   "source": [
    "## Overfitting"
   ]
  },
  {
   "cell_type": "code",
   "execution_count": 34,
   "id": "40d075d8",
   "metadata": {},
   "outputs": [
    {
     "name": "stdout",
     "output_type": "stream",
     "text": [
      "Accuracy of testing data: 0.49666666666666665\n"
     ]
    }
   ],
   "source": [
    "print(\"Accuracy of testing data:\",accuracy_score(y_test, y_pred, normalize=True))"
   ]
  },
  {
   "cell_type": "code",
   "execution_count": 35,
   "id": "7edc1fc3",
   "metadata": {},
   "outputs": [],
   "source": [
    "y_pred_train = fullmodel.predict(X_train)"
   ]
  },
  {
   "cell_type": "code",
   "execution_count": 36,
   "id": "fe82c3f6",
   "metadata": {},
   "outputs": [
    {
     "name": "stdout",
     "output_type": "stream",
     "text": [
      "Accuracy of training data: 0.62\n"
     ]
    }
   ],
   "source": [
    "print(\"Accuracy of training data:\",accuracy_score(y_train, y_pred_train, normalize=True))"
   ]
  },
  {
   "cell_type": "markdown",
   "id": "03d8beca",
   "metadata": {},
   "source": [
    "## Tune Parameters: Depth"
   ]
  },
  {
   "cell_type": "code",
   "execution_count": 37,
   "id": "85976815",
   "metadata": {},
   "outputs": [
    {
     "data": {
      "text/html": [
       "<style>#sk-container-id-2 {color: black;background-color: white;}#sk-container-id-2 pre{padding: 0;}#sk-container-id-2 div.sk-toggleable {background-color: white;}#sk-container-id-2 label.sk-toggleable__label {cursor: pointer;display: block;width: 100%;margin-bottom: 0;padding: 0.3em;box-sizing: border-box;text-align: center;}#sk-container-id-2 label.sk-toggleable__label-arrow:before {content: \"▸\";float: left;margin-right: 0.25em;color: #696969;}#sk-container-id-2 label.sk-toggleable__label-arrow:hover:before {color: black;}#sk-container-id-2 div.sk-estimator:hover label.sk-toggleable__label-arrow:before {color: black;}#sk-container-id-2 div.sk-toggleable__content {max-height: 0;max-width: 0;overflow: hidden;text-align: left;background-color: #f0f8ff;}#sk-container-id-2 div.sk-toggleable__content pre {margin: 0.2em;color: black;border-radius: 0.25em;background-color: #f0f8ff;}#sk-container-id-2 input.sk-toggleable__control:checked~div.sk-toggleable__content {max-height: 200px;max-width: 100%;overflow: auto;}#sk-container-id-2 input.sk-toggleable__control:checked~label.sk-toggleable__label-arrow:before {content: \"▾\";}#sk-container-id-2 div.sk-estimator input.sk-toggleable__control:checked~label.sk-toggleable__label {background-color: #d4ebff;}#sk-container-id-2 div.sk-label input.sk-toggleable__control:checked~label.sk-toggleable__label {background-color: #d4ebff;}#sk-container-id-2 input.sk-hidden--visually {border: 0;clip: rect(1px 1px 1px 1px);clip: rect(1px, 1px, 1px, 1px);height: 1px;margin: -1px;overflow: hidden;padding: 0;position: absolute;width: 1px;}#sk-container-id-2 div.sk-estimator {font-family: monospace;background-color: #f0f8ff;border: 1px dotted black;border-radius: 0.25em;box-sizing: border-box;margin-bottom: 0.5em;}#sk-container-id-2 div.sk-estimator:hover {background-color: #d4ebff;}#sk-container-id-2 div.sk-parallel-item::after {content: \"\";width: 100%;border-bottom: 1px solid gray;flex-grow: 1;}#sk-container-id-2 div.sk-label:hover label.sk-toggleable__label {background-color: #d4ebff;}#sk-container-id-2 div.sk-serial::before {content: \"\";position: absolute;border-left: 1px solid gray;box-sizing: border-box;top: 0;bottom: 0;left: 50%;z-index: 0;}#sk-container-id-2 div.sk-serial {display: flex;flex-direction: column;align-items: center;background-color: white;padding-right: 0.2em;padding-left: 0.2em;position: relative;}#sk-container-id-2 div.sk-item {position: relative;z-index: 1;}#sk-container-id-2 div.sk-parallel {display: flex;align-items: stretch;justify-content: center;background-color: white;position: relative;}#sk-container-id-2 div.sk-item::before, #sk-container-id-2 div.sk-parallel-item::before {content: \"\";position: absolute;border-left: 1px solid gray;box-sizing: border-box;top: 0;bottom: 0;left: 50%;z-index: -1;}#sk-container-id-2 div.sk-parallel-item {display: flex;flex-direction: column;z-index: 1;position: relative;background-color: white;}#sk-container-id-2 div.sk-parallel-item:first-child::after {align-self: flex-end;width: 50%;}#sk-container-id-2 div.sk-parallel-item:last-child::after {align-self: flex-start;width: 50%;}#sk-container-id-2 div.sk-parallel-item:only-child::after {width: 0;}#sk-container-id-2 div.sk-dashed-wrapped {border: 1px dashed gray;margin: 0 0.4em 0.5em 0.4em;box-sizing: border-box;padding-bottom: 0.4em;background-color: white;}#sk-container-id-2 div.sk-label label {font-family: monospace;font-weight: bold;display: inline-block;line-height: 1.2em;}#sk-container-id-2 div.sk-label-container {text-align: center;}#sk-container-id-2 div.sk-container {/* jupyter's `normalize.less` sets `[hidden] { display: none; }` but bootstrap.min.css set `[hidden] { display: none !important; }` so we also need the `!important` here to be able to override the default hidden behavior on the sphinx rendered scikit-learn.org. See: https://github.com/scikit-learn/scikit-learn/issues/21755 */display: inline-block !important;position: relative;}#sk-container-id-2 div.sk-text-repr-fallback {display: none;}</style><div id=\"sk-container-id-2\" class=\"sk-top-container\"><div class=\"sk-text-repr-fallback\"><pre>DecisionTreeClassifier(criterion=&#x27;entropy&#x27;, max_depth=4)</pre><b>In a Jupyter environment, please rerun this cell to show the HTML representation or trust the notebook. <br />On GitHub, the HTML representation is unable to render, please try loading this page with nbviewer.org.</b></div><div class=\"sk-container\" hidden><div class=\"sk-item\"><div class=\"sk-estimator sk-toggleable\"><input class=\"sk-toggleable__control sk-hidden--visually\" id=\"sk-estimator-id-2\" type=\"checkbox\" checked><label for=\"sk-estimator-id-2\" class=\"sk-toggleable__label sk-toggleable__label-arrow\">DecisionTreeClassifier</label><div class=\"sk-toggleable__content\"><pre>DecisionTreeClassifier(criterion=&#x27;entropy&#x27;, max_depth=4)</pre></div></div></div></div></div>"
      ],
      "text/plain": [
       "DecisionTreeClassifier(criterion='entropy', max_depth=4)"
      ]
     },
     "execution_count": 37,
     "metadata": {},
     "output_type": "execute_result"
    }
   ],
   "source": [
    "model_1 = DecisionTreeClassifier(criterion='entropy', max_depth = 4)\n",
    "model_1.fit(X_train, y_train)"
   ]
  },
  {
   "cell_type": "code",
   "execution_count": 38,
   "id": "6097d431",
   "metadata": {},
   "outputs": [],
   "source": [
    "treeObj = fullmodel.tree_\n",
    "treedepth = model_1.tree_"
   ]
  },
  {
   "cell_type": "code",
   "execution_count": 39,
   "id": "a6adcd77",
   "metadata": {},
   "outputs": [
    {
     "data": {
      "text/plain": [
       "119"
      ]
     },
     "execution_count": 39,
     "metadata": {},
     "output_type": "execute_result"
    }
   ],
   "source": [
    "# full model nodes\n",
    "treeObj.node_count"
   ]
  },
  {
   "cell_type": "code",
   "execution_count": 40,
   "id": "6ee3c9bf",
   "metadata": {},
   "outputs": [
    {
     "data": {
      "text/plain": [
       "27"
      ]
     },
     "execution_count": 40,
     "metadata": {},
     "output_type": "execute_result"
    }
   ],
   "source": [
    "# tuned model nodes\n",
    "treedepth.node_count"
   ]
  },
  {
   "cell_type": "code",
   "execution_count": 41,
   "id": "8812e762",
   "metadata": {},
   "outputs": [
    {
     "data": {
      "text/plain": [
       "9"
      ]
     },
     "execution_count": 41,
     "metadata": {},
     "output_type": "execute_result"
    }
   ],
   "source": [
    "# full model depth\n",
    "treeObj.max_depth"
   ]
  },
  {
   "cell_type": "code",
   "execution_count": 42,
   "id": "3440fe97",
   "metadata": {},
   "outputs": [
    {
     "data": {
      "text/plain": [
       "4"
      ]
     },
     "execution_count": 42,
     "metadata": {},
     "output_type": "execute_result"
    }
   ],
   "source": [
    "# tuned model depth\n",
    "treedepth.max_depth"
   ]
  },
  {
   "cell_type": "markdown",
   "id": "a6fdab77",
   "metadata": {},
   "source": [
    "### Accuracy of Tuned Model"
   ]
  },
  {
   "cell_type": "code",
   "execution_count": 43,
   "id": "3262cf29",
   "metadata": {},
   "outputs": [
    {
     "data": {
      "text/plain": [
       "0.5133333333333333"
      ]
     },
     "execution_count": 43,
     "metadata": {},
     "output_type": "execute_result"
    }
   ],
   "source": [
    "y_pred_1 = model_1.predict(X_test)\n",
    "accuracy_score(y_test, y_pred_1, normalize=True)"
   ]
  },
  {
   "cell_type": "code",
   "execution_count": 44,
   "id": "5e41a240",
   "metadata": {},
   "outputs": [
    {
     "data": {
      "text/plain": [
       "0.5785714285714286"
      ]
     },
     "execution_count": 44,
     "metadata": {},
     "output_type": "execute_result"
    }
   ],
   "source": [
    "y_pred_train_1 = model_1.predict(X_train)\n",
    "accuracy_score(y_train, y_pred_train_1, normalize=True)"
   ]
  },
  {
   "cell_type": "code",
   "execution_count": 45,
   "id": "0680bb4e",
   "metadata": {},
   "outputs": [],
   "source": [
    "# import libraries for visualization\n",
    "from sklearn.tree import export_graphviz\n",
    "from sklearn import tree\n",
    "import graphviz\n",
    "from IPython.display import Image\n",
    "import pydotplus"
   ]
  },
  {
   "cell_type": "code",
   "execution_count": 46,
   "id": "89ed7db9",
   "metadata": {},
   "outputs": [
    {
     "data": {
      "text/plain": [
       "['Member', 'Normal']"
      ]
     },
     "execution_count": 46,
     "metadata": {},
     "output_type": "execute_result"
    }
   ],
   "source": [
    "target_names = df['Customer type'].unique().tolist()\n",
    "target_names"
   ]
  },
  {
   "cell_type": "code",
   "execution_count": 47,
   "id": "75dfa172",
   "metadata": {},
   "outputs": [],
   "source": [
    "# create dot file\n",
    "dot_data_1 = tree.export_graphviz(model_1, feature_names=features, class_names\n",
    "=target_names, filled = True, rounded=True, special_characters=True)"
   ]
  },
  {
   "cell_type": "code",
   "execution_count": 48,
   "id": "e7c762cd",
   "metadata": {},
   "outputs": [
    {
     "data": {
      "image/svg+xml": [
       "<?xml version=\"1.0\" encoding=\"UTF-8\" standalone=\"no\"?>\n",
       "<!DOCTYPE svg PUBLIC \"-//W3C//DTD SVG 1.1//EN\"\n",
       " \"http://www.w3.org/Graphics/SVG/1.1/DTD/svg11.dtd\">\n",
       "<!-- Generated by graphviz version 2.50.0 (20220117.2223)\n",
       " -->\n",
       "<!-- Title: Tree Pages: 1 -->\n",
       "<svg width=\"1776pt\" height=\"552pt\"\n",
       " viewBox=\"0.00 0.00 1776.00 552.00\" xmlns=\"http://www.w3.org/2000/svg\" xmlns:xlink=\"http://www.w3.org/1999/xlink\">\n",
       "<g id=\"graph0\" class=\"graph\" transform=\"scale(1 1) rotate(0) translate(4 548)\">\n",
       "<title>Tree</title>\n",
       "<polygon fill=\"white\" stroke=\"transparent\" points=\"-4,4 -4,-548 1772,-548 1772,4 -4,4\"/>\n",
       "<!-- 0 -->\n",
       "<g id=\"node1\" class=\"node\">\n",
       "<title>0</title>\n",
       "<path fill=\"#fffefd\" stroke=\"black\" d=\"M1096,-544C1096,-544 971,-544 971,-544 965,-544 959,-538 959,-532 959,-532 959,-473 959,-473 959,-467 965,-461 971,-461 971,-461 1096,-461 1096,-461 1102,-461 1108,-467 1108,-473 1108,-473 1108,-532 1108,-532 1108,-538 1102,-544 1096,-544\"/>\n",
       "<text text-anchor=\"start\" x=\"973.5\" y=\"-528.8\" font-family=\"Helvetica,sans-Serif\" font-size=\"14.00\">Credit card ≤ 0.5</text>\n",
       "<text text-anchor=\"start\" x=\"985\" y=\"-513.8\" font-family=\"Helvetica,sans-Serif\" font-size=\"14.00\">entropy = 1.0</text>\n",
       "<text text-anchor=\"start\" x=\"980.5\" y=\"-498.8\" font-family=\"Helvetica,sans-Serif\" font-size=\"14.00\">samples = 700</text>\n",
       "<text text-anchor=\"start\" x=\"967\" y=\"-483.8\" font-family=\"Helvetica,sans-Serif\" font-size=\"14.00\">value = [352, 348]</text>\n",
       "<text text-anchor=\"start\" x=\"977\" y=\"-468.8\" font-family=\"Helvetica,sans-Serif\" font-size=\"14.00\">class = Member</text>\n",
       "</g>\n",
       "<!-- 1 -->\n",
       "<g id=\"node2\" class=\"node\">\n",
       "<title>1</title>\n",
       "<path fill=\"#ebf5fc\" stroke=\"black\" d=\"M938,-425C938,-425 813,-425 813,-425 807,-425 801,-419 801,-413 801,-413 801,-354 801,-354 801,-348 807,-342 813,-342 813,-342 938,-342 938,-342 944,-342 950,-348 950,-354 950,-354 950,-413 950,-413 950,-419 944,-425 938,-425\"/>\n",
       "<text text-anchor=\"start\" x=\"828.5\" y=\"-409.8\" font-family=\"Helvetica,sans-Serif\" font-size=\"14.00\">Female ≤ 0.5</text>\n",
       "<text text-anchor=\"start\" x=\"818\" y=\"-394.8\" font-family=\"Helvetica,sans-Serif\" font-size=\"14.00\">entropy = 0.998</text>\n",
       "<text text-anchor=\"start\" x=\"822.5\" y=\"-379.8\" font-family=\"Helvetica,sans-Serif\" font-size=\"14.00\">samples = 473</text>\n",
       "<text text-anchor=\"start\" x=\"809\" y=\"-364.8\" font-family=\"Helvetica,sans-Serif\" font-size=\"14.00\">value = [224, 249]</text>\n",
       "<text text-anchor=\"start\" x=\"822.5\" y=\"-349.8\" font-family=\"Helvetica,sans-Serif\" font-size=\"14.00\">class = Normal</text>\n",
       "</g>\n",
       "<!-- 0&#45;&gt;1 -->\n",
       "<g id=\"edge1\" class=\"edge\">\n",
       "<title>0&#45;&gt;1</title>\n",
       "<path fill=\"none\" stroke=\"black\" d=\"M978.68,-460.91C965.69,-451.29 951.74,-440.95 938.42,-431.09\"/>\n",
       "<polygon fill=\"black\" stroke=\"black\" points=\"940.34,-428.16 930.22,-425.02 936.17,-433.78 940.34,-428.16\"/>\n",
       "<text text-anchor=\"middle\" x=\"933.91\" y=\"-446.05\" font-family=\"Helvetica,sans-Serif\" font-size=\"14.00\">True</text>\n",
       "</g>\n",
       "<!-- 16 -->\n",
       "<g id=\"node17\" class=\"node\">\n",
       "<title>16</title>\n",
       "<path fill=\"#f9e2d2\" stroke=\"black\" d=\"M1240.5,-425C1240.5,-425 1124.5,-425 1124.5,-425 1118.5,-425 1112.5,-419 1112.5,-413 1112.5,-413 1112.5,-354 1112.5,-354 1112.5,-348 1118.5,-342 1124.5,-342 1124.5,-342 1240.5,-342 1240.5,-342 1246.5,-342 1252.5,-348 1252.5,-354 1252.5,-354 1252.5,-413 1252.5,-413 1252.5,-419 1246.5,-425 1240.5,-425\"/>\n",
       "<text text-anchor=\"start\" x=\"1130.5\" y=\"-409.8\" font-family=\"Helvetica,sans-Serif\" font-size=\"14.00\">Quantity ≤ 1.5</text>\n",
       "<text text-anchor=\"start\" x=\"1125\" y=\"-394.8\" font-family=\"Helvetica,sans-Serif\" font-size=\"14.00\">entropy = 0.988</text>\n",
       "<text text-anchor=\"start\" x=\"1129.5\" y=\"-379.8\" font-family=\"Helvetica,sans-Serif\" font-size=\"14.00\">samples = 227</text>\n",
       "<text text-anchor=\"start\" x=\"1120.5\" y=\"-364.8\" font-family=\"Helvetica,sans-Serif\" font-size=\"14.00\">value = [128, 99]</text>\n",
       "<text text-anchor=\"start\" x=\"1126\" y=\"-349.8\" font-family=\"Helvetica,sans-Serif\" font-size=\"14.00\">class = Member</text>\n",
       "</g>\n",
       "<!-- 0&#45;&gt;16 -->\n",
       "<g id=\"edge16\" class=\"edge\">\n",
       "<title>0&#45;&gt;16</title>\n",
       "<path fill=\"none\" stroke=\"black\" d=\"M1085.19,-460.91C1097.33,-451.38 1110.36,-441.15 1122.81,-431.37\"/>\n",
       "<polygon fill=\"black\" stroke=\"black\" points=\"1125.19,-433.95 1130.9,-425.02 1120.87,-428.44 1125.19,-433.95\"/>\n",
       "<text text-anchor=\"middle\" x=\"1127.91\" y=\"-446.14\" font-family=\"Helvetica,sans-Serif\" font-size=\"14.00\">False</text>\n",
       "</g>\n",
       "<!-- 2 -->\n",
       "<g id=\"node3\" class=\"node\">\n",
       "<title>2</title>\n",
       "<path fill=\"#d3e9f9\" stroke=\"black\" d=\"M503,-306C503,-306 378,-306 378,-306 372,-306 366,-300 366,-294 366,-294 366,-235 366,-235 366,-229 372,-223 378,-223 378,-223 503,-223 503,-223 509,-223 515,-229 515,-235 515,-235 515,-294 515,-294 515,-300 509,-306 503,-306\"/>\n",
       "<text text-anchor=\"start\" x=\"388.5\" y=\"-290.8\" font-family=\"Helvetica,sans-Serif\" font-size=\"14.00\">Quantity ≤ 8.5</text>\n",
       "<text text-anchor=\"start\" x=\"383\" y=\"-275.8\" font-family=\"Helvetica,sans-Serif\" font-size=\"14.00\">entropy = 0.989</text>\n",
       "<text text-anchor=\"start\" x=\"387.5\" y=\"-260.8\" font-family=\"Helvetica,sans-Serif\" font-size=\"14.00\">samples = 242</text>\n",
       "<text text-anchor=\"start\" x=\"374\" y=\"-245.8\" font-family=\"Helvetica,sans-Serif\" font-size=\"14.00\">value = [106, 136]</text>\n",
       "<text text-anchor=\"start\" x=\"387.5\" y=\"-230.8\" font-family=\"Helvetica,sans-Serif\" font-size=\"14.00\">class = Normal</text>\n",
       "</g>\n",
       "<!-- 1&#45;&gt;2 -->\n",
       "<g id=\"edge2\" class=\"edge\">\n",
       "<title>1&#45;&gt;2</title>\n",
       "<path fill=\"none\" stroke=\"black\" d=\"M800.72,-362.39C724.08,-341.77 605.11,-309.77 525.08,-288.25\"/>\n",
       "<polygon fill=\"black\" stroke=\"black\" points=\"525.6,-284.76 515.03,-285.55 523.78,-291.52 525.6,-284.76\"/>\n",
       "</g>\n",
       "<!-- 9 -->\n",
       "<g id=\"node10\" class=\"node\">\n",
       "<title>9</title>\n",
       "<path fill=\"#fefaf7\" stroke=\"black\" d=\"M938,-306C938,-306 813,-306 813,-306 807,-306 801,-300 801,-294 801,-294 801,-235 801,-235 801,-229 807,-223 813,-223 813,-223 938,-223 938,-223 944,-223 950,-229 950,-235 950,-235 950,-294 950,-294 950,-300 944,-306 938,-306\"/>\n",
       "<text text-anchor=\"start\" x=\"823.5\" y=\"-290.8\" font-family=\"Helvetica,sans-Serif\" font-size=\"14.00\">Quantity ≤ 1.5</text>\n",
       "<text text-anchor=\"start\" x=\"827\" y=\"-275.8\" font-family=\"Helvetica,sans-Serif\" font-size=\"14.00\">entropy = 1.0</text>\n",
       "<text text-anchor=\"start\" x=\"822.5\" y=\"-260.8\" font-family=\"Helvetica,sans-Serif\" font-size=\"14.00\">samples = 231</text>\n",
       "<text text-anchor=\"start\" x=\"809\" y=\"-245.8\" font-family=\"Helvetica,sans-Serif\" font-size=\"14.00\">value = [118, 113]</text>\n",
       "<text text-anchor=\"start\" x=\"819\" y=\"-230.8\" font-family=\"Helvetica,sans-Serif\" font-size=\"14.00\">class = Member</text>\n",
       "</g>\n",
       "<!-- 1&#45;&gt;9 -->\n",
       "<g id=\"edge9\" class=\"edge\">\n",
       "<title>1&#45;&gt;9</title>\n",
       "<path fill=\"none\" stroke=\"black\" d=\"M875.5,-341.91C875.5,-333.65 875.5,-324.86 875.5,-316.3\"/>\n",
       "<polygon fill=\"black\" stroke=\"black\" points=\"879,-316.02 875.5,-306.02 872,-316.02 879,-316.02\"/>\n",
       "</g>\n",
       "<!-- 3 -->\n",
       "<g id=\"node4\" class=\"node\">\n",
       "<title>3</title>\n",
       "<path fill=\"#c4e2f7\" stroke=\"black\" d=\"M272.5,-187C272.5,-187 156.5,-187 156.5,-187 150.5,-187 144.5,-181 144.5,-175 144.5,-175 144.5,-116 144.5,-116 144.5,-110 150.5,-104 156.5,-104 156.5,-104 272.5,-104 272.5,-104 278.5,-104 284.5,-110 284.5,-116 284.5,-116 284.5,-175 284.5,-175 284.5,-181 278.5,-187 272.5,-187\"/>\n",
       "<text text-anchor=\"start\" x=\"162.5\" y=\"-171.8\" font-family=\"Helvetica,sans-Serif\" font-size=\"14.00\">Quantity ≤ 6.5</text>\n",
       "<text text-anchor=\"start\" x=\"157\" y=\"-156.8\" font-family=\"Helvetica,sans-Serif\" font-size=\"14.00\">entropy = 0.978</text>\n",
       "<text text-anchor=\"start\" x=\"161.5\" y=\"-141.8\" font-family=\"Helvetica,sans-Serif\" font-size=\"14.00\">samples = 196</text>\n",
       "<text text-anchor=\"start\" x=\"152.5\" y=\"-126.8\" font-family=\"Helvetica,sans-Serif\" font-size=\"14.00\">value = [81, 115]</text>\n",
       "<text text-anchor=\"start\" x=\"161.5\" y=\"-111.8\" font-family=\"Helvetica,sans-Serif\" font-size=\"14.00\">class = Normal</text>\n",
       "</g>\n",
       "<!-- 2&#45;&gt;3 -->\n",
       "<g id=\"edge3\" class=\"edge\">\n",
       "<title>2&#45;&gt;3</title>\n",
       "<path fill=\"none\" stroke=\"black\" d=\"M365.87,-224.87C342.83,-212.94 317.37,-199.76 294.02,-187.67\"/>\n",
       "<polygon fill=\"black\" stroke=\"black\" points=\"295.33,-184.4 284.84,-182.91 292.11,-190.62 295.33,-184.4\"/>\n",
       "</g>\n",
       "<!-- 6 -->\n",
       "<g id=\"node7\" class=\"node\">\n",
       "<title>6</title>\n",
       "<path fill=\"#fbebdf\" stroke=\"black\" d=\"M494,-187C494,-187 387,-187 387,-187 381,-187 375,-181 375,-175 375,-175 375,-116 375,-116 375,-110 381,-104 387,-104 387,-104 494,-104 494,-104 500,-104 506,-110 506,-116 506,-116 506,-175 506,-175 506,-181 500,-187 494,-187\"/>\n",
       "<text text-anchor=\"start\" x=\"388.5\" y=\"-171.8\" font-family=\"Helvetica,sans-Serif\" font-size=\"14.00\">Quantity ≤ 9.5</text>\n",
       "<text text-anchor=\"start\" x=\"383\" y=\"-156.8\" font-family=\"Helvetica,sans-Serif\" font-size=\"14.00\">entropy = 0.995</text>\n",
       "<text text-anchor=\"start\" x=\"392\" y=\"-141.8\" font-family=\"Helvetica,sans-Serif\" font-size=\"14.00\">samples = 46</text>\n",
       "<text text-anchor=\"start\" x=\"383\" y=\"-126.8\" font-family=\"Helvetica,sans-Serif\" font-size=\"14.00\">value = [25, 21]</text>\n",
       "<text text-anchor=\"start\" x=\"384\" y=\"-111.8\" font-family=\"Helvetica,sans-Serif\" font-size=\"14.00\">class = Member</text>\n",
       "</g>\n",
       "<!-- 2&#45;&gt;6 -->\n",
       "<g id=\"edge6\" class=\"edge\">\n",
       "<title>2&#45;&gt;6</title>\n",
       "<path fill=\"none\" stroke=\"black\" d=\"M440.5,-222.91C440.5,-214.65 440.5,-205.86 440.5,-197.3\"/>\n",
       "<polygon fill=\"black\" stroke=\"black\" points=\"444,-197.02 440.5,-187.02 437,-197.02 444,-197.02\"/>\n",
       "</g>\n",
       "<!-- 4 -->\n",
       "<g id=\"node5\" class=\"node\">\n",
       "<title>4</title>\n",
       "<path fill=\"#d9ecfa\" stroke=\"black\" d=\"M119,-68C119,-68 12,-68 12,-68 6,-68 0,-62 0,-56 0,-56 0,-12 0,-12 0,-6 6,0 12,0 12,0 119,0 119,0 125,0 131,-6 131,-12 131,-12 131,-56 131,-56 131,-62 125,-68 119,-68\"/>\n",
       "<text text-anchor=\"start\" x=\"8\" y=\"-52.8\" font-family=\"Helvetica,sans-Serif\" font-size=\"14.00\">entropy = 0.992</text>\n",
       "<text text-anchor=\"start\" x=\"12.5\" y=\"-37.8\" font-family=\"Helvetica,sans-Serif\" font-size=\"14.00\">samples = 152</text>\n",
       "<text text-anchor=\"start\" x=\"8\" y=\"-22.8\" font-family=\"Helvetica,sans-Serif\" font-size=\"14.00\">value = [68, 84]</text>\n",
       "<text text-anchor=\"start\" x=\"12.5\" y=\"-7.8\" font-family=\"Helvetica,sans-Serif\" font-size=\"14.00\">class = Normal</text>\n",
       "</g>\n",
       "<!-- 3&#45;&gt;4 -->\n",
       "<g id=\"edge4\" class=\"edge\">\n",
       "<title>3&#45;&gt;4</title>\n",
       "<path fill=\"none\" stroke=\"black\" d=\"M159.02,-103.73C145.99,-94.15 132.12,-83.96 119.17,-74.44\"/>\n",
       "<polygon fill=\"black\" stroke=\"black\" points=\"120.94,-71.4 110.81,-68.3 116.8,-77.04 120.94,-71.4\"/>\n",
       "</g>\n",
       "<!-- 5 -->\n",
       "<g id=\"node6\" class=\"node\">\n",
       "<title>5</title>\n",
       "<path fill=\"#8cc6f0\" stroke=\"black\" d=\"M268,-68C268,-68 161,-68 161,-68 155,-68 149,-62 149,-56 149,-56 149,-12 149,-12 149,-6 155,0 161,0 161,0 268,0 268,0 274,0 280,-6 280,-12 280,-12 280,-56 280,-56 280,-62 274,-68 268,-68\"/>\n",
       "<text text-anchor=\"start\" x=\"157\" y=\"-52.8\" font-family=\"Helvetica,sans-Serif\" font-size=\"14.00\">entropy = 0.876</text>\n",
       "<text text-anchor=\"start\" x=\"166\" y=\"-37.8\" font-family=\"Helvetica,sans-Serif\" font-size=\"14.00\">samples = 44</text>\n",
       "<text text-anchor=\"start\" x=\"157\" y=\"-22.8\" font-family=\"Helvetica,sans-Serif\" font-size=\"14.00\">value = [13, 31]</text>\n",
       "<text text-anchor=\"start\" x=\"161.5\" y=\"-7.8\" font-family=\"Helvetica,sans-Serif\" font-size=\"14.00\">class = Normal</text>\n",
       "</g>\n",
       "<!-- 3&#45;&gt;5 -->\n",
       "<g id=\"edge5\" class=\"edge\">\n",
       "<title>3&#45;&gt;5</title>\n",
       "<path fill=\"none\" stroke=\"black\" d=\"M214.5,-103.73C214.5,-95.52 214.5,-86.86 214.5,-78.56\"/>\n",
       "<polygon fill=\"black\" stroke=\"black\" points=\"218,-78.3 214.5,-68.3 211,-78.3 218,-78.3\"/>\n",
       "</g>\n",
       "<!-- 7 -->\n",
       "<g id=\"node8\" class=\"node\">\n",
       "<title>7</title>\n",
       "<path fill=\"#fcf2eb\" stroke=\"black\" d=\"M417,-68C417,-68 310,-68 310,-68 304,-68 298,-62 298,-56 298,-56 298,-12 298,-12 298,-6 304,0 310,0 310,0 417,0 417,0 423,0 429,-6 429,-12 429,-12 429,-56 429,-56 429,-62 423,-68 417,-68\"/>\n",
       "<text text-anchor=\"start\" x=\"306\" y=\"-52.8\" font-family=\"Helvetica,sans-Serif\" font-size=\"14.00\">entropy = 0.998</text>\n",
       "<text text-anchor=\"start\" x=\"315\" y=\"-37.8\" font-family=\"Helvetica,sans-Serif\" font-size=\"14.00\">samples = 19</text>\n",
       "<text text-anchor=\"start\" x=\"310.5\" y=\"-22.8\" font-family=\"Helvetica,sans-Serif\" font-size=\"14.00\">value = [10, 9]</text>\n",
       "<text text-anchor=\"start\" x=\"307\" y=\"-7.8\" font-family=\"Helvetica,sans-Serif\" font-size=\"14.00\">class = Member</text>\n",
       "</g>\n",
       "<!-- 6&#45;&gt;7 -->\n",
       "<g id=\"edge7\" class=\"edge\">\n",
       "<title>6&#45;&gt;7</title>\n",
       "<path fill=\"none\" stroke=\"black\" d=\"M411.83,-103.73C405.61,-94.88 399.02,-85.51 392.77,-76.63\"/>\n",
       "<polygon fill=\"black\" stroke=\"black\" points=\"395.53,-74.47 386.92,-68.3 389.81,-78.49 395.53,-74.47\"/>\n",
       "</g>\n",
       "<!-- 8 -->\n",
       "<g id=\"node9\" class=\"node\">\n",
       "<title>8</title>\n",
       "<path fill=\"#fae6d7\" stroke=\"black\" d=\"M566,-68C566,-68 459,-68 459,-68 453,-68 447,-62 447,-56 447,-56 447,-12 447,-12 447,-6 453,0 459,0 459,0 566,0 566,0 572,0 578,-6 578,-12 578,-12 578,-56 578,-56 578,-62 572,-68 566,-68\"/>\n",
       "<text text-anchor=\"start\" x=\"455\" y=\"-52.8\" font-family=\"Helvetica,sans-Serif\" font-size=\"14.00\">entropy = 0.991</text>\n",
       "<text text-anchor=\"start\" x=\"464\" y=\"-37.8\" font-family=\"Helvetica,sans-Serif\" font-size=\"14.00\">samples = 27</text>\n",
       "<text text-anchor=\"start\" x=\"455\" y=\"-22.8\" font-family=\"Helvetica,sans-Serif\" font-size=\"14.00\">value = [15, 12]</text>\n",
       "<text text-anchor=\"start\" x=\"456\" y=\"-7.8\" font-family=\"Helvetica,sans-Serif\" font-size=\"14.00\">class = Member</text>\n",
       "</g>\n",
       "<!-- 6&#45;&gt;8 -->\n",
       "<g id=\"edge8\" class=\"edge\">\n",
       "<title>6&#45;&gt;8</title>\n",
       "<path fill=\"none\" stroke=\"black\" d=\"M467.31,-103.73C473.07,-94.97 479.16,-85.7 484.95,-76.91\"/>\n",
       "<polygon fill=\"black\" stroke=\"black\" points=\"488.03,-78.58 490.6,-68.3 482.19,-74.73 488.03,-78.58\"/>\n",
       "</g>\n",
       "<!-- 10 -->\n",
       "<g id=\"node11\" class=\"node\">\n",
       "<title>10</title>\n",
       "<path fill=\"#efb185\" stroke=\"black\" d=\"M853,-187C853,-187 746,-187 746,-187 740,-187 734,-181 734,-175 734,-175 734,-116 734,-116 734,-110 740,-104 746,-104 746,-104 853,-104 853,-104 859,-104 865,-110 865,-116 865,-116 865,-175 865,-175 865,-181 859,-187 853,-187\"/>\n",
       "<text text-anchor=\"start\" x=\"760\" y=\"-171.8\" font-family=\"Helvetica,sans-Serif\" font-size=\"14.00\">Cash ≤ 0.5</text>\n",
       "<text text-anchor=\"start\" x=\"742\" y=\"-156.8\" font-family=\"Helvetica,sans-Serif\" font-size=\"14.00\">entropy = 0.852</text>\n",
       "<text text-anchor=\"start\" x=\"751\" y=\"-141.8\" font-family=\"Helvetica,sans-Serif\" font-size=\"14.00\">samples = 18</text>\n",
       "<text text-anchor=\"start\" x=\"746.5\" y=\"-126.8\" font-family=\"Helvetica,sans-Serif\" font-size=\"14.00\">value = [13, 5]</text>\n",
       "<text text-anchor=\"start\" x=\"743\" y=\"-111.8\" font-family=\"Helvetica,sans-Serif\" font-size=\"14.00\">class = Member</text>\n",
       "</g>\n",
       "<!-- 9&#45;&gt;10 -->\n",
       "<g id=\"edge10\" class=\"edge\">\n",
       "<title>9&#45;&gt;10</title>\n",
       "<path fill=\"none\" stroke=\"black\" d=\"M849.13,-222.91C843.41,-214.1 837.31,-204.7 831.4,-195.61\"/>\n",
       "<polygon fill=\"black\" stroke=\"black\" points=\"834.2,-193.5 825.82,-187.02 828.33,-197.31 834.2,-193.5\"/>\n",
       "</g>\n",
       "<!-- 13 -->\n",
       "<g id=\"node14\" class=\"node\">\n",
       "<title>13</title>\n",
       "<path fill=\"#fafcfe\" stroke=\"black\" d=\"M1020,-187C1020,-187 895,-187 895,-187 889,-187 883,-181 883,-175 883,-175 883,-116 883,-116 883,-110 889,-104 895,-104 895,-104 1020,-104 1020,-104 1026,-104 1032,-110 1032,-116 1032,-116 1032,-175 1032,-175 1032,-181 1026,-187 1020,-187\"/>\n",
       "<text text-anchor=\"start\" x=\"905.5\" y=\"-171.8\" font-family=\"Helvetica,sans-Serif\" font-size=\"14.00\">Quantity ≤ 6.5</text>\n",
       "<text text-anchor=\"start\" x=\"909\" y=\"-156.8\" font-family=\"Helvetica,sans-Serif\" font-size=\"14.00\">entropy = 1.0</text>\n",
       "<text text-anchor=\"start\" x=\"904.5\" y=\"-141.8\" font-family=\"Helvetica,sans-Serif\" font-size=\"14.00\">samples = 213</text>\n",
       "<text text-anchor=\"start\" x=\"891\" y=\"-126.8\" font-family=\"Helvetica,sans-Serif\" font-size=\"14.00\">value = [105, 108]</text>\n",
       "<text text-anchor=\"start\" x=\"904.5\" y=\"-111.8\" font-family=\"Helvetica,sans-Serif\" font-size=\"14.00\">class = Normal</text>\n",
       "</g>\n",
       "<!-- 9&#45;&gt;13 -->\n",
       "<g id=\"edge13\" class=\"edge\">\n",
       "<title>9&#45;&gt;13</title>\n",
       "<path fill=\"none\" stroke=\"black\" d=\"M903.95,-222.91C910.18,-214.01 916.84,-204.51 923.28,-195.33\"/>\n",
       "<polygon fill=\"black\" stroke=\"black\" points=\"926.23,-197.22 929.1,-187.02 920.5,-193.2 926.23,-197.22\"/>\n",
       "</g>\n",
       "<!-- 11 -->\n",
       "<g id=\"node12\" class=\"node\">\n",
       "<title>11</title>\n",
       "<path fill=\"#eca06a\" stroke=\"black\" d=\"M715,-68C715,-68 608,-68 608,-68 602,-68 596,-62 596,-56 596,-56 596,-12 596,-12 596,-6 602,0 608,0 608,0 715,0 715,0 721,0 727,-6 727,-12 727,-12 727,-56 727,-56 727,-62 721,-68 715,-68\"/>\n",
       "<text text-anchor=\"start\" x=\"604\" y=\"-52.8\" font-family=\"Helvetica,sans-Serif\" font-size=\"14.00\">entropy = 0.722</text>\n",
       "<text text-anchor=\"start\" x=\"617.5\" y=\"-37.8\" font-family=\"Helvetica,sans-Serif\" font-size=\"14.00\">samples = 5</text>\n",
       "<text text-anchor=\"start\" x=\"613\" y=\"-22.8\" font-family=\"Helvetica,sans-Serif\" font-size=\"14.00\">value = [4, 1]</text>\n",
       "<text text-anchor=\"start\" x=\"605\" y=\"-7.8\" font-family=\"Helvetica,sans-Serif\" font-size=\"14.00\">class = Member</text>\n",
       "</g>\n",
       "<!-- 10&#45;&gt;11 -->\n",
       "<g id=\"edge11\" class=\"edge\">\n",
       "<title>10&#45;&gt;11</title>\n",
       "<path fill=\"none\" stroke=\"black\" d=\"M748.11,-103.73C736.16,-94.24 723.45,-84.16 711.55,-74.72\"/>\n",
       "<polygon fill=\"black\" stroke=\"black\" points=\"713.48,-71.77 703.47,-68.3 709.12,-77.26 713.48,-71.77\"/>\n",
       "</g>\n",
       "<!-- 12 -->\n",
       "<g id=\"node13\" class=\"node\">\n",
       "<title>12</title>\n",
       "<path fill=\"#f1b991\" stroke=\"black\" d=\"M862,-68C862,-68 757,-68 757,-68 751,-68 745,-62 745,-56 745,-56 745,-12 745,-12 745,-6 751,0 757,0 757,0 862,0 862,0 868,0 874,-6 874,-12 874,-12 874,-56 874,-56 874,-62 868,-68 862,-68\"/>\n",
       "<text text-anchor=\"start\" x=\"756.5\" y=\"-52.8\" font-family=\"Helvetica,sans-Serif\" font-size=\"14.00\">entropy = 0.89</text>\n",
       "<text text-anchor=\"start\" x=\"761\" y=\"-37.8\" font-family=\"Helvetica,sans-Serif\" font-size=\"14.00\">samples = 13</text>\n",
       "<text text-anchor=\"start\" x=\"761\" y=\"-22.8\" font-family=\"Helvetica,sans-Serif\" font-size=\"14.00\">value = [9, 4]</text>\n",
       "<text text-anchor=\"start\" x=\"753\" y=\"-7.8\" font-family=\"Helvetica,sans-Serif\" font-size=\"14.00\">class = Member</text>\n",
       "</g>\n",
       "<!-- 10&#45;&gt;12 -->\n",
       "<g id=\"edge12\" class=\"edge\">\n",
       "<title>10&#45;&gt;12</title>\n",
       "<path fill=\"none\" stroke=\"black\" d=\"M803.22,-103.73C803.98,-95.43 804.78,-86.67 805.55,-78.28\"/>\n",
       "<polygon fill=\"black\" stroke=\"black\" points=\"809.03,-78.58 806.46,-68.3 802.06,-77.94 809.03,-78.58\"/>\n",
       "</g>\n",
       "<!-- 14 -->\n",
       "<g id=\"node15\" class=\"node\">\n",
       "<title>14</title>\n",
       "<path fill=\"#ddeefb\" stroke=\"black\" d=\"M1011,-68C1011,-68 904,-68 904,-68 898,-68 892,-62 892,-56 892,-56 892,-12 892,-12 892,-6 898,0 904,0 904,0 1011,0 1011,0 1017,0 1023,-6 1023,-12 1023,-12 1023,-56 1023,-56 1023,-62 1017,-68 1011,-68\"/>\n",
       "<text text-anchor=\"start\" x=\"900\" y=\"-52.8\" font-family=\"Helvetica,sans-Serif\" font-size=\"14.00\">entropy = 0.994</text>\n",
       "<text text-anchor=\"start\" x=\"904.5\" y=\"-37.8\" font-family=\"Helvetica,sans-Serif\" font-size=\"14.00\">samples = 119</text>\n",
       "<text text-anchor=\"start\" x=\"900\" y=\"-22.8\" font-family=\"Helvetica,sans-Serif\" font-size=\"14.00\">value = [54, 65]</text>\n",
       "<text text-anchor=\"start\" x=\"904.5\" y=\"-7.8\" font-family=\"Helvetica,sans-Serif\" font-size=\"14.00\">class = Normal</text>\n",
       "</g>\n",
       "<!-- 13&#45;&gt;14 -->\n",
       "<g id=\"edge14\" class=\"edge\">\n",
       "<title>13&#45;&gt;14</title>\n",
       "<path fill=\"none\" stroke=\"black\" d=\"M957.5,-103.73C957.5,-95.52 957.5,-86.86 957.5,-78.56\"/>\n",
       "<polygon fill=\"black\" stroke=\"black\" points=\"961,-78.3 957.5,-68.3 954,-78.3 961,-78.3\"/>\n",
       "</g>\n",
       "<!-- 15 -->\n",
       "<g id=\"node16\" class=\"node\">\n",
       "<title>15</title>\n",
       "<path fill=\"#fbebe0\" stroke=\"black\" d=\"M1160,-68C1160,-68 1053,-68 1053,-68 1047,-68 1041,-62 1041,-56 1041,-56 1041,-12 1041,-12 1041,-6 1047,0 1053,0 1053,0 1160,0 1160,0 1166,0 1172,-6 1172,-12 1172,-12 1172,-56 1172,-56 1172,-62 1166,-68 1160,-68\"/>\n",
       "<text text-anchor=\"start\" x=\"1049\" y=\"-52.8\" font-family=\"Helvetica,sans-Serif\" font-size=\"14.00\">entropy = 0.995</text>\n",
       "<text text-anchor=\"start\" x=\"1058\" y=\"-37.8\" font-family=\"Helvetica,sans-Serif\" font-size=\"14.00\">samples = 94</text>\n",
       "<text text-anchor=\"start\" x=\"1049\" y=\"-22.8\" font-family=\"Helvetica,sans-Serif\" font-size=\"14.00\">value = [51, 43]</text>\n",
       "<text text-anchor=\"start\" x=\"1050\" y=\"-7.8\" font-family=\"Helvetica,sans-Serif\" font-size=\"14.00\">class = Member</text>\n",
       "</g>\n",
       "<!-- 13&#45;&gt;15 -->\n",
       "<g id=\"edge15\" class=\"edge\">\n",
       "<title>13&#45;&gt;15</title>\n",
       "<path fill=\"none\" stroke=\"black\" d=\"M1012.98,-103.73C1026.01,-94.15 1039.88,-83.96 1052.83,-74.44\"/>\n",
       "<polygon fill=\"black\" stroke=\"black\" points=\"1055.2,-77.04 1061.19,-68.3 1051.06,-71.4 1055.2,-77.04\"/>\n",
       "</g>\n",
       "<!-- 17 -->\n",
       "<g id=\"node18\" class=\"node\">\n",
       "<title>17</title>\n",
       "<path fill=\"#8ec7f0\" stroke=\"black\" d=\"M1236,-306C1236,-306 1129,-306 1129,-306 1123,-306 1117,-300 1117,-294 1117,-294 1117,-235 1117,-235 1117,-229 1123,-223 1129,-223 1129,-223 1236,-223 1236,-223 1242,-223 1248,-229 1248,-235 1248,-235 1248,-294 1248,-294 1248,-300 1242,-306 1236,-306\"/>\n",
       "<text text-anchor=\"start\" x=\"1135.5\" y=\"-290.8\" font-family=\"Helvetica,sans-Serif\" font-size=\"14.00\">Female ≤ 0.5</text>\n",
       "<text text-anchor=\"start\" x=\"1125\" y=\"-275.8\" font-family=\"Helvetica,sans-Serif\" font-size=\"14.00\">entropy = 0.881</text>\n",
       "<text text-anchor=\"start\" x=\"1134\" y=\"-260.8\" font-family=\"Helvetica,sans-Serif\" font-size=\"14.00\">samples = 20</text>\n",
       "<text text-anchor=\"start\" x=\"1129.5\" y=\"-245.8\" font-family=\"Helvetica,sans-Serif\" font-size=\"14.00\">value = [6, 14]</text>\n",
       "<text text-anchor=\"start\" x=\"1129.5\" y=\"-230.8\" font-family=\"Helvetica,sans-Serif\" font-size=\"14.00\">class = Normal</text>\n",
       "</g>\n",
       "<!-- 16&#45;&gt;17 -->\n",
       "<g id=\"edge17\" class=\"edge\">\n",
       "<title>16&#45;&gt;17</title>\n",
       "<path fill=\"none\" stroke=\"black\" d=\"M1182.5,-341.91C1182.5,-333.65 1182.5,-324.86 1182.5,-316.3\"/>\n",
       "<polygon fill=\"black\" stroke=\"black\" points=\"1186,-316.02 1182.5,-306.02 1179,-316.02 1186,-316.02\"/>\n",
       "</g>\n",
       "<!-- 20 -->\n",
       "<g id=\"node21\" class=\"node\">\n",
       "<title>20</title>\n",
       "<path fill=\"#f7d9c3\" stroke=\"black\" d=\"M1462.5,-306C1462.5,-306 1346.5,-306 1346.5,-306 1340.5,-306 1334.5,-300 1334.5,-294 1334.5,-294 1334.5,-235 1334.5,-235 1334.5,-229 1340.5,-223 1346.5,-223 1346.5,-223 1462.5,-223 1462.5,-223 1468.5,-223 1474.5,-229 1474.5,-235 1474.5,-235 1474.5,-294 1474.5,-294 1474.5,-300 1468.5,-306 1462.5,-306\"/>\n",
       "<text text-anchor=\"start\" x=\"1352.5\" y=\"-290.8\" font-family=\"Helvetica,sans-Serif\" font-size=\"14.00\">Quantity ≤ 7.5</text>\n",
       "<text text-anchor=\"start\" x=\"1347\" y=\"-275.8\" font-family=\"Helvetica,sans-Serif\" font-size=\"14.00\">entropy = 0.977</text>\n",
       "<text text-anchor=\"start\" x=\"1351.5\" y=\"-260.8\" font-family=\"Helvetica,sans-Serif\" font-size=\"14.00\">samples = 207</text>\n",
       "<text text-anchor=\"start\" x=\"1342.5\" y=\"-245.8\" font-family=\"Helvetica,sans-Serif\" font-size=\"14.00\">value = [122, 85]</text>\n",
       "<text text-anchor=\"start\" x=\"1348\" y=\"-230.8\" font-family=\"Helvetica,sans-Serif\" font-size=\"14.00\">class = Member</text>\n",
       "</g>\n",
       "<!-- 16&#45;&gt;20 -->\n",
       "<g id=\"edge20\" class=\"edge\">\n",
       "<title>16&#45;&gt;20</title>\n",
       "<path fill=\"none\" stroke=\"black\" d=\"M1252.74,-345.48C1275.83,-333.31 1301.66,-319.7 1325.36,-307.21\"/>\n",
       "<polygon fill=\"black\" stroke=\"black\" points=\"1327.12,-310.24 1334.33,-302.48 1323.86,-304.05 1327.12,-310.24\"/>\n",
       "</g>\n",
       "<!-- 18 -->\n",
       "<g id=\"node19\" class=\"node\">\n",
       "<title>18</title>\n",
       "<path fill=\"#ffffff\" stroke=\"black\" d=\"M1168,-179.5C1168,-179.5 1063,-179.5 1063,-179.5 1057,-179.5 1051,-173.5 1051,-167.5 1051,-167.5 1051,-123.5 1051,-123.5 1051,-117.5 1057,-111.5 1063,-111.5 1063,-111.5 1168,-111.5 1168,-111.5 1174,-111.5 1180,-117.5 1180,-123.5 1180,-123.5 1180,-167.5 1180,-167.5 1180,-173.5 1174,-179.5 1168,-179.5\"/>\n",
       "<text text-anchor=\"start\" x=\"1067\" y=\"-164.3\" font-family=\"Helvetica,sans-Serif\" font-size=\"14.00\">entropy = 1.0</text>\n",
       "<text text-anchor=\"start\" x=\"1067\" y=\"-149.3\" font-family=\"Helvetica,sans-Serif\" font-size=\"14.00\">samples = 12</text>\n",
       "<text text-anchor=\"start\" x=\"1067\" y=\"-134.3\" font-family=\"Helvetica,sans-Serif\" font-size=\"14.00\">value = [6, 6]</text>\n",
       "<text text-anchor=\"start\" x=\"1059\" y=\"-119.3\" font-family=\"Helvetica,sans-Serif\" font-size=\"14.00\">class = Member</text>\n",
       "</g>\n",
       "<!-- 17&#45;&gt;18 -->\n",
       "<g id=\"edge18\" class=\"edge\">\n",
       "<title>17&#45;&gt;18</title>\n",
       "<path fill=\"none\" stroke=\"black\" d=\"M1159.25,-222.91C1152.87,-211.76 1145.94,-199.66 1139.52,-188.44\"/>\n",
       "<polygon fill=\"black\" stroke=\"black\" points=\"1142.5,-186.61 1134.49,-179.67 1136.43,-190.08 1142.5,-186.61\"/>\n",
       "</g>\n",
       "<!-- 19 -->\n",
       "<g id=\"node20\" class=\"node\">\n",
       "<title>19</title>\n",
       "<path fill=\"#399de5\" stroke=\"black\" d=\"M1308.5,-179.5C1308.5,-179.5 1210.5,-179.5 1210.5,-179.5 1204.5,-179.5 1198.5,-173.5 1198.5,-167.5 1198.5,-167.5 1198.5,-123.5 1198.5,-123.5 1198.5,-117.5 1204.5,-111.5 1210.5,-111.5 1210.5,-111.5 1308.5,-111.5 1308.5,-111.5 1314.5,-111.5 1320.5,-117.5 1320.5,-123.5 1320.5,-123.5 1320.5,-167.5 1320.5,-167.5 1320.5,-173.5 1314.5,-179.5 1308.5,-179.5\"/>\n",
       "<text text-anchor=\"start\" x=\"1211\" y=\"-164.3\" font-family=\"Helvetica,sans-Serif\" font-size=\"14.00\">entropy = 0.0</text>\n",
       "<text text-anchor=\"start\" x=\"1215.5\" y=\"-149.3\" font-family=\"Helvetica,sans-Serif\" font-size=\"14.00\">samples = 8</text>\n",
       "<text text-anchor=\"start\" x=\"1211\" y=\"-134.3\" font-family=\"Helvetica,sans-Serif\" font-size=\"14.00\">value = [0, 8]</text>\n",
       "<text text-anchor=\"start\" x=\"1206.5\" y=\"-119.3\" font-family=\"Helvetica,sans-Serif\" font-size=\"14.00\">class = Normal</text>\n",
       "</g>\n",
       "<!-- 17&#45;&gt;19 -->\n",
       "<g id=\"edge19\" class=\"edge\">\n",
       "<title>17&#45;&gt;19</title>\n",
       "<path fill=\"none\" stroke=\"black\" d=\"M1209.21,-222.91C1216.62,-211.65 1224.67,-199.42 1232.12,-188.11\"/>\n",
       "<polygon fill=\"black\" stroke=\"black\" points=\"1235.1,-189.94 1237.67,-179.67 1229.25,-186.1 1235.1,-189.94\"/>\n",
       "</g>\n",
       "<!-- 21 -->\n",
       "<g id=\"node22\" class=\"node\">\n",
       "<title>21</title>\n",
       "<path fill=\"#fbebdf\" stroke=\"black\" d=\"M1458,-187C1458,-187 1351,-187 1351,-187 1345,-187 1339,-181 1339,-175 1339,-175 1339,-116 1339,-116 1339,-110 1345,-104 1351,-104 1351,-104 1458,-104 1458,-104 1464,-104 1470,-110 1470,-116 1470,-116 1470,-175 1470,-175 1470,-181 1464,-187 1458,-187\"/>\n",
       "<text text-anchor=\"start\" x=\"1357.5\" y=\"-171.8\" font-family=\"Helvetica,sans-Serif\" font-size=\"14.00\">Female ≤ 0.5</text>\n",
       "<text text-anchor=\"start\" x=\"1347\" y=\"-156.8\" font-family=\"Helvetica,sans-Serif\" font-size=\"14.00\">entropy = 0.994</text>\n",
       "<text text-anchor=\"start\" x=\"1351.5\" y=\"-141.8\" font-family=\"Helvetica,sans-Serif\" font-size=\"14.00\">samples = 136</text>\n",
       "<text text-anchor=\"start\" x=\"1347\" y=\"-126.8\" font-family=\"Helvetica,sans-Serif\" font-size=\"14.00\">value = [74, 62]</text>\n",
       "<text text-anchor=\"start\" x=\"1348\" y=\"-111.8\" font-family=\"Helvetica,sans-Serif\" font-size=\"14.00\">class = Member</text>\n",
       "</g>\n",
       "<!-- 20&#45;&gt;21 -->\n",
       "<g id=\"edge21\" class=\"edge\">\n",
       "<title>20&#45;&gt;21</title>\n",
       "<path fill=\"none\" stroke=\"black\" d=\"M1404.5,-222.91C1404.5,-214.65 1404.5,-205.86 1404.5,-197.3\"/>\n",
       "<polygon fill=\"black\" stroke=\"black\" points=\"1408,-197.02 1404.5,-187.02 1401,-197.02 1408,-197.02\"/>\n",
       "</g>\n",
       "<!-- 24 -->\n",
       "<g id=\"node25\" class=\"node\">\n",
       "<title>24</title>\n",
       "<path fill=\"#f1bd98\" stroke=\"black\" d=\"M1607,-187C1607,-187 1500,-187 1500,-187 1494,-187 1488,-181 1488,-175 1488,-175 1488,-116 1488,-116 1488,-110 1494,-104 1500,-104 1500,-104 1607,-104 1607,-104 1613,-104 1619,-110 1619,-116 1619,-116 1619,-175 1619,-175 1619,-181 1613,-187 1607,-187\"/>\n",
       "<text text-anchor=\"start\" x=\"1501.5\" y=\"-171.8\" font-family=\"Helvetica,sans-Serif\" font-size=\"14.00\">Quantity ≤ 9.5</text>\n",
       "<text text-anchor=\"start\" x=\"1496\" y=\"-156.8\" font-family=\"Helvetica,sans-Serif\" font-size=\"14.00\">entropy = 0.909</text>\n",
       "<text text-anchor=\"start\" x=\"1505\" y=\"-141.8\" font-family=\"Helvetica,sans-Serif\" font-size=\"14.00\">samples = 71</text>\n",
       "<text text-anchor=\"start\" x=\"1496\" y=\"-126.8\" font-family=\"Helvetica,sans-Serif\" font-size=\"14.00\">value = [48, 23]</text>\n",
       "<text text-anchor=\"start\" x=\"1497\" y=\"-111.8\" font-family=\"Helvetica,sans-Serif\" font-size=\"14.00\">class = Member</text>\n",
       "</g>\n",
       "<!-- 20&#45;&gt;24 -->\n",
       "<g id=\"edge24\" class=\"edge\">\n",
       "<title>20&#45;&gt;24</title>\n",
       "<path fill=\"none\" stroke=\"black\" d=\"M1456.19,-222.91C1468.33,-213.38 1481.36,-203.15 1493.81,-193.37\"/>\n",
       "<polygon fill=\"black\" stroke=\"black\" points=\"1496.19,-195.95 1501.9,-187.02 1491.87,-190.44 1496.19,-195.95\"/>\n",
       "</g>\n",
       "<!-- 22 -->\n",
       "<g id=\"node23\" class=\"node\">\n",
       "<title>22</title>\n",
       "<path fill=\"#fefbf9\" stroke=\"black\" d=\"M1309,-68C1309,-68 1202,-68 1202,-68 1196,-68 1190,-62 1190,-56 1190,-56 1190,-12 1190,-12 1190,-6 1196,0 1202,0 1202,0 1309,0 1309,0 1315,0 1321,-6 1321,-12 1321,-12 1321,-56 1321,-56 1321,-62 1315,-68 1309,-68\"/>\n",
       "<text text-anchor=\"start\" x=\"1207\" y=\"-52.8\" font-family=\"Helvetica,sans-Serif\" font-size=\"14.00\">entropy = 1.0</text>\n",
       "<text text-anchor=\"start\" x=\"1207\" y=\"-37.8\" font-family=\"Helvetica,sans-Serif\" font-size=\"14.00\">samples = 65</text>\n",
       "<text text-anchor=\"start\" x=\"1198\" y=\"-22.8\" font-family=\"Helvetica,sans-Serif\" font-size=\"14.00\">value = [33, 32]</text>\n",
       "<text text-anchor=\"start\" x=\"1199\" y=\"-7.8\" font-family=\"Helvetica,sans-Serif\" font-size=\"14.00\">class = Member</text>\n",
       "</g>\n",
       "<!-- 21&#45;&gt;22 -->\n",
       "<g id=\"edge22\" class=\"edge\">\n",
       "<title>21&#45;&gt;22</title>\n",
       "<path fill=\"none\" stroke=\"black\" d=\"M1349.02,-103.73C1335.99,-94.15 1322.12,-83.96 1309.17,-74.44\"/>\n",
       "<polygon fill=\"black\" stroke=\"black\" points=\"1310.94,-71.4 1300.81,-68.3 1306.8,-77.04 1310.94,-71.4\"/>\n",
       "</g>\n",
       "<!-- 23 -->\n",
       "<g id=\"node24\" class=\"node\">\n",
       "<title>23</title>\n",
       "<path fill=\"#f8ddca\" stroke=\"black\" d=\"M1458,-68C1458,-68 1351,-68 1351,-68 1345,-68 1339,-62 1339,-56 1339,-56 1339,-12 1339,-12 1339,-6 1345,0 1351,0 1351,0 1458,0 1458,0 1464,0 1470,-6 1470,-12 1470,-12 1470,-56 1470,-56 1470,-62 1464,-68 1458,-68\"/>\n",
       "<text text-anchor=\"start\" x=\"1347\" y=\"-52.8\" font-family=\"Helvetica,sans-Serif\" font-size=\"14.00\">entropy = 0.983</text>\n",
       "<text text-anchor=\"start\" x=\"1356\" y=\"-37.8\" font-family=\"Helvetica,sans-Serif\" font-size=\"14.00\">samples = 71</text>\n",
       "<text text-anchor=\"start\" x=\"1347\" y=\"-22.8\" font-family=\"Helvetica,sans-Serif\" font-size=\"14.00\">value = [41, 30]</text>\n",
       "<text text-anchor=\"start\" x=\"1348\" y=\"-7.8\" font-family=\"Helvetica,sans-Serif\" font-size=\"14.00\">class = Member</text>\n",
       "</g>\n",
       "<!-- 21&#45;&gt;23 -->\n",
       "<g id=\"edge23\" class=\"edge\">\n",
       "<title>21&#45;&gt;23</title>\n",
       "<path fill=\"none\" stroke=\"black\" d=\"M1404.5,-103.73C1404.5,-95.52 1404.5,-86.86 1404.5,-78.56\"/>\n",
       "<polygon fill=\"black\" stroke=\"black\" points=\"1408,-78.3 1404.5,-68.3 1401,-78.3 1408,-78.3\"/>\n",
       "</g>\n",
       "<!-- 25 -->\n",
       "<g id=\"node26\" class=\"node\">\n",
       "<title>25</title>\n",
       "<path fill=\"#efb082\" stroke=\"black\" d=\"M1607,-68C1607,-68 1500,-68 1500,-68 1494,-68 1488,-62 1488,-56 1488,-56 1488,-12 1488,-12 1488,-6 1494,0 1500,0 1500,0 1607,0 1607,0 1613,0 1619,-6 1619,-12 1619,-12 1619,-56 1619,-56 1619,-62 1613,-68 1607,-68\"/>\n",
       "<text text-anchor=\"start\" x=\"1496\" y=\"-52.8\" font-family=\"Helvetica,sans-Serif\" font-size=\"14.00\">entropy = 0.842</text>\n",
       "<text text-anchor=\"start\" x=\"1505\" y=\"-37.8\" font-family=\"Helvetica,sans-Serif\" font-size=\"14.00\">samples = 37</text>\n",
       "<text text-anchor=\"start\" x=\"1496\" y=\"-22.8\" font-family=\"Helvetica,sans-Serif\" font-size=\"14.00\">value = [27, 10]</text>\n",
       "<text text-anchor=\"start\" x=\"1497\" y=\"-7.8\" font-family=\"Helvetica,sans-Serif\" font-size=\"14.00\">class = Member</text>\n",
       "</g>\n",
       "<!-- 24&#45;&gt;25 -->\n",
       "<g id=\"edge25\" class=\"edge\">\n",
       "<title>24&#45;&gt;25</title>\n",
       "<path fill=\"none\" stroke=\"black\" d=\"M1553.5,-103.73C1553.5,-95.52 1553.5,-86.86 1553.5,-78.56\"/>\n",
       "<polygon fill=\"black\" stroke=\"black\" points=\"1557,-78.3 1553.5,-68.3 1550,-78.3 1557,-78.3\"/>\n",
       "</g>\n",
       "<!-- 26 -->\n",
       "<g id=\"node27\" class=\"node\">\n",
       "<title>26</title>\n",
       "<path fill=\"#f5cfb4\" stroke=\"black\" d=\"M1756,-68C1756,-68 1649,-68 1649,-68 1643,-68 1637,-62 1637,-56 1637,-56 1637,-12 1637,-12 1637,-6 1643,0 1649,0 1649,0 1756,0 1756,0 1762,0 1768,-6 1768,-12 1768,-12 1768,-56 1768,-56 1768,-62 1762,-68 1756,-68\"/>\n",
       "<text text-anchor=\"start\" x=\"1649.5\" y=\"-52.8\" font-family=\"Helvetica,sans-Serif\" font-size=\"14.00\">entropy = 0.96</text>\n",
       "<text text-anchor=\"start\" x=\"1654\" y=\"-37.8\" font-family=\"Helvetica,sans-Serif\" font-size=\"14.00\">samples = 34</text>\n",
       "<text text-anchor=\"start\" x=\"1645\" y=\"-22.8\" font-family=\"Helvetica,sans-Serif\" font-size=\"14.00\">value = [21, 13]</text>\n",
       "<text text-anchor=\"start\" x=\"1646\" y=\"-7.8\" font-family=\"Helvetica,sans-Serif\" font-size=\"14.00\">class = Member</text>\n",
       "</g>\n",
       "<!-- 24&#45;&gt;26 -->\n",
       "<g id=\"edge26\" class=\"edge\">\n",
       "<title>24&#45;&gt;26</title>\n",
       "<path fill=\"none\" stroke=\"black\" d=\"M1608.98,-103.73C1622.01,-94.15 1635.88,-83.96 1648.83,-74.44\"/>\n",
       "<polygon fill=\"black\" stroke=\"black\" points=\"1651.2,-77.04 1657.19,-68.3 1647.06,-71.4 1651.2,-77.04\"/>\n",
       "</g>\n",
       "</g>\n",
       "</svg>\n"
      ],
      "text/plain": [
       "<graphviz.sources.Source at 0x7f46a252dfa0>"
      ]
     },
     "execution_count": 48,
     "metadata": {},
     "output_type": "execute_result"
    }
   ],
   "source": [
    "# transform dot file to graph\n",
    "graph_1 = graphviz.Source(dot_data_1)\n",
    "graph_1"
   ]
  },
  {
   "cell_type": "code",
   "execution_count": 49,
   "id": "dbb02c74",
   "metadata": {},
   "outputs": [
    {
     "data": {
      "text/plain": [
       "'Tuned_DT.pdf'"
      ]
     },
     "execution_count": 49,
     "metadata": {},
     "output_type": "execute_result"
    }
   ],
   "source": [
    "# store graph in pdf\n",
    "graph_1.render(\"Tuned_DT\")"
   ]
  },
  {
   "cell_type": "markdown",
   "id": "9942dd53",
   "metadata": {},
   "source": [
    "### Alternative Way of Testing Accuracy: Cross Validation"
   ]
  },
  {
   "cell_type": "code",
   "execution_count": 50,
   "id": "5b83e0fb",
   "metadata": {},
   "outputs": [],
   "source": [
    "# import cross-validation function\n",
    "from sklearn.model_selection import cross_val_score"
   ]
  },
  {
   "cell_type": "code",
   "execution_count": 51,
   "id": "3d6bcb5e",
   "metadata": {},
   "outputs": [],
   "source": [
    "# do 10-fold cross-validation (by default cv=5)\n",
    "score_cv = cross_val_score(fullmodel, X, y, cv=5)"
   ]
  },
  {
   "cell_type": "code",
   "execution_count": 52,
   "id": "21adc5c3",
   "metadata": {},
   "outputs": [
    {
     "name": "stdout",
     "output_type": "stream",
     "text": [
      "[0.54  0.49  0.515 0.55  0.49 ]\n"
     ]
    }
   ],
   "source": [
    "# check the accuracy result from each run of cross-validation\n",
    "print(score_cv)"
   ]
  },
  {
   "cell_type": "code",
   "execution_count": 53,
   "id": "44b9cf78",
   "metadata": {},
   "outputs": [
    {
     "data": {
      "text/plain": [
       "0.517"
      ]
     },
     "execution_count": 53,
     "metadata": {},
     "output_type": "execute_result"
    }
   ],
   "source": [
    "# average of the accuracy result\n",
    "score_cv.mean()"
   ]
  },
  {
   "cell_type": "code",
   "execution_count": 54,
   "id": "8678c58c",
   "metadata": {},
   "outputs": [
    {
     "data": {
      "text/plain": [
       "0.535"
      ]
     },
     "execution_count": 54,
     "metadata": {},
     "output_type": "execute_result"
    }
   ],
   "source": [
    "score_cv_tuned = cross_val_score(model_1, X, y, cv=5)\n",
    "score_cv_tuned.mean()"
   ]
  },
  {
   "cell_type": "code",
   "execution_count": 55,
   "id": "313835fd",
   "metadata": {},
   "outputs": [
    {
     "data": {
      "text/plain": [
       "array([0.555, 0.505, 0.585, 0.515, 0.515])"
      ]
     },
     "execution_count": 55,
     "metadata": {},
     "output_type": "execute_result"
    }
   ],
   "source": [
    "score_cv_tuned"
   ]
  },
  {
   "cell_type": "markdown",
   "id": "21c95c0f",
   "metadata": {},
   "source": [
    "### Finding Optimal Parameters: Grid  Search"
   ]
  },
  {
   "cell_type": "code",
   "execution_count": 56,
   "id": "4728d60c",
   "metadata": {},
   "outputs": [],
   "source": [
    "# package for exhaustive grid search\n",
    "\n",
    "from sklearn.model_selection import GridSearchCV"
   ]
  },
  {
   "cell_type": "code",
   "execution_count": 57,
   "id": "1502bc3c",
   "metadata": {},
   "outputs": [],
   "source": [
    "# start with an initial guess for parameters\n",
    "    # first grid search assessed 4 × 4 × 5 = 80 combinations\n",
    "    \n",
    "param_grid = {\n",
    "'max_depth': [10, 20, 30, 40], # 4 values\n",
    "'min_samples_split': [10, 20, 30, 40], # 4 values\n",
    "'min_samples_leaf': [5, 10, 15, 20, 25], # 5 values\n",
    "} \n",
    "\n",
    "\n",
    "# grid search with 5-fold cross-validation \n",
    "# n_jobs: number of jobs to run in parallel. -1 means using all processors\n",
    "\n",
    "gridSearch = GridSearchCV(DecisionTreeClassifier(random_state=123),\n",
    " param_grid, cv=5, n_jobs=-1) "
   ]
  },
  {
   "cell_type": "code",
   "execution_count": 58,
   "id": "22ab7f63",
   "metadata": {},
   "outputs": [
    {
     "name": "stdout",
     "output_type": "stream",
     "text": [
      "Initial score:  0.54\n",
      "Initial parameters:  {'max_depth': 10, 'min_samples_leaf': 25, 'min_samples_split': 10}\n"
     ]
    }
   ],
   "source": [
    "gridSearch.fit(X_train, y_train)\n",
    "print('Initial score: ', gridSearch.best_score_)\n",
    "print('Initial parameters: ', gridSearch.best_params_)"
   ]
  },
  {
   "cell_type": "code",
   "execution_count": 59,
   "id": "5913ea38",
   "metadata": {},
   "outputs": [],
   "source": [
    "# Adapt grid based on result from initial grid search\n",
    "    # exhaustively search value around initial best parameters\n",
    "    # first grid search assessed 13 × 10 × 10 = 1300 combinations\n",
    "\n",
    "param_grid_best = {\n",
    "'max_depth': list(range(2, 15)), # 13 values\n",
    "'min_samples_split': list(range(5, 15)), # 10 values\n",
    "'min_samples_leaf': list(range(20, 30)), # 10 values\n",
    "}"
   ]
  },
  {
   "cell_type": "code",
   "execution_count": 60,
   "id": "bd7fbed3",
   "metadata": {},
   "outputs": [
    {
     "name": "stdout",
     "output_type": "stream",
     "text": [
      "Improved score:  0.5414285714285715\n",
      "Improved parameters:  {'max_depth': 5, 'min_samples_leaf': 25, 'min_samples_split': 5}\n"
     ]
    }
   ],
   "source": [
    "gridSearch = GridSearchCV(DecisionTreeClassifier(random_state=123), param_grid_best, cv=5, n_jobs=-1)\n",
    "gridSearch.fit(X_train, y_train)\n",
    "print('Improved score: ', gridSearch.best_score_)\n",
    "print('Improved parameters: ', gridSearch.best_params_)"
   ]
  },
  {
   "cell_type": "code",
   "execution_count": 61,
   "id": "a84cd08b",
   "metadata": {},
   "outputs": [],
   "source": [
    "# record tree with best parameters\n",
    "bestClassTree = gridSearch.best_estimator_\n",
    "\n",
    "# create dot file\n",
    "dot_best = tree.export_graphviz(bestClassTree, feature_names=features, class_names\n",
    "=target_names, filled = True, rounded=True, special_characters=True)"
   ]
  },
  {
   "cell_type": "code",
   "execution_count": 62,
   "id": "06a1fdcd",
   "metadata": {},
   "outputs": [
    {
     "data": {
      "image/svg+xml": [
       "<?xml version=\"1.0\" encoding=\"UTF-8\" standalone=\"no\"?>\n",
       "<!DOCTYPE svg PUBLIC \"-//W3C//DTD SVG 1.1//EN\"\n",
       " \"http://www.w3.org/Graphics/SVG/1.1/DTD/svg11.dtd\">\n",
       "<!-- Generated by graphviz version 2.50.0 (20220117.2223)\n",
       " -->\n",
       "<!-- Title: Tree Pages: 1 -->\n",
       "<svg width=\"1555pt\" height=\"671pt\"\n",
       " viewBox=\"0.00 0.00 1555.00 671.00\" xmlns=\"http://www.w3.org/2000/svg\" xmlns:xlink=\"http://www.w3.org/1999/xlink\">\n",
       "<g id=\"graph0\" class=\"graph\" transform=\"scale(1 1) rotate(0) translate(4 667)\">\n",
       "<title>Tree</title>\n",
       "<polygon fill=\"white\" stroke=\"transparent\" points=\"-4,4 -4,-667 1551,-667 1551,4 -4,4\"/>\n",
       "<!-- 0 -->\n",
       "<g id=\"node1\" class=\"node\">\n",
       "<title>0</title>\n",
       "<path fill=\"#fffefd\" stroke=\"black\" d=\"M866,-663C866,-663 741,-663 741,-663 735,-663 729,-657 729,-651 729,-651 729,-592 729,-592 729,-586 735,-580 741,-580 741,-580 866,-580 866,-580 872,-580 878,-586 878,-592 878,-592 878,-651 878,-651 878,-657 872,-663 866,-663\"/>\n",
       "<text text-anchor=\"start\" x=\"743.5\" y=\"-647.8\" font-family=\"Helvetica,sans-Serif\" font-size=\"14.00\">Credit card ≤ 0.5</text>\n",
       "<text text-anchor=\"start\" x=\"768.5\" y=\"-632.8\" font-family=\"Helvetica,sans-Serif\" font-size=\"14.00\">gini = 0.5</text>\n",
       "<text text-anchor=\"start\" x=\"750.5\" y=\"-617.8\" font-family=\"Helvetica,sans-Serif\" font-size=\"14.00\">samples = 700</text>\n",
       "<text text-anchor=\"start\" x=\"737\" y=\"-602.8\" font-family=\"Helvetica,sans-Serif\" font-size=\"14.00\">value = [352, 348]</text>\n",
       "<text text-anchor=\"start\" x=\"747\" y=\"-587.8\" font-family=\"Helvetica,sans-Serif\" font-size=\"14.00\">class = Member</text>\n",
       "</g>\n",
       "<!-- 1 -->\n",
       "<g id=\"node2\" class=\"node\">\n",
       "<title>1</title>\n",
       "<path fill=\"#ebf5fc\" stroke=\"black\" d=\"M726,-544C726,-544 601,-544 601,-544 595,-544 589,-538 589,-532 589,-532 589,-473 589,-473 589,-467 595,-461 601,-461 601,-461 726,-461 726,-461 732,-461 738,-467 738,-473 738,-473 738,-532 738,-532 738,-538 732,-544 726,-544\"/>\n",
       "<text text-anchor=\"start\" x=\"616.5\" y=\"-528.8\" font-family=\"Helvetica,sans-Serif\" font-size=\"14.00\">Female ≤ 0.5</text>\n",
       "<text text-anchor=\"start\" x=\"619.5\" y=\"-513.8\" font-family=\"Helvetica,sans-Serif\" font-size=\"14.00\">gini = 0.499</text>\n",
       "<text text-anchor=\"start\" x=\"610.5\" y=\"-498.8\" font-family=\"Helvetica,sans-Serif\" font-size=\"14.00\">samples = 473</text>\n",
       "<text text-anchor=\"start\" x=\"597\" y=\"-483.8\" font-family=\"Helvetica,sans-Serif\" font-size=\"14.00\">value = [224, 249]</text>\n",
       "<text text-anchor=\"start\" x=\"610.5\" y=\"-468.8\" font-family=\"Helvetica,sans-Serif\" font-size=\"14.00\">class = Normal</text>\n",
       "</g>\n",
       "<!-- 0&#45;&gt;1 -->\n",
       "<g id=\"edge1\" class=\"edge\">\n",
       "<title>0&#45;&gt;1</title>\n",
       "<path fill=\"none\" stroke=\"black\" d=\"M754.93,-579.91C743.63,-570.47 731.52,-560.34 719.92,-550.65\"/>\n",
       "<polygon fill=\"black\" stroke=\"black\" points=\"721.9,-547.75 711.99,-544.02 717.42,-553.12 721.9,-547.75\"/>\n",
       "<text text-anchor=\"middle\" x=\"714.21\" y=\"-565.22\" font-family=\"Helvetica,sans-Serif\" font-size=\"14.00\">True</text>\n",
       "</g>\n",
       "<!-- 20 -->\n",
       "<g id=\"node21\" class=\"node\">\n",
       "<title>20</title>\n",
       "<path fill=\"#f9e2d2\" stroke=\"black\" d=\"M1015.5,-544C1015.5,-544 899.5,-544 899.5,-544 893.5,-544 887.5,-538 887.5,-532 887.5,-532 887.5,-473 887.5,-473 887.5,-467 893.5,-461 899.5,-461 899.5,-461 1015.5,-461 1015.5,-461 1021.5,-461 1027.5,-467 1027.5,-473 1027.5,-473 1027.5,-532 1027.5,-532 1027.5,-538 1021.5,-544 1015.5,-544\"/>\n",
       "<text text-anchor=\"start\" x=\"905.5\" y=\"-528.8\" font-family=\"Helvetica,sans-Serif\" font-size=\"14.00\">Quantity ≤ 3.5</text>\n",
       "<text text-anchor=\"start\" x=\"913.5\" y=\"-513.8\" font-family=\"Helvetica,sans-Serif\" font-size=\"14.00\">gini = 0.492</text>\n",
       "<text text-anchor=\"start\" x=\"904.5\" y=\"-498.8\" font-family=\"Helvetica,sans-Serif\" font-size=\"14.00\">samples = 227</text>\n",
       "<text text-anchor=\"start\" x=\"895.5\" y=\"-483.8\" font-family=\"Helvetica,sans-Serif\" font-size=\"14.00\">value = [128, 99]</text>\n",
       "<text text-anchor=\"start\" x=\"901\" y=\"-468.8\" font-family=\"Helvetica,sans-Serif\" font-size=\"14.00\">class = Member</text>\n",
       "</g>\n",
       "<!-- 0&#45;&gt;20 -->\n",
       "<g id=\"edge20\" class=\"edge\">\n",
       "<title>0&#45;&gt;20</title>\n",
       "<path fill=\"none\" stroke=\"black\" d=\"M856.93,-579.91C869.59,-570.29 883.19,-559.95 896.18,-550.09\"/>\n",
       "<polygon fill=\"black\" stroke=\"black\" points=\"898.32,-552.86 904.16,-544.02 894.08,-547.28 898.32,-552.86\"/>\n",
       "<text text-anchor=\"middle\" x=\"900.78\" y=\"-565.09\" font-family=\"Helvetica,sans-Serif\" font-size=\"14.00\">False</text>\n",
       "</g>\n",
       "<!-- 2 -->\n",
       "<g id=\"node3\" class=\"node\">\n",
       "<title>2</title>\n",
       "<path fill=\"#d3e9f9\" stroke=\"black\" d=\"M501,-425C501,-425 376,-425 376,-425 370,-425 364,-419 364,-413 364,-413 364,-354 364,-354 364,-348 370,-342 376,-342 376,-342 501,-342 501,-342 507,-342 513,-348 513,-354 513,-354 513,-413 513,-413 513,-419 507,-425 501,-425\"/>\n",
       "<text text-anchor=\"start\" x=\"386.5\" y=\"-409.8\" font-family=\"Helvetica,sans-Serif\" font-size=\"14.00\">Quantity ≤ 8.5</text>\n",
       "<text text-anchor=\"start\" x=\"394.5\" y=\"-394.8\" font-family=\"Helvetica,sans-Serif\" font-size=\"14.00\">gini = 0.492</text>\n",
       "<text text-anchor=\"start\" x=\"385.5\" y=\"-379.8\" font-family=\"Helvetica,sans-Serif\" font-size=\"14.00\">samples = 242</text>\n",
       "<text text-anchor=\"start\" x=\"372\" y=\"-364.8\" font-family=\"Helvetica,sans-Serif\" font-size=\"14.00\">value = [106, 136]</text>\n",
       "<text text-anchor=\"start\" x=\"385.5\" y=\"-349.8\" font-family=\"Helvetica,sans-Serif\" font-size=\"14.00\">class = Normal</text>\n",
       "</g>\n",
       "<!-- 1&#45;&gt;2 -->\n",
       "<g id=\"edge2\" class=\"edge\">\n",
       "<title>1&#45;&gt;2</title>\n",
       "<path fill=\"none\" stroke=\"black\" d=\"M588.89,-462.7C567.53,-451.6 544.1,-439.41 522.23,-428.04\"/>\n",
       "<polygon fill=\"black\" stroke=\"black\" points=\"523.78,-424.9 513.29,-423.39 520.55,-431.11 523.78,-424.9\"/>\n",
       "</g>\n",
       "<!-- 9 -->\n",
       "<g id=\"node10\" class=\"node\">\n",
       "<title>9</title>\n",
       "<path fill=\"#fefaf7\" stroke=\"black\" d=\"M726,-425C726,-425 601,-425 601,-425 595,-425 589,-419 589,-413 589,-413 589,-354 589,-354 589,-348 595,-342 601,-342 601,-342 726,-342 726,-342 732,-342 738,-348 738,-354 738,-354 738,-413 738,-413 738,-419 732,-425 726,-425\"/>\n",
       "<text text-anchor=\"start\" x=\"611.5\" y=\"-409.8\" font-family=\"Helvetica,sans-Serif\" font-size=\"14.00\">Quantity ≤ 3.5</text>\n",
       "<text text-anchor=\"start\" x=\"628.5\" y=\"-394.8\" font-family=\"Helvetica,sans-Serif\" font-size=\"14.00\">gini = 0.5</text>\n",
       "<text text-anchor=\"start\" x=\"610.5\" y=\"-379.8\" font-family=\"Helvetica,sans-Serif\" font-size=\"14.00\">samples = 231</text>\n",
       "<text text-anchor=\"start\" x=\"597\" y=\"-364.8\" font-family=\"Helvetica,sans-Serif\" font-size=\"14.00\">value = [118, 113]</text>\n",
       "<text text-anchor=\"start\" x=\"607\" y=\"-349.8\" font-family=\"Helvetica,sans-Serif\" font-size=\"14.00\">class = Member</text>\n",
       "</g>\n",
       "<!-- 1&#45;&gt;9 -->\n",
       "<g id=\"edge9\" class=\"edge\">\n",
       "<title>1&#45;&gt;9</title>\n",
       "<path fill=\"none\" stroke=\"black\" d=\"M663.5,-460.91C663.5,-452.65 663.5,-443.86 663.5,-435.3\"/>\n",
       "<polygon fill=\"black\" stroke=\"black\" points=\"667,-435.02 663.5,-425.02 660,-435.02 667,-435.02\"/>\n",
       "</g>\n",
       "<!-- 3 -->\n",
       "<g id=\"node4\" class=\"node\">\n",
       "<title>3</title>\n",
       "<path fill=\"#c4e2f7\" stroke=\"black\" d=\"M342.5,-306C342.5,-306 226.5,-306 226.5,-306 220.5,-306 214.5,-300 214.5,-294 214.5,-294 214.5,-235 214.5,-235 214.5,-229 220.5,-223 226.5,-223 226.5,-223 342.5,-223 342.5,-223 348.5,-223 354.5,-229 354.5,-235 354.5,-235 354.5,-294 354.5,-294 354.5,-300 348.5,-306 342.5,-306\"/>\n",
       "<text text-anchor=\"start\" x=\"232.5\" y=\"-290.8\" font-family=\"Helvetica,sans-Serif\" font-size=\"14.00\">Quantity ≤ 6.5</text>\n",
       "<text text-anchor=\"start\" x=\"240.5\" y=\"-275.8\" font-family=\"Helvetica,sans-Serif\" font-size=\"14.00\">gini = 0.485</text>\n",
       "<text text-anchor=\"start\" x=\"231.5\" y=\"-260.8\" font-family=\"Helvetica,sans-Serif\" font-size=\"14.00\">samples = 196</text>\n",
       "<text text-anchor=\"start\" x=\"222.5\" y=\"-245.8\" font-family=\"Helvetica,sans-Serif\" font-size=\"14.00\">value = [81, 115]</text>\n",
       "<text text-anchor=\"start\" x=\"231.5\" y=\"-230.8\" font-family=\"Helvetica,sans-Serif\" font-size=\"14.00\">class = Normal</text>\n",
       "</g>\n",
       "<!-- 2&#45;&gt;3 -->\n",
       "<g id=\"edge3\" class=\"edge\">\n",
       "<title>2&#45;&gt;3</title>\n",
       "<path fill=\"none\" stroke=\"black\" d=\"M385.07,-341.91C372.41,-332.29 358.81,-321.95 345.82,-312.09\"/>\n",
       "<polygon fill=\"black\" stroke=\"black\" points=\"347.92,-309.28 337.84,-306.02 343.68,-314.86 347.92,-309.28\"/>\n",
       "</g>\n",
       "<!-- 8 -->\n",
       "<g id=\"node9\" class=\"node\">\n",
       "<title>8</title>\n",
       "<path fill=\"#fbebdf\" stroke=\"black\" d=\"M492,-298.5C492,-298.5 385,-298.5 385,-298.5 379,-298.5 373,-292.5 373,-286.5 373,-286.5 373,-242.5 373,-242.5 373,-236.5 379,-230.5 385,-230.5 385,-230.5 492,-230.5 492,-230.5 498,-230.5 504,-236.5 504,-242.5 504,-242.5 504,-286.5 504,-286.5 504,-292.5 498,-298.5 492,-298.5\"/>\n",
       "<text text-anchor=\"start\" x=\"394.5\" y=\"-283.3\" font-family=\"Helvetica,sans-Serif\" font-size=\"14.00\">gini = 0.496</text>\n",
       "<text text-anchor=\"start\" x=\"390\" y=\"-268.3\" font-family=\"Helvetica,sans-Serif\" font-size=\"14.00\">samples = 46</text>\n",
       "<text text-anchor=\"start\" x=\"381\" y=\"-253.3\" font-family=\"Helvetica,sans-Serif\" font-size=\"14.00\">value = [25, 21]</text>\n",
       "<text text-anchor=\"start\" x=\"382\" y=\"-238.3\" font-family=\"Helvetica,sans-Serif\" font-size=\"14.00\">class = Member</text>\n",
       "</g>\n",
       "<!-- 2&#45;&gt;8 -->\n",
       "<g id=\"edge8\" class=\"edge\">\n",
       "<title>2&#45;&gt;8</title>\n",
       "<path fill=\"none\" stroke=\"black\" d=\"M438.5,-341.91C438.5,-331.2 438.5,-319.62 438.5,-308.78\"/>\n",
       "<polygon fill=\"black\" stroke=\"black\" points=\"442,-308.67 438.5,-298.67 435,-308.67 442,-308.67\"/>\n",
       "</g>\n",
       "<!-- 4 -->\n",
       "<g id=\"node5\" class=\"node\">\n",
       "<title>4</title>\n",
       "<path fill=\"#d9ecfa\" stroke=\"black\" d=\"M193,-187C193,-187 86,-187 86,-187 80,-187 74,-181 74,-175 74,-175 74,-116 74,-116 74,-110 80,-104 86,-104 86,-104 193,-104 193,-104 199,-104 205,-110 205,-116 205,-116 205,-175 205,-175 205,-181 199,-187 193,-187\"/>\n",
       "<text text-anchor=\"start\" x=\"87.5\" y=\"-171.8\" font-family=\"Helvetica,sans-Serif\" font-size=\"14.00\">Quantity ≤ 5.5</text>\n",
       "<text text-anchor=\"start\" x=\"95.5\" y=\"-156.8\" font-family=\"Helvetica,sans-Serif\" font-size=\"14.00\">gini = 0.494</text>\n",
       "<text text-anchor=\"start\" x=\"86.5\" y=\"-141.8\" font-family=\"Helvetica,sans-Serif\" font-size=\"14.00\">samples = 152</text>\n",
       "<text text-anchor=\"start\" x=\"82\" y=\"-126.8\" font-family=\"Helvetica,sans-Serif\" font-size=\"14.00\">value = [68, 84]</text>\n",
       "<text text-anchor=\"start\" x=\"86.5\" y=\"-111.8\" font-family=\"Helvetica,sans-Serif\" font-size=\"14.00\">class = Normal</text>\n",
       "</g>\n",
       "<!-- 3&#45;&gt;4 -->\n",
       "<g id=\"edge4\" class=\"edge\">\n",
       "<title>3&#45;&gt;4</title>\n",
       "<path fill=\"none\" stroke=\"black\" d=\"M234.19,-222.91C222.38,-213.38 209.71,-203.15 197.59,-193.37\"/>\n",
       "<polygon fill=\"black\" stroke=\"black\" points=\"199.7,-190.58 189.72,-187.02 195.3,-196.02 199.7,-190.58\"/>\n",
       "</g>\n",
       "<!-- 7 -->\n",
       "<g id=\"node8\" class=\"node\">\n",
       "<title>7</title>\n",
       "<path fill=\"#8cc6f0\" stroke=\"black\" d=\"M342,-179.5C342,-179.5 235,-179.5 235,-179.5 229,-179.5 223,-173.5 223,-167.5 223,-167.5 223,-123.5 223,-123.5 223,-117.5 229,-111.5 235,-111.5 235,-111.5 342,-111.5 342,-111.5 348,-111.5 354,-117.5 354,-123.5 354,-123.5 354,-167.5 354,-167.5 354,-173.5 348,-179.5 342,-179.5\"/>\n",
       "<text text-anchor=\"start\" x=\"244.5\" y=\"-164.3\" font-family=\"Helvetica,sans-Serif\" font-size=\"14.00\">gini = 0.416</text>\n",
       "<text text-anchor=\"start\" x=\"240\" y=\"-149.3\" font-family=\"Helvetica,sans-Serif\" font-size=\"14.00\">samples = 44</text>\n",
       "<text text-anchor=\"start\" x=\"231\" y=\"-134.3\" font-family=\"Helvetica,sans-Serif\" font-size=\"14.00\">value = [13, 31]</text>\n",
       "<text text-anchor=\"start\" x=\"235.5\" y=\"-119.3\" font-family=\"Helvetica,sans-Serif\" font-size=\"14.00\">class = Normal</text>\n",
       "</g>\n",
       "<!-- 3&#45;&gt;7 -->\n",
       "<g id=\"edge7\" class=\"edge\">\n",
       "<title>3&#45;&gt;7</title>\n",
       "<path fill=\"none\" stroke=\"black\" d=\"M285.89,-222.91C286.25,-212.2 286.65,-200.62 287.02,-189.78\"/>\n",
       "<polygon fill=\"black\" stroke=\"black\" points=\"290.52,-189.78 287.37,-179.67 283.53,-189.54 290.52,-189.78\"/>\n",
       "</g>\n",
       "<!-- 5 -->\n",
       "<g id=\"node6\" class=\"node\">\n",
       "<title>5</title>\n",
       "<path fill=\"#e1f0fb\" stroke=\"black\" d=\"M119,-68C119,-68 12,-68 12,-68 6,-68 0,-62 0,-56 0,-56 0,-12 0,-12 0,-6 6,0 12,0 12,0 119,0 119,0 125,0 131,-6 131,-12 131,-12 131,-56 131,-56 131,-62 125,-68 119,-68\"/>\n",
       "<text text-anchor=\"start\" x=\"21.5\" y=\"-52.8\" font-family=\"Helvetica,sans-Serif\" font-size=\"14.00\">gini = 0.497</text>\n",
       "<text text-anchor=\"start\" x=\"12.5\" y=\"-37.8\" font-family=\"Helvetica,sans-Serif\" font-size=\"14.00\">samples = 124</text>\n",
       "<text text-anchor=\"start\" x=\"8\" y=\"-22.8\" font-family=\"Helvetica,sans-Serif\" font-size=\"14.00\">value = [57, 67]</text>\n",
       "<text text-anchor=\"start\" x=\"12.5\" y=\"-7.8\" font-family=\"Helvetica,sans-Serif\" font-size=\"14.00\">class = Normal</text>\n",
       "</g>\n",
       "<!-- 4&#45;&gt;5 -->\n",
       "<g id=\"edge5\" class=\"edge\">\n",
       "<title>4&#45;&gt;5</title>\n",
       "<path fill=\"none\" stroke=\"black\" d=\"M111.95,-103.73C105.97,-94.88 99.63,-85.51 93.63,-76.63\"/>\n",
       "<polygon fill=\"black\" stroke=\"black\" points=\"96.5,-74.63 88,-68.3 90.7,-78.54 96.5,-74.63\"/>\n",
       "</g>\n",
       "<!-- 6 -->\n",
       "<g id=\"node7\" class=\"node\">\n",
       "<title>6</title>\n",
       "<path fill=\"#b9dcf6\" stroke=\"black\" d=\"M268,-68C268,-68 161,-68 161,-68 155,-68 149,-62 149,-56 149,-56 149,-12 149,-12 149,-6 155,0 161,0 161,0 268,0 268,0 274,0 280,-6 280,-12 280,-12 280,-56 280,-56 280,-62 274,-68 268,-68\"/>\n",
       "<text text-anchor=\"start\" x=\"170.5\" y=\"-52.8\" font-family=\"Helvetica,sans-Serif\" font-size=\"14.00\">gini = 0.477</text>\n",
       "<text text-anchor=\"start\" x=\"166\" y=\"-37.8\" font-family=\"Helvetica,sans-Serif\" font-size=\"14.00\">samples = 28</text>\n",
       "<text text-anchor=\"start\" x=\"157\" y=\"-22.8\" font-family=\"Helvetica,sans-Serif\" font-size=\"14.00\">value = [11, 17]</text>\n",
       "<text text-anchor=\"start\" x=\"161.5\" y=\"-7.8\" font-family=\"Helvetica,sans-Serif\" font-size=\"14.00\">class = Normal</text>\n",
       "</g>\n",
       "<!-- 4&#45;&gt;6 -->\n",
       "<g id=\"edge6\" class=\"edge\">\n",
       "<title>4&#45;&gt;6</title>\n",
       "<path fill=\"none\" stroke=\"black\" d=\"M167.43,-103.73C173.49,-94.88 179.9,-85.51 185.99,-76.63\"/>\n",
       "<polygon fill=\"black\" stroke=\"black\" points=\"188.93,-78.53 191.69,-68.3 183.15,-74.57 188.93,-78.53\"/>\n",
       "</g>\n",
       "<!-- 10 -->\n",
       "<g id=\"node11\" class=\"node\">\n",
       "<title>10</title>\n",
       "<path fill=\"#f6d2b8\" stroke=\"black\" d=\"M641,-306C641,-306 534,-306 534,-306 528,-306 522,-300 522,-294 522,-294 522,-235 522,-235 522,-229 528,-223 534,-223 534,-223 641,-223 641,-223 647,-223 653,-229 653,-235 653,-235 653,-294 653,-294 653,-300 647,-306 641,-306\"/>\n",
       "<text text-anchor=\"start\" x=\"548\" y=\"-290.8\" font-family=\"Helvetica,sans-Serif\" font-size=\"14.00\">Cash ≤ 0.5</text>\n",
       "<text text-anchor=\"start\" x=\"543.5\" y=\"-275.8\" font-family=\"Helvetica,sans-Serif\" font-size=\"14.00\">gini = 0.476</text>\n",
       "<text text-anchor=\"start\" x=\"539\" y=\"-260.8\" font-family=\"Helvetica,sans-Serif\" font-size=\"14.00\">samples = 59</text>\n",
       "<text text-anchor=\"start\" x=\"530\" y=\"-245.8\" font-family=\"Helvetica,sans-Serif\" font-size=\"14.00\">value = [36, 23]</text>\n",
       "<text text-anchor=\"start\" x=\"531\" y=\"-230.8\" font-family=\"Helvetica,sans-Serif\" font-size=\"14.00\">class = Member</text>\n",
       "</g>\n",
       "<!-- 9&#45;&gt;10 -->\n",
       "<g id=\"edge10\" class=\"edge\">\n",
       "<title>9&#45;&gt;10</title>\n",
       "<path fill=\"none\" stroke=\"black\" d=\"M637.13,-341.91C631.41,-333.1 625.31,-323.7 619.4,-314.61\"/>\n",
       "<polygon fill=\"black\" stroke=\"black\" points=\"622.2,-312.5 613.82,-306.02 616.33,-316.31 622.2,-312.5\"/>\n",
       "</g>\n",
       "<!-- 13 -->\n",
       "<g id=\"node14\" class=\"node\">\n",
       "<title>13</title>\n",
       "<path fill=\"#edf6fd\" stroke=\"black\" d=\"M790,-306C790,-306 683,-306 683,-306 677,-306 671,-300 671,-294 671,-294 671,-235 671,-235 671,-229 677,-223 683,-223 683,-223 790,-223 790,-223 796,-223 802,-229 802,-235 802,-235 802,-294 802,-294 802,-300 796,-306 790,-306\"/>\n",
       "<text text-anchor=\"start\" x=\"684.5\" y=\"-290.8\" font-family=\"Helvetica,sans-Serif\" font-size=\"14.00\">Quantity ≤ 6.5</text>\n",
       "<text text-anchor=\"start\" x=\"692.5\" y=\"-275.8\" font-family=\"Helvetica,sans-Serif\" font-size=\"14.00\">gini = 0.499</text>\n",
       "<text text-anchor=\"start\" x=\"683.5\" y=\"-260.8\" font-family=\"Helvetica,sans-Serif\" font-size=\"14.00\">samples = 172</text>\n",
       "<text text-anchor=\"start\" x=\"679\" y=\"-245.8\" font-family=\"Helvetica,sans-Serif\" font-size=\"14.00\">value = [82, 90]</text>\n",
       "<text text-anchor=\"start\" x=\"683.5\" y=\"-230.8\" font-family=\"Helvetica,sans-Serif\" font-size=\"14.00\">class = Normal</text>\n",
       "</g>\n",
       "<!-- 9&#45;&gt;13 -->\n",
       "<g id=\"edge13\" class=\"edge\">\n",
       "<title>9&#45;&gt;13</title>\n",
       "<path fill=\"none\" stroke=\"black\" d=\"M688.83,-341.91C694.32,-333.1 700.19,-323.7 705.86,-314.61\"/>\n",
       "<polygon fill=\"black\" stroke=\"black\" points=\"708.89,-316.36 711.22,-306.02 702.95,-312.65 708.89,-316.36\"/>\n",
       "</g>\n",
       "<!-- 11 -->\n",
       "<g id=\"node12\" class=\"node\">\n",
       "<title>11</title>\n",
       "<path fill=\"#f3c4a2\" stroke=\"black\" d=\"M492,-179.5C492,-179.5 387,-179.5 387,-179.5 381,-179.5 375,-173.5 375,-167.5 375,-167.5 375,-123.5 375,-123.5 375,-117.5 381,-111.5 387,-111.5 387,-111.5 492,-111.5 492,-111.5 498,-111.5 504,-117.5 504,-123.5 504,-123.5 504,-167.5 504,-167.5 504,-173.5 498,-179.5 492,-179.5\"/>\n",
       "<text text-anchor=\"start\" x=\"395.5\" y=\"-164.3\" font-family=\"Helvetica,sans-Serif\" font-size=\"14.00\">gini = 0.453</text>\n",
       "<text text-anchor=\"start\" x=\"391\" y=\"-149.3\" font-family=\"Helvetica,sans-Serif\" font-size=\"14.00\">samples = 26</text>\n",
       "<text text-anchor=\"start\" x=\"386.5\" y=\"-134.3\" font-family=\"Helvetica,sans-Serif\" font-size=\"14.00\">value = [17, 9]</text>\n",
       "<text text-anchor=\"start\" x=\"383\" y=\"-119.3\" font-family=\"Helvetica,sans-Serif\" font-size=\"14.00\">class = Member</text>\n",
       "</g>\n",
       "<!-- 10&#45;&gt;11 -->\n",
       "<g id=\"edge11\" class=\"edge\">\n",
       "<title>10&#45;&gt;11</title>\n",
       "<path fill=\"none\" stroke=\"black\" d=\"M536.15,-222.91C521.08,-210.99 504.61,-197.98 489.62,-186.12\"/>\n",
       "<polygon fill=\"black\" stroke=\"black\" points=\"491.47,-183.12 481.45,-179.67 487.13,-188.61 491.47,-183.12\"/>\n",
       "</g>\n",
       "<!-- 12 -->\n",
       "<g id=\"node13\" class=\"node\">\n",
       "<title>12</title>\n",
       "<path fill=\"#f8decb\" stroke=\"black\" d=\"M641,-179.5C641,-179.5 534,-179.5 534,-179.5 528,-179.5 522,-173.5 522,-167.5 522,-167.5 522,-123.5 522,-123.5 522,-117.5 528,-111.5 534,-111.5 534,-111.5 641,-111.5 641,-111.5 647,-111.5 653,-117.5 653,-123.5 653,-123.5 653,-167.5 653,-167.5 653,-173.5 647,-179.5 641,-179.5\"/>\n",
       "<text text-anchor=\"start\" x=\"543.5\" y=\"-164.3\" font-family=\"Helvetica,sans-Serif\" font-size=\"14.00\">gini = 0.489</text>\n",
       "<text text-anchor=\"start\" x=\"539\" y=\"-149.3\" font-family=\"Helvetica,sans-Serif\" font-size=\"14.00\">samples = 33</text>\n",
       "<text text-anchor=\"start\" x=\"530\" y=\"-134.3\" font-family=\"Helvetica,sans-Serif\" font-size=\"14.00\">value = [19, 14]</text>\n",
       "<text text-anchor=\"start\" x=\"531\" y=\"-119.3\" font-family=\"Helvetica,sans-Serif\" font-size=\"14.00\">class = Member</text>\n",
       "</g>\n",
       "<!-- 10&#45;&gt;12 -->\n",
       "<g id=\"edge12\" class=\"edge\">\n",
       "<title>10&#45;&gt;12</title>\n",
       "<path fill=\"none\" stroke=\"black\" d=\"M587.5,-222.91C587.5,-212.2 587.5,-200.62 587.5,-189.78\"/>\n",
       "<polygon fill=\"black\" stroke=\"black\" points=\"591,-189.67 587.5,-179.67 584,-189.67 591,-189.67\"/>\n",
       "</g>\n",
       "<!-- 14 -->\n",
       "<g id=\"node15\" class=\"node\">\n",
       "<title>14</title>\n",
       "<path fill=\"#bcdef6\" stroke=\"black\" d=\"M790,-187C790,-187 683,-187 683,-187 677,-187 671,-181 671,-175 671,-175 671,-116 671,-116 671,-110 677,-104 683,-104 683,-104 790,-104 790,-104 796,-104 802,-110 802,-116 802,-116 802,-175 802,-175 802,-181 796,-187 790,-187\"/>\n",
       "<text text-anchor=\"start\" x=\"684.5\" y=\"-171.8\" font-family=\"Helvetica,sans-Serif\" font-size=\"14.00\">Quantity ≤ 4.5</text>\n",
       "<text text-anchor=\"start\" x=\"692.5\" y=\"-156.8\" font-family=\"Helvetica,sans-Serif\" font-size=\"14.00\">gini = 0.479</text>\n",
       "<text text-anchor=\"start\" x=\"688\" y=\"-141.8\" font-family=\"Helvetica,sans-Serif\" font-size=\"14.00\">samples = 78</text>\n",
       "<text text-anchor=\"start\" x=\"679\" y=\"-126.8\" font-family=\"Helvetica,sans-Serif\" font-size=\"14.00\">value = [31, 47]</text>\n",
       "<text text-anchor=\"start\" x=\"683.5\" y=\"-111.8\" font-family=\"Helvetica,sans-Serif\" font-size=\"14.00\">class = Normal</text>\n",
       "</g>\n",
       "<!-- 13&#45;&gt;14 -->\n",
       "<g id=\"edge14\" class=\"edge\">\n",
       "<title>13&#45;&gt;14</title>\n",
       "<path fill=\"none\" stroke=\"black\" d=\"M736.5,-222.91C736.5,-214.65 736.5,-205.86 736.5,-197.3\"/>\n",
       "<polygon fill=\"black\" stroke=\"black\" points=\"740,-197.02 736.5,-187.02 733,-197.02 740,-197.02\"/>\n",
       "</g>\n",
       "<!-- 17 -->\n",
       "<g id=\"node18\" class=\"node\">\n",
       "<title>17</title>\n",
       "<path fill=\"#fbebe0\" stroke=\"black\" d=\"M939,-187C939,-187 832,-187 832,-187 826,-187 820,-181 820,-175 820,-175 820,-116 820,-116 820,-110 826,-104 832,-104 832,-104 939,-104 939,-104 945,-104 951,-110 951,-116 951,-116 951,-175 951,-175 951,-181 945,-187 939,-187\"/>\n",
       "<text text-anchor=\"start\" x=\"833.5\" y=\"-171.8\" font-family=\"Helvetica,sans-Serif\" font-size=\"14.00\">Quantity ≤ 8.5</text>\n",
       "<text text-anchor=\"start\" x=\"841.5\" y=\"-156.8\" font-family=\"Helvetica,sans-Serif\" font-size=\"14.00\">gini = 0.496</text>\n",
       "<text text-anchor=\"start\" x=\"837\" y=\"-141.8\" font-family=\"Helvetica,sans-Serif\" font-size=\"14.00\">samples = 94</text>\n",
       "<text text-anchor=\"start\" x=\"828\" y=\"-126.8\" font-family=\"Helvetica,sans-Serif\" font-size=\"14.00\">value = [51, 43]</text>\n",
       "<text text-anchor=\"start\" x=\"829\" y=\"-111.8\" font-family=\"Helvetica,sans-Serif\" font-size=\"14.00\">class = Member</text>\n",
       "</g>\n",
       "<!-- 13&#45;&gt;17 -->\n",
       "<g id=\"edge17\" class=\"edge\">\n",
       "<title>13&#45;&gt;17</title>\n",
       "<path fill=\"none\" stroke=\"black\" d=\"M788.19,-222.91C800.33,-213.38 813.36,-203.15 825.81,-193.37\"/>\n",
       "<polygon fill=\"black\" stroke=\"black\" points=\"828.19,-195.95 833.9,-187.02 823.87,-190.44 828.19,-195.95\"/>\n",
       "</g>\n",
       "<!-- 15 -->\n",
       "<g id=\"node16\" class=\"node\">\n",
       "<title>15</title>\n",
       "<path fill=\"#fdf6f1\" stroke=\"black\" d=\"M641,-68C641,-68 534,-68 534,-68 528,-68 522,-62 522,-56 522,-56 522,-12 522,-12 522,-6 528,0 534,0 534,0 641,0 641,0 647,0 653,-6 653,-12 653,-12 653,-56 653,-56 653,-62 647,-68 641,-68\"/>\n",
       "<text text-anchor=\"start\" x=\"543.5\" y=\"-52.8\" font-family=\"Helvetica,sans-Serif\" font-size=\"14.00\">gini = 0.499</text>\n",
       "<text text-anchor=\"start\" x=\"539\" y=\"-37.8\" font-family=\"Helvetica,sans-Serif\" font-size=\"14.00\">samples = 27</text>\n",
       "<text text-anchor=\"start\" x=\"530\" y=\"-22.8\" font-family=\"Helvetica,sans-Serif\" font-size=\"14.00\">value = [14, 13]</text>\n",
       "<text text-anchor=\"start\" x=\"531\" y=\"-7.8\" font-family=\"Helvetica,sans-Serif\" font-size=\"14.00\">class = Member</text>\n",
       "</g>\n",
       "<!-- 14&#45;&gt;15 -->\n",
       "<g id=\"edge15\" class=\"edge\">\n",
       "<title>14&#45;&gt;15</title>\n",
       "<path fill=\"none\" stroke=\"black\" d=\"M681.02,-103.73C667.99,-94.15 654.12,-83.96 641.17,-74.44\"/>\n",
       "<polygon fill=\"black\" stroke=\"black\" points=\"642.94,-71.4 632.81,-68.3 638.8,-77.04 642.94,-71.4\"/>\n",
       "</g>\n",
       "<!-- 16 -->\n",
       "<g id=\"node17\" class=\"node\">\n",
       "<title>16</title>\n",
       "<path fill=\"#9ccef2\" stroke=\"black\" d=\"M790,-68C790,-68 683,-68 683,-68 677,-68 671,-62 671,-56 671,-56 671,-12 671,-12 671,-6 677,0 683,0 683,0 790,0 790,0 796,0 802,-6 802,-12 802,-12 802,-56 802,-56 802,-62 796,-68 790,-68\"/>\n",
       "<text text-anchor=\"start\" x=\"692.5\" y=\"-52.8\" font-family=\"Helvetica,sans-Serif\" font-size=\"14.00\">gini = 0.444</text>\n",
       "<text text-anchor=\"start\" x=\"688\" y=\"-37.8\" font-family=\"Helvetica,sans-Serif\" font-size=\"14.00\">samples = 51</text>\n",
       "<text text-anchor=\"start\" x=\"679\" y=\"-22.8\" font-family=\"Helvetica,sans-Serif\" font-size=\"14.00\">value = [17, 34]</text>\n",
       "<text text-anchor=\"start\" x=\"683.5\" y=\"-7.8\" font-family=\"Helvetica,sans-Serif\" font-size=\"14.00\">class = Normal</text>\n",
       "</g>\n",
       "<!-- 14&#45;&gt;16 -->\n",
       "<g id=\"edge16\" class=\"edge\">\n",
       "<title>14&#45;&gt;16</title>\n",
       "<path fill=\"none\" stroke=\"black\" d=\"M736.5,-103.73C736.5,-95.52 736.5,-86.86 736.5,-78.56\"/>\n",
       "<polygon fill=\"black\" stroke=\"black\" points=\"740,-78.3 736.5,-68.3 733,-78.3 740,-78.3\"/>\n",
       "</g>\n",
       "<!-- 18 -->\n",
       "<g id=\"node19\" class=\"node\">\n",
       "<title>18</title>\n",
       "<path fill=\"#f5d0b5\" stroke=\"black\" d=\"M939,-68C939,-68 832,-68 832,-68 826,-68 820,-62 820,-56 820,-56 820,-12 820,-12 820,-6 826,0 832,0 832,0 939,0 939,0 945,0 951,-6 951,-12 951,-12 951,-56 951,-56 951,-62 945,-68 939,-68\"/>\n",
       "<text text-anchor=\"start\" x=\"841.5\" y=\"-52.8\" font-family=\"Helvetica,sans-Serif\" font-size=\"14.00\">gini = 0.473</text>\n",
       "<text text-anchor=\"start\" x=\"837\" y=\"-37.8\" font-family=\"Helvetica,sans-Serif\" font-size=\"14.00\">samples = 39</text>\n",
       "<text text-anchor=\"start\" x=\"828\" y=\"-22.8\" font-family=\"Helvetica,sans-Serif\" font-size=\"14.00\">value = [24, 15]</text>\n",
       "<text text-anchor=\"start\" x=\"829\" y=\"-7.8\" font-family=\"Helvetica,sans-Serif\" font-size=\"14.00\">class = Member</text>\n",
       "</g>\n",
       "<!-- 17&#45;&gt;18 -->\n",
       "<g id=\"edge18\" class=\"edge\">\n",
       "<title>17&#45;&gt;18</title>\n",
       "<path fill=\"none\" stroke=\"black\" d=\"M885.5,-103.73C885.5,-95.52 885.5,-86.86 885.5,-78.56\"/>\n",
       "<polygon fill=\"black\" stroke=\"black\" points=\"889,-78.3 885.5,-68.3 882,-78.3 889,-78.3\"/>\n",
       "</g>\n",
       "<!-- 19 -->\n",
       "<g id=\"node20\" class=\"node\">\n",
       "<title>19</title>\n",
       "<path fill=\"#f8fcfe\" stroke=\"black\" d=\"M1088,-68C1088,-68 981,-68 981,-68 975,-68 969,-62 969,-56 969,-56 969,-12 969,-12 969,-6 975,0 981,0 981,0 1088,0 1088,0 1094,0 1100,-6 1100,-12 1100,-12 1100,-56 1100,-56 1100,-62 1094,-68 1088,-68\"/>\n",
       "<text text-anchor=\"start\" x=\"999.5\" y=\"-52.8\" font-family=\"Helvetica,sans-Serif\" font-size=\"14.00\">gini = 0.5</text>\n",
       "<text text-anchor=\"start\" x=\"986\" y=\"-37.8\" font-family=\"Helvetica,sans-Serif\" font-size=\"14.00\">samples = 55</text>\n",
       "<text text-anchor=\"start\" x=\"977\" y=\"-22.8\" font-family=\"Helvetica,sans-Serif\" font-size=\"14.00\">value = [27, 28]</text>\n",
       "<text text-anchor=\"start\" x=\"981.5\" y=\"-7.8\" font-family=\"Helvetica,sans-Serif\" font-size=\"14.00\">class = Normal</text>\n",
       "</g>\n",
       "<!-- 17&#45;&gt;19 -->\n",
       "<g id=\"edge19\" class=\"edge\">\n",
       "<title>17&#45;&gt;19</title>\n",
       "<path fill=\"none\" stroke=\"black\" d=\"M940.98,-103.73C954.01,-94.15 967.88,-83.96 980.83,-74.44\"/>\n",
       "<polygon fill=\"black\" stroke=\"black\" points=\"983.2,-77.04 989.19,-68.3 979.06,-71.4 983.2,-77.04\"/>\n",
       "</g>\n",
       "<!-- 21 -->\n",
       "<g id=\"node22\" class=\"node\">\n",
       "<title>21</title>\n",
       "<path fill=\"#d3e9f9\" stroke=\"black\" d=\"M1011,-425C1011,-425 904,-425 904,-425 898,-425 892,-419 892,-413 892,-413 892,-354 892,-354 892,-348 898,-342 904,-342 904,-342 1011,-342 1011,-342 1017,-342 1023,-348 1023,-354 1023,-354 1023,-413 1023,-413 1023,-419 1017,-425 1011,-425\"/>\n",
       "<text text-anchor=\"start\" x=\"910.5\" y=\"-409.8\" font-family=\"Helvetica,sans-Serif\" font-size=\"14.00\">Female ≤ 0.5</text>\n",
       "<text text-anchor=\"start\" x=\"913.5\" y=\"-394.8\" font-family=\"Helvetica,sans-Serif\" font-size=\"14.00\">gini = 0.492</text>\n",
       "<text text-anchor=\"start\" x=\"909\" y=\"-379.8\" font-family=\"Helvetica,sans-Serif\" font-size=\"14.00\">samples = 64</text>\n",
       "<text text-anchor=\"start\" x=\"900\" y=\"-364.8\" font-family=\"Helvetica,sans-Serif\" font-size=\"14.00\">value = [28, 36]</text>\n",
       "<text text-anchor=\"start\" x=\"904.5\" y=\"-349.8\" font-family=\"Helvetica,sans-Serif\" font-size=\"14.00\">class = Normal</text>\n",
       "</g>\n",
       "<!-- 20&#45;&gt;21 -->\n",
       "<g id=\"edge21\" class=\"edge\">\n",
       "<title>20&#45;&gt;21</title>\n",
       "<path fill=\"none\" stroke=\"black\" d=\"M957.5,-460.91C957.5,-452.65 957.5,-443.86 957.5,-435.3\"/>\n",
       "<polygon fill=\"black\" stroke=\"black\" points=\"961,-435.02 957.5,-425.02 954,-435.02 961,-435.02\"/>\n",
       "</g>\n",
       "<!-- 24 -->\n",
       "<g id=\"node25\" class=\"node\">\n",
       "<title>24</title>\n",
       "<path fill=\"#f5d0b6\" stroke=\"black\" d=\"M1241.5,-425C1241.5,-425 1125.5,-425 1125.5,-425 1119.5,-425 1113.5,-419 1113.5,-413 1113.5,-413 1113.5,-354 1113.5,-354 1113.5,-348 1119.5,-342 1125.5,-342 1125.5,-342 1241.5,-342 1241.5,-342 1247.5,-342 1253.5,-348 1253.5,-354 1253.5,-354 1253.5,-413 1253.5,-413 1253.5,-419 1247.5,-425 1241.5,-425\"/>\n",
       "<text text-anchor=\"start\" x=\"1131.5\" y=\"-409.8\" font-family=\"Helvetica,sans-Serif\" font-size=\"14.00\">Quantity ≤ 7.5</text>\n",
       "<text text-anchor=\"start\" x=\"1139.5\" y=\"-394.8\" font-family=\"Helvetica,sans-Serif\" font-size=\"14.00\">gini = 0.474</text>\n",
       "<text text-anchor=\"start\" x=\"1130.5\" y=\"-379.8\" font-family=\"Helvetica,sans-Serif\" font-size=\"14.00\">samples = 163</text>\n",
       "<text text-anchor=\"start\" x=\"1121.5\" y=\"-364.8\" font-family=\"Helvetica,sans-Serif\" font-size=\"14.00\">value = [100, 63]</text>\n",
       "<text text-anchor=\"start\" x=\"1127\" y=\"-349.8\" font-family=\"Helvetica,sans-Serif\" font-size=\"14.00\">class = Member</text>\n",
       "</g>\n",
       "<!-- 20&#45;&gt;24 -->\n",
       "<g id=\"edge24\" class=\"edge\">\n",
       "<title>20&#45;&gt;24</title>\n",
       "<path fill=\"none\" stroke=\"black\" d=\"M1027.77,-465.12C1052,-452.58 1079.31,-438.44 1104.22,-425.54\"/>\n",
       "<polygon fill=\"black\" stroke=\"black\" points=\"1106,-428.56 1113.27,-420.86 1102.78,-422.34 1106,-428.56\"/>\n",
       "</g>\n",
       "<!-- 22 -->\n",
       "<g id=\"node23\" class=\"node\">\n",
       "<title>22</title>\n",
       "<path fill=\"#e9f4fc\" stroke=\"black\" d=\"M939,-298.5C939,-298.5 832,-298.5 832,-298.5 826,-298.5 820,-292.5 820,-286.5 820,-286.5 820,-242.5 820,-242.5 820,-236.5 826,-230.5 832,-230.5 832,-230.5 939,-230.5 939,-230.5 945,-230.5 951,-236.5 951,-242.5 951,-242.5 951,-286.5 951,-286.5 951,-292.5 945,-298.5 939,-298.5\"/>\n",
       "<text text-anchor=\"start\" x=\"841.5\" y=\"-283.3\" font-family=\"Helvetica,sans-Serif\" font-size=\"14.00\">gini = 0.498</text>\n",
       "<text text-anchor=\"start\" x=\"837\" y=\"-268.3\" font-family=\"Helvetica,sans-Serif\" font-size=\"14.00\">samples = 34</text>\n",
       "<text text-anchor=\"start\" x=\"828\" y=\"-253.3\" font-family=\"Helvetica,sans-Serif\" font-size=\"14.00\">value = [16, 18]</text>\n",
       "<text text-anchor=\"start\" x=\"832.5\" y=\"-238.3\" font-family=\"Helvetica,sans-Serif\" font-size=\"14.00\">class = Normal</text>\n",
       "</g>\n",
       "<!-- 21&#45;&gt;22 -->\n",
       "<g id=\"edge22\" class=\"edge\">\n",
       "<title>21&#45;&gt;22</title>\n",
       "<path fill=\"none\" stroke=\"black\" d=\"M932.52,-341.91C925.66,-330.76 918.21,-318.66 911.31,-307.44\"/>\n",
       "<polygon fill=\"black\" stroke=\"black\" points=\"914.13,-305.35 905.91,-298.67 908.17,-309.02 914.13,-305.35\"/>\n",
       "</g>\n",
       "<!-- 23 -->\n",
       "<g id=\"node24\" class=\"node\">\n",
       "<title>23</title>\n",
       "<path fill=\"#bddef6\" stroke=\"black\" d=\"M1088,-298.5C1088,-298.5 981,-298.5 981,-298.5 975,-298.5 969,-292.5 969,-286.5 969,-286.5 969,-242.5 969,-242.5 969,-236.5 975,-230.5 981,-230.5 981,-230.5 1088,-230.5 1088,-230.5 1094,-230.5 1100,-236.5 1100,-242.5 1100,-242.5 1100,-286.5 1100,-286.5 1100,-292.5 1094,-298.5 1088,-298.5\"/>\n",
       "<text text-anchor=\"start\" x=\"995\" y=\"-283.3\" font-family=\"Helvetica,sans-Serif\" font-size=\"14.00\">gini = 0.48</text>\n",
       "<text text-anchor=\"start\" x=\"986\" y=\"-268.3\" font-family=\"Helvetica,sans-Serif\" font-size=\"14.00\">samples = 30</text>\n",
       "<text text-anchor=\"start\" x=\"977\" y=\"-253.3\" font-family=\"Helvetica,sans-Serif\" font-size=\"14.00\">value = [12, 18]</text>\n",
       "<text text-anchor=\"start\" x=\"981.5\" y=\"-238.3\" font-family=\"Helvetica,sans-Serif\" font-size=\"14.00\">class = Normal</text>\n",
       "</g>\n",
       "<!-- 21&#45;&gt;23 -->\n",
       "<g id=\"edge23\" class=\"edge\">\n",
       "<title>21&#45;&gt;23</title>\n",
       "<path fill=\"none\" stroke=\"black\" d=\"M984.21,-341.91C991.62,-330.65 999.67,-318.42 1007.12,-307.11\"/>\n",
       "<polygon fill=\"black\" stroke=\"black\" points=\"1010.1,-308.94 1012.67,-298.67 1004.25,-305.1 1010.1,-308.94\"/>\n",
       "</g>\n",
       "<!-- 25 -->\n",
       "<g id=\"node26\" class=\"node\">\n",
       "<title>25</title>\n",
       "<path fill=\"#f9e2d1\" stroke=\"black\" d=\"M1237,-306C1237,-306 1130,-306 1130,-306 1124,-306 1118,-300 1118,-294 1118,-294 1118,-235 1118,-235 1118,-229 1124,-223 1130,-223 1130,-223 1237,-223 1237,-223 1243,-223 1249,-229 1249,-235 1249,-235 1249,-294 1249,-294 1249,-300 1243,-306 1237,-306\"/>\n",
       "<text text-anchor=\"start\" x=\"1136.5\" y=\"-290.8\" font-family=\"Helvetica,sans-Serif\" font-size=\"14.00\">Female ≤ 0.5</text>\n",
       "<text text-anchor=\"start\" x=\"1139.5\" y=\"-275.8\" font-family=\"Helvetica,sans-Serif\" font-size=\"14.00\">gini = 0.491</text>\n",
       "<text text-anchor=\"start\" x=\"1135\" y=\"-260.8\" font-family=\"Helvetica,sans-Serif\" font-size=\"14.00\">samples = 92</text>\n",
       "<text text-anchor=\"start\" x=\"1126\" y=\"-245.8\" font-family=\"Helvetica,sans-Serif\" font-size=\"14.00\">value = [52, 40]</text>\n",
       "<text text-anchor=\"start\" x=\"1127\" y=\"-230.8\" font-family=\"Helvetica,sans-Serif\" font-size=\"14.00\">class = Member</text>\n",
       "</g>\n",
       "<!-- 24&#45;&gt;25 -->\n",
       "<g id=\"edge25\" class=\"edge\">\n",
       "<title>24&#45;&gt;25</title>\n",
       "<path fill=\"none\" stroke=\"black\" d=\"M1183.5,-341.91C1183.5,-333.65 1183.5,-324.86 1183.5,-316.3\"/>\n",
       "<polygon fill=\"black\" stroke=\"black\" points=\"1187,-316.02 1183.5,-306.02 1180,-316.02 1187,-316.02\"/>\n",
       "</g>\n",
       "<!-- 28 -->\n",
       "<g id=\"node29\" class=\"node\">\n",
       "<title>28</title>\n",
       "<path fill=\"#f1bd98\" stroke=\"black\" d=\"M1386,-306C1386,-306 1279,-306 1279,-306 1273,-306 1267,-300 1267,-294 1267,-294 1267,-235 1267,-235 1267,-229 1273,-223 1279,-223 1279,-223 1386,-223 1386,-223 1392,-223 1398,-229 1398,-235 1398,-235 1398,-294 1398,-294 1398,-300 1392,-306 1386,-306\"/>\n",
       "<text text-anchor=\"start\" x=\"1280.5\" y=\"-290.8\" font-family=\"Helvetica,sans-Serif\" font-size=\"14.00\">Quantity ≤ 9.5</text>\n",
       "<text text-anchor=\"start\" x=\"1288.5\" y=\"-275.8\" font-family=\"Helvetica,sans-Serif\" font-size=\"14.00\">gini = 0.438</text>\n",
       "<text text-anchor=\"start\" x=\"1284\" y=\"-260.8\" font-family=\"Helvetica,sans-Serif\" font-size=\"14.00\">samples = 71</text>\n",
       "<text text-anchor=\"start\" x=\"1275\" y=\"-245.8\" font-family=\"Helvetica,sans-Serif\" font-size=\"14.00\">value = [48, 23]</text>\n",
       "<text text-anchor=\"start\" x=\"1276\" y=\"-230.8\" font-family=\"Helvetica,sans-Serif\" font-size=\"14.00\">class = Member</text>\n",
       "</g>\n",
       "<!-- 24&#45;&gt;28 -->\n",
       "<g id=\"edge28\" class=\"edge\">\n",
       "<title>24&#45;&gt;28</title>\n",
       "<path fill=\"none\" stroke=\"black\" d=\"M1235.19,-341.91C1247.33,-332.38 1260.36,-322.15 1272.81,-312.37\"/>\n",
       "<polygon fill=\"black\" stroke=\"black\" points=\"1275.19,-314.95 1280.9,-306.02 1270.87,-309.44 1275.19,-314.95\"/>\n",
       "</g>\n",
       "<!-- 26 -->\n",
       "<g id=\"node27\" class=\"node\">\n",
       "<title>26</title>\n",
       "<path fill=\"#fcefe5\" stroke=\"black\" d=\"M1088,-179.5C1088,-179.5 981,-179.5 981,-179.5 975,-179.5 969,-173.5 969,-167.5 969,-167.5 969,-123.5 969,-123.5 969,-117.5 975,-111.5 981,-111.5 981,-111.5 1088,-111.5 1088,-111.5 1094,-111.5 1100,-117.5 1100,-123.5 1100,-123.5 1100,-167.5 1100,-167.5 1100,-173.5 1094,-179.5 1088,-179.5\"/>\n",
       "<text text-anchor=\"start\" x=\"990.5\" y=\"-164.3\" font-family=\"Helvetica,sans-Serif\" font-size=\"14.00\">gini = 0.498</text>\n",
       "<text text-anchor=\"start\" x=\"986\" y=\"-149.3\" font-family=\"Helvetica,sans-Serif\" font-size=\"14.00\">samples = 43</text>\n",
       "<text text-anchor=\"start\" x=\"977\" y=\"-134.3\" font-family=\"Helvetica,sans-Serif\" font-size=\"14.00\">value = [23, 20]</text>\n",
       "<text text-anchor=\"start\" x=\"978\" y=\"-119.3\" font-family=\"Helvetica,sans-Serif\" font-size=\"14.00\">class = Member</text>\n",
       "</g>\n",
       "<!-- 25&#45;&gt;26 -->\n",
       "<g id=\"edge26\" class=\"edge\">\n",
       "<title>25&#45;&gt;26</title>\n",
       "<path fill=\"none\" stroke=\"black\" d=\"M1131.81,-222.91C1116.63,-210.99 1100.05,-197.98 1084.96,-186.12\"/>\n",
       "<polygon fill=\"black\" stroke=\"black\" points=\"1086.76,-183.09 1076.74,-179.67 1082.44,-188.6 1086.76,-183.09\"/>\n",
       "</g>\n",
       "<!-- 27 -->\n",
       "<g id=\"node28\" class=\"node\">\n",
       "<title>27</title>\n",
       "<path fill=\"#f7d8c2\" stroke=\"black\" d=\"M1237,-179.5C1237,-179.5 1130,-179.5 1130,-179.5 1124,-179.5 1118,-173.5 1118,-167.5 1118,-167.5 1118,-123.5 1118,-123.5 1118,-117.5 1124,-111.5 1130,-111.5 1130,-111.5 1237,-111.5 1237,-111.5 1243,-111.5 1249,-117.5 1249,-123.5 1249,-123.5 1249,-167.5 1249,-167.5 1249,-173.5 1243,-179.5 1237,-179.5\"/>\n",
       "<text text-anchor=\"start\" x=\"1139.5\" y=\"-164.3\" font-family=\"Helvetica,sans-Serif\" font-size=\"14.00\">gini = 0.483</text>\n",
       "<text text-anchor=\"start\" x=\"1135\" y=\"-149.3\" font-family=\"Helvetica,sans-Serif\" font-size=\"14.00\">samples = 49</text>\n",
       "<text text-anchor=\"start\" x=\"1126\" y=\"-134.3\" font-family=\"Helvetica,sans-Serif\" font-size=\"14.00\">value = [29, 20]</text>\n",
       "<text text-anchor=\"start\" x=\"1127\" y=\"-119.3\" font-family=\"Helvetica,sans-Serif\" font-size=\"14.00\">class = Member</text>\n",
       "</g>\n",
       "<!-- 25&#45;&gt;27 -->\n",
       "<g id=\"edge27\" class=\"edge\">\n",
       "<title>25&#45;&gt;27</title>\n",
       "<path fill=\"none\" stroke=\"black\" d=\"M1183.5,-222.91C1183.5,-212.2 1183.5,-200.62 1183.5,-189.78\"/>\n",
       "<polygon fill=\"black\" stroke=\"black\" points=\"1187,-189.67 1183.5,-179.67 1180,-189.67 1187,-189.67\"/>\n",
       "</g>\n",
       "<!-- 29 -->\n",
       "<g id=\"node30\" class=\"node\">\n",
       "<title>29</title>\n",
       "<path fill=\"#efb082\" stroke=\"black\" d=\"M1386,-179.5C1386,-179.5 1279,-179.5 1279,-179.5 1273,-179.5 1267,-173.5 1267,-167.5 1267,-167.5 1267,-123.5 1267,-123.5 1267,-117.5 1273,-111.5 1279,-111.5 1279,-111.5 1386,-111.5 1386,-111.5 1392,-111.5 1398,-117.5 1398,-123.5 1398,-123.5 1398,-167.5 1398,-167.5 1398,-173.5 1392,-179.5 1386,-179.5\"/>\n",
       "<text text-anchor=\"start\" x=\"1288.5\" y=\"-164.3\" font-family=\"Helvetica,sans-Serif\" font-size=\"14.00\">gini = 0.394</text>\n",
       "<text text-anchor=\"start\" x=\"1284\" y=\"-149.3\" font-family=\"Helvetica,sans-Serif\" font-size=\"14.00\">samples = 37</text>\n",
       "<text text-anchor=\"start\" x=\"1275\" y=\"-134.3\" font-family=\"Helvetica,sans-Serif\" font-size=\"14.00\">value = [27, 10]</text>\n",
       "<text text-anchor=\"start\" x=\"1276\" y=\"-119.3\" font-family=\"Helvetica,sans-Serif\" font-size=\"14.00\">class = Member</text>\n",
       "</g>\n",
       "<!-- 28&#45;&gt;29 -->\n",
       "<g id=\"edge29\" class=\"edge\">\n",
       "<title>28&#45;&gt;29</title>\n",
       "<path fill=\"none\" stroke=\"black\" d=\"M1332.5,-222.91C1332.5,-212.2 1332.5,-200.62 1332.5,-189.78\"/>\n",
       "<polygon fill=\"black\" stroke=\"black\" points=\"1336,-189.67 1332.5,-179.67 1329,-189.67 1336,-189.67\"/>\n",
       "</g>\n",
       "<!-- 30 -->\n",
       "<g id=\"node31\" class=\"node\">\n",
       "<title>30</title>\n",
       "<path fill=\"#f5cfb4\" stroke=\"black\" d=\"M1535,-179.5C1535,-179.5 1428,-179.5 1428,-179.5 1422,-179.5 1416,-173.5 1416,-167.5 1416,-167.5 1416,-123.5 1416,-123.5 1416,-117.5 1422,-111.5 1428,-111.5 1428,-111.5 1535,-111.5 1535,-111.5 1541,-111.5 1547,-117.5 1547,-123.5 1547,-123.5 1547,-167.5 1547,-167.5 1547,-173.5 1541,-179.5 1535,-179.5\"/>\n",
       "<text text-anchor=\"start\" x=\"1437.5\" y=\"-164.3\" font-family=\"Helvetica,sans-Serif\" font-size=\"14.00\">gini = 0.472</text>\n",
       "<text text-anchor=\"start\" x=\"1433\" y=\"-149.3\" font-family=\"Helvetica,sans-Serif\" font-size=\"14.00\">samples = 34</text>\n",
       "<text text-anchor=\"start\" x=\"1424\" y=\"-134.3\" font-family=\"Helvetica,sans-Serif\" font-size=\"14.00\">value = [21, 13]</text>\n",
       "<text text-anchor=\"start\" x=\"1425\" y=\"-119.3\" font-family=\"Helvetica,sans-Serif\" font-size=\"14.00\">class = Member</text>\n",
       "</g>\n",
       "<!-- 28&#45;&gt;30 -->\n",
       "<g id=\"edge30\" class=\"edge\">\n",
       "<title>28&#45;&gt;30</title>\n",
       "<path fill=\"none\" stroke=\"black\" d=\"M1384.19,-222.91C1399.37,-210.99 1415.95,-197.98 1431.04,-186.12\"/>\n",
       "<polygon fill=\"black\" stroke=\"black\" points=\"1433.56,-188.6 1439.26,-179.67 1429.24,-183.09 1433.56,-188.6\"/>\n",
       "</g>\n",
       "</g>\n",
       "</svg>\n"
      ],
      "text/plain": [
       "<graphviz.sources.Source at 0x7f47bd2ca400>"
      ]
     },
     "execution_count": 62,
     "metadata": {},
     "output_type": "execute_result"
    }
   ],
   "source": [
    "# transform dot file to graph\n",
    "graph_best = graphviz.Source(dot_best)\n",
    "graph_best"
   ]
  },
  {
   "cell_type": "code",
   "execution_count": 63,
   "id": "3b22eb4b",
   "metadata": {},
   "outputs": [
    {
     "data": {
      "text/plain": [
       "'Best_DT.pdf'"
      ]
     },
     "execution_count": 63,
     "metadata": {},
     "output_type": "execute_result"
    }
   ],
   "source": [
    "graph_best.render(\"Best_DT\")"
   ]
  },
  {
   "cell_type": "code",
   "execution_count": 66,
   "id": "c4f59b8c-d97c-4dd3-bdb1-f2387adbe15e",
   "metadata": {},
   "outputs": [],
   "source": [
    "# y_pred_best = bestClassTree.predict(X_test)"
   ]
  },
  {
   "cell_type": "code",
   "execution_count": 67,
   "id": "7a972c00-02a9-41ea-95aa-954f68a6cb4b",
   "metadata": {},
   "outputs": [],
   "source": [
    "# accuracy_score(y_test, y_pred_best, normalize=True)"
   ]
  },
  {
   "cell_type": "code",
   "execution_count": null,
   "id": "2b97ccef-6aef-4cb2-896e-cda47b163473",
   "metadata": {},
   "outputs": [],
   "source": []
  }
 ],
 "metadata": {
  "kernelspec": {
   "display_name": "Python 3 (ipykernel)",
   "language": "python",
   "name": "python3"
  },
  "language_info": {
   "codemirror_mode": {
    "name": "ipython",
    "version": 3
   },
   "file_extension": ".py",
   "mimetype": "text/x-python",
   "name": "python",
   "nbconvert_exporter": "python",
   "pygments_lexer": "ipython3",
   "version": "3.9.10"
  }
 },
 "nbformat": 4,
 "nbformat_minor": 5
}
