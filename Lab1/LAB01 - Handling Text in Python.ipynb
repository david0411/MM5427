{
 "cells": [
  {
   "cell_type": "markdown",
   "metadata": {},
   "source": [
    "# Natural Language Processing Libraries"
   ]
  },
  {
   "cell_type": "markdown",
   "metadata": {},
   "source": [
    "## NLTK"
   ]
  },
  {
   "cell_type": "markdown",
   "metadata": {},
   "source": [
    "**NLTK**, which stands for Natural Language Toolkit, is a leading platform for building Python programs to work with human language data. It provides easy-to-use interfaces to over 50 corpora and lexical resources such as WordNet, along with a suite of text processing libraries for classification, tokenization, stemming, tagging, parsing, and semantic reasoning, and wrappers for industrial-strength NLP libraries. Details on http://www.nltk.org/.\n",
    "\n",
    "NLTK is widely used for academic and research purposes because it's a powerful tool for understanding and analyzing text, making it more accessible to computers. It is also used in prototyping and building research systems or applications that involve human language data.\n",
    "\n",
    "Here are some of the key features of NLTK:\n",
    "\n",
    "- **Tokenization**: Splitting text into sentences or words.\n",
    "- **Tagging**: Assigning part-of-speech tags to each word.\n",
    "- **Chunking**: Identifying phrases in text (like noun phrases).\n",
    "- **Parsing**: Analyzing the grammatical structure of sentences.\n",
    "- **Semantic reasoning**: Working with logic and semantic representations, such as identifying entailment relations.\n",
    "- **Corpora**: Access to a large collection of text resources and corpora.\n",
    "- **Stemming and Lemmatization**: Reducing words to their base or root form.\n",
    "\n",
    "This library is particularly suitable for teaching and working on computational linguistics or natural language processing in Python, and it is compatible with many other Python libraries, making it a useful tool for data scientists and engineers."
   ]
  },
  {
   "cell_type": "markdown",
   "metadata": {},
   "source": [
    "![](img/nltk.png)"
   ]
  },
  {
   "cell_type": "code",
   "execution_count": 1,
   "metadata": {},
   "outputs": [
    {
     "name": "stdout",
     "output_type": "stream",
     "text": [
      "Collecting nltk\n",
      "  Using cached nltk-3.8.1-py3-none-any.whl (1.5 MB)\n",
      "Requirement already satisfied: click in /opt/conda/lib/python3.9/site-packages (from nltk) (8.1.2)\n",
      "Collecting regex>=2021.8.3\n",
      "  Using cached regex-2023.12.25-cp39-cp39-manylinux_2_17_x86_64.manylinux2014_x86_64.whl (773 kB)\n",
      "Requirement already satisfied: tqdm in /opt/conda/lib/python3.9/site-packages (from nltk) (4.64.0)\n",
      "Requirement already satisfied: joblib in /opt/conda/lib/python3.9/site-packages (from nltk) (1.1.0)\n",
      "Installing collected packages: regex, nltk\n",
      "Successfully installed nltk-3.8.1 regex-2023.12.25\n"
     ]
    }
   ],
   "source": [
    "!pip install nltk"
   ]
  },
  {
   "cell_type": "code",
   "execution_count": 1,
   "metadata": {
    "ExecuteTime": {
     "end_time": "2024-03-01T11:40:05.857838300Z",
     "start_time": "2024-03-01T11:40:01.985837600Z"
    }
   },
   "outputs": [
    {
     "name": "stderr",
     "output_type": "stream",
     "text": [
      "[nltk_data] Downloading package punkt to\n",
      "[nltk_data]     C:\\Users\\David\\AppData\\Roaming\\nltk_data...\n",
      "[nltk_data]   Unzipping tokenizers\\punkt.zip.\n"
     ]
    },
    {
     "data": {
      "text/plain": "True"
     },
     "execution_count": 1,
     "metadata": {},
     "output_type": "execute_result"
    }
   ],
   "source": [
    "# Import the NLTK package\n",
    "import nltk\n",
    "\n",
    "#This part internally makes use of the 'punkt' resource from the NLTK package, make sure to download it before running this\n",
    "nltk.download('punkt')"
   ]
  },
  {
   "cell_type": "code",
   "execution_count": 2,
   "metadata": {
    "ExecuteTime": {
     "end_time": "2024-03-01T11:40:16.207363500Z",
     "start_time": "2024-03-01T11:40:15.927562400Z"
    }
   },
   "outputs": [
    {
     "data": {
      "text/plain": "['I', 'am', 'almost', 'dead', 'this', 'time']"
     },
     "execution_count": 2,
     "metadata": {},
     "output_type": "execute_result"
    }
   ],
   "source": [
    "# Tokenization \n",
    "sent_ = \"I am almost dead this time\" \n",
    "tokens_ = nltk.word_tokenize(sent_)\n",
    "tokens_"
   ]
  },
  {
   "cell_type": "markdown",
   "metadata": {},
   "source": [
    "#### Getting a Synonym of a Word"
   ]
  },
  {
   "cell_type": "code",
   "execution_count": 3,
   "metadata": {
    "ExecuteTime": {
     "end_time": "2024-03-01T11:40:55.223186400Z",
     "start_time": "2024-03-01T11:40:50.993926300Z"
    }
   },
   "outputs": [
    {
     "name": "stderr",
     "output_type": "stream",
     "text": [
      "[nltk_data] Downloading package wordnet to\n",
      "[nltk_data]     C:\\Users\\David\\AppData\\Roaming\\nltk_data...\n"
     ]
    },
    {
     "name": "stdout",
     "output_type": "stream",
     "text": [
      "[Synset('spectacular.n.01'), Synset('dramatic.s.02'), Synset('spectacular.s.02'), Synset('outstanding.s.02')]\n"
     ]
    }
   ],
   "source": [
    "# Make sure to install wordnet, if not done already so \n",
    "nltk.download('wordnet') \n",
    "\n",
    "# Synonyms\n",
    "from nltk.corpus import wordnet \n",
    "word_ = wordnet.synsets(\"spectacular\")\n",
    "print(word_)"
   ]
  },
  {
   "cell_type": "code",
   "execution_count": 4,
   "metadata": {
    "ExecuteTime": {
     "end_time": "2024-03-01T11:42:11.567653600Z",
     "start_time": "2024-03-01T11:42:11.363967300Z"
    }
   },
   "outputs": [],
   "source": [
    "?wordnet.synsets"
   ]
  },
  {
   "cell_type": "code",
   "execution_count": 5,
   "metadata": {
    "ExecuteTime": {
     "end_time": "2024-03-01T11:44:28.432261800Z",
     "start_time": "2024-03-01T11:44:28.324001Z"
    }
   },
   "outputs": [
    {
     "name": "stdout",
     "output_type": "stream",
     "text": [
      "a lavishly produced performance\n",
      "sensational in appearance or thrilling in effect\n",
      "characteristic of spectacles or drama\n",
      "having a quality that thrusts itself into attention\n"
     ]
    }
   ],
   "source": [
    "# Printing the meaning along of each of the synonyms\n",
    "print(word_[0].definition())\n",
    "print(word_[1].definition())\n",
    "print(word_[2].definition())\n",
    "print(word_[3].definition())"
   ]
  },
  {
   "cell_type": "code",
   "execution_count": 6,
   "metadata": {
    "ExecuteTime": {
     "end_time": "2024-03-01T11:44:40.544855900Z",
     "start_time": "2024-03-01T11:44:40.403750700Z"
    }
   },
   "outputs": [
    {
     "name": "stdout",
     "output_type": "stream",
     "text": [
      "['they put on a Christmas spectacular']\n",
      "['a dramatic sunset', 'a dramatic pause', 'a spectacular display of northern lights', 'it was a spectacular play', 'his striking good looks always created a sensation']\n",
      "['spectacular dives from the cliff']\n",
      "['an outstanding fact of our time is that nations poisoned by anti semitism proved less fortunate in regard to their own freedom', 'a new theory is the most prominent feature of the book', 'salient traits', 'a spectacular rise in prices', 'a striking thing about Picadilly Circus is the statue of Eros in the center', 'a striking resemblance between parent and child']\n"
     ]
    }
   ],
   "source": [
    "print(word_[0].examples())\n",
    "print(word_[1].examples())\n",
    "print(word_[2].examples())\n",
    "print(word_[3].examples())"
   ]
  },
  {
   "cell_type": "markdown",
   "metadata": {},
   "source": [
    "#### Stemming and Lemmatizing Words"
   ]
  },
  {
   "cell_type": "markdown",
   "metadata": {},
   "source": [
    "Word Stemming means removing affixes from words and returning the root word (which may not be a real word). Lemmatizing is similar to stemming, but the\n",
    "difference is that the result of lemmatizing is a real word."
   ]
  },
  {
   "cell_type": "code",
   "execution_count": 7,
   "metadata": {
    "ExecuteTime": {
     "end_time": "2024-03-01T11:48:45.535462500Z",
     "start_time": "2024-03-01T11:48:45.408956400Z"
    }
   },
   "outputs": [],
   "source": [
    "# Stemming \n",
    "from nltk.stem import PorterStemmer \n",
    "stemmer = PorterStemmer()    # Create the stemmer object"
   ]
  },
  {
   "cell_type": "code",
   "execution_count": 8,
   "metadata": {
    "ExecuteTime": {
     "end_time": "2024-03-01T11:48:52.050797900Z",
     "start_time": "2024-03-01T11:48:51.908105500Z"
    }
   },
   "outputs": [
    {
     "name": "stdout",
     "output_type": "stream",
     "text": [
      "decreas\n",
      "reduc\n",
      "studi\n",
      "work\n",
      "work\n"
     ]
    }
   ],
   "source": [
    "print(stemmer.stem(\"decreases\"))\n",
    "print(stemmer.stem(\"reduced\"))\n",
    "print(stemmer.stem(\"studying\"))\n",
    "\n",
    "# Check misspelling\n",
    "print(stemmer.stem(\"works\"))\n",
    "print(stemmer.stem(\"workes\"))"
   ]
  },
  {
   "cell_type": "code",
   "execution_count": 9,
   "metadata": {
    "ExecuteTime": {
     "end_time": "2024-03-01T11:48:56.243944900Z",
     "start_time": "2024-03-01T11:48:56.146644Z"
    }
   },
   "outputs": [],
   "source": [
    "#Lemmatization \n",
    "from nltk.stem import WordNetLemmatizer \n",
    "lemmatizer = WordNetLemmatizer()    # Create the Lemmatizer object"
   ]
  },
  {
   "cell_type": "code",
   "execution_count": 10,
   "metadata": {
    "ExecuteTime": {
     "end_time": "2024-03-01T11:49:04.251551Z",
     "start_time": "2024-03-01T11:49:04.112775800Z"
    }
   },
   "outputs": [
    {
     "name": "stdout",
     "output_type": "stream",
     "text": [
      "decrease\n",
      "reduced\n",
      "studying\n",
      "work\n",
      "workes\n"
     ]
    }
   ],
   "source": [
    "print(lemmatizer.lemmatize(\"decreases\"))\n",
    "print(lemmatizer.lemmatize(\"reduced\"))\n",
    "print(lemmatizer.lemmatize(\"studying\"))\n",
    "\n",
    "# Check misspelling\n",
    "print(lemmatizer.lemmatize(\"works\"))\n",
    "print(lemmatizer.lemmatize(\"workes\"))"
   ]
  },
  {
   "cell_type": "markdown",
   "metadata": {},
   "source": [
    "## TextBlob"
   ]
  },
  {
   "cell_type": "markdown",
   "metadata": {},
   "source": [
    "**TextBlob** is a Python library for processing textual data (http://textblob.readthedocs.io/en/dev/index.html). It provides a simple API for diving into common natural language processing (NLP) tasks such as part-of-speech tagging, noun phrase extraction, sentiment analysis, classification, translation, and more. TextBlob stands out for its simplicity and ease of use, enabling rapid prototyping and development of NLP applications.\n",
    "\n",
    "Under the hood, TextBlob relies on other NLP libraries like NLTK and pattern, but it offers a more user-friendly interface. It's an excellent tool for beginners who want to learn about NLP as well as for seasoned developers who need to quickly get things done.\n",
    "\n",
    "Here are some of the key features of TextBlob:\n",
    "\n",
    "- **Tokenization**: Splitting text into words or sentences.\n",
    "- **Noun phrase extraction**: Identifying noun phrases in the text.\n",
    "- **Part-of-speech tagging**: Assigning word types to tokens, like verbs and nouns.\n",
    "- **Sentiment analysis**: Determining the polarity and subjectivity of the text.\n",
    "- **Classification**: Building text classifiers.\n",
    "- **Translation and Language Detection**: Using Google Translate API to translate text and detect language.\n",
    "- **Parsing**: Analyzing the grammatical structure of sentences.\n",
    "- **n-grams**: Creating a list of n-grams (tuple of n-words).\n",
    "\n",
    "TextBlob is particularly suited for quick NLP tasks and for those who are new to Python or NLP. It provides a gentle introduction to the field and allows for rapid development and experimentation."
   ]
  },
  {
   "cell_type": "markdown",
   "metadata": {},
   "source": [
    "<div>\n",
    "   <img src=\"img/textblob.png\" width=\"400\">\n",
    "</div>"
   ]
  },
  {
   "cell_type": "code",
   "execution_count": 10,
   "metadata": {},
   "outputs": [
    {
     "name": "stdout",
     "output_type": "stream",
     "text": [
      "Collecting textblob\n",
      "  Using cached textblob-0.18.0.post0-py3-none-any.whl (626 kB)\n",
      "Requirement already satisfied: nltk>=3.8 in /opt/conda/lib/python3.9/site-packages (from textblob) (3.8.1)\n",
      "Requirement already satisfied: tqdm in /opt/conda/lib/python3.9/site-packages (from nltk>=3.8->textblob) (4.64.0)\n",
      "Requirement already satisfied: joblib in /opt/conda/lib/python3.9/site-packages (from nltk>=3.8->textblob) (1.1.0)\n",
      "Requirement already satisfied: regex>=2021.8.3 in /opt/conda/lib/python3.9/site-packages (from nltk>=3.8->textblob) (2023.12.25)\n",
      "Requirement already satisfied: click in /opt/conda/lib/python3.9/site-packages (from nltk>=3.8->textblob) (8.1.2)\n",
      "Installing collected packages: textblob\n",
      "Successfully installed textblob-0.18.0.post0\n"
     ]
    }
   ],
   "source": [
    "!pip install textblob"
   ]
  },
  {
   "cell_type": "code",
   "execution_count": 11,
   "metadata": {
    "ExecuteTime": {
     "end_time": "2024-03-01T11:54:42.428026900Z",
     "start_time": "2024-03-01T11:54:42.108938100Z"
    }
   },
   "outputs": [],
   "source": [
    "from textblob import TextBlob"
   ]
  },
  {
   "cell_type": "markdown",
   "metadata": {},
   "source": [
    "#### Sentiment Analysis"
   ]
  },
  {
   "cell_type": "code",
   "execution_count": 12,
   "metadata": {
    "ExecuteTime": {
     "end_time": "2024-03-01T11:55:19.101049200Z",
     "start_time": "2024-03-01T11:55:18.918563500Z"
    }
   },
   "outputs": [
    {
     "data": {
      "text/plain": "Sentiment(polarity=0.1, subjectivity=1.0)"
     },
     "execution_count": 12,
     "metadata": {},
     "output_type": "execute_result"
    }
   ],
   "source": [
    "# Taking a statement as input\n",
    "statement = TextBlob(\"My home is far away from my school.\") \n",
    "\n",
    "# Calculating the sentiment attached with the statement \n",
    "statement.sentiment"
   ]
  },
  {
   "cell_type": "code",
   "execution_count": 13,
   "metadata": {
    "ExecuteTime": {
     "end_time": "2024-03-01T11:55:26.209188400Z",
     "start_time": "2024-03-01T11:55:25.992143100Z"
    }
   },
   "outputs": [],
   "source": [
    "?TextBlob.sentiment"
   ]
  },
  {
   "cell_type": "markdown",
   "metadata": {},
   "source": [
    "#### Part-of Speech Tagging"
   ]
  },
  {
   "cell_type": "code",
   "execution_count": 15,
   "metadata": {
    "ExecuteTime": {
     "end_time": "2024-03-01T11:58:53.910132200Z",
     "start_time": "2024-03-01T11:58:53.718285800Z"
    }
   },
   "outputs": [
    {
     "data": {
      "text/plain": "TextBlob(\"How about you and I go together on a walk far away from this place, discussing the things we have never discussed on Deep Learning and Natural Language Processing.\")"
     },
     "execution_count": 15,
     "metadata": {},
     "output_type": "execute_result"
    }
   ],
   "source": [
    "# Defining a sample text \n",
    "text = 'How about you and I go together on a walk far away from this place, discussing the things we have never discussed on Deep Learning and Natural Language Processing.'\n",
    "blob_ = TextBlob(text)    # Making it as Textblob object\n",
    "blob_"
   ]
  },
  {
   "cell_type": "code",
   "execution_count": 16,
   "metadata": {
    "ExecuteTime": {
     "end_time": "2024-03-01T11:58:58.374925100Z",
     "start_time": "2024-03-01T11:58:57.020818Z"
    }
   },
   "outputs": [
    {
     "name": "stderr",
     "output_type": "stream",
     "text": [
      "[nltk_data] Downloading package averaged_perceptron_tagger to\n",
      "[nltk_data]     C:\\Users\\David\\AppData\\Roaming\\nltk_data...\n",
      "[nltk_data]   Unzipping taggers\\averaged_perceptron_tagger.zip.\n"
     ]
    },
    {
     "data": {
      "text/plain": "True"
     },
     "execution_count": 16,
     "metadata": {},
     "output_type": "execute_result"
    }
   ],
   "source": [
    "nltk.download('averaged_perceptron_tagger')"
   ]
  },
  {
   "cell_type": "code",
   "execution_count": 17,
   "metadata": {
    "ExecuteTime": {
     "end_time": "2024-03-01T11:59:10.835218Z",
     "start_time": "2024-03-01T11:59:10.664850100Z"
    }
   },
   "outputs": [
    {
     "data": {
      "text/plain": "[('How', 'WRB'),\n ('about', 'IN'),\n ('you', 'PRP'),\n ('and', 'CC'),\n ('I', 'PRP'),\n ('go', 'VBP'),\n ('together', 'RB'),\n ('on', 'IN'),\n ('a', 'DT'),\n ('walk', 'NN'),\n ('far', 'RB'),\n ('away', 'RB'),\n ('from', 'IN'),\n ('this', 'DT'),\n ('place', 'NN'),\n ('discussing', 'VBG'),\n ('the', 'DT'),\n ('things', 'NNS'),\n ('we', 'PRP'),\n ('have', 'VBP'),\n ('never', 'RB'),\n ('discussed', 'VBN'),\n ('on', 'IN'),\n ('Deep', 'NNP'),\n ('Learning', 'NNP'),\n ('and', 'CC'),\n ('Natural', 'NNP'),\n ('Language', 'NNP'),\n ('Processing', 'NNP')]"
     },
     "execution_count": 17,
     "metadata": {},
     "output_type": "execute_result"
    }
   ],
   "source": [
    "blob_.tags"
   ]
  },
  {
   "cell_type": "markdown",
   "metadata": {},
   "source": [
    "Here's a brief overview of some common parts-of-speech tags used in the Penn Treebank tag set:\n",
    "\n",
    "- NN: Noun, singular or mass\n",
    "- NNS: Noun, plural\n",
    "- NNP: Proper noun, singular\n",
    "- NNPS: Proper noun, plural\n",
    "- PRP: Personal pronoun\n",
    "- PRP\\$: Possessive pronoun\n",
    "- VB: Verb, base form\n",
    "- VBD: Verb, past tense\n",
    "- VBG: Verb, gerund or present participle\n",
    "- VBN: Verb, past participle\n",
    "- VBP: Verb, non-3rd person singular present\n",
    "- VBZ: Verb, 3rd person singular present\n",
    "- JJ: Adjective\n",
    "- JJR: Adjective, comparative\n",
    "- JJS: Adjective, superlative\n",
    "- RB: Adverb\n",
    "- RBR: Adverb, comparative\n",
    "- RBS: Adverb, superlative\n",
    "- DT: Determiner\n",
    "- IN: Preposition or subordinating conjunction\n",
    "- CC: Coordinating conjunction\n",
    "- MD: Modal\n",
    "- CD: Cardinal number\n",
    "- EX: Existential there\n",
    "- FW: Foreign word\n",
    "- POS: Possessive ending\n",
    "- RP: Particle\n",
    "- TO: to\n",
    "- WDT: Wh-determiner\n",
    "- WP: Wh-pronoun\n",
    "- WP\\$: Possessive wh-pronoun\n",
    "- WRB: Wh-adverb\n",
    "\n",
    "This is not an exhaustive list, but it covers many of the common tags you'll encounter when using TextBlob or other NLP tools that adopt the Penn Treebank tag set. To interpret the tags correctly, you can refer to the documentation or a detailed description of the Penn Treebank tag set."
   ]
  },
  {
   "cell_type": "markdown",
   "metadata": {},
   "source": [
    "#### Checking Spelling Errors"
   ]
  },
  {
   "cell_type": "code",
   "execution_count": 18,
   "metadata": {
    "ExecuteTime": {
     "end_time": "2024-03-01T12:03:36.424084200Z",
     "start_time": "2024-03-01T12:03:36.316457800Z"
    }
   },
   "outputs": [
    {
     "name": "stdout",
     "output_type": "stream",
     "text": [
      "I think the model needs to be trained more!\n"
     ]
    }
   ],
   "source": [
    "sample_ = TextBlob(\"I thinkk the model needss to be trained more!\") \n",
    "print(sample_.correct())"
   ]
  },
  {
   "cell_type": "markdown",
   "metadata": {},
   "source": [
    "## SpaCy"
   ]
  },
  {
   "cell_type": "markdown",
   "metadata": {},
   "source": [
    "**spaCy** is an open-source software library for advanced natural language processing in Python (https://spacy.io/). It is designed to be fast, efficient, and to provide an easy-to-use interface for a wide variety of NLP tasks. spaCy is often chosen for production environments due to its performance and robustness.\n",
    "\n",
    "Here are some of the key features and capabilities of spaCy:\n",
    "\n",
    "- **Tokenization**: Segmenting text into words, punctuation marks, and other elements.\n",
    "- **Part-of-speech (POS) Tagging**: Assigning word types to tokens, like verb or noun.\n",
    "- **Dependency Parsing**: Analyzing the grammatical structure of a sentence, establishing relationships between \"head\" words and words which modify those heads.\n",
    "- **Lemmatization**: Reducing words to their base form.\n",
    "- **Named Entity Recognition (NER)**: Labeling named 'real-world' objects, like persons, companies, or locations.\n",
    "- **Similarity**: Comparing words, text spans, and documents and how similar they are to each other.\n",
    "- **Sentence Boundary Detection (SBD)**: Finding and segmenting individual sentences.\n",
    "- **Language Models**: Supporting multiple languages with pre-trained statistical models and word vectors.\n",
    "- **Custom Models**: Ability to train your own models on any type of text.\n",
    "- **Entity Linking (EL)**: Disambiguating textual mentions to unique identifiers in a knowledge base.\n",
    "- **Transformation-Based Learning**: Learning from a sequence of rule applications that gradually transform the text into the desired output.\n",
    "\n",
    "spaCy comes with pre-trained statistical models and word vectors, and it supports tokenization for over 50 languages. It also has model packages that come with pre-trained weights to perform tasks like NER, POS tagging, and dependency parsing.\n",
    "\n",
    "spaCy's design and usability focus on creating NLP pipelines and models for production systems. It is well-suited for large-scale information extraction tasks and offers excellent performance and customization capabilities."
   ]
  },
  {
   "cell_type": "markdown",
   "metadata": {},
   "source": [
    "<div>\n",
    "   <img src=\"img/SpaCy.png\" width=\"400\">\n",
    "</div>"
   ]
  },
  {
   "cell_type": "code",
   "execution_count": 17,
   "metadata": {},
   "outputs": [
    {
     "name": "stdout",
     "output_type": "stream",
     "text": [
      "Collecting spacy\n",
      "  Using cached spacy-3.7.4-cp39-cp39-manylinux_2_17_x86_64.manylinux2014_x86_64.whl (6.6 MB)\n",
      "Collecting typer<0.10.0,>=0.3.0\n",
      "  Using cached typer-0.9.0-py3-none-any.whl (45 kB)\n",
      "Collecting catalogue<2.1.0,>=2.0.6\n",
      "  Using cached catalogue-2.0.10-py3-none-any.whl (17 kB)\n",
      "Collecting srsly<3.0.0,>=2.4.3\n",
      "  Using cached srsly-2.4.8-cp39-cp39-manylinux_2_17_x86_64.manylinux2014_x86_64.whl (492 kB)\n",
      "Collecting preshed<3.1.0,>=3.0.2\n",
      "  Using cached preshed-3.0.9-cp39-cp39-manylinux_2_5_x86_64.manylinux1_x86_64.manylinux_2_17_x86_64.manylinux2014_x86_64.whl (157 kB)\n",
      "Collecting spacy-legacy<3.1.0,>=3.0.11\n",
      "  Using cached spacy_legacy-3.0.12-py2.py3-none-any.whl (29 kB)\n",
      "Collecting wasabi<1.2.0,>=0.9.1\n",
      "  Using cached wasabi-1.1.2-py3-none-any.whl (27 kB)\n",
      "Collecting smart-open<7.0.0,>=5.2.1\n",
      "  Using cached smart_open-6.4.0-py3-none-any.whl (57 kB)\n",
      "Collecting cymem<2.1.0,>=2.0.2\n",
      "  Using cached cymem-2.0.8-cp39-cp39-manylinux_2_17_x86_64.manylinux2014_x86_64.whl (46 kB)\n",
      "Collecting murmurhash<1.1.0,>=0.28.0\n",
      "  Using cached murmurhash-1.0.10-cp39-cp39-manylinux_2_5_x86_64.manylinux1_x86_64.manylinux_2_17_x86_64.manylinux2014_x86_64.whl (29 kB)\n",
      "Collecting thinc<8.3.0,>=8.2.2\n",
      "  Using cached thinc-8.2.3-cp39-cp39-manylinux_2_17_x86_64.manylinux2014_x86_64.whl (937 kB)\n",
      "Requirement already satisfied: setuptools in /opt/conda/lib/python3.9/site-packages (from spacy) (62.1.0)\n",
      "Requirement already satisfied: numpy>=1.19.0 in /opt/conda/lib/python3.9/site-packages (from spacy) (1.21.6)\n",
      "Requirement already satisfied: jinja2 in /opt/conda/lib/python3.9/site-packages (from spacy) (3.0.3)\n",
      "Requirement already satisfied: requests<3.0.0,>=2.13.0 in /opt/conda/lib/python3.9/site-packages (from spacy) (2.27.1)\n",
      "Collecting pydantic!=1.8,!=1.8.1,<3.0.0,>=1.7.4\n",
      "  Using cached pydantic-2.6.3-py3-none-any.whl (395 kB)\n",
      "Collecting weasel<0.4.0,>=0.1.0\n",
      "  Using cached weasel-0.3.4-py3-none-any.whl (50 kB)\n",
      "Requirement already satisfied: tqdm<5.0.0,>=4.38.0 in /opt/conda/lib/python3.9/site-packages (from spacy) (4.64.0)\n",
      "Requirement already satisfied: packaging>=20.0 in /opt/conda/lib/python3.9/site-packages (from spacy) (21.3)\n",
      "Collecting spacy-loggers<2.0.0,>=1.0.0\n",
      "  Using cached spacy_loggers-1.0.5-py3-none-any.whl (22 kB)\n",
      "Collecting langcodes<4.0.0,>=3.2.0\n",
      "  Using cached langcodes-3.3.0-py3-none-any.whl (181 kB)\n",
      "Requirement already satisfied: pyparsing!=3.0.5,>=2.0.2 in /opt/conda/lib/python3.9/site-packages (from packaging>=20.0->spacy) (3.0.8)\n",
      "Collecting annotated-types>=0.4.0\n",
      "  Using cached annotated_types-0.6.0-py3-none-any.whl (12 kB)\n",
      "Collecting pydantic-core==2.16.3\n",
      "  Using cached pydantic_core-2.16.3-cp39-cp39-manylinux_2_17_x86_64.manylinux2014_x86_64.whl (2.2 MB)\n",
      "Collecting typing-extensions>=4.6.1\n",
      "  Using cached typing_extensions-4.10.0-py3-none-any.whl (33 kB)\n",
      "Requirement already satisfied: certifi>=2017.4.17 in /opt/conda/lib/python3.9/site-packages (from requests<3.0.0,>=2.13.0->spacy) (2021.10.8)\n",
      "Requirement already satisfied: idna<4,>=2.5 in /opt/conda/lib/python3.9/site-packages (from requests<3.0.0,>=2.13.0->spacy) (3.3)\n",
      "Requirement already satisfied: charset-normalizer~=2.0.0 in /opt/conda/lib/python3.9/site-packages (from requests<3.0.0,>=2.13.0->spacy) (2.0.12)\n",
      "Requirement already satisfied: urllib3<1.27,>=1.21.1 in /opt/conda/lib/python3.9/site-packages (from requests<3.0.0,>=2.13.0->spacy) (1.26.9)\n",
      "Collecting confection<1.0.0,>=0.0.1\n",
      "  Using cached confection-0.1.4-py3-none-any.whl (35 kB)\n",
      "Collecting blis<0.8.0,>=0.7.8\n",
      "  Using cached blis-0.7.11-cp39-cp39-manylinux_2_17_x86_64.manylinux2014_x86_64.whl (10.2 MB)\n",
      "Requirement already satisfied: click<9.0.0,>=7.1.1 in /opt/conda/lib/python3.9/site-packages (from typer<0.10.0,>=0.3.0->spacy) (8.1.2)\n",
      "Collecting cloudpathlib<0.17.0,>=0.7.0\n",
      "  Using cached cloudpathlib-0.16.0-py3-none-any.whl (45 kB)\n",
      "Requirement already satisfied: MarkupSafe>=2.0 in /opt/conda/lib/python3.9/site-packages (from jinja2->spacy) (2.1.1)\n",
      "Installing collected packages: cymem, wasabi, typing-extensions, spacy-loggers, spacy-legacy, smart-open, murmurhash, langcodes, catalogue, blis, annotated-types, typer, srsly, pydantic-core, preshed, cloudpathlib, pydantic, confection, weasel, thinc, spacy\n",
      "  Attempting uninstall: typing-extensions\n",
      "    Found existing installation: typing_extensions 4.2.0\n",
      "    Uninstalling typing_extensions-4.2.0:\n",
      "      Successfully uninstalled typing_extensions-4.2.0\n",
      "Successfully installed annotated-types-0.6.0 blis-0.7.11 catalogue-2.0.10 cloudpathlib-0.16.0 confection-0.1.4 cymem-2.0.8 langcodes-3.3.0 murmurhash-1.0.10 preshed-3.0.9 pydantic-2.6.3 pydantic-core-2.16.3 smart-open-6.4.0 spacy-3.7.4 spacy-legacy-3.0.12 spacy-loggers-1.0.5 srsly-2.4.8 thinc-8.2.3 typer-0.9.0 typing-extensions-4.10.0 wasabi-1.1.2 weasel-0.3.4\n"
     ]
    }
   ],
   "source": [
    "!pip install spacy"
   ]
  },
  {
   "cell_type": "code",
   "execution_count": 19,
   "metadata": {
    "ExecuteTime": {
     "end_time": "2024-03-01T12:04:57.221208300Z",
     "start_time": "2024-03-01T12:04:46.522164900Z"
    }
   },
   "outputs": [
    {
     "name": "stdout",
     "output_type": "stream",
     "text": [
      "Collecting en-core-web-sm==3.7.1\n",
      "  Downloading https://github.com/explosion/spacy-models/releases/download/en_core_web_sm-3.7.1/en_core_web_sm-3.7.1-py3-none-any.whl (12.8 MB)\n",
      "     ---------------------------------------- 0.0/12.8 MB ? eta -:--:--\n",
      "     ---------------------------------------- 0.0/12.8 MB 1.3 MB/s eta 0:00:10\n",
      "     --------------------------------------- 0.1/12.8 MB 871.5 kB/s eta 0:00:15\n",
      "      --------------------------------------- 0.2/12.8 MB 1.3 MB/s eta 0:00:10\n",
      "     - -------------------------------------- 0.3/12.8 MB 1.7 MB/s eta 0:00:08\n",
      "     - -------------------------------------- 0.6/12.8 MB 2.4 MB/s eta 0:00:06\n",
      "     --- ------------------------------------ 1.0/12.8 MB 3.8 MB/s eta 0:00:04\n",
      "     ----- ---------------------------------- 1.8/12.8 MB 5.4 MB/s eta 0:00:03\n",
      "     -------- ------------------------------- 2.7/12.8 MB 7.2 MB/s eta 0:00:02\n",
      "     ----------- ---------------------------- 3.6/12.8 MB 8.8 MB/s eta 0:00:02\n",
      "     ----------- ---------------------------- 3.8/12.8 MB 8.7 MB/s eta 0:00:02\n",
      "     ----------- ---------------------------- 3.8/12.8 MB 8.7 MB/s eta 0:00:02\n",
      "     ----------- ---------------------------- 3.8/12.8 MB 7.2 MB/s eta 0:00:02\n",
      "     ----------- ---------------------------- 3.8/12.8 MB 7.2 MB/s eta 0:00:02\n",
      "     ----------------- ---------------------- 5.5/12.8 MB 8.4 MB/s eta 0:00:01\n",
      "     ----------------------- ---------------- 7.4/12.8 MB 11.0 MB/s eta 0:00:01\n",
      "     ----------------------- ---------------- 7.4/12.8 MB 11.0 MB/s eta 0:00:01\n",
      "     ---------------------------- ----------- 9.0/12.8 MB 11.3 MB/s eta 0:00:01\n",
      "     ------------------------------ --------- 9.8/12.8 MB 11.6 MB/s eta 0:00:01\n",
      "     ------------------------------------- - 12.3/12.8 MB 19.3 MB/s eta 0:00:01\n",
      "     --------------------------------------  12.8/12.8 MB 18.2 MB/s eta 0:00:01\n",
      "     --------------------------------------- 12.8/12.8 MB 16.4 MB/s eta 0:00:00\n",
      "Requirement already satisfied: spacy<3.8.0,>=3.7.2 in c:\\users\\david\\ideaprojects\\mm5427\\venv\\lib\\site-packages (from en-core-web-sm==3.7.1) (3.7.4)\n",
      "Requirement already satisfied: spacy-legacy<3.1.0,>=3.0.11 in c:\\users\\david\\ideaprojects\\mm5427\\venv\\lib\\site-packages (from spacy<3.8.0,>=3.7.2->en-core-web-sm==3.7.1) (3.0.12)\n",
      "Requirement already satisfied: spacy-loggers<2.0.0,>=1.0.0 in c:\\users\\david\\ideaprojects\\mm5427\\venv\\lib\\site-packages (from spacy<3.8.0,>=3.7.2->en-core-web-sm==3.7.1) (1.0.5)\n",
      "Requirement already satisfied: murmurhash<1.1.0,>=0.28.0 in c:\\users\\david\\ideaprojects\\mm5427\\venv\\lib\\site-packages (from spacy<3.8.0,>=3.7.2->en-core-web-sm==3.7.1) (1.0.10)\n",
      "Requirement already satisfied: cymem<2.1.0,>=2.0.2 in c:\\users\\david\\ideaprojects\\mm5427\\venv\\lib\\site-packages (from spacy<3.8.0,>=3.7.2->en-core-web-sm==3.7.1) (2.0.8)\n",
      "Requirement already satisfied: preshed<3.1.0,>=3.0.2 in c:\\users\\david\\ideaprojects\\mm5427\\venv\\lib\\site-packages (from spacy<3.8.0,>=3.7.2->en-core-web-sm==3.7.1) (3.0.9)\n",
      "Requirement already satisfied: thinc<8.3.0,>=8.2.2 in c:\\users\\david\\ideaprojects\\mm5427\\venv\\lib\\site-packages (from spacy<3.8.0,>=3.7.2->en-core-web-sm==3.7.1) (8.2.3)\n",
      "Requirement already satisfied: wasabi<1.2.0,>=0.9.1 in c:\\users\\david\\ideaprojects\\mm5427\\venv\\lib\\site-packages (from spacy<3.8.0,>=3.7.2->en-core-web-sm==3.7.1) (1.1.2)\n",
      "Requirement already satisfied: srsly<3.0.0,>=2.4.3 in c:\\users\\david\\ideaprojects\\mm5427\\venv\\lib\\site-packages (from spacy<3.8.0,>=3.7.2->en-core-web-sm==3.7.1) (2.4.8)\n",
      "Requirement already satisfied: catalogue<2.1.0,>=2.0.6 in c:\\users\\david\\ideaprojects\\mm5427\\venv\\lib\\site-packages (from spacy<3.8.0,>=3.7.2->en-core-web-sm==3.7.1) (2.0.10)\n",
      "Requirement already satisfied: weasel<0.4.0,>=0.1.0 in c:\\users\\david\\ideaprojects\\mm5427\\venv\\lib\\site-packages (from spacy<3.8.0,>=3.7.2->en-core-web-sm==3.7.1) (0.3.4)\n",
      "Requirement already satisfied: typer<0.10.0,>=0.3.0 in c:\\users\\david\\ideaprojects\\mm5427\\venv\\lib\\site-packages (from spacy<3.8.0,>=3.7.2->en-core-web-sm==3.7.1) (0.9.0)\n",
      "Requirement already satisfied: smart-open<7.0.0,>=5.2.1 in c:\\users\\david\\ideaprojects\\mm5427\\venv\\lib\\site-packages (from spacy<3.8.0,>=3.7.2->en-core-web-sm==3.7.1) (6.4.0)\n",
      "Requirement already satisfied: tqdm<5.0.0,>=4.38.0 in c:\\users\\david\\ideaprojects\\mm5427\\venv\\lib\\site-packages (from spacy<3.8.0,>=3.7.2->en-core-web-sm==3.7.1) (4.66.2)\n",
      "Requirement already satisfied: requests<3.0.0,>=2.13.0 in c:\\users\\david\\ideaprojects\\mm5427\\venv\\lib\\site-packages (from spacy<3.8.0,>=3.7.2->en-core-web-sm==3.7.1) (2.31.0)\n",
      "Requirement already satisfied: pydantic!=1.8,!=1.8.1,<3.0.0,>=1.7.4 in c:\\users\\david\\ideaprojects\\mm5427\\venv\\lib\\site-packages (from spacy<3.8.0,>=3.7.2->en-core-web-sm==3.7.1) (2.6.3)\n",
      "Requirement already satisfied: jinja2 in c:\\users\\david\\ideaprojects\\mm5427\\venv\\lib\\site-packages (from spacy<3.8.0,>=3.7.2->en-core-web-sm==3.7.1) (3.1.3)\n",
      "Requirement already satisfied: setuptools in c:\\users\\david\\ideaprojects\\mm5427\\venv\\lib\\site-packages (from spacy<3.8.0,>=3.7.2->en-core-web-sm==3.7.1) (68.2.0)\n",
      "Requirement already satisfied: packaging>=20.0 in c:\\users\\david\\ideaprojects\\mm5427\\venv\\lib\\site-packages (from spacy<3.8.0,>=3.7.2->en-core-web-sm==3.7.1) (23.2)\n",
      "Requirement already satisfied: langcodes<4.0.0,>=3.2.0 in c:\\users\\david\\ideaprojects\\mm5427\\venv\\lib\\site-packages (from spacy<3.8.0,>=3.7.2->en-core-web-sm==3.7.1) (3.3.0)\n",
      "Requirement already satisfied: numpy>=1.19.0 in c:\\users\\david\\ideaprojects\\mm5427\\venv\\lib\\site-packages (from spacy<3.8.0,>=3.7.2->en-core-web-sm==3.7.1) (1.26.4)\n",
      "Requirement already satisfied: annotated-types>=0.4.0 in c:\\users\\david\\ideaprojects\\mm5427\\venv\\lib\\site-packages (from pydantic!=1.8,!=1.8.1,<3.0.0,>=1.7.4->spacy<3.8.0,>=3.7.2->en-core-web-sm==3.7.1) (0.6.0)\n",
      "Requirement already satisfied: pydantic-core==2.16.3 in c:\\users\\david\\ideaprojects\\mm5427\\venv\\lib\\site-packages (from pydantic!=1.8,!=1.8.1,<3.0.0,>=1.7.4->spacy<3.8.0,>=3.7.2->en-core-web-sm==3.7.1) (2.16.3)\n",
      "Requirement already satisfied: typing-extensions>=4.6.1 in c:\\users\\david\\ideaprojects\\mm5427\\venv\\lib\\site-packages (from pydantic!=1.8,!=1.8.1,<3.0.0,>=1.7.4->spacy<3.8.0,>=3.7.2->en-core-web-sm==3.7.1) (4.10.0)\n",
      "Requirement already satisfied: charset-normalizer<4,>=2 in c:\\users\\david\\ideaprojects\\mm5427\\venv\\lib\\site-packages (from requests<3.0.0,>=2.13.0->spacy<3.8.0,>=3.7.2->en-core-web-sm==3.7.1) (3.3.2)\n",
      "Requirement already satisfied: idna<4,>=2.5 in c:\\users\\david\\ideaprojects\\mm5427\\venv\\lib\\site-packages (from requests<3.0.0,>=2.13.0->spacy<3.8.0,>=3.7.2->en-core-web-sm==3.7.1) (3.6)\n",
      "Requirement already satisfied: urllib3<3,>=1.21.1 in c:\\users\\david\\ideaprojects\\mm5427\\venv\\lib\\site-packages (from requests<3.0.0,>=2.13.0->spacy<3.8.0,>=3.7.2->en-core-web-sm==3.7.1) (2.2.1)\n",
      "Requirement already satisfied: certifi>=2017.4.17 in c:\\users\\david\\ideaprojects\\mm5427\\venv\\lib\\site-packages (from requests<3.0.0,>=2.13.0->spacy<3.8.0,>=3.7.2->en-core-web-sm==3.7.1) (2024.2.2)\n",
      "Requirement already satisfied: blis<0.8.0,>=0.7.8 in c:\\users\\david\\ideaprojects\\mm5427\\venv\\lib\\site-packages (from thinc<8.3.0,>=8.2.2->spacy<3.8.0,>=3.7.2->en-core-web-sm==3.7.1) (0.7.11)\n",
      "Requirement already satisfied: confection<1.0.0,>=0.0.1 in c:\\users\\david\\ideaprojects\\mm5427\\venv\\lib\\site-packages (from thinc<8.3.0,>=8.2.2->spacy<3.8.0,>=3.7.2->en-core-web-sm==3.7.1) (0.1.4)\n",
      "Requirement already satisfied: colorama in c:\\users\\david\\ideaprojects\\mm5427\\venv\\lib\\site-packages (from tqdm<5.0.0,>=4.38.0->spacy<3.8.0,>=3.7.2->en-core-web-sm==3.7.1) (0.4.6)\n",
      "Requirement already satisfied: click<9.0.0,>=7.1.1 in c:\\users\\david\\ideaprojects\\mm5427\\venv\\lib\\site-packages (from typer<0.10.0,>=0.3.0->spacy<3.8.0,>=3.7.2->en-core-web-sm==3.7.1) (8.1.7)\n",
      "Requirement already satisfied: cloudpathlib<0.17.0,>=0.7.0 in c:\\users\\david\\ideaprojects\\mm5427\\venv\\lib\\site-packages (from weasel<0.4.0,>=0.1.0->spacy<3.8.0,>=3.7.2->en-core-web-sm==3.7.1) (0.16.0)\n",
      "Requirement already satisfied: MarkupSafe>=2.0 in c:\\users\\david\\ideaprojects\\mm5427\\venv\\lib\\site-packages (from jinja2->spacy<3.8.0,>=3.7.2->en-core-web-sm==3.7.1) (2.1.5)\n",
      "\u001B[38;5;2m[+] Download and installation successful\u001B[0m\n",
      "You can now load the package via spacy.load('en_core_web_sm')\n"
     ]
    },
    {
     "name": "stderr",
     "output_type": "stream",
     "text": [
      "\n",
      "[notice] A new release of pip is available: 23.2.1 -> 24.0\n",
      "[notice] To update, run: python.exe -m pip install --upgrade pip\n"
     ]
    }
   ],
   "source": [
    "import spacy\n",
    "\n",
    "# Run below command, if you are getting error \n",
    "!python -m spacy download en_core_web_sm\n",
    "import en_core_web_sm\n",
    "nlp = en_core_web_sm.load()"
   ]
  },
  {
   "cell_type": "markdown",
   "metadata": {},
   "source": [
    "#### Entity Recognition"
   ]
  },
  {
   "cell_type": "code",
   "execution_count": 20,
   "metadata": {
    "ExecuteTime": {
     "end_time": "2024-03-01T12:10:14.098678Z",
     "start_time": "2024-03-01T12:10:13.972099400Z"
    }
   },
   "outputs": [
    {
     "name": "stdout",
     "output_type": "stream",
     "text": [
      "[(William, 'PERSON', 'People, including fictional'), (William II, 'PERSON', 'People, including fictional'), (Anna Pavlovna, 'PERSON', 'People, including fictional'), (Russia, 'GPE', 'Countries, cities, states'), (William, 'PERSON', 'People, including fictional'), (1840, 'DATE', 'Absolute or relative dates or periods'), (the Prince of Orange, 'GPE', 'Countries, cities, states'), (1849, 'DATE', 'Absolute or relative dates or periods'), (Netherlands, 'GPE', 'Countries, cities, states'), (William, 'PERSON', 'People, including fictional'), (Sophie of Württemberg, 'ORG', 'Companies, agencies, institutions, etc.'), (1839, 'DATE', 'Absolute or relative dates or periods'), (three, 'CARDINAL', 'Numerals that do not fall under another type'), (William, 'PERSON', 'People, including fictional'), (Maurice, 'GPE', 'Countries, cities, states'), (Alexander, 'ORG', 'Companies, agencies, institutions, etc.')]\n"
     ]
    }
   ],
   "source": [
    "william_wikidef = 'William was the son of King William II and Anna Pavlovna of Russia. On the abdication of his grandfather William I in 1840, he became the Prince of Orange. On the death of his father in 1849, he succeeded as king of the Netherlands. William married his cousin Sophie of Württemberg in 1839 and they had three sons, William, Maurice, and Alexander, all of whom predeceased him.'\n",
    "nlp_william = nlp(william_wikidef)\n",
    "print([(i, i.label_, spacy.explain(i.label_)) for i in nlp_william.ents])"
   ]
  },
  {
   "cell_type": "markdown",
   "metadata": {},
   "source": [
    "---\n",
    "***Tip**: How to Use List Comprehension?*"
   ]
  },
  {
   "cell_type": "code",
   "execution_count": 21,
   "metadata": {
    "ExecuteTime": {
     "end_time": "2024-03-01T12:17:19.696886600Z",
     "start_time": "2024-03-01T12:17:19.595426300Z"
    }
   },
   "outputs": [
    {
     "name": "stdout",
     "output_type": "stream",
     "text": [
      "[(William, 'PERSON', 'People, including fictional'), (William II, 'PERSON', 'People, including fictional'), (Anna Pavlovna, 'PERSON', 'People, including fictional'), (Russia, 'GPE', 'Countries, cities, states'), (William, 'PERSON', 'People, including fictional'), (1840, 'DATE', 'Absolute or relative dates or periods'), (the Prince of Orange, 'GPE', 'Countries, cities, states'), (1849, 'DATE', 'Absolute or relative dates or periods'), (Netherlands, 'GPE', 'Countries, cities, states'), (William, 'PERSON', 'People, including fictional'), (Sophie of Württemberg, 'ORG', 'Companies, agencies, institutions, etc.'), (1839, 'DATE', 'Absolute or relative dates or periods'), (three, 'CARDINAL', 'Numerals that do not fall under another type'), (William, 'PERSON', 'People, including fictional'), (Maurice, 'GPE', 'Countries, cities, states'), (Alexander, 'ORG', 'Companies, agencies, institutions, etc.')]\n",
      "[(William, 'PERSON', 'People, including fictional'), (William II, 'PERSON', 'People, including fictional'), (Anna Pavlovna, 'PERSON', 'People, including fictional'), (Russia, 'GPE', 'Countries, cities, states'), (William, 'PERSON', 'People, including fictional'), (1840, 'DATE', 'Absolute or relative dates or periods'), (the Prince of Orange, 'GPE', 'Countries, cities, states'), (1849, 'DATE', 'Absolute or relative dates or periods'), (Netherlands, 'GPE', 'Countries, cities, states'), (William, 'PERSON', 'People, including fictional'), (Sophie of Württemberg, 'ORG', 'Companies, agencies, institutions, etc.'), (1839, 'DATE', 'Absolute or relative dates or periods'), (three, 'CARDINAL', 'Numerals that do not fall under another type'), (William, 'PERSON', 'People, including fictional'), (Maurice, 'GPE', 'Countries, cities, states'), (Alexander, 'ORG', 'Companies, agencies, institutions, etc.')]\n"
     ]
    }
   ],
   "source": [
    "output1 = [(i, i.label_, spacy.explain(i.label_)) for i in nlp_william.ents]\n",
    "\n",
    "output2 = []\n",
    "for i in nlp_william.ents:\n",
    "    output2.append((i, i.label_, spacy.explain(i.label_)))\n",
    "    \n",
    "print(output1)\n",
    "print(output2)"
   ]
  },
  {
   "cell_type": "markdown",
   "metadata": {},
   "source": [
    "---"
   ]
  },
  {
   "cell_type": "markdown",
   "metadata": {},
   "source": [
    "#### Dependency Parsing"
   ]
  },
  {
   "cell_type": "code",
   "execution_count": 25,
   "metadata": {
    "ExecuteTime": {
     "end_time": "2024-03-01T12:34:30.840016500Z",
     "start_time": "2024-03-01T12:34:30.570714800Z"
    }
   },
   "outputs": [
    {
     "name": "stdout",
     "output_type": "stream",
     "text": [
      "This book\n",
      "------\n",
      "nsubj\n",
      " \n",
      "NLP\n",
      "------\n",
      "pobj\n",
      " \n"
     ]
    }
   ],
   "source": [
    "# Noun Phrase extraction \n",
    "senten_ = nlp('This book is about NLP.') \n",
    "for noun_ in senten_.noun_chunks: \n",
    "    print(noun_.text) \n",
    "    print('------')\n",
    "    print(noun_.root.dep_) \n",
    "    print(' ')"
   ]
  },
  {
   "cell_type": "markdown",
   "metadata": {},
   "source": [
    "<b>nsubj: nominal subject</b><br>\n",
    "A nominal subject is a noun phrase which is the syntactic subject of a clause. The governor of this relation\n",
    "might not always be a verb: when the verb is a copular verb, the root of the clause is the complement of\n",
    "the copular verb, which can be an adjective or noun.<br><br>\n",
    "\n",
    "<b>pobj: object of a preposition</b>\n",
    "The object of a preposition is the head of a noun phrase following the preposition, or the adverbs “here”\n",
    "and “there”. (The preposition in turn may be modifying a noun, verb, etc.) Unlike the Penn Treebank,\n",
    "we here define cases of VBG quasi-prepositions like “including”, “concerning”, etc. as instances of pobj.\n",
    "(The preposition can be tagged a FW for “pace”, “versus”, etc. It can also be called a CC – but we\n",
    "don’t currently handle that and would need to distinguish from conjoined prepositions.) In the case of\n",
    "preposition stranding, the object can precede the preposition (e.g., “What does CPR stand for?”)."
   ]
  },
  {
   "cell_type": "markdown",
   "metadata": {},
   "source": [
    "#### Visualization"
   ]
  },
  {
   "cell_type": "code",
   "execution_count": 26,
   "metadata": {
    "ExecuteTime": {
     "end_time": "2024-03-01T12:34:37.182648800Z",
     "start_time": "2024-03-01T12:34:37.031983500Z"
    }
   },
   "outputs": [
    {
     "data": {
      "text/plain": "<IPython.core.display.HTML object>",
      "text/html": "<span class=\"tex2jax_ignore\"><svg xmlns=\"http://www.w3.org/2000/svg\" xmlns:xlink=\"http://www.w3.org/1999/xlink\" xml:lang=\"en\" id=\"49c839fc7d9f4dd2b63f3006864f4f14-0\" class=\"displacy\" width=\"925\" height=\"224.5\" direction=\"ltr\" style=\"max-width: none; height: 224.5px; color: #000000; background: #ffffff; font-family: Arial; direction: ltr\">\n<text class=\"displacy-token\" fill=\"currentColor\" text-anchor=\"middle\" y=\"134.5\">\n    <tspan class=\"displacy-word\" fill=\"currentColor\" x=\"50\">This</tspan>\n    <tspan class=\"displacy-tag\" dy=\"2em\" fill=\"currentColor\" x=\"50\">DET</tspan>\n</text>\n\n<text class=\"displacy-token\" fill=\"currentColor\" text-anchor=\"middle\" y=\"134.5\">\n    <tspan class=\"displacy-word\" fill=\"currentColor\" x=\"225\">book</tspan>\n    <tspan class=\"displacy-tag\" dy=\"2em\" fill=\"currentColor\" x=\"225\">NOUN</tspan>\n</text>\n\n<text class=\"displacy-token\" fill=\"currentColor\" text-anchor=\"middle\" y=\"134.5\">\n    <tspan class=\"displacy-word\" fill=\"currentColor\" x=\"400\">is</tspan>\n    <tspan class=\"displacy-tag\" dy=\"2em\" fill=\"currentColor\" x=\"400\">AUX</tspan>\n</text>\n\n<text class=\"displacy-token\" fill=\"currentColor\" text-anchor=\"middle\" y=\"134.5\">\n    <tspan class=\"displacy-word\" fill=\"currentColor\" x=\"575\">about</tspan>\n    <tspan class=\"displacy-tag\" dy=\"2em\" fill=\"currentColor\" x=\"575\">ADP</tspan>\n</text>\n\n<text class=\"displacy-token\" fill=\"currentColor\" text-anchor=\"middle\" y=\"134.5\">\n    <tspan class=\"displacy-word\" fill=\"currentColor\" x=\"750\">NLP.</tspan>\n    <tspan class=\"displacy-tag\" dy=\"2em\" fill=\"currentColor\" x=\"750\">PROPN</tspan>\n</text>\n\n<g class=\"displacy-arrow\">\n    <path class=\"displacy-arc\" id=\"arrow-49c839fc7d9f4dd2b63f3006864f4f14-0-0\" stroke-width=\"2px\" d=\"M70,89.5 C70,2.0 225.0,2.0 225.0,89.5\" fill=\"none\" stroke=\"currentColor\"/>\n    <text dy=\"1.25em\" style=\"font-size: 0.8em; letter-spacing: 1px\">\n        <textPath xlink:href=\"#arrow-49c839fc7d9f4dd2b63f3006864f4f14-0-0\" class=\"displacy-label\" startOffset=\"50%\" side=\"left\" fill=\"currentColor\" text-anchor=\"middle\">det</textPath>\n    </text>\n    <path class=\"displacy-arrowhead\" d=\"M70,91.5 L62,79.5 78,79.5\" fill=\"currentColor\"/>\n</g>\n\n<g class=\"displacy-arrow\">\n    <path class=\"displacy-arc\" id=\"arrow-49c839fc7d9f4dd2b63f3006864f4f14-0-1\" stroke-width=\"2px\" d=\"M245,89.5 C245,2.0 400.0,2.0 400.0,89.5\" fill=\"none\" stroke=\"currentColor\"/>\n    <text dy=\"1.25em\" style=\"font-size: 0.8em; letter-spacing: 1px\">\n        <textPath xlink:href=\"#arrow-49c839fc7d9f4dd2b63f3006864f4f14-0-1\" class=\"displacy-label\" startOffset=\"50%\" side=\"left\" fill=\"currentColor\" text-anchor=\"middle\">nsubj</textPath>\n    </text>\n    <path class=\"displacy-arrowhead\" d=\"M245,91.5 L237,79.5 253,79.5\" fill=\"currentColor\"/>\n</g>\n\n<g class=\"displacy-arrow\">\n    <path class=\"displacy-arc\" id=\"arrow-49c839fc7d9f4dd2b63f3006864f4f14-0-2\" stroke-width=\"2px\" d=\"M420,89.5 C420,2.0 575.0,2.0 575.0,89.5\" fill=\"none\" stroke=\"currentColor\"/>\n    <text dy=\"1.25em\" style=\"font-size: 0.8em; letter-spacing: 1px\">\n        <textPath xlink:href=\"#arrow-49c839fc7d9f4dd2b63f3006864f4f14-0-2\" class=\"displacy-label\" startOffset=\"50%\" side=\"left\" fill=\"currentColor\" text-anchor=\"middle\">prep</textPath>\n    </text>\n    <path class=\"displacy-arrowhead\" d=\"M575.0,91.5 L583.0,79.5 567.0,79.5\" fill=\"currentColor\"/>\n</g>\n\n<g class=\"displacy-arrow\">\n    <path class=\"displacy-arc\" id=\"arrow-49c839fc7d9f4dd2b63f3006864f4f14-0-3\" stroke-width=\"2px\" d=\"M595,89.5 C595,2.0 750.0,2.0 750.0,89.5\" fill=\"none\" stroke=\"currentColor\"/>\n    <text dy=\"1.25em\" style=\"font-size: 0.8em; letter-spacing: 1px\">\n        <textPath xlink:href=\"#arrow-49c839fc7d9f4dd2b63f3006864f4f14-0-3\" class=\"displacy-label\" startOffset=\"50%\" side=\"left\" fill=\"currentColor\" text-anchor=\"middle\">pobj</textPath>\n    </text>\n    <path class=\"displacy-arrowhead\" d=\"M750.0,91.5 L758.0,79.5 742.0,79.5\" fill=\"currentColor\"/>\n</g>\n</svg></span>"
     },
     "metadata": {},
     "output_type": "display_data"
    }
   ],
   "source": [
    "from spacy import displacy\n",
    "displacy.render(senten_, style=\"dep\", jupyter = True)"
   ]
  },
  {
   "cell_type": "code",
   "execution_count": 24,
   "metadata": {
    "ExecuteTime": {
     "end_time": "2024-03-01T12:21:04.656773200Z",
     "start_time": "2024-03-01T12:21:04.495188400Z"
    }
   },
   "outputs": [
    {
     "data": {
      "text/plain": "<IPython.core.display.HTML object>",
      "text/html": "<span class=\"tex2jax_ignore\"><div class=\"entities\" style=\"line-height: 2.5; direction: ltr\">\n<mark class=\"entity\" style=\"background: #aa9cfc; padding: 0.45em 0.6em; margin: 0 0.25em; line-height: 1; border-radius: 0.35em;\">\n    William\n    <span style=\"font-size: 0.8em; font-weight: bold; line-height: 1; border-radius: 0.35em; vertical-align: middle; margin-left: 0.5rem\">PERSON</span>\n</mark>\n was the son of King \n<mark class=\"entity\" style=\"background: #aa9cfc; padding: 0.45em 0.6em; margin: 0 0.25em; line-height: 1; border-radius: 0.35em;\">\n    William II\n    <span style=\"font-size: 0.8em; font-weight: bold; line-height: 1; border-radius: 0.35em; vertical-align: middle; margin-left: 0.5rem\">PERSON</span>\n</mark>\n and \n<mark class=\"entity\" style=\"background: #aa9cfc; padding: 0.45em 0.6em; margin: 0 0.25em; line-height: 1; border-radius: 0.35em;\">\n    Anna Pavlovna\n    <span style=\"font-size: 0.8em; font-weight: bold; line-height: 1; border-radius: 0.35em; vertical-align: middle; margin-left: 0.5rem\">PERSON</span>\n</mark>\n of \n<mark class=\"entity\" style=\"background: #feca74; padding: 0.45em 0.6em; margin: 0 0.25em; line-height: 1; border-radius: 0.35em;\">\n    Russia\n    <span style=\"font-size: 0.8em; font-weight: bold; line-height: 1; border-radius: 0.35em; vertical-align: middle; margin-left: 0.5rem\">GPE</span>\n</mark>\n. On the abdication of his grandfather \n<mark class=\"entity\" style=\"background: #aa9cfc; padding: 0.45em 0.6em; margin: 0 0.25em; line-height: 1; border-radius: 0.35em;\">\n    William\n    <span style=\"font-size: 0.8em; font-weight: bold; line-height: 1; border-radius: 0.35em; vertical-align: middle; margin-left: 0.5rem\">PERSON</span>\n</mark>\n I in \n<mark class=\"entity\" style=\"background: #bfe1d9; padding: 0.45em 0.6em; margin: 0 0.25em; line-height: 1; border-radius: 0.35em;\">\n    1840\n    <span style=\"font-size: 0.8em; font-weight: bold; line-height: 1; border-radius: 0.35em; vertical-align: middle; margin-left: 0.5rem\">DATE</span>\n</mark>\n, he became \n<mark class=\"entity\" style=\"background: #feca74; padding: 0.45em 0.6em; margin: 0 0.25em; line-height: 1; border-radius: 0.35em;\">\n    the Prince of Orange\n    <span style=\"font-size: 0.8em; font-weight: bold; line-height: 1; border-radius: 0.35em; vertical-align: middle; margin-left: 0.5rem\">GPE</span>\n</mark>\n. On the death of his father in \n<mark class=\"entity\" style=\"background: #bfe1d9; padding: 0.45em 0.6em; margin: 0 0.25em; line-height: 1; border-radius: 0.35em;\">\n    1849\n    <span style=\"font-size: 0.8em; font-weight: bold; line-height: 1; border-radius: 0.35em; vertical-align: middle; margin-left: 0.5rem\">DATE</span>\n</mark>\n, he succeeded as king of the \n<mark class=\"entity\" style=\"background: #feca74; padding: 0.45em 0.6em; margin: 0 0.25em; line-height: 1; border-radius: 0.35em;\">\n    Netherlands\n    <span style=\"font-size: 0.8em; font-weight: bold; line-height: 1; border-radius: 0.35em; vertical-align: middle; margin-left: 0.5rem\">GPE</span>\n</mark>\n. \n<mark class=\"entity\" style=\"background: #aa9cfc; padding: 0.45em 0.6em; margin: 0 0.25em; line-height: 1; border-radius: 0.35em;\">\n    William\n    <span style=\"font-size: 0.8em; font-weight: bold; line-height: 1; border-radius: 0.35em; vertical-align: middle; margin-left: 0.5rem\">PERSON</span>\n</mark>\n married his cousin \n<mark class=\"entity\" style=\"background: #7aecec; padding: 0.45em 0.6em; margin: 0 0.25em; line-height: 1; border-radius: 0.35em;\">\n    Sophie of Württemberg\n    <span style=\"font-size: 0.8em; font-weight: bold; line-height: 1; border-radius: 0.35em; vertical-align: middle; margin-left: 0.5rem\">ORG</span>\n</mark>\n in \n<mark class=\"entity\" style=\"background: #bfe1d9; padding: 0.45em 0.6em; margin: 0 0.25em; line-height: 1; border-radius: 0.35em;\">\n    1839\n    <span style=\"font-size: 0.8em; font-weight: bold; line-height: 1; border-radius: 0.35em; vertical-align: middle; margin-left: 0.5rem\">DATE</span>\n</mark>\n and they had \n<mark class=\"entity\" style=\"background: #e4e7d2; padding: 0.45em 0.6em; margin: 0 0.25em; line-height: 1; border-radius: 0.35em;\">\n    three\n    <span style=\"font-size: 0.8em; font-weight: bold; line-height: 1; border-radius: 0.35em; vertical-align: middle; margin-left: 0.5rem\">CARDINAL</span>\n</mark>\n sons, \n<mark class=\"entity\" style=\"background: #aa9cfc; padding: 0.45em 0.6em; margin: 0 0.25em; line-height: 1; border-radius: 0.35em;\">\n    William\n    <span style=\"font-size: 0.8em; font-weight: bold; line-height: 1; border-radius: 0.35em; vertical-align: middle; margin-left: 0.5rem\">PERSON</span>\n</mark>\n, \n<mark class=\"entity\" style=\"background: #feca74; padding: 0.45em 0.6em; margin: 0 0.25em; line-height: 1; border-radius: 0.35em;\">\n    Maurice\n    <span style=\"font-size: 0.8em; font-weight: bold; line-height: 1; border-radius: 0.35em; vertical-align: middle; margin-left: 0.5rem\">GPE</span>\n</mark>\n, and \n<mark class=\"entity\" style=\"background: #7aecec; padding: 0.45em 0.6em; margin: 0 0.25em; line-height: 1; border-radius: 0.35em;\">\n    Alexander\n    <span style=\"font-size: 0.8em; font-weight: bold; line-height: 1; border-radius: 0.35em; vertical-align: middle; margin-left: 0.5rem\">ORG</span>\n</mark>\n, all of whom predeceased him.</div></span>"
     },
     "metadata": {},
     "output_type": "display_data"
    }
   ],
   "source": [
    "displacy.render(nlp_william, style=\"ent\", jupyter = True)"
   ]
  },
  {
   "cell_type": "markdown",
   "metadata": {},
   "source": [
    "# Basic Text Processing"
   ]
  },
  {
   "cell_type": "markdown",
   "metadata": {},
   "source": [
    "## Text Precessing Using Regular Expressions"
   ]
  },
  {
   "cell_type": "code",
   "execution_count": 27,
   "metadata": {
    "ExecuteTime": {
     "end_time": "2024-03-01T12:36:07.925939500Z",
     "start_time": "2024-03-01T12:36:07.843486900Z"
    }
   },
   "outputs": [],
   "source": [
    "# Import the package for regular expression\n",
    "import re"
   ]
  },
  {
   "cell_type": "code",
   "execution_count": 28,
   "metadata": {
    "ExecuteTime": {
     "end_time": "2024-03-01T12:36:28.758616400Z",
     "start_time": "2024-03-01T12:36:28.541817200Z"
    }
   },
   "outputs": [
    {
     "data": {
      "text/plain": "['NLP', 'HKUST']"
     },
     "execution_count": 28,
     "metadata": {},
     "output_type": "execute_result"
    }
   ],
   "source": [
    "words = ['NLP','nice','HKUST','day','moon']\n",
    "expression = '|'.join(words)\n",
    "re.findall(expression, 'i attended a lecture on NLP and deep learning in HKUST last year', re.M)"
   ]
  },
  {
   "cell_type": "code",
   "execution_count": 29,
   "metadata": {
    "ExecuteTime": {
     "end_time": "2024-03-01T12:40:52.452358800Z",
     "start_time": "2024-03-01T12:40:52.343841300Z"
    }
   },
   "outputs": [],
   "source": [
    "#The pattern is: any five letter string starting with a and ending with s\n",
    "pattern = '^a...s$'\n",
    "\n",
    "def search(test_string):\n",
    "    result = re.match(pattern, test_string)\n",
    "\n",
    "    if result:\n",
    "        print(\"Search successful for {}.\".format(test_string))\n",
    "    else:\n",
    "        print(\"Search unsuccessful for {}.\".format(test_string))"
   ]
  },
  {
   "cell_type": "code",
   "execution_count": 30,
   "metadata": {
    "ExecuteTime": {
     "end_time": "2024-03-01T12:40:54.604371400Z",
     "start_time": "2024-03-01T12:40:54.481859400Z"
    }
   },
   "outputs": [
    {
     "name": "stdout",
     "output_type": "stream",
     "text": [
      "Search successful for abyss.\n",
      "Search unsuccessful for happy.\n",
      "Search unsuccessful for HKUST.\n",
      "Search unsuccessful for adidas.\n"
     ]
    }
   ],
   "source": [
    "search('abyss')\n",
    "search('happy')\n",
    "search('HKUST')\n",
    "search('adidas')"
   ]
  },
  {
   "cell_type": "markdown",
   "metadata": {},
   "source": [
    "*Specify Pattern Using RegEx*<br>\n",
    "To specify regular expressions, metacharacters are used. In the above example, **^** and **$** are metacharacters.<br><br>\n",
    "*MetaCharacters*<br>\n",
    "Metacharacters are characters that are interpreted in a special way by a RegEx engine. Here's a list of metacharacters:<br>\n",
    "\n",
    "**[] . ^ $ * + ? {} () \\ |**<br>\n",
    "\n",
    "For details: \n",
    "* https://www.programiz.com/python-programming/regex\n",
    "* https://docs.python.org/3/library/re.html"
   ]
  },
  {
   "cell_type": "markdown",
   "metadata": {},
   "source": [
    "### A few more examples"
   ]
  },
  {
   "cell_type": "code",
   "execution_count": 31,
   "metadata": {
    "ExecuteTime": {
     "end_time": "2024-03-01T12:50:09.242048400Z",
     "start_time": "2024-03-01T12:50:09.172305900Z"
    }
   },
   "outputs": [
    {
     "name": "stdout",
     "output_type": "stream",
     "text": [
      "['12', '89', '34']\n"
     ]
    }
   ],
   "source": [
    "# Extract numbers from a string\n",
    "string = 'hello 12 hi 89. Howdy 34'\n",
    "pattern = '\\d+'\n",
    "\n",
    "result = re.findall(pattern, string) \n",
    "print(result)"
   ]
  },
  {
   "cell_type": "code",
   "execution_count": 32,
   "metadata": {
    "ExecuteTime": {
     "end_time": "2024-03-01T12:50:25.560528400Z",
     "start_time": "2024-03-01T12:50:25.390984300Z"
    }
   },
   "outputs": [
    {
     "name": "stdout",
     "output_type": "stream",
     "text": [
      "['Twelve:', ' Eighty nine:', '.']\n"
     ]
    }
   ],
   "source": [
    "# Split the string where there is a match and returns a list of strings where the splits have occurred\n",
    "string = 'Twelve:12 Eighty nine:89.'\n",
    "pattern = '\\d+'\n",
    "\n",
    "result = re.split(pattern, string) \n",
    "print(result)"
   ]
  },
  {
   "cell_type": "code",
   "execution_count": 33,
   "metadata": {
    "ExecuteTime": {
     "end_time": "2024-03-01T12:52:03.645225300Z",
     "start_time": "2024-03-01T12:52:03.540999Z"
    }
   },
   "outputs": [
    {
     "name": "stdout",
     "output_type": "stream",
     "text": [
      "abc 12de 23 \n",
      " f45 6\n",
      "\n",
      "abc12de23f456\n"
     ]
    }
   ],
   "source": [
    "# Return a string where matched occurrences are replaced with the content of replace variable.\n",
    "# Remove all whitespaces\n",
    "\n",
    "# multiline string\n",
    "string = 'abc 12de 23 \\n f45 6'\n",
    "print(string + '\\n')\n",
    "\n",
    "# matches all whitespace characters\n",
    "pattern = '\\s+'\n",
    "\n",
    "# empty string\n",
    "replace = ''\n",
    "\n",
    "new_string = re.sub(pattern, replace, string) \n",
    "print(new_string)"
   ]
  },
  {
   "cell_type": "markdown",
   "metadata": {},
   "source": [
    "## Text to List / Tuple / Set"
   ]
  },
  {
   "cell_type": "code",
   "execution_count": 34,
   "metadata": {
    "ExecuteTime": {
     "end_time": "2024-03-01T12:55:22.832312400Z",
     "start_time": "2024-03-01T12:55:22.731610800Z"
    }
   },
   "outputs": [
    {
     "name": "stdout",
     "output_type": "stream",
     "text": [
      "['glorious', 'new', 'chapter', 'for', 'hong', 'kong', 'swimming', 'top', 'officials', 'congratulate', 'siobhan', 'haughey', 'for', 'olympic', 'win']\n"
     ]
    }
   ],
   "source": [
    "sentence = \"'Glorious new chapter for Hong Kong swimming': top officials congratulate Siobhan Haughey for Olympic win\"\n",
    "\n",
    "# Convert all text to lower case \n",
    "sentence = sentence.lower()\n",
    "\n",
    "# Remove special characters\n",
    "sentence = sentence.replace(\"'\", '')\n",
    "sentence = sentence.replace(\":\", '')\n",
    "\n",
    "# Simple tokenization\n",
    "words= sentence.split(' ')\n",
    "\n",
    "print(words)"
   ]
  },
  {
   "cell_type": "markdown",
   "metadata": {},
   "source": [
    "<div>\n",
    "   <img src=\"img/compare.png\" width=\"500\">\n",
    "</div>"
   ]
  },
  {
   "cell_type": "markdown",
   "metadata": {},
   "source": [
    "In Python, list, tuple, and set are three different types of collections that store data. Each has its own characteristics and use cases:\n",
    "\n",
    "**List**\n",
    "- **Mutable**: Lists can be modified after creation, meaning you can add, remove, or change elements.\n",
    "- **Ordered**: The order of elements in a list is preserved, and elements can be accessed by their index.\n",
    "- **Syntax**: Defined with square brackets [].\n",
    "- **Duplicates**: Lists can contain duplicate elements.\n",
    "\n",
    "**Tuple**\n",
    "- **Immutable**: Tuples cannot be modified after creation. This means you cannot add, remove, or change elements without creating a new tuple.\n",
    "- **Ordered**: Like lists, the order of elements in a tuple is preserved, and elements can be accessed by their index.\n",
    "- **Syntax**: Defined with parentheses (), although parentheses are optional if commas are used.\n",
    "- **Duplicates**: Tuples can contain duplicate elements.\n",
    "\n",
    "**Set**\n",
    "- **Mutable**: Sets can be modified after creation, but they can only contain unique elements. Adding a duplicate item will not change the set.\n",
    "- **Unordered**: Sets do not record element position or order, and elements cannot be accessed by index.\n",
    "- **Syntax**: Defined with curly braces {} or the set() constructor.\n",
    "- **Duplicates**: Sets cannot contain duplicate elements; each element must be unique."
   ]
  },
  {
   "cell_type": "code",
   "execution_count": 35,
   "metadata": {
    "ExecuteTime": {
     "end_time": "2024-03-01T12:58:39.672202Z",
     "start_time": "2024-03-01T12:58:39.396035100Z"
    }
   },
   "outputs": [
    {
     "name": "stdout",
     "output_type": "stream",
     "text": [
      "{'top', 'new', 'win', 'kong', 'chapter', 'officials', 'swimming', 'olympic', 'congratulate', 'haughey', 'glorious', 'hong', 'siobhan', 'for'}\n"
     ]
    }
   ],
   "source": [
    "words_set = set(words)\n",
    "print(words_set)"
   ]
  },
  {
   "cell_type": "code",
   "execution_count": 36,
   "metadata": {
    "ExecuteTime": {
     "end_time": "2024-03-01T12:58:45.394065600Z",
     "start_time": "2024-03-01T12:58:45.291720800Z"
    }
   },
   "outputs": [
    {
     "name": "stdout",
     "output_type": "stream",
     "text": [
      "('glorious', 'new', 'chapter', 'for', 'hong', 'kong', 'swimming', 'top', 'officials', 'congratulate', 'siobhan', 'haughey', 'for', 'olympic', 'win')\n"
     ]
    }
   ],
   "source": [
    "words_tuple = tuple(words)\n",
    "print(words_tuple)"
   ]
  },
  {
   "cell_type": "code",
   "execution_count": 37,
   "metadata": {
    "ExecuteTime": {
     "end_time": "2024-03-01T12:59:38.836273700Z",
     "start_time": "2024-03-01T12:59:38.744765600Z"
    }
   },
   "outputs": [
    {
     "name": "stdout",
     "output_type": "stream",
     "text": [
      "['new', 'chapter', 'for', 'hong', 'kong', 'swimming', 'top', 'officials', 'congratulate', 'siobhan', 'haughey', 'for', 'olympic', 'win']\n"
     ]
    }
   ],
   "source": [
    "words.remove('glorious')\n",
    "print(words)"
   ]
  },
  {
   "cell_type": "code",
   "execution_count": 38,
   "metadata": {
    "ExecuteTime": {
     "end_time": "2024-03-01T13:00:20.916543900Z",
     "start_time": "2024-03-01T13:00:20.781750700Z"
    }
   },
   "outputs": [
    {
     "name": "stdout",
     "output_type": "stream",
     "text": [
      "{'top', 'new', 'win', 'kong', 'chapter', 'officials', 'swimming', 'olympic', 'congratulate', 'haughey', 'hong', 'siobhan', 'for'}\n"
     ]
    }
   ],
   "source": [
    "words_set.remove('glorious')\n",
    "print(words_set)"
   ]
  },
  {
   "cell_type": "code",
   "execution_count": 39,
   "metadata": {
    "ExecuteTime": {
     "end_time": "2024-03-01T13:01:23.741725800Z",
     "start_time": "2024-03-01T13:01:23.652302500Z"
    }
   },
   "outputs": [
    {
     "name": "stdout",
     "output_type": "stream",
     "text": [
      "('glorious', 'new', 'chapter', 'for', 'hong', 'kong', 'swimming', 'top', 'officials', 'congratulate', 'siobhan', 'haughey', 'for', 'olympic', 'win')\n"
     ]
    }
   ],
   "source": [
    "#words_tuple.remove('glorious')\n",
    "print(words_tuple)"
   ]
  },
  {
   "cell_type": "markdown",
   "metadata": {},
   "source": [
    "## Removal of Stopwords"
   ]
  },
  {
   "cell_type": "code",
   "execution_count": 40,
   "metadata": {
    "ExecuteTime": {
     "end_time": "2024-03-01T13:01:45.569387500Z",
     "start_time": "2024-03-01T13:01:45.424386900Z"
    }
   },
   "outputs": [
    {
     "name": "stdout",
     "output_type": "stream",
     "text": [
      "['This', 'course', 'is', 'about', 'Deep', 'Learning', 'and', 'Natural', 'Language', 'Processing', 'in', 'Business', '!']\n"
     ]
    }
   ],
   "source": [
    "from nltk import word_tokenize\n",
    "sentence = \"This course is about Deep Learning and Natural Language Processing in Business!\"\n",
    "tokens = word_tokenize(sentence)\n",
    "print(tokens)"
   ]
  },
  {
   "cell_type": "code",
   "execution_count": 41,
   "metadata": {
    "ExecuteTime": {
     "end_time": "2024-03-01T13:02:16.691981900Z",
     "start_time": "2024-03-01T13:02:15.803732300Z"
    }
   },
   "outputs": [
    {
     "name": "stderr",
     "output_type": "stream",
     "text": [
      "[nltk_data] Downloading package stopwords to\n",
      "[nltk_data]     C:\\Users\\David\\AppData\\Roaming\\nltk_data...\n",
      "[nltk_data]   Unzipping corpora\\stopwords.zip.\n"
     ]
    }
   ],
   "source": [
    "# Load a pre-defined list of stopwords \n",
    "\n",
    "nltk.download('stopwords')\n",
    "from nltk.corpus import stopwords\n",
    "stop_words = set(stopwords.words('english'))"
   ]
  },
  {
   "cell_type": "code",
   "outputs": [
    {
     "name": "stdout",
     "output_type": "stream",
     "text": [
      "{'aren', 'because', 're', 'couldn', 'most', 'not', \"didn't\", 'just', 'itself', 'm', \"you're\", \"don't\", 'other', 'hadn', 'an', \"haven't\", 'why', 'theirs', 'himself', 'than', 'very', 'i', 'he', 'were', 'been', 'or', \"she's\", 'd', \"shan't\", \"isn't\", 'does', 'will', 'isn', 'out', 'on', 'you', \"won't\", 'over', 'own', 'she', 'more', 'no', 'it', 'herself', 'what', 'to', 'same', \"should've\", 'me', 'this', 'having', 'll', 'off', \"weren't\", 'again', \"that'll\", 'our', 'mightn', 'wasn', 'doing', \"hadn't\", 'after', 'about', \"wasn't\", 'too', 'whom', 'some', 'at', 'weren', 'ma', 'in', 'under', 'yourself', 'them', 'are', 'had', 'y', 'between', 'and', 'then', 'few', 'their', 'from', 'until', 'the', 'hasn', \"hasn't\", 'which', 'doesn', 'below', 'of', 'hers', 'only', 'did', 'down', 'shouldn', 'while', 'as', \"you've\", 'above', 'where', 'him', 'we', 've', 'nor', 'there', 'that', 'here', 's', 'ourselves', 'but', 'o', 'can', 'so', 'once', \"wouldn't\", 'her', 'such', 'be', 'if', 'should', 'those', 'your', 'have', 'do', 'against', 'is', 'was', 'wouldn', 'don', 'myself', 'needn', 'yours', \"mustn't\", 'further', 'haven', \"doesn't\", 'when', 'up', 'through', 'shan', 'ain', 'has', 'my', 'before', 't', 'into', 'each', \"mightn't\", 'his', 'these', 'how', 'ours', \"aren't\", 'am', \"you'll\", \"shouldn't\", 'yourselves', 'a', 'being', 'during', 'its', 'mustn', 'any', \"you'd\", 'all', 'now', 'didn', 'won', 'both', 'they', 'who', 'themselves', \"needn't\", 'for', 'by', 'with', \"couldn't\", \"it's\"}\n"
     ]
    }
   ],
   "source": [
    "print(stop_words)"
   ],
   "metadata": {
    "collapsed": false,
    "ExecuteTime": {
     "end_time": "2024-03-01T13:03:49.086573200Z",
     "start_time": "2024-03-01T13:03:48.890634300Z"
    }
   },
   "execution_count": 43
  },
  {
   "cell_type": "code",
   "outputs": [
    {
     "data": {
      "text/plain": "['This',\n 'course',\n 'Deep',\n 'Learning',\n 'Natural',\n 'Language',\n 'Processing',\n 'Business',\n '!']"
     },
     "execution_count": 42,
     "metadata": {},
     "output_type": "execute_result"
    }
   ],
   "source": [
    "new_tokens = [w for w in tokens if not w in stop_words]\n",
    "new_tokens"
   ],
   "metadata": {
    "ExecuteTime": {
     "end_time": "2024-03-01T13:02:54.740247300Z",
     "start_time": "2024-03-01T13:02:54.651940800Z"
    }
   },
   "execution_count": 42
  },
  {
   "cell_type": "markdown",
   "metadata": {
    "tags": []
   },
   "source": [
    "# Spam Detection using Text Mining and Naive Bayes Classifier\n",
    "Each SMS message can be a Spam (**Fake**) or a Ham (**Genuine**)."
   ]
  },
  {
   "cell_type": "markdown",
   "metadata": {},
   "source": [
    "<div>\n",
    "   <img src=\"img/spam.png\" width=\"800\">\n",
    "</div>"
   ]
  },
  {
   "cell_type": "markdown",
   "metadata": {},
   "source": [
    "**Spam Detection** in text analysis refers to the automated process of identifying unsolicited, irrelevant, or inappropriate messages within a corpus of text, primarily aimed at protecting users from content that is at best a nuisance and at worst malicious. With the incessant evolution of digital communication, spam has proliferated, manifesting not just in emails but also in social media, forums, and comment sections, prompting the need for sophisticated algorithms to filter and combat it. Modern spam detection systems leverage a blend of machine learning techniques, including natural language processing (NLP), to discern patterns and anomalies indicative of spam. They are trained on large datasets containing examples of both genuine and spam messages, enabling them to classify new texts with high accuracy. These systems often assess various features such as message metadata, the frequency of certain words or phrases, and the use of known malicious URLs or domains. By continually learning from new data, spam detection algorithms adapt over time to counteract the ever-changing tactics employed by spammers."
   ]
  },
  {
   "cell_type": "code",
   "execution_count": 44,
   "metadata": {
    "ExecuteTime": {
     "end_time": "2024-03-01T13:06:45.143053700Z",
     "start_time": "2024-03-01T13:06:44.310583300Z"
    }
   },
   "outputs": [],
   "source": [
    "# Import useful libararies used for data management\n",
    "import pandas as pd\n",
    "import numpy as np"
   ]
  },
  {
   "cell_type": "code",
   "execution_count": 45,
   "metadata": {
    "ExecuteTime": {
     "end_time": "2024-03-01T13:07:22.608336600Z",
     "start_time": "2024-03-01T13:07:22.383053600Z"
    }
   },
   "outputs": [
    {
     "data": {
      "text/plain": "                                                   Text Class\n8105  All of your Favorite RX-Meds are available 0nl...  spam\n8106  World Top10 Branded Watches at 90% off the ori...  spam\n8107  OEM software: throw packing case, leave CD/DVD...  spam\n8108  Spring watches modelsLuxury Replica Watches, T...  spam\n8109  OEM software: throw packing case, leave CD/DVD...  spam",
      "text/html": "<div>\n<style scoped>\n    .dataframe tbody tr th:only-of-type {\n        vertical-align: middle;\n    }\n\n    .dataframe tbody tr th {\n        vertical-align: top;\n    }\n\n    .dataframe thead th {\n        text-align: right;\n    }\n</style>\n<table border=\"1\" class=\"dataframe\">\n  <thead>\n    <tr style=\"text-align: right;\">\n      <th></th>\n      <th>Text</th>\n      <th>Class</th>\n    </tr>\n  </thead>\n  <tbody>\n    <tr>\n      <th>8105</th>\n      <td>All of your Favorite RX-Meds are available 0nl...</td>\n      <td>spam</td>\n    </tr>\n    <tr>\n      <th>8106</th>\n      <td>World Top10 Branded Watches at 90% off the ori...</td>\n      <td>spam</td>\n    </tr>\n    <tr>\n      <th>8107</th>\n      <td>OEM software: throw packing case, leave CD/DVD...</td>\n      <td>spam</td>\n    </tr>\n    <tr>\n      <th>8108</th>\n      <td>Spring watches modelsLuxury Replica Watches, T...</td>\n      <td>spam</td>\n    </tr>\n    <tr>\n      <th>8109</th>\n      <td>OEM software: throw packing case, leave CD/DVD...</td>\n      <td>spam</td>\n    </tr>\n  </tbody>\n</table>\n</div>"
     },
     "execution_count": 45,
     "metadata": {},
     "output_type": "execute_result"
    }
   ],
   "source": [
    "dataset = pd.read_csv('Spam.csv')\n",
    "dataset.tail()"
   ]
  },
  {
   "cell_type": "code",
   "execution_count": 46,
   "metadata": {
    "ExecuteTime": {
     "end_time": "2024-03-01T13:07:42.896288800Z",
     "start_time": "2024-03-01T13:07:42.813564400Z"
    }
   },
   "outputs": [
    {
     "data": {
      "text/plain": "'All of your Favorite RX-Meds are available 0nline!With fast discreet trackable FedEx shipping! No_Prescripti0n_Needed!'"
     },
     "execution_count": 46,
     "metadata": {},
     "output_type": "execute_result"
    }
   ],
   "source": [
    "dataset.Text[8105]"
   ]
  },
  {
   "cell_type": "code",
   "execution_count": 47,
   "metadata": {
    "ExecuteTime": {
     "end_time": "2024-03-01T13:07:44.676433700Z",
     "start_time": "2024-03-01T13:07:44.520444300Z"
    }
   },
   "outputs": [
    {
     "data": {
      "text/plain": "'spam'"
     },
     "execution_count": 47,
     "metadata": {},
     "output_type": "execute_result"
    }
   ],
   "source": [
    "dataset['Class'][8105]"
   ]
  },
  {
   "cell_type": "code",
   "execution_count": 48,
   "metadata": {
    "scrolled": true,
    "ExecuteTime": {
     "end_time": "2024-03-01T13:07:47.402073200Z",
     "start_time": "2024-03-01T13:07:47.270612700Z"
    }
   },
   "outputs": [
    {
     "data": {
      "text/plain": "Class\nham     4864\nspam    3246\nName: count, dtype: int64"
     },
     "execution_count": 48,
     "metadata": {},
     "output_type": "execute_result"
    }
   ],
   "source": [
    "dataset['Class'].value_counts()"
   ]
  },
  {
   "cell_type": "code",
   "execution_count": 49,
   "metadata": {
    "ExecuteTime": {
     "end_time": "2024-03-01T13:09:15.567210700Z",
     "start_time": "2024-03-01T13:09:15.424963Z"
    }
   },
   "outputs": [
    {
     "data": {
      "text/plain": "                                                Text Class  Label\n0  Hi...I have to use R to find out the 90% confi...   ham      0\n1  Francesco Poli wrote:) On Sun, 15 Apr 2007 21:...   ham      0\n2  Stephen Thorne wrote:) What I was thinking was...   ham      0\n3  Hi,I have this site that auto generates an ind...   ham      0\n4  Author: metzeDate: 2007-04-16 08:20:13 +0000 (...   ham      0",
      "text/html": "<div>\n<style scoped>\n    .dataframe tbody tr th:only-of-type {\n        vertical-align: middle;\n    }\n\n    .dataframe tbody tr th {\n        vertical-align: top;\n    }\n\n    .dataframe thead th {\n        text-align: right;\n    }\n</style>\n<table border=\"1\" class=\"dataframe\">\n  <thead>\n    <tr style=\"text-align: right;\">\n      <th></th>\n      <th>Text</th>\n      <th>Class</th>\n      <th>Label</th>\n    </tr>\n  </thead>\n  <tbody>\n    <tr>\n      <th>0</th>\n      <td>Hi...I have to use R to find out the 90% confi...</td>\n      <td>ham</td>\n      <td>0</td>\n    </tr>\n    <tr>\n      <th>1</th>\n      <td>Francesco Poli wrote:) On Sun, 15 Apr 2007 21:...</td>\n      <td>ham</td>\n      <td>0</td>\n    </tr>\n    <tr>\n      <th>2</th>\n      <td>Stephen Thorne wrote:) What I was thinking was...</td>\n      <td>ham</td>\n      <td>0</td>\n    </tr>\n    <tr>\n      <th>3</th>\n      <td>Hi,I have this site that auto generates an ind...</td>\n      <td>ham</td>\n      <td>0</td>\n    </tr>\n    <tr>\n      <th>4</th>\n      <td>Author: metzeDate: 2007-04-16 08:20:13 +0000 (...</td>\n      <td>ham</td>\n      <td>0</td>\n    </tr>\n  </tbody>\n</table>\n</div>"
     },
     "execution_count": 49,
     "metadata": {},
     "output_type": "execute_result"
    }
   ],
   "source": [
    "# Convert the 'label' column into a numeric variable; 'ham' as 0, 'spam' as 1\n",
    "\n",
    "dataset['Label'] = dataset['Class'].map({'ham':0, 'spam':1})\n",
    "dataset.head()"
   ]
  },
  {
   "cell_type": "code",
   "execution_count": 50,
   "metadata": {
    "ExecuteTime": {
     "end_time": "2024-03-01T13:10:08.419093700Z",
     "start_time": "2024-03-01T13:10:08.329940600Z"
    }
   },
   "outputs": [],
   "source": [
    "# Now let's define X and y \n",
    "\n",
    "X = dataset['Text']\n",
    "y = dataset['Label']"
   ]
  },
  {
   "cell_type": "code",
   "execution_count": 51,
   "metadata": {
    "ExecuteTime": {
     "end_time": "2024-03-01T13:10:22.819688600Z",
     "start_time": "2024-03-01T13:10:22.631612Z"
    }
   },
   "outputs": [
    {
     "data": {
      "text/plain": "(8110,)"
     },
     "execution_count": 51,
     "metadata": {},
     "output_type": "execute_result"
    }
   ],
   "source": [
    "# Show the dimension of the X\n",
    "# https://docs.scipy.org/doc/numpy/reference/generated/numpy.ndarray.shape.html\n",
    "X.shape"
   ]
  },
  {
   "cell_type": "markdown",
   "metadata": {},
   "source": [
    "## Count Vectorizer"
   ]
  },
  {
   "cell_type": "code",
   "outputs": [],
   "source": [
    "# Import the CountVectorizer\n",
    "from sklearn.feature_extraction.text import CountVectorizer\n",
    "\n",
    "# Now we are ready to vectorize the data\n",
    "# First, instantiate the vectorizer\n",
    "# https://scikit-learn.org/stable/modules/generated/sklearn.feature_extraction.text.CountVectorizer.html\n",
    "# When building the vocabulary ignore terms that have a document frequency strictly lower than the min_df (proportion), or higher than max_df\n",
    "vectorizer = CountVectorizer()"
   ],
   "metadata": {
    "ExecuteTime": {
     "end_time": "2024-03-01T13:11:18.273295800Z",
     "start_time": "2024-03-01T13:11:17.257689900Z"
    }
   },
   "execution_count": 52
  },
  {
   "cell_type": "markdown",
   "metadata": {},
   "source": [
    "<div>\n",
    "   <img src=\"img/countvec.png\" width=\"800\">\n",
    "</div>"
   ]
  },
  {
   "cell_type": "code",
   "execution_count": 53,
   "metadata": {
    "ExecuteTime": {
     "end_time": "2024-03-01T13:12:57.600168400Z",
     "start_time": "2024-03-01T13:12:56.079701200Z"
    }
   },
   "outputs": [],
   "source": [
    "# Learn the vocabulary dictionary and return term-document matrix.\n",
    "# https://scikit-learn.org/stable/modules/generated/sklearn.feature_extraction.text.CountVectorizer.html\n",
    "\n",
    "X_vec = vectorizer.fit_transform(X)"
   ]
  },
  {
   "cell_type": "code",
   "execution_count": 55,
   "metadata": {
    "collapsed": true,
    "jupyter": {
     "outputs_hidden": true
    },
    "tags": [],
    "ExecuteTime": {
     "end_time": "2024-03-01T13:14:49.945088800Z",
     "start_time": "2024-03-01T13:14:49.513007700Z"
    }
   },
   "outputs": [
    {
     "name": "stdout",
     "output_type": "stream",
     "text": [
      "['00' '000' '0000' ... 'zzgcxffd1y2fsyz9parent' 'zzregards'\n",
      " 'zzzzzzzzzzzzzzzzzzzzzzzzzzzzz']\n"
     ]
    }
   ],
   "source": [
    "# print the terms\n",
    "# https://scikit-learn.org/stable/modules/generated/sklearn.feature_extraction.text.CountVectorizer.html#sklearn.feature_extraction.text.CountVectorizer.get_feature_names\n",
    "print(vectorizer.get_feature_names_out())"
   ]
  },
  {
   "cell_type": "code",
   "execution_count": 57,
   "metadata": {
    "ExecuteTime": {
     "end_time": "2024-03-01T13:15:04.658218800Z",
     "start_time": "2024-03-01T13:15:04.538939600Z"
    }
   },
   "outputs": [
    {
     "data": {
      "text/plain": "76551"
     },
     "execution_count": 57,
     "metadata": {},
     "output_type": "execute_result"
    }
   ],
   "source": [
    "len(vectorizer.get_feature_names_out())"
   ]
  },
  {
   "cell_type": "code",
   "execution_count": 58,
   "metadata": {
    "ExecuteTime": {
     "end_time": "2024-03-01T13:16:17.274455200Z",
     "start_time": "2024-03-01T13:16:14.766910200Z"
    }
   },
   "outputs": [
    {
     "name": "stdout",
     "output_type": "stream",
     "text": [
      "[[0 0 0 ... 0 0 0]\n",
      " [1 0 0 ... 0 0 0]\n",
      " [0 0 0 ... 0 0 0]\n",
      " ...\n",
      " [0 0 0 ... 0 0 0]\n",
      " [0 0 0 ... 0 0 0]\n",
      " [0 0 0 ... 0 0 0]]\n"
     ]
    }
   ],
   "source": [
    "# get the count of each terms in each document\n",
    "print(X_vec.toarray())"
   ]
  },
  {
   "cell_type": "code",
   "execution_count": 59,
   "metadata": {
    "tags": [],
    "ExecuteTime": {
     "end_time": "2024-03-01T13:17:27.796991200Z",
     "start_time": "2024-03-01T13:17:27.681909600Z"
    }
   },
   "outputs": [
    {
     "name": "stdout",
     "output_type": "stream",
     "text": [
      "  (0, 36158)\t1\n",
      "  (0, 35517)\t1\n",
      "  (0, 69220)\t4\n",
      "  (0, 72041)\t1\n",
      "  (0, 31397)\t2\n",
      "  (0, 51469)\t1\n",
      "  (0, 67260)\t7\n",
      "  (0, 10993)\t1\n",
      "  (0, 23061)\t2\n",
      "  (0, 39230)\t1\n",
      "  (0, 31969)\t4\n",
      "  (0, 61146)\t1\n",
      "  (0, 63676)\t1\n",
      "  (0, 49699)\t3\n",
      "  (0, 31895)\t1\n",
      "  (0, 26467)\t2\n",
      "  (0, 66635)\t2\n",
      "  (0, 52383)\t1\n",
      "  (0, 47052)\t1\n",
      "  (0, 60584)\t1\n",
      "  (0, 73692)\t1\n",
      "  (0, 23035)\t1\n",
      "  (0, 50348)\t1\n",
      "  (0, 3607)\t2\n",
      "  (0, 46942)\t1\n",
      "  :\t:\n",
      "  (8109, 2655)\t1\n",
      "  (8109, 53488)\t1\n",
      "  (8109, 8546)\t1\n",
      "  (8109, 65858)\t1\n",
      "  (8109, 65852)\t1\n",
      "  (8109, 71174)\t1\n",
      "  (8109, 321)\t1\n",
      "  (8109, 11264)\t2\n",
      "  (8109, 5892)\t1\n",
      "  (8109, 65849)\t1\n",
      "  (8109, 28484)\t1\n",
      "  (8109, 10928)\t1\n",
      "  (8109, 317)\t1\n",
      "  (8109, 11263)\t1\n",
      "  (8109, 5833)\t1\n",
      "  (8109, 65844)\t1\n",
      "  (8109, 55374)\t1\n",
      "  (8109, 326)\t1\n",
      "  (8109, 7282)\t1\n",
      "  (8109, 5832)\t1\n",
      "  (8109, 8584)\t6\n",
      "  (8109, 31787)\t6\n",
      "  (8109, 44269)\t1\n",
      "  (8109, 6901)\t1\n",
      "  (8109, 1932)\t1\n"
     ]
    }
   ],
   "source": [
    "print(X_vec)"
   ]
  },
  {
   "cell_type": "code",
   "execution_count": 60,
   "metadata": {
    "collapsed": true,
    "jupyter": {
     "outputs_hidden": true
    },
    "tags": [],
    "ExecuteTime": {
     "end_time": "2024-03-01T13:17:55.759802900Z",
     "start_time": "2024-03-01T13:17:55.660462700Z"
    }
   },
   "outputs": [],
   "source": [
    "?CountVectorizer"
   ]
  },
  {
   "cell_type": "code",
   "execution_count": 68,
   "metadata": {
    "ExecuteTime": {
     "end_time": "2024-03-01T13:25:33.563018900Z",
     "start_time": "2024-03-01T13:25:31.389989800Z"
    }
   },
   "outputs": [
    {
     "name": "stdout",
     "output_type": "stream",
     "text": [
      "['00' '000' '0000' '00our' '00proposition' '00we' '01' '02' '0200' '03'\n",
      " '04' '05' '06' '07' '08' '09' '0nline' '10' '100' '11' '12' '128' '129'\n",
      " '13' '14' '149' '149ableton' '15' '16' '17' '18' '185technologies' '19'\n",
      " '1imited' '1o' '20' '2006' '2007' '21' '22' '23' '24' '2441' '2442'\n",
      " '2480' '25' '26' '27' '28' '29' '2http' '30' '31' '319' '32' '33' '35'\n",
      " '36' '369' '37' '38' '39' '399' '40' '40speedy' '41' '425' '44' '449'\n",
      " '45' '47' '49' '49adobe' '49http' '50' '500' '59' '60' '69adobe' '75'\n",
      " '79' '80' '819' '89' '899' '90' '95' '95you' '95your' '99'\n",
      " '______________________________________________'\n",
      " '______________________________________________r' 'able' 'ac' 'access'\n",
      " 'account' 'accurate' 'acrobat' 'action' 'actually' 'add' 'added'\n",
      " 'additional' 'address' 'adobe' 'advance' 'advancedsolution'\n",
      " 'advertisement' 'advisor' 'affiliates' 'alert' 'alerttmxotrimax' 'allow'\n",
      " 'alternative' 'analyst' 'andrew' 'andshould' 'answer' 'applied'\n",
      " 'applying' 'apr' 'april' 'archive' 'arenegotiating' 'argument' 'ask'\n",
      " 'atches' 'author' 'autocad' 'autodesk' 'availability' 'available'\n",
      " 'banker' 'base' 'based' 'begin' 'beginners' 'behalf' 'believe' 'benefit'\n",
      " 'best' 'better' 'big' 'bin' 'bit' 'borland' 'bounces' 'box' 'bpl'\n",
      " 'braille' 'branch' 'branches' 'broadband' 'broker' 'brokerdealer' 'bug'\n",
      " 'build' 'business' 'buy' 'ca' 'called' 'case' 'cash' 'cc' 'cchangeset'\n",
      " 'cd' 'cgi' 'ch' 'change' 'changes' 'check' 'cheers' 'choice' 'class'\n",
      " 'click' 'close' 'code' 'com' 'come' 'comes' 'command' 'commands'\n",
      " 'commented' 'comments' 'communication' 'company' 'complete' 'computer'\n",
      " 'confidential' 'considered' 'consult' 'contact' 'contain' 'contained'\n",
      " 'containsforward' 'content' 'context' 'control' 'copy' 'copyright'\n",
      " 'corel' 'correct' 'cost' 'course' 'create' 'created' 'creative' 'cs'\n",
      " 'cs2' 'current' 'currently' 'daily' 'data' 'date' 'day' 'days' 'deal'\n",
      " 'dear' 'debian' 'decrease' 'default' 'defined' 'deleted' 'deliver'\n",
      " 'details' 'did' 'didn' 'different' 'directors' 'directory' 'dis'\n",
      " 'discounts' 'discreet' 'discrete' 'discussed' 'does' 'doesn' 'doing'\n",
      " 'domain' 'don' 'download' 'downloaded' 'drive' 'drugs' 'dvd' 'easy'\n",
      " 'editionregular' 'edu' 'effects' 'efficient' 'electronic' 'email' 'ement'\n",
      " 'employees' 'en1argment' 'encryptedhigh' 'end' 'enhan' 'enterprise'\n",
      " 'environment' 'error' 'errors' 'ethz' 'event' 'exactly' 'example'\n",
      " 'experience' 'factor' 'fail' 'failed' 'false' 'far' 'fast' 'favorite'\n",
      " 'fax' 'fedex' 'feel' 'file' 'files' 'fine' 'fix' 'fixed' 'follow'\n",
      " 'following' 'form' 'format' 'frame' 'free' 'fri' 'friday' 'function'\n",
      " 'functions' 'future' 'general' 'generic' 'getting' 'given' 'gives'\n",
      " 'global' 'gmail' 'going' 'good' 'got' 'grafix' 'great' 'grid' 'group'\n",
      " 'guaranteed' 'guess' 'guide' 'hard' 'hash' 'haven' 'having' 'health'\n",
      " 'hello' 'help' 'helpplease' 'helps' 'hes' 'hi' 'high' 'hk' 'home' 'hope'\n",
      " 'host' 'html' 'https' 'id' 'idea' 'illustrator' 'important' 'include'\n",
      " 'including' 'inclusive' 'independent' 'index' 'info' 'information'\n",
      " 'informationbelieved' 'install' 'installed' 'instant' 'instantly'\n",
      " 'instead' 'int' 'intend' 'internet' 'introducing' 'investment' 'involve'\n",
      " 'isn' 'issue' 'items' 'john' 'just' 'key' 'kind' 'know' 'laptop' 'large'\n",
      " 'later' 'latest' 'learn' 'leave' 'legal' 'length' 'let' 'level' 'lib'\n",
      " 'library' 'license' 'licensed' 'life' 'like' 'line' 'lines' 'link'\n",
      " 'linux' 'list' 'listhttps' 'listinfo' 'lists' 'little' 'live' 'll'\n",
      " 'local' 'log' 'long' 'longer' 'look' 'looking' 'looks' 'loop' 'lose'\n",
      " 'lot' 'lover' 'low' 'mac' 'machine' 'macromedia' 'mail' 'mailing'\n",
      " 'mailman' 'mailto' 'main' 'make' 'maker' 'makes' 'making' 'male' 'manner'\n",
      " 'manuals' 'manufacturers' 'market' 'material' 'math' 'matrix' 'matter'\n",
      " 'maybe' 'maybuy' 'mean' 'means' 'meds' 'memory' 'men' 'mentioned'\n",
      " 'message' 'method' 'methods' 'microsoft' 'millions' 'minimal' 'missing'\n",
      " 'model' 'modified' 'module' 'moment' 'mon' 'monday' 'money' 'month' 'ms'\n",
      " 'names' 'nearfuture' 'need' 'needed' 'needs' 'net' 'network' 'new'\n",
      " 'newest' 'news' 'nice' 'nick' 'no_prescripti0n_needed' 'non' 'note'\n",
      " 'null' 'number' 'object' 'oem' 'offer' 'offering' 'offers' 'office'\n",
      " 'officers' 'ok' 'old' 'online' 'open' 'opinion' 'option' 'order' 'org'\n",
      " 'orgfor' 'orghttp' 'original' 'orprofit' 'otc' 'ounts' 'output' 'package'\n",
      " 'packages' 'packing' 'page' 'parrot' 'particular' 'parties' 'pat' 'patch'\n",
      " 'path' 'pay' 'people' 'perl' 'phone' 'photoshop' 'php' 'pi11' 'pl'\n",
      " 'place' 'plain' 'plot' 'pm' 'pnis' 'point' 'points' 'possible' 'post'\n",
      " 'posting' 'power' 'pr0' 'premiere' 'premium' 'prepared' 'price' 'prices'\n",
      " 'print' 'pro' 'probably' 'problem' 'problems' 'process' 'product'\n",
      " 'products' 'producttestpanel' 'professional' 'professionalmarket'\n",
      " 'profit' 'program' 'project' 'property' 'propose' 'provide' 'providers'\n",
      " 'public' 'purchase' 'purchasingor' 'quality' 'question' 'questions'\n",
      " 'quickerand' 'quite' 'rank' 'read' 'reading' 'ready' 'real' 'really'\n",
      " 'reason' 'receive' 'received' 'regards' 'release' 'reliable' 'remove'\n",
      " 'reply' 'report' 'reproducible' 'request' 'required' 'research' 'result'\n",
      " 'results' 'return' 'rev' 'reviews' 'revision' 'revno' 'rice' 'right'\n",
      " 'rights' 'rise' 'risks' 'road' 'roof' 'root' 'run' 'running' 'rx' 'safe'\n",
      " 'safer' 'safest' 'said' 'samba' 'samba_3_0' 'samba_4_0' 'save' 'say'\n",
      " 'says' 'script' 'search' 'second' 'section' 'sector' 'securities' 'seen'\n",
      " 'self' 'sell' 'selling' 'send' 'sent' 'server' 'service' 'set' 'share'\n",
      " 'shares' 'shipping' 'shop' 'short' 'signed' 'similar' 'simple' 'simply'\n",
      " 'site' 'situation' 'size' 'small' 'software' 'solution' 'sorry' 'sort'\n",
      " 'source' 'south' 'sp2' 'special' 'specific' 'speed' 'speedy' 'standard'\n",
      " 'start' 'started' 'stat' 'state' 'statements' 'states' 'statistics'\n",
      " 'stats' 'status' 'step' 'stop' 'store' 'street' 'string' 'studio' 'stuff'\n",
      " 'sub' 'subject' 'suite' 'sun' 'support' 'sure' 'symmetrical' 't0'\n",
      " 't1sales' 't2' 't3best' 't4' 't6' 'table' 'target' 'team' 'technologies'\n",
      " 'tell' 'term' 'terms' 'test' 'tests' 'text' 'thank' 'thanks' 'thay'\n",
      " 'theirsize' 'thing' 'things' 'think' 'thought' 'throw' 'thu' 'time'\n",
      " 'times' 'tmxo' 'today' 'trackable' 'trade' 'transmission' 'tried' 'true'\n",
      " 'try' 'trying' 'tue' 'type' 'uk' 'ultimate' 'ultimateretail'\n",
      " 'uncertainties' 'understand' 'underwriter' 'unhappy' 'university'\n",
      " 'unless' 'unreal' 'unsubscribe' 'url' 'use' 'used' 'useful' 'user'\n",
      " 'users' 'uses' 'using' 'usr' 'utc' 'uwaterloo' 'uwo' 'value' 'values'\n",
      " 'variable' 'variables' 've' 'version' 'video' 'view' 'viewcvs' 'viewed'\n",
      " 'visit' 'vista' 'voice' 'want' 'wanted' 'warning' 'watch' 'watching'\n",
      " 'way' 'web' 'website' 'websvn' 'wed' 'week' 'weeks' 'windows' 'wish'\n",
      " 'women' 'won' 'work' 'working' 'works' 'world' 'write' 'writes' 'wrong'\n",
      " 'wrote' 'www' 'x3' 'xp' 'yahoo' 'year' 'years' 'yes' 'youcould']\n"
     ]
    }
   ],
   "source": [
    "#Avoid overfitting \n",
    "\n",
    "vectorizer = CountVectorizer(stop_words = 'english', max_df = 0.5, min_df = 0.02)\n",
    "X_vec = vectorizer.fit_transform(X)\n",
    "print(vectorizer.get_feature_names_out())"
   ]
  },
  {
   "cell_type": "code",
   "execution_count": 69,
   "metadata": {
    "ExecuteTime": {
     "end_time": "2024-03-01T13:25:34.783263200Z",
     "start_time": "2024-03-01T13:25:34.674711400Z"
    }
   },
   "outputs": [
    {
     "data": {
      "text/plain": "760"
     },
     "execution_count": 69,
     "metadata": {},
     "output_type": "execute_result"
    }
   ],
   "source": [
    "len(vectorizer.get_feature_names_out())"
   ]
  },
  {
   "cell_type": "code",
   "execution_count": 64,
   "metadata": {
    "ExecuteTime": {
     "end_time": "2024-03-01T13:23:57.229104500Z",
     "start_time": "2024-03-01T13:23:56.959811200Z"
    }
   },
   "outputs": [],
   "source": [
    "# Now let's import cross validation\n",
    "from sklearn.model_selection import cross_val_score,cross_val_predict"
   ]
  },
  {
   "cell_type": "code",
   "execution_count": 65,
   "metadata": {
    "ExecuteTime": {
     "end_time": "2024-03-01T13:24:03.166907700Z",
     "start_time": "2024-03-01T13:24:03.036186600Z"
    }
   },
   "outputs": [],
   "source": [
    "#Import Multinomial Naive Bayes model from sklearn\n",
    "from sklearn.naive_bayes import MultinomialNB\n",
    "\n",
    "# Create a Multinomial Naive Bayes Classifier, which is frequently used in Tf-idf\n",
    "# https://scikit-learn.org/stable/modules/generated/sklearn.naive_bayes.MultinomialNB.html\n",
    "mnb = MultinomialNB()"
   ]
  },
  {
   "cell_type": "markdown",
   "metadata": {},
   "source": [
    "<div>\n",
    "   <img src=\"img/nb.png\" width=\"600\">\n",
    "</div>"
   ]
  },
  {
   "cell_type": "code",
   "execution_count": 70,
   "metadata": {
    "ExecuteTime": {
     "end_time": "2024-03-01T13:27:00.947555700Z",
     "start_time": "2024-03-01T13:27:00.749633600Z"
    }
   },
   "outputs": [
    {
     "data": {
      "text/plain": "MultinomialNB()",
      "text/html": "<style>#sk-container-id-1 {\n  /* Definition of color scheme common for light and dark mode */\n  --sklearn-color-text: black;\n  --sklearn-color-line: gray;\n  /* Definition of color scheme for unfitted estimators */\n  --sklearn-color-unfitted-level-0: #fff5e6;\n  --sklearn-color-unfitted-level-1: #f6e4d2;\n  --sklearn-color-unfitted-level-2: #ffe0b3;\n  --sklearn-color-unfitted-level-3: chocolate;\n  /* Definition of color scheme for fitted estimators */\n  --sklearn-color-fitted-level-0: #f0f8ff;\n  --sklearn-color-fitted-level-1: #d4ebff;\n  --sklearn-color-fitted-level-2: #b3dbfd;\n  --sklearn-color-fitted-level-3: cornflowerblue;\n\n  /* Specific color for light theme */\n  --sklearn-color-text-on-default-background: var(--sg-text-color, var(--theme-code-foreground, var(--jp-content-font-color1, black)));\n  --sklearn-color-background: var(--sg-background-color, var(--theme-background, var(--jp-layout-color0, white)));\n  --sklearn-color-border-box: var(--sg-text-color, var(--theme-code-foreground, var(--jp-content-font-color1, black)));\n  --sklearn-color-icon: #696969;\n\n  @media (prefers-color-scheme: dark) {\n    /* Redefinition of color scheme for dark theme */\n    --sklearn-color-text-on-default-background: var(--sg-text-color, var(--theme-code-foreground, var(--jp-content-font-color1, white)));\n    --sklearn-color-background: var(--sg-background-color, var(--theme-background, var(--jp-layout-color0, #111)));\n    --sklearn-color-border-box: var(--sg-text-color, var(--theme-code-foreground, var(--jp-content-font-color1, white)));\n    --sklearn-color-icon: #878787;\n  }\n}\n\n#sk-container-id-1 {\n  color: var(--sklearn-color-text);\n}\n\n#sk-container-id-1 pre {\n  padding: 0;\n}\n\n#sk-container-id-1 input.sk-hidden--visually {\n  border: 0;\n  clip: rect(1px 1px 1px 1px);\n  clip: rect(1px, 1px, 1px, 1px);\n  height: 1px;\n  margin: -1px;\n  overflow: hidden;\n  padding: 0;\n  position: absolute;\n  width: 1px;\n}\n\n#sk-container-id-1 div.sk-dashed-wrapped {\n  border: 1px dashed var(--sklearn-color-line);\n  margin: 0 0.4em 0.5em 0.4em;\n  box-sizing: border-box;\n  padding-bottom: 0.4em;\n  background-color: var(--sklearn-color-background);\n}\n\n#sk-container-id-1 div.sk-container {\n  /* jupyter's `normalize.less` sets `[hidden] { display: none; }`\n     but bootstrap.min.css set `[hidden] { display: none !important; }`\n     so we also need the `!important` here to be able to override the\n     default hidden behavior on the sphinx rendered scikit-learn.org.\n     See: https://github.com/scikit-learn/scikit-learn/issues/21755 */\n  display: inline-block !important;\n  position: relative;\n}\n\n#sk-container-id-1 div.sk-text-repr-fallback {\n  display: none;\n}\n\ndiv.sk-parallel-item,\ndiv.sk-serial,\ndiv.sk-item {\n  /* draw centered vertical line to link estimators */\n  background-image: linear-gradient(var(--sklearn-color-text-on-default-background), var(--sklearn-color-text-on-default-background));\n  background-size: 2px 100%;\n  background-repeat: no-repeat;\n  background-position: center center;\n}\n\n/* Parallel-specific style estimator block */\n\n#sk-container-id-1 div.sk-parallel-item::after {\n  content: \"\";\n  width: 100%;\n  border-bottom: 2px solid var(--sklearn-color-text-on-default-background);\n  flex-grow: 1;\n}\n\n#sk-container-id-1 div.sk-parallel {\n  display: flex;\n  align-items: stretch;\n  justify-content: center;\n  background-color: var(--sklearn-color-background);\n  position: relative;\n}\n\n#sk-container-id-1 div.sk-parallel-item {\n  display: flex;\n  flex-direction: column;\n}\n\n#sk-container-id-1 div.sk-parallel-item:first-child::after {\n  align-self: flex-end;\n  width: 50%;\n}\n\n#sk-container-id-1 div.sk-parallel-item:last-child::after {\n  align-self: flex-start;\n  width: 50%;\n}\n\n#sk-container-id-1 div.sk-parallel-item:only-child::after {\n  width: 0;\n}\n\n/* Serial-specific style estimator block */\n\n#sk-container-id-1 div.sk-serial {\n  display: flex;\n  flex-direction: column;\n  align-items: center;\n  background-color: var(--sklearn-color-background);\n  padding-right: 1em;\n  padding-left: 1em;\n}\n\n\n/* Toggleable style: style used for estimator/Pipeline/ColumnTransformer box that is\nclickable and can be expanded/collapsed.\n- Pipeline and ColumnTransformer use this feature and define the default style\n- Estimators will overwrite some part of the style using the `sk-estimator` class\n*/\n\n/* Pipeline and ColumnTransformer style (default) */\n\n#sk-container-id-1 div.sk-toggleable {\n  /* Default theme specific background. It is overwritten whether we have a\n  specific estimator or a Pipeline/ColumnTransformer */\n  background-color: var(--sklearn-color-background);\n}\n\n/* Toggleable label */\n#sk-container-id-1 label.sk-toggleable__label {\n  cursor: pointer;\n  display: block;\n  width: 100%;\n  margin-bottom: 0;\n  padding: 0.5em;\n  box-sizing: border-box;\n  text-align: center;\n}\n\n#sk-container-id-1 label.sk-toggleable__label-arrow:before {\n  /* Arrow on the left of the label */\n  content: \"▸\";\n  float: left;\n  margin-right: 0.25em;\n  color: var(--sklearn-color-icon);\n}\n\n#sk-container-id-1 label.sk-toggleable__label-arrow:hover:before {\n  color: var(--sklearn-color-text);\n}\n\n/* Toggleable content - dropdown */\n\n#sk-container-id-1 div.sk-toggleable__content {\n  max-height: 0;\n  max-width: 0;\n  overflow: hidden;\n  text-align: left;\n  /* unfitted */\n  background-color: var(--sklearn-color-unfitted-level-0);\n}\n\n#sk-container-id-1 div.sk-toggleable__content.fitted {\n  /* fitted */\n  background-color: var(--sklearn-color-fitted-level-0);\n}\n\n#sk-container-id-1 div.sk-toggleable__content pre {\n  margin: 0.2em;\n  border-radius: 0.25em;\n  color: var(--sklearn-color-text);\n  /* unfitted */\n  background-color: var(--sklearn-color-unfitted-level-0);\n}\n\n#sk-container-id-1 div.sk-toggleable__content.fitted pre {\n  /* unfitted */\n  background-color: var(--sklearn-color-fitted-level-0);\n}\n\n#sk-container-id-1 input.sk-toggleable__control:checked~div.sk-toggleable__content {\n  /* Expand drop-down */\n  max-height: 200px;\n  max-width: 100%;\n  overflow: auto;\n}\n\n#sk-container-id-1 input.sk-toggleable__control:checked~label.sk-toggleable__label-arrow:before {\n  content: \"▾\";\n}\n\n/* Pipeline/ColumnTransformer-specific style */\n\n#sk-container-id-1 div.sk-label input.sk-toggleable__control:checked~label.sk-toggleable__label {\n  color: var(--sklearn-color-text);\n  background-color: var(--sklearn-color-unfitted-level-2);\n}\n\n#sk-container-id-1 div.sk-label.fitted input.sk-toggleable__control:checked~label.sk-toggleable__label {\n  background-color: var(--sklearn-color-fitted-level-2);\n}\n\n/* Estimator-specific style */\n\n/* Colorize estimator box */\n#sk-container-id-1 div.sk-estimator input.sk-toggleable__control:checked~label.sk-toggleable__label {\n  /* unfitted */\n  background-color: var(--sklearn-color-unfitted-level-2);\n}\n\n#sk-container-id-1 div.sk-estimator.fitted input.sk-toggleable__control:checked~label.sk-toggleable__label {\n  /* fitted */\n  background-color: var(--sklearn-color-fitted-level-2);\n}\n\n#sk-container-id-1 div.sk-label label.sk-toggleable__label,\n#sk-container-id-1 div.sk-label label {\n  /* The background is the default theme color */\n  color: var(--sklearn-color-text-on-default-background);\n}\n\n/* On hover, darken the color of the background */\n#sk-container-id-1 div.sk-label:hover label.sk-toggleable__label {\n  color: var(--sklearn-color-text);\n  background-color: var(--sklearn-color-unfitted-level-2);\n}\n\n/* Label box, darken color on hover, fitted */\n#sk-container-id-1 div.sk-label.fitted:hover label.sk-toggleable__label.fitted {\n  color: var(--sklearn-color-text);\n  background-color: var(--sklearn-color-fitted-level-2);\n}\n\n/* Estimator label */\n\n#sk-container-id-1 div.sk-label label {\n  font-family: monospace;\n  font-weight: bold;\n  display: inline-block;\n  line-height: 1.2em;\n}\n\n#sk-container-id-1 div.sk-label-container {\n  text-align: center;\n}\n\n/* Estimator-specific */\n#sk-container-id-1 div.sk-estimator {\n  font-family: monospace;\n  border: 1px dotted var(--sklearn-color-border-box);\n  border-radius: 0.25em;\n  box-sizing: border-box;\n  margin-bottom: 0.5em;\n  /* unfitted */\n  background-color: var(--sklearn-color-unfitted-level-0);\n}\n\n#sk-container-id-1 div.sk-estimator.fitted {\n  /* fitted */\n  background-color: var(--sklearn-color-fitted-level-0);\n}\n\n/* on hover */\n#sk-container-id-1 div.sk-estimator:hover {\n  /* unfitted */\n  background-color: var(--sklearn-color-unfitted-level-2);\n}\n\n#sk-container-id-1 div.sk-estimator.fitted:hover {\n  /* fitted */\n  background-color: var(--sklearn-color-fitted-level-2);\n}\n\n/* Specification for estimator info (e.g. \"i\" and \"?\") */\n\n/* Common style for \"i\" and \"?\" */\n\n.sk-estimator-doc-link,\na:link.sk-estimator-doc-link,\na:visited.sk-estimator-doc-link {\n  float: right;\n  font-size: smaller;\n  line-height: 1em;\n  font-family: monospace;\n  background-color: var(--sklearn-color-background);\n  border-radius: 1em;\n  height: 1em;\n  width: 1em;\n  text-decoration: none !important;\n  margin-left: 1ex;\n  /* unfitted */\n  border: var(--sklearn-color-unfitted-level-1) 1pt solid;\n  color: var(--sklearn-color-unfitted-level-1);\n}\n\n.sk-estimator-doc-link.fitted,\na:link.sk-estimator-doc-link.fitted,\na:visited.sk-estimator-doc-link.fitted {\n  /* fitted */\n  border: var(--sklearn-color-fitted-level-1) 1pt solid;\n  color: var(--sklearn-color-fitted-level-1);\n}\n\n/* On hover */\ndiv.sk-estimator:hover .sk-estimator-doc-link:hover,\n.sk-estimator-doc-link:hover,\ndiv.sk-label-container:hover .sk-estimator-doc-link:hover,\n.sk-estimator-doc-link:hover {\n  /* unfitted */\n  background-color: var(--sklearn-color-unfitted-level-3);\n  color: var(--sklearn-color-background);\n  text-decoration: none;\n}\n\ndiv.sk-estimator.fitted:hover .sk-estimator-doc-link.fitted:hover,\n.sk-estimator-doc-link.fitted:hover,\ndiv.sk-label-container:hover .sk-estimator-doc-link.fitted:hover,\n.sk-estimator-doc-link.fitted:hover {\n  /* fitted */\n  background-color: var(--sklearn-color-fitted-level-3);\n  color: var(--sklearn-color-background);\n  text-decoration: none;\n}\n\n/* Span, style for the box shown on hovering the info icon */\n.sk-estimator-doc-link span {\n  display: none;\n  z-index: 9999;\n  position: relative;\n  font-weight: normal;\n  right: .2ex;\n  padding: .5ex;\n  margin: .5ex;\n  width: min-content;\n  min-width: 20ex;\n  max-width: 50ex;\n  color: var(--sklearn-color-text);\n  box-shadow: 2pt 2pt 4pt #999;\n  /* unfitted */\n  background: var(--sklearn-color-unfitted-level-0);\n  border: .5pt solid var(--sklearn-color-unfitted-level-3);\n}\n\n.sk-estimator-doc-link.fitted span {\n  /* fitted */\n  background: var(--sklearn-color-fitted-level-0);\n  border: var(--sklearn-color-fitted-level-3);\n}\n\n.sk-estimator-doc-link:hover span {\n  display: block;\n}\n\n/* \"?\"-specific style due to the `<a>` HTML tag */\n\n#sk-container-id-1 a.estimator_doc_link {\n  float: right;\n  font-size: 1rem;\n  line-height: 1em;\n  font-family: monospace;\n  background-color: var(--sklearn-color-background);\n  border-radius: 1rem;\n  height: 1rem;\n  width: 1rem;\n  text-decoration: none;\n  /* unfitted */\n  color: var(--sklearn-color-unfitted-level-1);\n  border: var(--sklearn-color-unfitted-level-1) 1pt solid;\n}\n\n#sk-container-id-1 a.estimator_doc_link.fitted {\n  /* fitted */\n  border: var(--sklearn-color-fitted-level-1) 1pt solid;\n  color: var(--sklearn-color-fitted-level-1);\n}\n\n/* On hover */\n#sk-container-id-1 a.estimator_doc_link:hover {\n  /* unfitted */\n  background-color: var(--sklearn-color-unfitted-level-3);\n  color: var(--sklearn-color-background);\n  text-decoration: none;\n}\n\n#sk-container-id-1 a.estimator_doc_link.fitted:hover {\n  /* fitted */\n  background-color: var(--sklearn-color-fitted-level-3);\n}\n</style><div id=\"sk-container-id-1\" class=\"sk-top-container\"><div class=\"sk-text-repr-fallback\"><pre>MultinomialNB()</pre><b>In a Jupyter environment, please rerun this cell to show the HTML representation or trust the notebook. <br />On GitHub, the HTML representation is unable to render, please try loading this page with nbviewer.org.</b></div><div class=\"sk-container\" hidden><div class=\"sk-item\"><div class=\"sk-estimator fitted sk-toggleable\"><input class=\"sk-toggleable__control sk-hidden--visually\" id=\"sk-estimator-id-1\" type=\"checkbox\" checked><label for=\"sk-estimator-id-1\" class=\"sk-toggleable__label fitted sk-toggleable__label-arrow fitted\">&nbsp;&nbsp;MultinomialNB<a class=\"sk-estimator-doc-link fitted\" rel=\"noreferrer\" target=\"_blank\" href=\"https://scikit-learn.org/1.4/modules/generated/sklearn.naive_bayes.MultinomialNB.html\">?<span>Documentation for MultinomialNB</span></a><span class=\"sk-estimator-doc-link fitted\">i<span>Fitted</span></span></label><div class=\"sk-toggleable__content fitted\"><pre>MultinomialNB()</pre></div> </div></div></div></div>"
     },
     "execution_count": 70,
     "metadata": {},
     "output_type": "execute_result"
    }
   ],
   "source": [
    "# train the model using all training set \n",
    "mnb.fit(X_vec, y)"
   ]
  },
  {
   "cell_type": "code",
   "execution_count": 71,
   "metadata": {
    "ExecuteTime": {
     "end_time": "2024-03-01T13:27:17.145141800Z",
     "start_time": "2024-03-01T13:27:16.982805200Z"
    }
   },
   "outputs": [],
   "source": [
    "# Make class prediction for test set\n",
    "# y_pred_class is the binary label\n",
    "# https://scikit-learn.org/stable/modules/generated/sklearn.naive_bayes.MultinomialNB.html#sklearn.naive_bayes.MultinomialNB.predict\n",
    "score = cross_val_score(mnb, X_vec, y, cv=10)"
   ]
  },
  {
   "cell_type": "code",
   "execution_count": 72,
   "metadata": {
    "ExecuteTime": {
     "end_time": "2024-03-01T13:27:18.524902900Z",
     "start_time": "2024-03-01T13:27:18.409799900Z"
    }
   },
   "outputs": [
    {
     "data": {
      "text/plain": "0.9326757090012331"
     },
     "execution_count": 72,
     "metadata": {},
     "output_type": "execute_result"
    }
   ],
   "source": [
    "score.mean()"
   ]
  },
  {
   "cell_type": "code",
   "execution_count": 73,
   "metadata": {
    "ExecuteTime": {
     "end_time": "2024-03-01T13:27:31.482384500Z",
     "start_time": "2024-03-01T13:27:31.409456500Z"
    }
   },
   "outputs": [],
   "source": [
    "# import libararies for evaluation measures\n",
    "from sklearn.metrics import classification_report\n",
    "from sklearn.metrics import confusion_matrix"
   ]
  },
  {
   "cell_type": "code",
   "execution_count": 74,
   "metadata": {
    "ExecuteTime": {
     "end_time": "2024-03-01T13:27:33.286565Z",
     "start_time": "2024-03-01T13:27:33.165928300Z"
    }
   },
   "outputs": [],
   "source": [
    "# get predicted class for y\n",
    "y_pred_class = cross_val_predict(mnb, X_vec, y, cv=10)"
   ]
  },
  {
   "cell_type": "code",
   "execution_count": 75,
   "metadata": {
    "ExecuteTime": {
     "end_time": "2024-03-01T13:27:35.470609300Z",
     "start_time": "2024-03-01T13:27:35.371121900Z"
    }
   },
   "outputs": [
    {
     "data": {
      "text/plain": "array([0, 0, 0, ..., 1, 1, 1], dtype=int64)"
     },
     "execution_count": 75,
     "metadata": {},
     "output_type": "execute_result"
    }
   ],
   "source": [
    "y_pred_class"
   ]
  },
  {
   "cell_type": "code",
   "execution_count": 76,
   "metadata": {
    "ExecuteTime": {
     "end_time": "2024-03-01T13:27:38.939304Z",
     "start_time": "2024-03-01T13:27:38.798703300Z"
    }
   },
   "outputs": [
    {
     "name": "stdout",
     "output_type": "stream",
     "text": [
      "Confusion Matrix: \n",
      " [[4822   42]\n",
      " [ 504 2742]]\n",
      "Classification Report: \n",
      "               precision    recall  f1-score   support\n",
      "\n",
      "           0       0.91      0.99      0.95      4864\n",
      "           1       0.98      0.84      0.91      3246\n",
      "\n",
      "    accuracy                           0.93      8110\n",
      "   macro avg       0.95      0.92      0.93      8110\n",
      "weighted avg       0.94      0.93      0.93      8110\n"
     ]
    }
   ],
   "source": [
    "print(\"Confusion Matrix:\", \"\\n\", confusion_matrix(y, y_pred_class))\n",
    "print(\"Classification Report:\",\"\\n\", classification_report(y, y_pred_class))"
   ]
  },
  {
   "cell_type": "code",
   "execution_count": 77,
   "metadata": {
    "ExecuteTime": {
     "end_time": "2024-03-01T13:27:52.066187Z",
     "start_time": "2024-03-01T13:27:51.915487Z"
    }
   },
   "outputs": [],
   "source": [
    "# y_pred_prob is the probability estimate\n",
    "# https://scikit-learn.org/stable/modules/generated/sklearn.naive_bayes.MultinomialNB.html#sklearn.naive_bayes.MultinomialNB.predict_proba\n",
    "y_pred_prob = cross_val_predict(mnb, X_vec, y, cv=10, method ='predict_proba')"
   ]
  },
  {
   "cell_type": "code",
   "execution_count": 78,
   "metadata": {
    "ExecuteTime": {
     "end_time": "2024-03-01T13:27:55.416698600Z",
     "start_time": "2024-03-01T13:27:55.335791300Z"
    }
   },
   "outputs": [
    {
     "data": {
      "text/plain": "array([[1.00000000e+000, 1.44071416e-065],\n       [1.00000000e+000, 1.11410429e-041],\n       [9.99999282e-001, 7.17970080e-007],\n       ...,\n       [4.04859657e-273, 1.00000000e+000],\n       [2.18793793e-002, 9.78120621e-001],\n       [4.04859657e-273, 1.00000000e+000]])"
     },
     "execution_count": 78,
     "metadata": {},
     "output_type": "execute_result"
    }
   ],
   "source": [
    "y_pred_prob"
   ]
  },
  {
   "cell_type": "code",
   "execution_count": 79,
   "metadata": {
    "ExecuteTime": {
     "end_time": "2024-03-01T13:28:03.271942800Z",
     "start_time": "2024-03-01T13:28:03.186280400Z"
    }
   },
   "outputs": [],
   "source": [
    "from sklearn.metrics import roc_curve\n",
    "from sklearn.metrics import auc\n",
    "\n",
    "# y_test is the true label, pred_prob[:,1] measures the predicted probability of belonging to class 1 (which is defined as positive class)\n",
    "# https://scikit-learn.org/stable/modules/generated/sklearn.metrics.roc_curve.html\n",
    "fpr, tpr, thresholds = roc_curve(y, y_pred_prob[:,1], pos_label=1)"
   ]
  },
  {
   "cell_type": "markdown",
   "metadata": {},
   "source": [
    "<div>\n",
    "   <img src=\"img/roc.png\" width=\"1000\">\n",
    "</div>"
   ]
  },
  {
   "cell_type": "code",
   "execution_count": 80,
   "metadata": {
    "ExecuteTime": {
     "end_time": "2024-03-01T13:28:06.518362700Z",
     "start_time": "2024-03-01T13:28:06.377781100Z"
    }
   },
   "outputs": [
    {
     "data": {
      "text/plain": "0.9922698381814056"
     },
     "execution_count": 80,
     "metadata": {},
     "output_type": "execute_result"
    }
   ],
   "source": [
    "# Area under ROC curve\n",
    "roc_auc = auc(fpr, tpr)\n",
    "roc_auc"
   ]
  },
  {
   "cell_type": "code",
   "execution_count": 81,
   "metadata": {
    "ExecuteTime": {
     "end_time": "2024-03-01T13:28:14.304142800Z",
     "start_time": "2024-03-01T13:28:08.726571800Z"
    }
   },
   "outputs": [
    {
     "data": {
      "text/plain": "<Figure size 640x480 with 1 Axes>",
      "image/png": "[encoded data removed]"
     },
     "metadata": {},
     "output_type": "display_data"
    }
   ],
   "source": [
    "import matplotlib.pyplot as plt\n",
    "%matplotlib inline\n",
    "\n",
    "plt.figure()\n",
    "lw = 2\n",
    "plt.plot(fpr, tpr, marker='o',color='darkorange',\n",
    "         lw=lw, label='ROC curve (area = %0.2f)' % roc_auc)\n",
    "plt.plot([0, 1], [0, 1], color='navy', lw=lw, linestyle='--')\n",
    "plt.xlim([-0.05, 1.0])\n",
    "plt.ylim([0.0, 1.05])\n",
    "plt.xlabel('False Positive Rate')\n",
    "plt.ylabel('True Positive Rate')\n",
    "plt.title('Receiver operating characteristic')\n",
    "plt.legend(loc=\"lower right\")\n",
    "plt.show()"
   ]
  },
  {
   "cell_type": "code",
   "execution_count": 82,
   "metadata": {
    "ExecuteTime": {
     "end_time": "2024-03-01T13:28:19.692723Z",
     "start_time": "2024-03-01T13:28:19.334341600Z"
    }
   },
   "outputs": [
    {
     "data": {
      "text/plain": "65     -- One person has been killed and one wounded ...\n93     -- At least 20 people were fatally shot Monday...\n117    -- The death toll in the Virgina Tech campus s...\n136    April 16, 2007Salem, MassachusettsBy Mike Cint...\n157    April 9, 2007Salem, MassachusettsBy Paul Goodw...\n276    -- The gunman in Monday's Virginia Tech campus...\n319    Hello sm1lies,The total prize pool for the Onl...\n335    At 2 p.m. ET Katie Couric will anchor live cov...\n351    WATCH LIVE STREAMING VIDEO OF ONGOING VIRGINIA...\n432    Hello sm1lies,We thought you may like to know ...\nName: Text, dtype: object"
     },
     "execution_count": 82,
     "metadata": {},
     "output_type": "execute_result"
    }
   ],
   "source": [
    "# Now let's see the false positive messages\n",
    "X[(y == 0) & (y_pred_class==1)][:10]"
   ]
  },
  {
   "cell_type": "code",
   "execution_count": 83,
   "metadata": {
    "ExecuteTime": {
     "end_time": "2024-03-01T13:28:21.514775900Z",
     "start_time": "2024-03-01T13:28:21.219529200Z"
    }
   },
   "outputs": [
    {
     "data": {
      "text/plain": "'-- One person has been killed and one wounded in a shooting at Virginia Tech in Blacksburg, Virginia, a state government official tells The Associated Press.Watch the latest video now on CNN.com. Access at http://CNN.com. CNN - The most trusted name in ne'"
     },
     "execution_count": 83,
     "metadata": {},
     "output_type": "execute_result"
    }
   ],
   "source": [
    "X[(y == 0) & (y_pred_class==1)][:10][65]"
   ]
  },
  {
   "cell_type": "code",
   "execution_count": 84,
   "metadata": {
    "ExecuteTime": {
     "end_time": "2024-03-01T13:28:22.626087Z",
     "start_time": "2024-03-01T13:28:22.523290Z"
    }
   },
   "outputs": [
    {
     "data": {
      "text/plain": "4872    K-ASIA Pacific Place 124C Queensway , Admiralt...\n4898    This one is shoe in to Double by end of weekWe...\n4908    Hey Billy, it was really fun going out the oth...\n4919    Greetings Chortled!Absoultely are no oblgiated...\n4922    I am Lady Peggy Morrison ,Recently my Doctor t...\n4961    UK NATIONAL ONLINE LOTTERY(HOME OFFICE).UNITED...\n4981    FROM: MISS.ELIZABETH J. WILLIAMS. Rue 12 Lot 1...\n5014    This one is shoe in to Double by end of weekHu...\n5015    This one is shoe in to Double by end of weekHu...\n5028    This one is shoe in to Double by end of weekHu...\nName: Text, dtype: object"
     },
     "execution_count": 84,
     "metadata": {},
     "output_type": "execute_result"
    }
   ],
   "source": [
    "# Now let's see the false negative messages\n",
    "X[(y == 1) & (y_pred_class==0)][:10]"
   ]
  },
  {
   "cell_type": "code",
   "execution_count": 85,
   "metadata": {
    "ExecuteTime": {
     "end_time": "2024-03-01T13:28:26.044290700Z",
     "start_time": "2024-03-01T13:28:25.696012500Z"
    }
   },
   "outputs": [
    {
     "data": {
      "text/plain": "'K-ASIA Pacific Place 124C Queensway , Admiralty, Hong Kong. SOLICITING FOR A REPRESENTATIVE IN YOUR COUNTRY I am Mr.Graham Streeter, I represent the above named Company based in Hong Kong. My company deals on raw materials for the production of textiles and fashion accessories for world trade. We are searching for representatives who can help us establish a medium of getting to our small scale customers in Europe and America as well as making payments through them to us.As the British regional manager of this upcoming company, I have been directed to relate with any interested individual or organisation because of the communication problem as well as payment problems. We make delivery of our products upfront,though it\\'s very risky but it should push up sales on 25 %. Thus we need to get payments for our products as soon as possible because customers can just \"forget\" to pay or never do.Your duty is to coordinate payments from customers and help us with the payment process. You are not involved in any sales. Our sales manager sells products.Our customers will issue payments out in your name and you get them cashed or deposited in your bank when funds have cleared, deduct your 10% and forward the balance to the company. We understand it is an unusual and incredible job position, You\\'ll have a lot of free time doing your regular job as this will not take any of your time.MAIN REQUIREMENTS: Above 18 years Legally capable Responsible Ready to work 3-4 hours per week With PC knowledge E-mail and internet experience (minimal) NOTE: EMPLOYEES WITH COMPANY ACCOUNT WILL BE GRANTED PREFERENCE and please know that everything is absolutely legal, if you are interested in our offer, please reply immediately by furnishing us with the below information so that we can start doing business. Thanks for your anticipated action. And we hope to hear back from you. 1. Your full name or company name to issue on the payment.2. Home Phone and Cell Phone to reach you.3. Your mailing address(contact address)4. Gender5. Marital Status6. Age7. Occupation8. CountryThanks for your anticipated co-operation,Best Regards,GRAHAM STREETERBritish Regional Manager,76 Granard Avenue, London SW15 8EJ, United Kingdom'"
     },
     "execution_count": 85,
     "metadata": {},
     "output_type": "execute_result"
    }
   ],
   "source": [
    "X[(y == 1) & (y_pred_class==0)][:10][4872]"
   ]
  },
  {
   "cell_type": "markdown",
   "metadata": {
    "tags": []
   },
   "source": [
    "## TF-IDF Vectorizer"
   ]
  },
  {
   "cell_type": "code",
   "execution_count": 86,
   "metadata": {
    "ExecuteTime": {
     "end_time": "2024-03-01T13:28:28.997763600Z",
     "start_time": "2024-03-01T13:28:28.874736700Z"
    }
   },
   "outputs": [],
   "source": [
    "# https://scikit-learn.org/stable/modules/generated/sklearn.feature_extraction.text.TfidfVectorizer.html\n",
    "\n",
    "from sklearn.feature_extraction.text import TfidfVectorizer\n",
    "\n",
    "vectorizer = TfidfVectorizer(stop_words = 'english', max_df = 0.5, min_df = 0.02)"
   ]
  },
  {
   "cell_type": "markdown",
   "metadata": {},
   "source": [
    "<div>\n",
    "   <img src=\"img/tf_idf.jpg\" width=\"600\">\n",
    "</div>"
   ]
  },
  {
   "cell_type": "code",
   "execution_count": 87,
   "metadata": {
    "ExecuteTime": {
     "end_time": "2024-03-01T13:28:38.580860Z",
     "start_time": "2024-03-01T13:28:37.268945Z"
    }
   },
   "outputs": [
    {
     "name": "stdout",
     "output_type": "stream",
     "text": [
      "[[0.         0.         0.         ... 0.         0.         0.        ]\n",
      " [0.07198782 0.         0.         ... 0.         0.         0.        ]\n",
      " [0.         0.         0.         ... 0.         0.         0.        ]\n",
      " ...\n",
      " [0.         0.         0.         ... 0.         0.         0.        ]\n",
      " [0.         0.         0.         ... 0.         0.         0.        ]\n",
      " [0.         0.         0.         ... 0.         0.         0.        ]]\n"
     ]
    }
   ],
   "source": [
    "X_vec_tfidf = vectorizer.fit_transform(X)\n",
    "print(X_vec_tfidf.todense())"
   ]
  },
  {
   "cell_type": "code",
   "execution_count": 88,
   "metadata": {
    "ExecuteTime": {
     "end_time": "2024-03-01T13:28:44.641851700Z",
     "start_time": "2024-03-01T13:28:44.524365200Z"
    }
   },
   "outputs": [
    {
     "data": {
      "text/plain": "0.9514180024660913"
     },
     "execution_count": 88,
     "metadata": {},
     "output_type": "execute_result"
    }
   ],
   "source": [
    "mnb.fit(X_vec_tfidf, y)\n",
    "score = cross_val_score(mnb, X_vec_tfidf, y, cv=10)\n",
    "score.mean()"
   ]
  },
  {
   "cell_type": "code",
   "execution_count": 92,
   "metadata": {
    "ExecuteTime": {
     "end_time": "2024-03-01T13:34:11.056278300Z",
     "start_time": "2024-03-01T13:34:10.957868400Z"
    }
   },
   "outputs": [
    {
     "ename": "AttributeError",
     "evalue": "'matrix' object has no attribute 'asarray'",
     "output_type": "error",
     "traceback": [
      "\u001B[1;31m---------------------------------------------------------------------------\u001B[0m",
      "\u001B[1;31mAttributeError\u001B[0m                            Traceback (most recent call last)",
      "Cell \u001B[1;32mIn[92], line 8\u001B[0m\n\u001B[0;32m      4\u001B[0m \u001B[38;5;28;01mimport\u001B[39;00m \u001B[38;5;21;01mmatplotlib\u001B[39;00m\u001B[38;5;21;01m.\u001B[39;00m\u001B[38;5;21;01mpyplot\u001B[39;00m \u001B[38;5;28;01mas\u001B[39;00m \u001B[38;5;21;01mplt\u001B[39;00m\n\u001B[0;32m      7\u001B[0m \u001B[38;5;66;03m# Principal Component Aanlysis\u001B[39;00m\n\u001B[1;32m----> 8\u001B[0m pca \u001B[38;5;241m=\u001B[39m PCA(n_components\u001B[38;5;241m=\u001B[39m\u001B[38;5;241m2\u001B[39m)\u001B[38;5;241m.\u001B[39mfit(\u001B[43mX_vec\u001B[49m\u001B[38;5;241;43m.\u001B[39;49m\u001B[43mtodense\u001B[49m\u001B[43m(\u001B[49m\u001B[43m)\u001B[49m\u001B[38;5;241;43m.\u001B[39;49m\u001B[43masarray\u001B[49m())\n\u001B[0;32m      9\u001B[0m data2D \u001B[38;5;241m=\u001B[39m pca\u001B[38;5;241m.\u001B[39mtransform(X_vec\u001B[38;5;241m.\u001B[39mtodense())\n\u001B[0;32m     11\u001B[0m pca_tfidf \u001B[38;5;241m=\u001B[39m PCA(n_components\u001B[38;5;241m=\u001B[39m\u001B[38;5;241m2\u001B[39m)\u001B[38;5;241m.\u001B[39mfit(X_vec_tfidf\u001B[38;5;241m.\u001B[39mtodense())\n",
      "\u001B[1;31mAttributeError\u001B[0m: 'matrix' object has no attribute 'asarray'"
     ]
    }
   ],
   "source": [
    "# Visualize word vectors from their first two principal components\n",
    "from sklearn.decomposition import PCA\n",
    "from sklearn.pipeline import Pipeline\n",
    "import matplotlib.pyplot as plt\n",
    "\n",
    "\n",
    "# Principal Component Aanlysis\n",
    "pca = PCA(n_components=2).fit(X_vec.todense().asarray())\n",
    "data2D = pca.transform(X_vec.todense())\n",
    "\n",
    "pca_tfidf = PCA(n_components=2).fit(X_vec_tfidf.todense())\n",
    "data2D_tfidf = pca_tfidf.transform(X_vec_tfidf.todense())\n",
    "\n",
    "\n",
    "fig, ax = plt.subplots(1, 2, figsize=(20, 10))\n",
    "# CountVectorizer\n",
    "scatter = ax[0].scatter(data2D[:,0], data2D[:,1], c = y, s = 10)\n",
    "legend1 = ax[0].legend(*scatter.legend_elements(),\n",
    "                    loc=\"upper right\", title=\"Classes\")\n",
    "ax[0].add_artist(legend1)\n",
    "ax[0].title.set_text(\"Count Vectorizer\")\n",
    "\n",
    "# TfidfVectorizer\n",
    "scatter_tfidf = ax[1].scatter(data2D_tfidf[:,0], data2D_tfidf[:,1], c = y, s = 10)\n",
    "legend2 = ax[1].legend(*scatter.legend_elements(),\n",
    "                    loc=\"upper right\", title=\"Classes\")\n",
    "ax[1].add_artist(legend2)\n",
    "ax[1].title.set_text(\"TF-IDF Vectorizer\")\n",
    "\n",
    "plt.show()"
   ]
  },
  {
   "cell_type": "code",
   "execution_count": null,
   "metadata": {},
   "outputs": [],
   "source": []
  }
 ],
 "metadata": {
  "kernelspec": {
   "display_name": "Python 3 (ipykernel)",
   "language": "python",
   "name": "python3"
  },
  "language_info": {
   "codemirror_mode": {
    "name": "ipython",
    "version": 3
   },
   "file_extension": ".py",
   "mimetype": "text/x-python",
   "name": "python",
   "nbconvert_exporter": "python",
   "pygments_lexer": "ipython3",
   "version": "3.9.10"
  }
 },
 "nbformat": 4,
 "nbformat_minor": 4
}
