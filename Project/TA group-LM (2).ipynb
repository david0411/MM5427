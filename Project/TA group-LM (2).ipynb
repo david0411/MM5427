{
 "cells": [
  {
   "cell_type": "code",
   "execution_count": 34,
   "id": "f1c2ae7f",
   "metadata": {},
   "outputs": [
    {
     "name": "stdout",
     "output_type": "stream",
     "text": [
      "Requirement already satisfied: nltk in /Users/monasfiles/anaconda3/lib/python3.11/site-packages (3.8.1)\r\n",
      "Requirement already satisfied: click in /Users/monasfiles/anaconda3/lib/python3.11/site-packages (from nltk) (8.0.4)\r\n",
      "Requirement already satisfied: joblib in /Users/monasfiles/anaconda3/lib/python3.11/site-packages (from nltk) (1.2.0)\r\n",
      "Requirement already satisfied: regex>=2021.8.3 in /Users/monasfiles/anaconda3/lib/python3.11/site-packages (from nltk) (2022.7.9)\r\n",
      "Requirement already satisfied: tqdm in /Users/monasfiles/anaconda3/lib/python3.11/site-packages (from nltk) (4.65.0)\r\n"
     ]
    }
   ],
   "source": [
    "import pandas as pd\n",
    "import re\n",
    "! pip install nltk\n",
    "import nltk\n",
    "import numpy as np"
   ]
  },
  {
   "cell_type": "code",
   "execution_count": 35,
   "id": "b174a9fa",
   "metadata": {
    "scrolled": false
   },
   "outputs": [
    {
     "name": "stdout",
     "output_type": "stream",
     "text": [
      "                                   Column Name  Missing Values  Percentage\n",
      "cik                                        cik               0    0.000000\n",
      "company_name                      company_name               0    0.000000\n",
      "filed_date                          filed_date               0    0.000000\n",
      "market_abnormal_return  market_abnormal_return               0    0.000000\n",
      "nasdq                                    nasdq               0    0.000000\n",
      "market_value                      market_value               0    0.000000\n",
      "btm                                        btm             186    5.472198\n",
      "pre_alpha                            pre_alpha               0    0.000000\n",
      "pre_rmse                              pre_rmse               0    0.000000\n",
      "InstOwn_Perc                      InstOwn_Perc               0    0.000000\n",
      "log_share                            log_share               5    0.147102\n",
      "processed_text                  processed_text             298    8.767284\n"
     ]
    }
   ],
   "source": [
    "dataset = pd.read_csv('AnnualReports16_processed.csv', encoding='latin-1')\n",
    "# 计算每列的空缺值数量和百分比\n",
    "missing_values = dataset.isnull().sum()\n",
    "percentage_missing = (missing_values / len(dataset)) * 100\n",
    "\n",
    "# 创建一个DataFrame来展示结果\n",
    "missing_data_summary = pd.DataFrame({\n",
    "    'Column Name': dataset.columns,\n",
    "    'Missing Values': missing_values,\n",
    "    'Percentage': percentage_missing\n",
    "})\n",
    "\n",
    "# 打印结果\n",
    "print(missing_data_summary)"
   ]
  },
  {
   "cell_type": "code",
   "execution_count": 36,
   "id": "9a31e8a8",
   "metadata": {},
   "outputs": [],
   "source": [
    "# 删除包含空值的行\n",
    "dataset_cleaned = dataset.dropna()"
   ]
  },
  {
   "cell_type": "code",
   "execution_count": 37,
   "id": "0944a48f",
   "metadata": {},
   "outputs": [],
   "source": [
    "from sklearn.linear_model import LinearRegression\n",
    "from sklearn.model_selection import train_test_split"
   ]
  },
  {
   "cell_type": "code",
   "execution_count": 38,
   "id": "cd873a3f",
   "metadata": {},
   "outputs": [],
   "source": [
    "y = dataset_cleaned['market_abnormal_return']  # 因变量"
   ]
  },
  {
   "cell_type": "code",
   "execution_count": 53,
   "id": "647ae009",
   "metadata": {},
   "outputs": [
    {
     "data": {
      "text/html": [
       "<div>\n",
       "<style scoped>\n",
       "    .dataframe tbody tr th:only-of-type {\n",
       "        vertical-align: middle;\n",
       "    }\n",
       "\n",
       "    .dataframe tbody tr th {\n",
       "        vertical-align: top;\n",
       "    }\n",
       "\n",
       "    .dataframe thead th {\n",
       "        text-align: right;\n",
       "    }\n",
       "</style>\n",
       "<table border=\"1\" class=\"dataframe\">\n",
       "  <thead>\n",
       "    <tr style=\"text-align: right;\">\n",
       "      <th></th>\n",
       "      <th>Word</th>\n",
       "      <th>Seq_num</th>\n",
       "      <th>Word Count</th>\n",
       "      <th>Word Proportion</th>\n",
       "      <th>Average Proportion</th>\n",
       "      <th>Std Dev</th>\n",
       "      <th>Doc Count</th>\n",
       "      <th>Negative</th>\n",
       "      <th>Positive</th>\n",
       "      <th>Uncertainty</th>\n",
       "      <th>Litigious</th>\n",
       "      <th>Strong_Modal</th>\n",
       "      <th>Weak_Modal</th>\n",
       "      <th>Constraining</th>\n",
       "      <th>Complexity</th>\n",
       "      <th>Syllables</th>\n",
       "      <th>Source</th>\n",
       "    </tr>\n",
       "  </thead>\n",
       "  <tbody>\n",
       "    <tr>\n",
       "      <th>0</th>\n",
       "      <td>aardvark</td>\n",
       "      <td>1</td>\n",
       "      <td>664</td>\n",
       "      <td>2.690000e-08</td>\n",
       "      <td>1.860000e-08</td>\n",
       "      <td>4.050000e-06</td>\n",
       "      <td>131</td>\n",
       "      <td>0</td>\n",
       "      <td>0</td>\n",
       "      <td>0</td>\n",
       "      <td>0</td>\n",
       "      <td>0</td>\n",
       "      <td>0</td>\n",
       "      <td>0</td>\n",
       "      <td>0</td>\n",
       "      <td>2</td>\n",
       "      <td>12of12inf</td>\n",
       "    </tr>\n",
       "    <tr>\n",
       "      <th>1</th>\n",
       "      <td>aardvarks</td>\n",
       "      <td>2</td>\n",
       "      <td>3</td>\n",
       "      <td>1.210000e-10</td>\n",
       "      <td>8.230000e-12</td>\n",
       "      <td>9.020000e-09</td>\n",
       "      <td>1</td>\n",
       "      <td>0</td>\n",
       "      <td>0</td>\n",
       "      <td>0</td>\n",
       "      <td>0</td>\n",
       "      <td>0</td>\n",
       "      <td>0</td>\n",
       "      <td>0</td>\n",
       "      <td>0</td>\n",
       "      <td>2</td>\n",
       "      <td>12of12inf</td>\n",
       "    </tr>\n",
       "    <tr>\n",
       "      <th>2</th>\n",
       "      <td>abaci</td>\n",
       "      <td>3</td>\n",
       "      <td>9</td>\n",
       "      <td>3.640000e-10</td>\n",
       "      <td>1.110000e-10</td>\n",
       "      <td>5.160000e-08</td>\n",
       "      <td>7</td>\n",
       "      <td>0</td>\n",
       "      <td>0</td>\n",
       "      <td>0</td>\n",
       "      <td>0</td>\n",
       "      <td>0</td>\n",
       "      <td>0</td>\n",
       "      <td>0</td>\n",
       "      <td>0</td>\n",
       "      <td>3</td>\n",
       "      <td>12of12inf</td>\n",
       "    </tr>\n",
       "    <tr>\n",
       "      <th>3</th>\n",
       "      <td>aback</td>\n",
       "      <td>4</td>\n",
       "      <td>29</td>\n",
       "      <td>1.170000e-09</td>\n",
       "      <td>6.330000e-10</td>\n",
       "      <td>1.560000e-07</td>\n",
       "      <td>28</td>\n",
       "      <td>0</td>\n",
       "      <td>0</td>\n",
       "      <td>0</td>\n",
       "      <td>0</td>\n",
       "      <td>0</td>\n",
       "      <td>0</td>\n",
       "      <td>0</td>\n",
       "      <td>0</td>\n",
       "      <td>2</td>\n",
       "      <td>12of12inf</td>\n",
       "    </tr>\n",
       "    <tr>\n",
       "      <th>4</th>\n",
       "      <td>abacus</td>\n",
       "      <td>5</td>\n",
       "      <td>9349</td>\n",
       "      <td>3.790000e-07</td>\n",
       "      <td>3.830000e-07</td>\n",
       "      <td>3.460000e-05</td>\n",
       "      <td>1239</td>\n",
       "      <td>0</td>\n",
       "      <td>0</td>\n",
       "      <td>0</td>\n",
       "      <td>0</td>\n",
       "      <td>0</td>\n",
       "      <td>0</td>\n",
       "      <td>0</td>\n",
       "      <td>0</td>\n",
       "      <td>3</td>\n",
       "      <td>12of12inf</td>\n",
       "    </tr>\n",
       "  </tbody>\n",
       "</table>\n",
       "</div>"
      ],
      "text/plain": [
       "        Word  Seq_num  Word Count  Word Proportion  Average Proportion  \\\n",
       "0   aardvark        1         664     2.690000e-08        1.860000e-08   \n",
       "1  aardvarks        2           3     1.210000e-10        8.230000e-12   \n",
       "2      abaci        3           9     3.640000e-10        1.110000e-10   \n",
       "3      aback        4          29     1.170000e-09        6.330000e-10   \n",
       "4     abacus        5        9349     3.790000e-07        3.830000e-07   \n",
       "\n",
       "        Std Dev  Doc Count  Negative  Positive  Uncertainty  Litigious  \\\n",
       "0  4.050000e-06        131         0         0            0          0   \n",
       "1  9.020000e-09          1         0         0            0          0   \n",
       "2  5.160000e-08          7         0         0            0          0   \n",
       "3  1.560000e-07         28         0         0            0          0   \n",
       "4  3.460000e-05       1239         0         0            0          0   \n",
       "\n",
       "   Strong_Modal  Weak_Modal  Constraining  Complexity  Syllables     Source  \n",
       "0             0           0             0           0          2  12of12inf  \n",
       "1             0           0             0           0          2  12of12inf  \n",
       "2             0           0             0           0          3  12of12inf  \n",
       "3             0           0             0           0          2  12of12inf  \n",
       "4             0           0             0           0          3  12of12inf  "
      ]
     },
     "execution_count": 53,
     "metadata": {},
     "output_type": "execute_result"
    }
   ],
   "source": [
    "lexicon_LM = pd.read_csv('Loughran-McDonald_MasterDictionary_1993-2023.csv')\n",
    "# 将'Word'列的所有值转换为小写\n",
    "lexicon_LM['Word'] = lexicon_LM['Word'].str.lower()\n",
    "\n",
    "lexicon_LM.head()\n"
   ]
  },
  {
   "cell_type": "code",
   "execution_count": 54,
   "id": "b5c39f91",
   "metadata": {
    "scrolled": true
   },
   "outputs": [
    {
     "name": "stdout",
     "output_type": "stream",
     "text": [
      "Negative: 2355 words\n",
      "Positive: 354 words\n",
      "Uncertainty: 297 words\n",
      "Litigious: 905 words\n",
      "Strong_Modal: 19 words\n",
      "Weak_Modal: 27 words\n",
      "Constraining: 184 words\n",
      "Complexity: 53 words\n"
     ]
    }
   ],
   "source": [
    "# 从词典中提取每个分类的词汇列表\n",
    "Negative = set(lexicon_LM[lexicon_LM['Negative'] != 0]['Word'])\n",
    "Positive = set(lexicon_LM[lexicon_LM['Positive'] != 0]['Word'])\n",
    "Uncertainty = set(lexicon_LM[lexicon_LM['Uncertainty'] != 0]['Word'])\n",
    "Litigious = set(lexicon_LM[lexicon_LM['Litigious'] != 0]['Word'])\n",
    "Strong_Modal = set(lexicon_LM[lexicon_LM['Strong_Modal'] != 0]['Word'])\n",
    "Weak_Modal = set(lexicon_LM[lexicon_LM['Weak_Modal'] != 0]['Word'])\n",
    "Constraining = set(lexicon_LM[lexicon_LM['Constraining'] != 0]['Word'])\n",
    "Complexity = set(lexicon_LM[lexicon_LM['Complexity'] != 0]['Word'])\n",
    "\n",
    "\n",
    "# 打印每个分类的词汇数量\n",
    "for category, words in dictionaries.items():\n",
    "    print(f\"{category}: {len(words)} words\")"
   ]
  },
  {
   "cell_type": "code",
   "execution_count": 55,
   "id": "d52768d0",
   "metadata": {},
   "outputs": [],
   "source": [
    "def sentiment_score(text, sen_list):\n",
    "    # 确保文本不为空或None\n",
    "    if pd.isnull(text) or text == \"\":\n",
    "        return 0\n",
    "    # 计算文本中情感词汇的总数\n",
    "    total_count = sum(text.lower().count(word) for word in sen_list if word in text.lower())\n",
    "    # 归一化得分，使用文本长度作为分母\n",
    "    return total_count / max(len(text), 1)"
   ]
  },
  {
   "cell_type": "code",
   "execution_count": 56,
   "id": "392adf97",
   "metadata": {},
   "outputs": [
    {
     "name": "stdout",
     "output_type": "stream",
     "text": [
      "         cik               company_name  filed_date  market_abnormal_return  \\\n",
      "0   804212.0                 airgas inc  20160510.0               -0.008756   \n",
      "1   880460.0  perfumania holdings, inc.  20160429.0               -0.004723   \n",
      "2  1276591.0         hansen medical inc  20160425.0               -0.007461   \n",
      "4    12659.0              h&r block inc  20160617.0               -0.001475   \n",
      "5  1050825.0              steelcase inc  20160415.0               -0.051923   \n",
      "\n",
      "   nasdq  market_value       btm  pre_alpha  pre_rmse  InstOwn_Perc  \\\n",
      "0      0      9.238859 -1.615560   0.168271  2.084189      0.846428   \n",
      "1      1      3.546929  0.883620  -0.149365  4.478955      0.097400   \n",
      "2      1      3.784871 -3.415026  -0.183296  7.257763      0.305207   \n",
      "4      0      8.403640 -5.263362  -0.113956  1.942857      0.957540   \n",
      "5      0      7.307156 -0.704711  -0.055984  1.959769      0.860600   \n",
      "\n",
      "   log_share                                     processed_text  \\\n",
      "0   1.137248  item 7. management discussion analysis financi...   \n",
      "1  -2.741746  item 7. management discussion analysis financi...   \n",
      "2   0.852817  item 7. management 's discussion analysis fina...   \n",
      "4   1.339484  item 7. management 's discussion analysis fina...   \n",
      "5   0.658322  item 7. management discussion analysis financi...   \n",
      "\n",
      "   Negative_score  Positive_score  Uncertainty_score  Litigious_score  \\\n",
      "0        0.008378        0.003965           0.003550         0.002853   \n",
      "1        0.011878        0.006638           0.005109         0.001703   \n",
      "2        0.012416        0.003148           0.004545         0.004324   \n",
      "4        0.015500        0.003577           0.004989         0.009099   \n",
      "5        0.008947        0.007639           0.003341         0.003341   \n",
      "\n",
      "   Strong_Modal_score  Weak_Modal_score  Constraining_score  Complexity_score  \n",
      "0            0.000531          0.000680            0.003053          0.000630  \n",
      "1            0.000611          0.001528            0.004236          0.000568  \n",
      "2            0.000089          0.001286            0.004789          0.001951  \n",
      "4            0.000157          0.001569            0.001977          0.001098  \n",
      "5            0.000561          0.000491            0.003878          0.001799  \n"
     ]
    }
   ],
   "source": [
    "for sentiment, score_name in zip(\n",
    "    [Negative, Positive, Uncertainty, Litigious, Strong_Modal, Weak_Modal, Constraining, Complexity],\n",
    "    ['Negative_score', 'Positive_score', 'Uncertainty_score', 'Litigious_score', 'Strong_Modal_score', 'Weak_Modal_score', 'Constraining_score', 'Complexity_score']\n",
    "):\n",
    "    dataset_cleaned.loc[:, score_name] = dataset_cleaned['processed_text'].apply(lambda x: sentiment_score(x, list(sentiment)))\n",
    "\n",
    "print(dataset_cleaned.head())"
   ]
  },
  {
   "cell_type": "code",
   "execution_count": 112,
   "id": "9bc58ef5",
   "metadata": {},
   "outputs": [],
   "source": [
    "X_LM = dataset_cleaned[['nasdq', 'market_value', 'btm', 'pre_alpha', 'pre_rmse', 'InstOwn_Perc', 'log_share','Negative_score', 'Positive_score', 'Uncertainty_score', 'Litigious_score', 'Strong_Modal_score', 'Weak_Modal_score','Constraining_score','Complexity_score']]"
   ]
  },
  {
   "cell_type": "code",
   "execution_count": 113,
   "id": "7bc5b3c5",
   "metadata": {},
   "outputs": [],
   "source": [
    "# Divide the data set into training set and test set\n",
    "x_LM_train, x_LM_test, y_LM_train, y_LM_test = train_test_split(X_LM, y, test_size=0.2, random_state=42)"
   ]
  },
  {
   "cell_type": "code",
   "execution_count": 122,
   "id": "c0e158c3",
   "metadata": {},
   "outputs": [
    {
     "data": {
      "text/html": [
       "<style>#sk-container-id-8 {color: black;}#sk-container-id-8 pre{padding: 0;}#sk-container-id-8 div.sk-toggleable {background-color: white;}#sk-container-id-8 label.sk-toggleable__label {cursor: pointer;display: block;width: 100%;margin-bottom: 0;padding: 0.3em;box-sizing: border-box;text-align: center;}#sk-container-id-8 label.sk-toggleable__label-arrow:before {content: \"▸\";float: left;margin-right: 0.25em;color: #696969;}#sk-container-id-8 label.sk-toggleable__label-arrow:hover:before {color: black;}#sk-container-id-8 div.sk-estimator:hover label.sk-toggleable__label-arrow:before {color: black;}#sk-container-id-8 div.sk-toggleable__content {max-height: 0;max-width: 0;overflow: hidden;text-align: left;background-color: #f0f8ff;}#sk-container-id-8 div.sk-toggleable__content pre {margin: 0.2em;color: black;border-radius: 0.25em;background-color: #f0f8ff;}#sk-container-id-8 input.sk-toggleable__control:checked~div.sk-toggleable__content {max-height: 200px;max-width: 100%;overflow: auto;}#sk-container-id-8 input.sk-toggleable__control:checked~label.sk-toggleable__label-arrow:before {content: \"▾\";}#sk-container-id-8 div.sk-estimator input.sk-toggleable__control:checked~label.sk-toggleable__label {background-color: #d4ebff;}#sk-container-id-8 div.sk-label input.sk-toggleable__control:checked~label.sk-toggleable__label {background-color: #d4ebff;}#sk-container-id-8 input.sk-hidden--visually {border: 0;clip: rect(1px 1px 1px 1px);clip: rect(1px, 1px, 1px, 1px);height: 1px;margin: -1px;overflow: hidden;padding: 0;position: absolute;width: 1px;}#sk-container-id-8 div.sk-estimator {font-family: monospace;background-color: #f0f8ff;border: 1px dotted black;border-radius: 0.25em;box-sizing: border-box;margin-bottom: 0.5em;}#sk-container-id-8 div.sk-estimator:hover {background-color: #d4ebff;}#sk-container-id-8 div.sk-parallel-item::after {content: \"\";width: 100%;border-bottom: 1px solid gray;flex-grow: 1;}#sk-container-id-8 div.sk-label:hover label.sk-toggleable__label {background-color: #d4ebff;}#sk-container-id-8 div.sk-serial::before {content: \"\";position: absolute;border-left: 1px solid gray;box-sizing: border-box;top: 0;bottom: 0;left: 50%;z-index: 0;}#sk-container-id-8 div.sk-serial {display: flex;flex-direction: column;align-items: center;background-color: white;padding-right: 0.2em;padding-left: 0.2em;position: relative;}#sk-container-id-8 div.sk-item {position: relative;z-index: 1;}#sk-container-id-8 div.sk-parallel {display: flex;align-items: stretch;justify-content: center;background-color: white;position: relative;}#sk-container-id-8 div.sk-item::before, #sk-container-id-8 div.sk-parallel-item::before {content: \"\";position: absolute;border-left: 1px solid gray;box-sizing: border-box;top: 0;bottom: 0;left: 50%;z-index: -1;}#sk-container-id-8 div.sk-parallel-item {display: flex;flex-direction: column;z-index: 1;position: relative;background-color: white;}#sk-container-id-8 div.sk-parallel-item:first-child::after {align-self: flex-end;width: 50%;}#sk-container-id-8 div.sk-parallel-item:last-child::after {align-self: flex-start;width: 50%;}#sk-container-id-8 div.sk-parallel-item:only-child::after {width: 0;}#sk-container-id-8 div.sk-dashed-wrapped {border: 1px dashed gray;margin: 0 0.4em 0.5em 0.4em;box-sizing: border-box;padding-bottom: 0.4em;background-color: white;}#sk-container-id-8 div.sk-label label {font-family: monospace;font-weight: bold;display: inline-block;line-height: 1.2em;}#sk-container-id-8 div.sk-label-container {text-align: center;}#sk-container-id-8 div.sk-container {/* jupyter's `normalize.less` sets `[hidden] { display: none; }` but bootstrap.min.css set `[hidden] { display: none !important; }` so we also need the `!important` here to be able to override the default hidden behavior on the sphinx rendered scikit-learn.org. See: https://github.com/scikit-learn/scikit-learn/issues/21755 */display: inline-block !important;position: relative;}#sk-container-id-8 div.sk-text-repr-fallback {display: none;}</style><div id=\"sk-container-id-8\" class=\"sk-top-container\"><div class=\"sk-text-repr-fallback\"><pre>LinearRegression()</pre><b>In a Jupyter environment, please rerun this cell to show the HTML representation or trust the notebook. <br />On GitHub, the HTML representation is unable to render, please try loading this page with nbviewer.org.</b></div><div class=\"sk-container\" hidden><div class=\"sk-item\"><div class=\"sk-estimator sk-toggleable\"><input class=\"sk-toggleable__control sk-hidden--visually\" id=\"sk-estimator-id-8\" type=\"checkbox\" checked><label for=\"sk-estimator-id-8\" class=\"sk-toggleable__label sk-toggleable__label-arrow\">LinearRegression</label><div class=\"sk-toggleable__content\"><pre>LinearRegression()</pre></div></div></div></div></div>"
      ],
      "text/plain": [
       "LinearRegression()"
      ]
     },
     "execution_count": 122,
     "metadata": {},
     "output_type": "execute_result"
    }
   ],
   "source": [
    "# Create a linear regression model and train it\n",
    "model_LM = LinearRegression()\n",
    "model_LM.fit(x_LM_train, y_LM_train)"
   ]
  },
  {
   "cell_type": "code",
   "execution_count": 123,
   "id": "de70dfe1",
   "metadata": {},
   "outputs": [
    {
     "name": "stdout",
     "output_type": "stream",
     "text": [
      "Model_count_vector reply count MSE: 0.0034225666801598834\n",
      "MAE_reply count: 0.029988428227333084\n",
      "R²__reply count: -0.0018657976564100398\n",
      "MedAE_reply count: 0.01665407105826146\n"
     ]
    }
   ],
   "source": [
    "from sklearn.metrics import mean_squared_error, mean_absolute_error, r2_score, mean_squared_log_error, median_absolute_error\n",
    "# Predict test set\n",
    "y_LM_pred = model_LM.predict(x_LM_test)\n",
    "\n",
    "\n",
    "# Evaluate model performance\n",
    "mse_LM = mean_squared_error(y_LM_test, y_LM_pred)\n",
    "mae_LM = mean_absolute_error(y_LM_test, y_LM_pred)\n",
    "r2_LM= r2_score(y_LM_test, y_LM_pred)\n",
    "medae_LM = median_absolute_error(y_LM_test, y_LM_pred)\n",
    "\n",
    "\n",
    "print(f\"Model_count_vector reply count MSE: {mse_LM}\")\n",
    "print(f'MAE_reply count: {mae_LM}')\n",
    "print(f'R²__reply count: {r2_LM}')\n",
    "print(f'MedAE_reply count: {medae_LM}')"
   ]
  },
  {
   "cell_type": "code",
   "execution_count": 124,
   "id": "54d1be3f",
   "metadata": {},
   "outputs": [
    {
     "name": "stdout",
     "output_type": "stream",
     "text": [
      "model_LM.coef_: [-1.94648504e-03 -1.30237296e-03 -7.79017182e-04 -6.44730736e-03\n",
      " -6.08590713e-04  3.09593225e-03 -1.22580472e-05 -2.31028479e-01\n",
      " -6.76478481e-02  5.29701305e-01 -7.76614467e-01 -3.71465537e+00\n",
      " -1.34047219e+00 -3.26660724e-01  4.31501586e-01]\n"
     ]
    }
   ],
   "source": [
    "print(f\"model_LM.coef_: {model_LM.coef_}\")"
   ]
  },
  {
   "cell_type": "code",
   "execution_count": 132,
   "id": "5e9a86ea",
   "metadata": {},
   "outputs": [
    {
     "name": "stdout",
     "output_type": "stream",
     "text": [
      "                              OLS Regression Results                              \n",
      "==================================================================================\n",
      "Dep. Variable:     market_abnormal_return   R-squared:                       0.003\n",
      "Model:                                OLS   Adj. R-squared:                 -0.002\n",
      "Method:                     Least Squares   F-statistic:                    0.6284\n",
      "Date:                    Sun, 28 Apr 2024   Prob (F-statistic):              0.854\n",
      "Time:                            02:04:23   Log-Likelihood:                 4357.0\n",
      "No. Observations:                    2919   AIC:                            -8682.\n",
      "Df Residuals:                        2903   BIC:                            -8586.\n",
      "Df Model:                              15                                         \n",
      "Covariance Type:                nonrobust                                         \n",
      "======================================================================================\n",
      "                         coef    std err          t      P>|t|      [0.025      0.975]\n",
      "--------------------------------------------------------------------------------------\n",
      "const                  0.0139      0.009      1.635      0.102      -0.003       0.031\n",
      "nasdq                 -0.0012      0.002     -0.524      0.600      -0.006       0.003\n",
      "market_value          -0.0013      0.001     -1.589      0.112      -0.003       0.000\n",
      "btm                   -0.0007      0.001     -0.545      0.586      -0.003       0.002\n",
      "pre_alpha             -0.0080      0.006     -1.236      0.217      -0.021       0.005\n",
      "pre_rmse              -0.0011      0.001     -1.416      0.157      -0.003       0.000\n",
      "InstOwn_Perc           0.0017      0.004      0.466      0.641      -0.005       0.009\n",
      "log_share              0.0010      0.001      0.687      0.492      -0.002       0.004\n",
      "Negative_score        -0.3678      0.390     -0.943      0.346      -1.133       0.397\n",
      "Positive_score        -0.0026      0.776     -0.003      0.997      -1.524       1.519\n",
      "Uncertainty_score      0.4193      0.804      0.521      0.602      -1.158       1.997\n",
      "Litigious_score       -0.5657      0.747     -0.757      0.449      -2.031       0.900\n",
      "Strong_Modal_score    -5.5856      5.469     -1.021      0.307     -16.309       5.138\n",
      "Weak_Modal_score      -0.2625      2.706     -0.097      0.923      -5.569       5.044\n",
      "Constraining_score     0.3298      0.797      0.414      0.679      -1.233       1.893\n",
      "Complexity_score       2.2262      2.096      1.062      0.288      -1.884       6.336\n",
      "==============================================================================\n",
      "Omnibus:                     2375.010   Durbin-Watson:                   1.996\n",
      "Prob(Omnibus):                  0.000   Jarque-Bera (JB):           281547.541\n",
      "Skew:                           3.174   Prob(JB):                         0.00\n",
      "Kurtosis:                      50.693   Cond. No.                     4.08e+04\n",
      "==============================================================================\n",
      "\n",
      "Notes:\n",
      "[1] Standard Errors assume that the covariance matrix of the errors is correctly specified.\n",
      "[2] The condition number is large, 4.08e+04. This might indicate that there are\n",
      "strong multicollinearity or other numerical problems.\n"
     ]
    }
   ],
   "source": [
    "import statsmodels.api as sm\n",
    "X_LM = sm.add_constant(X_LM)\n",
    "model = sm.OLS(y, X_LM).fit()\n",
    "print(model.summary())"
   ]
  },
  {
   "cell_type": "code",
   "execution_count": null,
   "id": "a8fe2236",
   "metadata": {},
   "outputs": [],
   "source": []
  },
  {
   "cell_type": "code",
   "execution_count": 133,
   "id": "654987da",
   "metadata": {
    "scrolled": true
   },
   "outputs": [
    {
     "name": "stdout",
     "output_type": "stream",
     "text": [
      "               feature        VIF\n",
      "0                const  71.392491\n",
      "1                nasdq   1.203330\n",
      "2         market_value   2.659915\n",
      "3                  btm   1.285010\n",
      "4            pre_alpha   1.094241\n",
      "5             pre_rmse   1.999623\n",
      "6         InstOwn_Perc   1.638120\n",
      "7            log_share   1.830058\n",
      "8       Negative_score   1.302296\n",
      "9       Positive_score   1.261898\n",
      "10   Uncertainty_score   1.967444\n",
      "11     Litigious_score   1.138363\n",
      "12  Strong_Modal_score   1.260705\n",
      "13    Weak_Modal_score   2.011450\n",
      "14  Constraining_score   1.164908\n",
      "15    Complexity_score   1.205204\n"
     ]
    }
   ],
   "source": [
    "from statsmodels.stats.outliers_influence import variance_inflation_factor\n",
    "# 计算每个变量的VIF\n",
    "vif_data = pd.DataFrame()\n",
    "vif_data[\"feature\"] = X_LM.columns\n",
    "vif_data[\"VIF\"] = [variance_inflation_factor(X_LM.values, i) for i in range(len(X_LM.columns))]\n",
    "\n",
    "print(vif_data)"
   ]
  },
  {
   "cell_type": "code",
   "execution_count": 135,
   "id": "72316c3e",
   "metadata": {},
   "outputs": [],
   "source": []
  },
  {
   "cell_type": "code",
   "execution_count": 139,
   "id": "1f2db161",
   "metadata": {},
   "outputs": [
    {
     "name": "stdout",
     "output_type": "stream",
     "text": [
      "                              OLS Regression Results                              \n",
      "==================================================================================\n",
      "Dep. Variable:     market_abnormal_return   R-squared:                      -0.000\n",
      "Model:                                OLS   Adj. R-squared:                 -0.000\n",
      "Method:                     Least Squares   F-statistic:                       nan\n",
      "Date:                    Sun, 28 Apr 2024   Prob (F-statistic):                nan\n",
      "Time:                            02:22:49   Log-Likelihood:                 4352.3\n",
      "No. Observations:                    2919   AIC:                            -8703.\n",
      "Df Residuals:                        2918   BIC:                            -8697.\n",
      "Df Model:                               0                                         \n",
      "Covariance Type:                nonrobust                                         \n",
      "==============================================================================\n",
      "                 coef    std err          t      P>|t|      [0.025      0.975]\n",
      "------------------------------------------------------------------------------\n",
      "const          0.0013      0.001      1.332      0.183      -0.001       0.003\n",
      "==============================================================================\n",
      "Omnibus:                     2376.583   Durbin-Watson:                   1.988\n",
      "Prob(Omnibus):                  0.000   Jarque-Bera (JB):           285037.945\n",
      "Skew:                           3.173   Prob(JB):                         0.00\n",
      "Kurtosis:                      50.993   Cond. No.                         1.00\n",
      "==============================================================================\n",
      "\n",
      "Notes:\n",
      "[1] Standard Errors assume that the covariance matrix of the errors is correctly specified.\n"
     ]
    }
   ],
   "source": [
    "def stepwise_regression(X_LM, y, significance_level=0.1):\n",
    "    features = X_LM.columns.tolist()\n",
    "    while (len(features) > 0):\n",
    "        # Add a constant term to the features\n",
    "        features_with_const = sm.add_constant(X_LM[features])\n",
    "        \n",
    "        # Fit the model and get p-values for the features\n",
    "        p_values = sm.OLS(y, features_with_const).fit().pvalues[1:]  # Exclude constant\n",
    "        \n",
    "        # Check if p_values contains only NaNs or is empty\n",
    "        if p_values.isnull().all() or p_values.empty:\n",
    "            break\n",
    "        \n",
    "        # Get the feature with the maximum p-value\n",
    "        max_p_feature = p_values.idxmax() if not p_values.isna().any() else None\n",
    "        \n",
    "        # If the maximum p-value is greater than or equal to the significance level, remove the feature\n",
    "        if (max_p_feature is not None) and (p_values[max_p_feature] >= significance_level):\n",
    "            features.remove(max_p_feature)\n",
    "        else:\n",
    "            break\n",
    "    \n",
    "    # Create a new DataFrame with the remaining features\n",
    "    X_stepwise = X_LM[features]\n",
    "    \n",
    "    # Add a constant term to the final model\n",
    "    X_stepwise = sm.add_constant(X_stepwise)\n",
    "    \n",
    "    return X_stepwise\n",
    "\n",
    "# 使用自定义的逐步回归函数\n",
    "X_LM_stepwise = stepwise_regression(X_LM, y)\n",
    "\n",
    "# 拟合最终模型\n",
    "model_stepwise = sm.OLS(y, X_LM_stepwise).fit()\n",
    "print(model_stepwise.summary())"
   ]
  },
  {
   "cell_type": "code",
   "execution_count": null,
   "id": "949abba5",
   "metadata": {},
   "outputs": [],
   "source": []
  }
 ],
 "metadata": {
  "kernelspec": {
   "display_name": "Python 3 (ipykernel)",
   "language": "python",
   "name": "python3"
  },
  "language_info": {
   "codemirror_mode": {
    "name": "ipython",
    "version": 3
   },
   "file_extension": ".py",
   "mimetype": "text/x-python",
   "name": "python",
   "nbconvert_exporter": "python",
   "pygments_lexer": "ipython3",
   "version": "3.11.5"
  }
 },
 "nbformat": 4,
 "nbformat_minor": 5
}
